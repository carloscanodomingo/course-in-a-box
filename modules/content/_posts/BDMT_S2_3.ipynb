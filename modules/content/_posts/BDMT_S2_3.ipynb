{
 "cells": [
  {
   "cell_type": "markdown",
   "id": "e8ee6c9d-4190-4c4c-9481-d4e292ff6560",
   "metadata": {
    "tags": []
   },
   "source": [
    "\n",
    "# K-Nearest Neighbors (KNN) on MBA Admission Dataset\n",
    "\n",
    "## Overview\n",
    "In this notebook, we will apply the K-Nearest Neighbors (KNN) algorithm to predict the admission status of MBA applicants based on various features like gender, GPA, GMAT score, work experience, and more. We will also evaluate the performance of the model using key classification metrics such as Accuracy, Precision, Recall, and F1-score.\n",
    "\n",
    "### Dataset\n",
    "The dataset contains information on MBA applicants, including:\n",
    "- **Gender**: Gender of the applicant\n",
    "- **International**: Whether the applicant is an international student\n",
    "- **GPA**: Grade point average\n",
    "- **Major**: Undergraduate major\n",
    "- **Race**: Race/ethnicity of the applicant\n",
    "- **GMAT**: GMAT score of the applicant\n",
    "- **Work Experience**: Number of years of work experience\n",
    "- **Work Industry**: The industry where the applicant works\n",
    "- **Admission**: Whether the applicant was admitted (Target Variable)\n",
    "\n",
    "### Objective\n",
    "Our goal is to use KNN to predict whether an applicant will be admitted based on the available features.\n",
    "\n",
    "---\n",
    "\n",
    "## Data Preprocessing\n",
    "\n",
    "```python\n",
    "# Import necessary libraries\n",
    "import pandas as pd\n",
    "from sklearn.model_selection import train_test_split\n",
    "from sklearn.preprocessing import StandardScaler\n",
    "from sklearn.neighbors import KNeighborsClassifier\n",
    "from sklearn.metrics import accuracy_score, precision_score, recall_score, f1_score, confusion_matrix, ConfusionMatrixDisplay\n",
    "\n",
    "# Load the dataset\n",
    "data = pd.read_csv('MBA.csv')\n",
    "\n",
    "# Display the first few rows of the dataset\n",
    "data.head()\n",
    "```\n",
    "\n",
    "### Handling Missing Values and Encoding\n",
    "```python\n",
    "data['race']=data['race'].fillna('International')\n",
    "data['admission']=data['admission'].fillna('Deny')\n",
    "data.isna().sum()\n",
    "\n",
    "data[\"admission\"].value_counts()\n",
    "# Dropping all rows where the 'admission' column is 'Waitlist'\n",
    "data = data[data['admission'] != 'Waitlist']\n",
    "\n",
    "# Verifying that the 'Waitlist' rows are dropped\n",
    "data_filtered['admission'].value_counts()\n",
    "\n",
    "# Encode categorical variables\n",
    "data['gender'] = data['gender'].map({'Male': 0, 'Female': 1})\n",
    "data['international'] = data['international'].astype(int)\n",
    "data['admission'] = data['admission'].map({'Admit': 1, 'Deny': 0})\n",
    "\n",
    "# One-hot encode categorical columns like 'major', 'race', and 'work_industry'\n",
    "data = pd.get_dummies(data, columns=['major', 'race', 'work_industry'], drop_first=True)\n",
    "\n",
    "# Display the processed dataset\n",
    "data.head()\n",
    "```\n",
    "\n",
    "---\n",
    "\n",
    "## Applying KNN\n",
    "\n",
    "### Splitting the Data\n",
    "We split the dataset into training and testing sets.\n",
    "\n",
    "```python\n",
    "# Split the data into features (X) and target (y)\n",
    "X = data.drop('admission', axis=1)\n",
    "y = data['admission']\n",
    "\n",
    "# Split the dataset into training and testing sets\n",
    "X_train, X_test, y_train, y_test = train_test_split(X, y, test_size=0.2, random_state=42)\n",
    "\n",
    "# Standardize the features (KNN is sensitive to feature scaling)\n",
    "scaler = StandardScaler()\n",
    "X_train = scaler.fit_transform(X_train)\n",
    "X_test = scaler.transform(X_test)\n",
    "```\n",
    "\n",
    "### Training the KNN Model\n",
    "```python\n",
    "# Initialize the KNN classifier\n",
    "knn = KNeighborsClassifier(n_neighbors=5)\n",
    "\n",
    "# Train the model\n",
    "knn.fit(X_train, y_train)\n",
    "\n",
    "# Make predictions\n",
    "y_pred = knn.predict(X_test)\n",
    "```\n",
    "\n",
    "---\n",
    "\n",
    "## Evaluating the Model\n",
    "\n",
    "We will evaluate the performance of the KNN model using the following metrics:\n",
    "- **Accuracy**: Measures overall correctness.\n",
    "- **Precision**: Focuses on the quality of positive predictions.\n",
    "- **Recall**: Measures the ability to correctly identify positives.\n",
    "- **F1-Score**: Harmonic mean of Precision and Recall.\n",
    "\n",
    "```python\n",
    "\n",
    "import matplotlib.pyplot as plt\n",
    "accuracy = accuracy_score(y_test, y_pred)\n",
    "print(f'Accuracy: {accuracy:.2f}')\n",
    "\n",
    "# Precision\n",
    "precision = precision_score(y_test, y_pred)\n",
    "print(f'Precision: {precision:.2f}')\n",
    "\n",
    "# Recall\n",
    "recall = recall_score(y_test, y_pred)\n",
    "print(f'Recall: {recall:.2f}')\n",
    "\n",
    "# F1-Score\n",
    "f1 = f1_score(y_test, y_pred)\n",
    "print(f'F1-Score: {f1:.2f}')\n",
    "\n",
    "# Step 2: Calculate the confusion matrix\n",
    "cm = confusion_matrix(y_test, y_pred)\n",
    "print('Confusion Matrix:')\n",
    "# Step 3: Plot using ConfusionMatrixDisplay\n",
    "disp = ConfusionMatrixDisplay(confusion_matrix=cm, display_labels=knn.classes_)\n",
    "disp.plot(cmap=plt.cm.Blues)  # You can customize the colormap\n",
    "plt.title('Confusion Matrix for KNN')\n",
    "plt.show()\n",
    "```\n",
    "\n",
    "---\n",
    "\n",
    "## Conclusion\n",
    "In this notebook, we applied K-Nearest Neighbors (KNN) to predict MBA admission outcomes based on applicant data. We also evaluated the performance using key metrics such as accuracy, precision, recall, and F1-score. KNN is a simple yet effective model, but its performance depends on selecting the right value of **K** and ensuring proper feature scaling."
   ]
  },
  {
   "cell_type": "markdown",
   "id": "2e89c85a-80d3-4dfb-b4ae-678aa0942c87",
   "metadata": {},
   "source": [
    "\n",
    "# K-Nearest Neighbors (KNN) Evaluation with Fancy Visualizations\n",
    "\n",
    "## Overview\n",
    "In this analysis, we evaluate the K-Nearest Neighbors (KNN) algorithm by exploring the impact of different values of K on the model's performance. The following metrics are measured across various K values:\n",
    "- **Accuracy**\n",
    "- **Precision**\n",
    "- **Recall**\n",
    "\n",
    "We will also visualize how these metrics behave as K changes using interactive plots.\n",
    "\n",
    "---\n",
    "\n",
    "## 1. Training the KNN Model for Different K Values\n",
    "We trained the KNN model using K values ranging from 1 to 100. For each value of K, the model is trained and evaluated based on the metrics mentioned above.\n",
    "\n",
    "```python\n",
    "accuracy = []\n",
    "precision = []\n",
    "recall = []\n",
    "list_k = []\n",
    "\n",
    "for k in range(1, 100):\n",
    "    # Initialize the KNN classifier\n",
    "    knn = KNeighborsClassifier(n_neighbors=k)\n",
    "\n",
    "    # Train the model\n",
    "    knn.fit(X_train, y_train)\n",
    "\n",
    "    # Make predictions\n",
    "    y_pred = knn.predict(X_test)\n",
    "    list_k.append(k)\n",
    "\n",
    "    # Accuracy\n",
    "    accuracy.append(accuracy_score(y_test, y_pred))\n",
    "\n",
    "    # Precision\n",
    "    precision.append(precision_score(y_test, y_pred))\n",
    "\n",
    "    # Recall\n",
    "    recall.append(recall_score(y_test, y_pred))\n",
    "```\n",
    "\n",
    "---\n",
    "\n",
    "## 2. Creating a DataFrame for Visualization\n",
    "After training the model for different K values, we create a DataFrame to store the computed metrics (Accuracy, Precision, Recall) for each K.\n",
    "\n",
    "```python\n",
    "# Create a DataFrame from the lists\n",
    "metrics_df = pd.DataFrame({\n",
    "    'K': list_k,\n",
    "    'Accuracy': accuracy,\n",
    "    'Precision': precision,\n",
    "    'Recall': recall\n",
    "})\n",
    "```\n",
    "\n",
    "---\n",
    "\n",
    "## 3. Visualization of Metrics with Plotly\n",
    "\n",
    "### 3.1 Line Plot for Metrics\n",
    "The following line plot shows how Accuracy, Precision, and Recall change as we vary the K value.\n",
    "\n",
    "```python\n",
    "import plotly.express as px\n",
    "\n",
    "# Create line plot for Accuracy, Precision, and Recall\n",
    "fig_line = px.line(metrics_df, x='K', y=['Accuracy', 'Precision', 'Recall'],\n",
    "                   title='Metrics vs K Value (Line Plot)',\n",
    "                   labels={'value': 'Metric Value', 'K': 'K Value'},\n",
    "                   height=800)\n",
    "\n",
    "# Create the slider for changing K value in both plots\n",
    "fig_line.update_layout(\n",
    "    xaxis=dict(\n",
    "        rangeslider=dict(visible=True),\n",
    "        type=\"linear\"\n",
    "    )\n",
    ")\n",
    "\n",
    "# Show the line plot\n",
    "fig_line.show()\n",
    "```\n",
    "\n",
    "### 3.2 Interactive Bar Plot with Slider for K\n",
    "This interactive bar plot allows you to dynamically select the K value and view the corresponding Accuracy, Precision, and Recall.\n",
    "\n",
    "```python\n",
    "import pandas as pd\n",
    "\n",
    "# Prepare the data for a long format to use with Plotly Express\n",
    "df_long = pd.melt(metrics_df, id_vars=['K'], value_vars=['Accuracy', 'Precision', 'Recall'], \n",
    "                  var_name='Metric', value_name='Value')\n",
    "\n",
    "# Create the interactive bar plot with Plotly Express and add a slider for K values\n",
    "fig = px.bar(df_long, x='Metric', y='Value', animation_frame='K',\n",
    "             title='Metrics for KNN Based on K Value', \n",
    "             labels={'Value': 'Metric Value', 'Metric': 'Metric'},\n",
    "             height=800,\n",
    "             range_y=[0, 1])\n",
    "\n",
    "# Show the interactive bar plot\n",
    "fig.show()\n",
    "```\n",
    "\n",
    "---\n",
    "\n",
    "## Conclusion\n",
    "The analysis demonstrates how the choice of K in the K-Nearest Neighbors algorithm affects the model's performance in terms of Accuracy, Precision, and Recall. By varying K, we can observe how the model's behavior changes and tune it accordingly for better performance.\n",
    "\n",
    "The interactive plots allow us to explore the model's metrics dynamically and find the most suitable value of K for the given dataset."
   ]
  },
  {
   "cell_type": "code",
   "execution_count": 7,
   "id": "1b921d74-2532-43ae-8713-57c9a2b987a9",
   "metadata": {
    "tags": []
   },
   "outputs": [
    {
     "name": "stderr",
     "output_type": "stream",
     "text": [
      "/home/ccanodom/anaconda3/envs/BDMT/lib/python3.12/site-packages/sklearn/metrics/_classification.py:1531: UndefinedMetricWarning: Precision is ill-defined and being set to 0.0 due to no predicted samples. Use `zero_division` parameter to control this behavior.\n",
      "  _warn_prf(average, modifier, f\"{metric.capitalize()} is\", len(result))\n",
      "/home/ccanodom/anaconda3/envs/BDMT/lib/python3.12/site-packages/sklearn/metrics/_classification.py:1531: UndefinedMetricWarning: Precision is ill-defined and being set to 0.0 due to no predicted samples. Use `zero_division` parameter to control this behavior.\n",
      "  _warn_prf(average, modifier, f\"{metric.capitalize()} is\", len(result))\n",
      "/home/ccanodom/anaconda3/envs/BDMT/lib/python3.12/site-packages/sklearn/metrics/_classification.py:1531: UndefinedMetricWarning: Precision is ill-defined and being set to 0.0 due to no predicted samples. Use `zero_division` parameter to control this behavior.\n",
      "  _warn_prf(average, modifier, f\"{metric.capitalize()} is\", len(result))\n",
      "/home/ccanodom/anaconda3/envs/BDMT/lib/python3.12/site-packages/sklearn/metrics/_classification.py:1531: UndefinedMetricWarning: Precision is ill-defined and being set to 0.0 due to no predicted samples. Use `zero_division` parameter to control this behavior.\n",
      "  _warn_prf(average, modifier, f\"{metric.capitalize()} is\", len(result))\n",
      "/home/ccanodom/anaconda3/envs/BDMT/lib/python3.12/site-packages/sklearn/metrics/_classification.py:1531: UndefinedMetricWarning: Precision is ill-defined and being set to 0.0 due to no predicted samples. Use `zero_division` parameter to control this behavior.\n",
      "  _warn_prf(average, modifier, f\"{metric.capitalize()} is\", len(result))\n",
      "/home/ccanodom/anaconda3/envs/BDMT/lib/python3.12/site-packages/sklearn/metrics/_classification.py:1531: UndefinedMetricWarning: Precision is ill-defined and being set to 0.0 due to no predicted samples. Use `zero_division` parameter to control this behavior.\n",
      "  _warn_prf(average, modifier, f\"{metric.capitalize()} is\", len(result))\n",
      "/home/ccanodom/anaconda3/envs/BDMT/lib/python3.12/site-packages/sklearn/metrics/_classification.py:1531: UndefinedMetricWarning: Precision is ill-defined and being set to 0.0 due to no predicted samples. Use `zero_division` parameter to control this behavior.\n",
      "  _warn_prf(average, modifier, f\"{metric.capitalize()} is\", len(result))\n",
      "/home/ccanodom/anaconda3/envs/BDMT/lib/python3.12/site-packages/sklearn/metrics/_classification.py:1531: UndefinedMetricWarning: Precision is ill-defined and being set to 0.0 due to no predicted samples. Use `zero_division` parameter to control this behavior.\n",
      "  _warn_prf(average, modifier, f\"{metric.capitalize()} is\", len(result))\n",
      "/home/ccanodom/anaconda3/envs/BDMT/lib/python3.12/site-packages/sklearn/metrics/_classification.py:1531: UndefinedMetricWarning: Precision is ill-defined and being set to 0.0 due to no predicted samples. Use `zero_division` parameter to control this behavior.\n",
      "  _warn_prf(average, modifier, f\"{metric.capitalize()} is\", len(result))\n",
      "/home/ccanodom/anaconda3/envs/BDMT/lib/python3.12/site-packages/sklearn/metrics/_classification.py:1531: UndefinedMetricWarning: Precision is ill-defined and being set to 0.0 due to no predicted samples. Use `zero_division` parameter to control this behavior.\n",
      "  _warn_prf(average, modifier, f\"{metric.capitalize()} is\", len(result))\n",
      "/home/ccanodom/anaconda3/envs/BDMT/lib/python3.12/site-packages/sklearn/metrics/_classification.py:1531: UndefinedMetricWarning: Precision is ill-defined and being set to 0.0 due to no predicted samples. Use `zero_division` parameter to control this behavior.\n",
      "  _warn_prf(average, modifier, f\"{metric.capitalize()} is\", len(result))\n",
      "/home/ccanodom/anaconda3/envs/BDMT/lib/python3.12/site-packages/sklearn/metrics/_classification.py:1531: UndefinedMetricWarning: Precision is ill-defined and being set to 0.0 due to no predicted samples. Use `zero_division` parameter to control this behavior.\n",
      "  _warn_prf(average, modifier, f\"{metric.capitalize()} is\", len(result))\n",
      "/home/ccanodom/anaconda3/envs/BDMT/lib/python3.12/site-packages/sklearn/metrics/_classification.py:1531: UndefinedMetricWarning: Precision is ill-defined and being set to 0.0 due to no predicted samples. Use `zero_division` parameter to control this behavior.\n",
      "  _warn_prf(average, modifier, f\"{metric.capitalize()} is\", len(result))\n",
      "/home/ccanodom/anaconda3/envs/BDMT/lib/python3.12/site-packages/sklearn/metrics/_classification.py:1531: UndefinedMetricWarning: Precision is ill-defined and being set to 0.0 due to no predicted samples. Use `zero_division` parameter to control this behavior.\n",
      "  _warn_prf(average, modifier, f\"{metric.capitalize()} is\", len(result))\n",
      "/home/ccanodom/anaconda3/envs/BDMT/lib/python3.12/site-packages/sklearn/metrics/_classification.py:1531: UndefinedMetricWarning: Precision is ill-defined and being set to 0.0 due to no predicted samples. Use `zero_division` parameter to control this behavior.\n",
      "  _warn_prf(average, modifier, f\"{metric.capitalize()} is\", len(result))\n",
      "/home/ccanodom/anaconda3/envs/BDMT/lib/python3.12/site-packages/sklearn/metrics/_classification.py:1531: UndefinedMetricWarning: Precision is ill-defined and being set to 0.0 due to no predicted samples. Use `zero_division` parameter to control this behavior.\n",
      "  _warn_prf(average, modifier, f\"{metric.capitalize()} is\", len(result))\n",
      "/home/ccanodom/anaconda3/envs/BDMT/lib/python3.12/site-packages/sklearn/metrics/_classification.py:1531: UndefinedMetricWarning: Precision is ill-defined and being set to 0.0 due to no predicted samples. Use `zero_division` parameter to control this behavior.\n",
      "  _warn_prf(average, modifier, f\"{metric.capitalize()} is\", len(result))\n",
      "/home/ccanodom/anaconda3/envs/BDMT/lib/python3.12/site-packages/sklearn/metrics/_classification.py:1531: UndefinedMetricWarning: Precision is ill-defined and being set to 0.0 due to no predicted samples. Use `zero_division` parameter to control this behavior.\n",
      "  _warn_prf(average, modifier, f\"{metric.capitalize()} is\", len(result))\n",
      "/home/ccanodom/anaconda3/envs/BDMT/lib/python3.12/site-packages/sklearn/metrics/_classification.py:1531: UndefinedMetricWarning: Precision is ill-defined and being set to 0.0 due to no predicted samples. Use `zero_division` parameter to control this behavior.\n",
      "  _warn_prf(average, modifier, f\"{metric.capitalize()} is\", len(result))\n",
      "/home/ccanodom/anaconda3/envs/BDMT/lib/python3.12/site-packages/sklearn/metrics/_classification.py:1531: UndefinedMetricWarning: Precision is ill-defined and being set to 0.0 due to no predicted samples. Use `zero_division` parameter to control this behavior.\n",
      "  _warn_prf(average, modifier, f\"{metric.capitalize()} is\", len(result))\n",
      "/home/ccanodom/anaconda3/envs/BDMT/lib/python3.12/site-packages/sklearn/metrics/_classification.py:1531: UndefinedMetricWarning: Precision is ill-defined and being set to 0.0 due to no predicted samples. Use `zero_division` parameter to control this behavior.\n",
      "  _warn_prf(average, modifier, f\"{metric.capitalize()} is\", len(result))\n",
      "/home/ccanodom/anaconda3/envs/BDMT/lib/python3.12/site-packages/sklearn/metrics/_classification.py:1531: UndefinedMetricWarning: Precision is ill-defined and being set to 0.0 due to no predicted samples. Use `zero_division` parameter to control this behavior.\n",
      "  _warn_prf(average, modifier, f\"{metric.capitalize()} is\", len(result))\n",
      "/home/ccanodom/anaconda3/envs/BDMT/lib/python3.12/site-packages/sklearn/metrics/_classification.py:1531: UndefinedMetricWarning: Precision is ill-defined and being set to 0.0 due to no predicted samples. Use `zero_division` parameter to control this behavior.\n",
      "  _warn_prf(average, modifier, f\"{metric.capitalize()} is\", len(result))\n",
      "/home/ccanodom/anaconda3/envs/BDMT/lib/python3.12/site-packages/sklearn/metrics/_classification.py:1531: UndefinedMetricWarning: Precision is ill-defined and being set to 0.0 due to no predicted samples. Use `zero_division` parameter to control this behavior.\n",
      "  _warn_prf(average, modifier, f\"{metric.capitalize()} is\", len(result))\n",
      "/home/ccanodom/anaconda3/envs/BDMT/lib/python3.12/site-packages/sklearn/metrics/_classification.py:1531: UndefinedMetricWarning: Precision is ill-defined and being set to 0.0 due to no predicted samples. Use `zero_division` parameter to control this behavior.\n",
      "  _warn_prf(average, modifier, f\"{metric.capitalize()} is\", len(result))\n",
      "/home/ccanodom/anaconda3/envs/BDMT/lib/python3.12/site-packages/sklearn/metrics/_classification.py:1531: UndefinedMetricWarning: Precision is ill-defined and being set to 0.0 due to no predicted samples. Use `zero_division` parameter to control this behavior.\n",
      "  _warn_prf(average, modifier, f\"{metric.capitalize()} is\", len(result))\n",
      "/home/ccanodom/anaconda3/envs/BDMT/lib/python3.12/site-packages/sklearn/metrics/_classification.py:1531: UndefinedMetricWarning: Precision is ill-defined and being set to 0.0 due to no predicted samples. Use `zero_division` parameter to control this behavior.\n",
      "  _warn_prf(average, modifier, f\"{metric.capitalize()} is\", len(result))\n",
      "/home/ccanodom/anaconda3/envs/BDMT/lib/python3.12/site-packages/sklearn/metrics/_classification.py:1531: UndefinedMetricWarning: Precision is ill-defined and being set to 0.0 due to no predicted samples. Use `zero_division` parameter to control this behavior.\n",
      "  _warn_prf(average, modifier, f\"{metric.capitalize()} is\", len(result))\n",
      "/home/ccanodom/anaconda3/envs/BDMT/lib/python3.12/site-packages/sklearn/metrics/_classification.py:1531: UndefinedMetricWarning: Precision is ill-defined and being set to 0.0 due to no predicted samples. Use `zero_division` parameter to control this behavior.\n",
      "  _warn_prf(average, modifier, f\"{metric.capitalize()} is\", len(result))\n",
      "/home/ccanodom/anaconda3/envs/BDMT/lib/python3.12/site-packages/sklearn/metrics/_classification.py:1531: UndefinedMetricWarning: Precision is ill-defined and being set to 0.0 due to no predicted samples. Use `zero_division` parameter to control this behavior.\n",
      "  _warn_prf(average, modifier, f\"{metric.capitalize()} is\", len(result))\n",
      "/home/ccanodom/anaconda3/envs/BDMT/lib/python3.12/site-packages/sklearn/metrics/_classification.py:1531: UndefinedMetricWarning: Precision is ill-defined and being set to 0.0 due to no predicted samples. Use `zero_division` parameter to control this behavior.\n",
      "  _warn_prf(average, modifier, f\"{metric.capitalize()} is\", len(result))\n",
      "/home/ccanodom/anaconda3/envs/BDMT/lib/python3.12/site-packages/sklearn/metrics/_classification.py:1531: UndefinedMetricWarning: Precision is ill-defined and being set to 0.0 due to no predicted samples. Use `zero_division` parameter to control this behavior.\n",
      "  _warn_prf(average, modifier, f\"{metric.capitalize()} is\", len(result))\n",
      "/home/ccanodom/anaconda3/envs/BDMT/lib/python3.12/site-packages/sklearn/metrics/_classification.py:1531: UndefinedMetricWarning: Precision is ill-defined and being set to 0.0 due to no predicted samples. Use `zero_division` parameter to control this behavior.\n",
      "  _warn_prf(average, modifier, f\"{metric.capitalize()} is\", len(result))\n",
      "/home/ccanodom/anaconda3/envs/BDMT/lib/python3.12/site-packages/sklearn/metrics/_classification.py:1531: UndefinedMetricWarning: Precision is ill-defined and being set to 0.0 due to no predicted samples. Use `zero_division` parameter to control this behavior.\n",
      "  _warn_prf(average, modifier, f\"{metric.capitalize()} is\", len(result))\n",
      "/home/ccanodom/anaconda3/envs/BDMT/lib/python3.12/site-packages/sklearn/metrics/_classification.py:1531: UndefinedMetricWarning: Precision is ill-defined and being set to 0.0 due to no predicted samples. Use `zero_division` parameter to control this behavior.\n",
      "  _warn_prf(average, modifier, f\"{metric.capitalize()} is\", len(result))\n",
      "/home/ccanodom/anaconda3/envs/BDMT/lib/python3.12/site-packages/sklearn/metrics/_classification.py:1531: UndefinedMetricWarning: Precision is ill-defined and being set to 0.0 due to no predicted samples. Use `zero_division` parameter to control this behavior.\n",
      "  _warn_prf(average, modifier, f\"{metric.capitalize()} is\", len(result))\n",
      "/home/ccanodom/anaconda3/envs/BDMT/lib/python3.12/site-packages/sklearn/metrics/_classification.py:1531: UndefinedMetricWarning: Precision is ill-defined and being set to 0.0 due to no predicted samples. Use `zero_division` parameter to control this behavior.\n",
      "  _warn_prf(average, modifier, f\"{metric.capitalize()} is\", len(result))\n",
      "/home/ccanodom/anaconda3/envs/BDMT/lib/python3.12/site-packages/sklearn/metrics/_classification.py:1531: UndefinedMetricWarning: Precision is ill-defined and being set to 0.0 due to no predicted samples. Use `zero_division` parameter to control this behavior.\n",
      "  _warn_prf(average, modifier, f\"{metric.capitalize()} is\", len(result))\n",
      "/home/ccanodom/anaconda3/envs/BDMT/lib/python3.12/site-packages/sklearn/metrics/_classification.py:1531: UndefinedMetricWarning: Precision is ill-defined and being set to 0.0 due to no predicted samples. Use `zero_division` parameter to control this behavior.\n",
      "  _warn_prf(average, modifier, f\"{metric.capitalize()} is\", len(result))\n",
      "/home/ccanodom/anaconda3/envs/BDMT/lib/python3.12/site-packages/sklearn/metrics/_classification.py:1531: UndefinedMetricWarning: Precision is ill-defined and being set to 0.0 due to no predicted samples. Use `zero_division` parameter to control this behavior.\n",
      "  _warn_prf(average, modifier, f\"{metric.capitalize()} is\", len(result))\n",
      "/home/ccanodom/anaconda3/envs/BDMT/lib/python3.12/site-packages/sklearn/metrics/_classification.py:1531: UndefinedMetricWarning: Precision is ill-defined and being set to 0.0 due to no predicted samples. Use `zero_division` parameter to control this behavior.\n",
      "  _warn_prf(average, modifier, f\"{metric.capitalize()} is\", len(result))\n",
      "/home/ccanodom/anaconda3/envs/BDMT/lib/python3.12/site-packages/sklearn/metrics/_classification.py:1531: UndefinedMetricWarning: Precision is ill-defined and being set to 0.0 due to no predicted samples. Use `zero_division` parameter to control this behavior.\n",
      "  _warn_prf(average, modifier, f\"{metric.capitalize()} is\", len(result))\n",
      "/home/ccanodom/anaconda3/envs/BDMT/lib/python3.12/site-packages/sklearn/metrics/_classification.py:1531: UndefinedMetricWarning: Precision is ill-defined and being set to 0.0 due to no predicted samples. Use `zero_division` parameter to control this behavior.\n",
      "  _warn_prf(average, modifier, f\"{metric.capitalize()} is\", len(result))\n",
      "/home/ccanodom/anaconda3/envs/BDMT/lib/python3.12/site-packages/sklearn/metrics/_classification.py:1531: UndefinedMetricWarning: Precision is ill-defined and being set to 0.0 due to no predicted samples. Use `zero_division` parameter to control this behavior.\n",
      "  _warn_prf(average, modifier, f\"{metric.capitalize()} is\", len(result))\n"
     ]
    }
   ],
   "source": [
    "accurary = []\n",
    "recall = []\n",
    "precision = []\n",
    "list_k = []\n",
    "for k in range(1,100):\n",
    "    # Initialize the KNN classifier\n",
    "    knn = KNeighborsClassifier(n_neighbors=k)\n",
    "\n",
    "    # Train the model\n",
    "    knn.fit(X_train, y_train)\n",
    "\n",
    "    # Make predictions\n",
    "    y_pred = knn.predict(X_test)\n",
    "    list_k.append(k)\n",
    "\n",
    "    ## Evaluating the Model\n",
    "\n",
    "\n",
    "    # Accuracy\n",
    "    accurary.append(accuracy_score(y_test, y_pred))\n",
    "    \n",
    "\n",
    "    # Precision\n",
    "    precision.append(precision_score(y_test, y_pred))\n",
    "\n",
    "\n",
    "    # Recall\n",
    "    recall.append(recall_score(y_test, y_pred))\n",
    "\n",
    "    # Create a DataFrame from the lists\n",
    "metrics_df = pd.DataFrame({\n",
    "    'K': list_k,\n",
    "    'Accuracy': accuracy,\n",
    "    'Precision': precision,\n",
    "    'Recall': recall\n",
    "})\n",
    "metrics_df.plot(x=\"K\")\n",
    "\n",
    "# Import plotly express for visualization\n",
    "import plotly.express as px\n",
    "import plotly.graph_objects as go\n",
    "\n",
    "# Create line plot for Accuracy, Precision, and Recall\n",
    "fig_line = px.line(metrics_df, x='K', y=['Accuracy', 'Precision', 'Recall'],\n",
    "                   title='Metrics vs K Value (Line Plot)',\n",
    "                   labels={'value': 'Metric Value', 'K': 'K Value'}, height=800)\n",
    "\n",
    "# Create the slider for changing K value in both plots\n",
    "fig_line.update_layout(\n",
    "    xaxis=dict(\n",
    "        rangeslider=dict(visible=True),\n",
    "        type=\"linear\"\n",
    "    )\n",
    ")\n",
    "\n",
    "\n",
    "# Show both plots\n",
    "fig_line.show()\n",
    "# Let's use Plotly Express to create an interactive plot with a slider to select the value of K\n",
    "import plotly.express as px\n",
    "import pandas as pd\n",
    "\n",
    "# Prepare the data for a long format to use with Plotly Express\n",
    "df_long = pd.melt(metrics_df, id_vars=['K'], value_vars=['Accuracy', 'Precision', 'Recall'], \n",
    "                  var_name='Metric', value_name='Value')\n",
    "\n",
    "# Create the interactive bar plot with Plotly Express and add a slider for K values\n",
    "fig = px.bar(df_long, x='Metric', y='Value', animation_frame='K',\n",
    "             title='Metrics for KNN Based on K Value', \n",
    "             labels={'Value': 'Metric Value', 'Metric': 'Metric'},height=800,\n",
    "             range_y=[0, 1])\n",
    "\n",
    "# Display the plot\n",
    "fig.show()\n"
   ]
  },
  {
   "cell_type": "code",
   "execution_count": 17,
   "id": "86aa7204-72f8-4831-bc21-5fe4ee453555",
   "metadata": {
    "tags": []
   },
   "outputs": [
    {
     "data": {
      "text/plain": [
       "<Axes: xlabel='K'>"
      ]
     },
     "execution_count": 17,
     "metadata": {},
     "output_type": "execute_result"
    },
    {
     "data": {
      "image/png": "[encoded data removed]",
      "text/plain": [
       "<Figure size 640x480 with 1 Axes>"
      ]
     },
     "metadata": {},
     "output_type": "display_data"
    }
   ],
   "source": [
    "# Create a DataFrame from the lists\n",
    "metrics_df = pd.DataFrame({\n",
    "    'K': list_k,\n",
    "    'Accuracy': accuracy,\n",
    "    'Precision': precision,\n",
    "    'Recall': recall\n",
    "})\n",
    "metrics_df.plot(x=\"K\")"
   ]
  },
  {
   "cell_type": "code",
   "execution_count": 15,
   "id": "bb8d34b1-8b71-4b18-95da-253fa1badc84",
   "metadata": {
    "tags": []
   },
   "outputs": [
    {
     "data": {
      "application/vnd.plotly.v1+json": {
       "config": {
        "plotlyServerURL": "https://plot.ly"
       },
       "data": [
        {
         "hovertemplate": "variable=Accuracy<br>K Value=%{x}<br>Metric Value=%{y}<extra></extra>",
         "legendgroup": "Accuracy",
         "line": {
          "color": "#636efa",
          "dash": "solid"
         },
         "marker": {
          "symbol": "circle"
         },
         "mode": "lines",
         "name": "Accuracy",
         "orientation": "v",
         "showlegend": true,
         "type": "scatter",
         "x": [
          1,
          2,
          3,
          4,
          5,
          6,
          7,
          8,
          9,
          10,
          11,
          12,
          13,
          14,
          15,
          16,
          17,
          18,
          19,
          20,
          21,
          22,
          23,
          24,
          25,
          26,
          27,
          28,
          29,
          30,
          31,
          32,
          33,
          34,
          35,
          36,
          37,
          38,
          39,
          40,
          41,
          42,
          43,
          44,
          45,
          46,
          47,
          48,
          49,
          50,
          51,
          52,
          53,
          54,
          55,
          56,
          57,
          58,
          59,
          60,
          61,
          62,
          63,
          64,
          65,
          66,
          67,
          68,
          69,
          70,
          71,
          72,
          73,
          74,
          75,
          76,
          77,
          78,
          79,
          80,
          81,
          82,
          83,
          84,
          85,
          86,
          87,
          88,
          89,
          90,
          91,
          92,
          93,
          94,
          95,
          96,
          97,
          98,
          99
         ],
         "xaxis": "x",
         "y": [
          0.85233798195242,
          0.85233798195242,
          0.85233798195242,
          0.85233798195242,
          0.85233798195242,
          0.85233798195242,
          0.85233798195242,
          0.85233798195242,
          0.85233798195242,
          0.85233798195242,
          0.85233798195242,
          0.85233798195242,
          0.85233798195242,
          0.85233798195242,
          0.85233798195242,
          0.85233798195242,
          0.85233798195242,
          0.85233798195242,
          0.85233798195242,
          0.85233798195242,
          0.85233798195242,
          0.85233798195242,
          0.85233798195242,
          0.85233798195242,
          0.85233798195242,
          0.85233798195242,
          0.85233798195242,
          0.85233798195242,
          0.85233798195242,
          0.85233798195242,
          0.85233798195242,
          0.85233798195242,
          0.85233798195242,
          0.85233798195242,
          0.85233798195242,
          0.85233798195242,
          0.85233798195242,
          0.85233798195242,
          0.85233798195242,
          0.85233798195242,
          0.85233798195242,
          0.85233798195242,
          0.85233798195242,
          0.85233798195242,
          0.85233798195242,
          0.85233798195242,
          0.85233798195242,
          0.85233798195242,
          0.85233798195242,
          0.85233798195242,
          0.85233798195242,
          0.85233798195242,
          0.85233798195242,
          0.85233798195242,
          0.85233798195242,
          0.85233798195242,
          0.85233798195242,
          0.85233798195242,
          0.85233798195242,
          0.85233798195242,
          0.85233798195242,
          0.85233798195242,
          0.85233798195242,
          0.85233798195242,
          0.85233798195242,
          0.85233798195242,
          0.85233798195242,
          0.85233798195242,
          0.85233798195242,
          0.85233798195242,
          0.85233798195242,
          0.85233798195242,
          0.85233798195242,
          0.85233798195242,
          0.85233798195242,
          0.85233798195242,
          0.85233798195242,
          0.85233798195242,
          0.85233798195242,
          0.85233798195242,
          0.85233798195242,
          0.85233798195242,
          0.85233798195242,
          0.85233798195242,
          0.85233798195242,
          0.85233798195242,
          0.85233798195242,
          0.85233798195242,
          0.85233798195242,
          0.85233798195242,
          0.85233798195242,
          0.85233798195242,
          0.85233798195242,
          0.85233798195242,
          0.85233798195242,
          0.85233798195242,
          0.85233798195242,
          0.85233798195242,
          0.85233798195242
         ],
         "yaxis": "y"
        },
        {
         "hovertemplate": "variable=Precision<br>K Value=%{x}<br>Metric Value=%{y}<extra></extra>",
         "legendgroup": "Precision",
         "line": {
          "color": "#EF553B",
          "dash": "solid"
         },
         "marker": {
          "symbol": "circle"
         },
         "mode": "lines",
         "name": "Precision",
         "orientation": "v",
         "showlegend": true,
         "type": "scatter",
         "x": [
          1,
          2,
          3,
          4,
          5,
          6,
          7,
          8,
          9,
          10,
          11,
          12,
          13,
          14,
          15,
          16,
          17,
          18,
          19,
          20,
          21,
          22,
          23,
          24,
          25,
          26,
          27,
          28,
          29,
          30,
          31,
          32,
          33,
          34,
          35,
          36,
          37,
          38,
          39,
          40,
          41,
          42,
          43,
          44,
          45,
          46,
          47,
          48,
          49,
          50,
          51,
          52,
          53,
          54,
          55,
          56,
          57,
          58,
          59,
          60,
          61,
          62,
          63,
          64,
          65,
          66,
          67,
          68,
          69,
          70,
          71,
          72,
          73,
          74,
          75,
          76,
          77,
          78,
          79,
          80,
          81,
          82,
          83,
          84,
          85,
          86,
          87,
          88,
          89,
          90,
          91,
          92,
          93,
          94,
          95,
          96,
          97,
          98,
          99
         ],
         "xaxis": "x",
         "y": [
          0.288135593220339,
          0.4444444444444444,
          0.37373737373737376,
          0.4166666666666667,
          0.375,
          0.5,
          0.4146341463414634,
          0.43478260869565216,
          0.4864864864864865,
          0.5333333333333333,
          0.48148148148148145,
          0.5789473684210527,
          0.4230769230769231,
          0.5625,
          0.43478260869565216,
          0.46153846153846156,
          0.47368421052631576,
          0.6666666666666666,
          0.5,
          0.5,
          0.5454545454545454,
          0.5714285714285714,
          0.5555555555555556,
          0.8333333333333334,
          0.6666666666666666,
          0.6666666666666666,
          0.625,
          0.625,
          0.625,
          0.7142857142857143,
          0.7142857142857143,
          0.6666666666666666,
          0.7142857142857143,
          0.8,
          0.7142857142857143,
          0.75,
          0.8,
          0.75,
          0.8,
          0.8,
          0.8,
          0.8,
          0.8,
          0.8,
          0.8,
          1,
          0.75,
          1,
          1,
          1,
          1,
          1,
          1,
          1,
          1,
          0,
          0,
          0,
          0,
          0,
          0,
          0,
          0,
          0,
          0,
          0,
          0,
          0,
          0,
          0,
          0,
          0,
          0,
          0,
          0,
          0,
          0,
          0,
          0,
          0,
          0,
          0,
          0,
          0,
          0,
          0,
          0,
          0,
          0,
          0,
          0,
          0,
          0,
          0,
          0,
          0,
          0,
          0,
          0
         ],
         "yaxis": "y"
        },
        {
         "hovertemplate": "variable=Recall<br>K Value=%{x}<br>Metric Value=%{y}<extra></extra>",
         "legendgroup": "Recall",
         "line": {
          "color": "#00cc96",
          "dash": "solid"
         },
         "marker": {
          "symbol": "circle"
         },
         "mode": "lines",
         "name": "Recall",
         "orientation": "v",
         "showlegend": true,
         "type": "scatter",
         "x": [
          1,
          2,
          3,
          4,
          5,
          6,
          7,
          8,
          9,
          10,
          11,
          12,
          13,
          14,
          15,
          16,
          17,
          18,
          19,
          20,
          21,
          22,
          23,
          24,
          25,
          26,
          27,
          28,
          29,
          30,
          31,
          32,
          33,
          34,
          35,
          36,
          37,
          38,
          39,
          40,
          41,
          42,
          43,
          44,
          45,
          46,
          47,
          48,
          49,
          50,
          51,
          52,
          53,
          54,
          55,
          56,
          57,
          58,
          59,
          60,
          61,
          62,
          63,
          64,
          65,
          66,
          67,
          68,
          69,
          70,
          71,
          72,
          73,
          74,
          75,
          76,
          77,
          78,
          79,
          80,
          81,
          82,
          83,
          84,
          85,
          86,
          87,
          88,
          89,
          90,
          91,
          92,
          93,
          94,
          95,
          96,
          97,
          98,
          99
         ],
         "xaxis": "x",
         "y": [
          0.31097560975609756,
          0.12195121951219512,
          0.22560975609756098,
          0.09146341463414634,
          0.14634146341463414,
          0.06707317073170732,
          0.10365853658536585,
          0.06097560975609756,
          0.10975609756097561,
          0.04878048780487805,
          0.07926829268292683,
          0.06707317073170732,
          0.06707317073170732,
          0.054878048780487805,
          0.06097560975609756,
          0.036585365853658534,
          0.054878048780487805,
          0.036585365853658534,
          0.036585365853658534,
          0.024390243902439025,
          0.036585365853658534,
          0.024390243902439025,
          0.03048780487804878,
          0.03048780487804878,
          0.036585365853658534,
          0.024390243902439025,
          0.03048780487804878,
          0.03048780487804878,
          0.03048780487804878,
          0.03048780487804878,
          0.03048780487804878,
          0.024390243902439025,
          0.03048780487804878,
          0.024390243902439025,
          0.03048780487804878,
          0.018292682926829267,
          0.024390243902439025,
          0.018292682926829267,
          0.024390243902439025,
          0.024390243902439025,
          0.024390243902439025,
          0.024390243902439025,
          0.024390243902439025,
          0.024390243902439025,
          0.024390243902439025,
          0.012195121951219513,
          0.018292682926829267,
          0.018292682926829267,
          0.018292682926829267,
          0.012195121951219513,
          0.018292682926829267,
          0.006097560975609756,
          0.012195121951219513,
          0.012195121951219513,
          0.012195121951219513,
          0,
          0,
          0,
          0,
          0,
          0,
          0,
          0,
          0,
          0,
          0,
          0,
          0,
          0,
          0,
          0,
          0,
          0,
          0,
          0,
          0,
          0,
          0,
          0,
          0,
          0,
          0,
          0,
          0,
          0,
          0,
          0,
          0,
          0,
          0,
          0,
          0,
          0,
          0,
          0,
          0,
          0,
          0,
          0
         ],
         "yaxis": "y"
        }
       ],
       "layout": {
        "autosize": true,
        "legend": {
         "title": {
          "text": "variable"
         },
         "tracegroupgap": 0
        },
        "template": {
         "data": {
          "bar": [
           {
            "error_x": {
             "color": "#2a3f5f"
            },
            "error_y": {
             "color": "#2a3f5f"
            },
            "marker": {
             "line": {
              "color": "#E5ECF6",
              "width": 0.5
             },
             "pattern": {
              "fillmode": "overlay",
              "size": 10,
              "solidity": 0.2
             }
            },
            "type": "bar"
           }
          ],
          "barpolar": [
           {
            "marker": {
             "line": {
              "color": "#E5ECF6",
              "width": 0.5
             },
             "pattern": {
              "fillmode": "overlay",
              "size": 10,
              "solidity": 0.2
             }
            },
            "type": "barpolar"
           }
          ],
          "carpet": [
           {
            "aaxis": {
             "endlinecolor": "#2a3f5f",
             "gridcolor": "white",
             "linecolor": "white",
             "minorgridcolor": "white",
             "startlinecolor": "#2a3f5f"
            },
            "baxis": {
             "endlinecolor": "#2a3f5f",
             "gridcolor": "white",
             "linecolor": "white",
             "minorgridcolor": "white",
             "startlinecolor": "#2a3f5f"
            },
            "type": "carpet"
           }
          ],
          "choropleth": [
           {
            "colorbar": {
             "outlinewidth": 0,
             "ticks": ""
            },
            "type": "choropleth"
           }
          ],
          "contour": [
           {
            "colorbar": {
             "outlinewidth": 0,
             "ticks": ""
            },
            "colorscale": [
             [
              0,
              "#0d0887"
             ],
             [
              0.1111111111111111,
              "#46039f"
             ],
             [
              0.2222222222222222,
              "#7201a8"
             ],
             [
              0.3333333333333333,
              "#9c179e"
             ],
             [
              0.4444444444444444,
              "#bd3786"
             ],
             [
              0.5555555555555556,
              "#d8576b"
             ],
             [
              0.6666666666666666,
              "#ed7953"
             ],
             [
              0.7777777777777778,
              "#fb9f3a"
             ],
             [
              0.8888888888888888,
              "#fdca26"
             ],
             [
              1,
              "#f0f921"
             ]
            ],
            "type": "contour"
           }
          ],
          "contourcarpet": [
           {
            "colorbar": {
             "outlinewidth": 0,
             "ticks": ""
            },
            "type": "contourcarpet"
           }
          ],
          "heatmap": [
           {
            "colorbar": {
             "outlinewidth": 0,
             "ticks": ""
            },
            "colorscale": [
             [
              0,
              "#0d0887"
             ],
             [
              0.1111111111111111,
              "#46039f"
             ],
             [
              0.2222222222222222,
              "#7201a8"
             ],
             [
              0.3333333333333333,
              "#9c179e"
             ],
             [
              0.4444444444444444,
              "#bd3786"
             ],
             [
              0.5555555555555556,
              "#d8576b"
             ],
             [
              0.6666666666666666,
              "#ed7953"
             ],
             [
              0.7777777777777778,
              "#fb9f3a"
             ],
             [
              0.8888888888888888,
              "#fdca26"
             ],
             [
              1,
              "#f0f921"
             ]
            ],
            "type": "heatmap"
           }
          ],
          "heatmapgl": [
           {
            "colorbar": {
             "outlinewidth": 0,
             "ticks": ""
            },
            "colorscale": [
             [
              0,
              "#0d0887"
             ],
             [
              0.1111111111111111,
              "#46039f"
             ],
             [
              0.2222222222222222,
              "#7201a8"
             ],
             [
              0.3333333333333333,
              "#9c179e"
             ],
             [
              0.4444444444444444,
              "#bd3786"
             ],
             [
              0.5555555555555556,
              "#d8576b"
             ],
             [
              0.6666666666666666,
              "#ed7953"
             ],
             [
              0.7777777777777778,
              "#fb9f3a"
             ],
             [
              0.8888888888888888,
              "#fdca26"
             ],
             [
              1,
              "#f0f921"
             ]
            ],
            "type": "heatmapgl"
           }
          ],
          "histogram": [
           {
            "marker": {
             "pattern": {
              "fillmode": "overlay",
              "size": 10,
              "solidity": 0.2
             }
            },
            "type": "histogram"
           }
          ],
          "histogram2d": [
           {
            "colorbar": {
             "outlinewidth": 0,
             "ticks": ""
            },
            "colorscale": [
             [
              0,
              "#0d0887"
             ],
             [
              0.1111111111111111,
              "#46039f"
             ],
             [
              0.2222222222222222,
              "#7201a8"
             ],
             [
              0.3333333333333333,
              "#9c179e"
             ],
             [
              0.4444444444444444,
              "#bd3786"
             ],
             [
              0.5555555555555556,
              "#d8576b"
             ],
             [
              0.6666666666666666,
              "#ed7953"
             ],
             [
              0.7777777777777778,
              "#fb9f3a"
             ],
             [
              0.8888888888888888,
              "#fdca26"
             ],
             [
              1,
              "#f0f921"
             ]
            ],
            "type": "histogram2d"
           }
          ],
          "histogram2dcontour": [
           {
            "colorbar": {
             "outlinewidth": 0,
             "ticks": ""
            },
            "colorscale": [
             [
              0,
              "#0d0887"
             ],
             [
              0.1111111111111111,
              "#46039f"
             ],
             [
              0.2222222222222222,
              "#7201a8"
             ],
             [
              0.3333333333333333,
              "#9c179e"
             ],
             [
              0.4444444444444444,
              "#bd3786"
             ],
             [
              0.5555555555555556,
              "#d8576b"
             ],
             [
              0.6666666666666666,
              "#ed7953"
             ],
             [
              0.7777777777777778,
              "#fb9f3a"
             ],
             [
              0.8888888888888888,
              "#fdca26"
             ],
             [
              1,
              "#f0f921"
             ]
            ],
            "type": "histogram2dcontour"
           }
          ],
          "mesh3d": [
           {
            "colorbar": {
             "outlinewidth": 0,
             "ticks": ""
            },
            "type": "mesh3d"
           }
          ],
          "parcoords": [
           {
            "line": {
             "colorbar": {
              "outlinewidth": 0,
              "ticks": ""
             }
            },
            "type": "parcoords"
           }
          ],
          "pie": [
           {
            "automargin": true,
            "type": "pie"
           }
          ],
          "scatter": [
           {
            "fillpattern": {
             "fillmode": "overlay",
             "size": 10,
             "solidity": 0.2
            },
            "type": "scatter"
           }
          ],
          "scatter3d": [
           {
            "line": {
             "colorbar": {
              "outlinewidth": 0,
              "ticks": ""
             }
            },
            "marker": {
             "colorbar": {
              "outlinewidth": 0,
              "ticks": ""
             }
            },
            "type": "scatter3d"
           }
          ],
          "scattercarpet": [
           {
            "marker": {
             "colorbar": {
              "outlinewidth": 0,
              "ticks": ""
             }
            },
            "type": "scattercarpet"
           }
          ],
          "scattergeo": [
           {
            "marker": {
             "colorbar": {
              "outlinewidth": 0,
              "ticks": ""
             }
            },
            "type": "scattergeo"
           }
          ],
          "scattergl": [
           {
            "marker": {
             "colorbar": {
              "outlinewidth": 0,
              "ticks": ""
             }
            },
            "type": "scattergl"
           }
          ],
          "scattermapbox": [
           {
            "marker": {
             "colorbar": {
              "outlinewidth": 0,
              "ticks": ""
             }
            },
            "type": "scattermapbox"
           }
          ],
          "scatterpolar": [
           {
            "marker": {
             "colorbar": {
              "outlinewidth": 0,
              "ticks": ""
             }
            },
            "type": "scatterpolar"
           }
          ],
          "scatterpolargl": [
           {
            "marker": {
             "colorbar": {
              "outlinewidth": 0,
              "ticks": ""
             }
            },
            "type": "scatterpolargl"
           }
          ],
          "scatterternary": [
           {
            "marker": {
             "colorbar": {
              "outlinewidth": 0,
              "ticks": ""
             }
            },
            "type": "scatterternary"
           }
          ],
          "surface": [
           {
            "colorbar": {
             "outlinewidth": 0,
             "ticks": ""
            },
            "colorscale": [
             [
              0,
              "#0d0887"
             ],
             [
              0.1111111111111111,
              "#46039f"
             ],
             [
              0.2222222222222222,
              "#7201a8"
             ],
             [
              0.3333333333333333,
              "#9c179e"
             ],
             [
              0.4444444444444444,
              "#bd3786"
             ],
             [
              0.5555555555555556,
              "#d8576b"
             ],
             [
              0.6666666666666666,
              "#ed7953"
             ],
             [
              0.7777777777777778,
              "#fb9f3a"
             ],
             [
              0.8888888888888888,
              "#fdca26"
             ],
             [
              1,
              "#f0f921"
             ]
            ],
            "type": "surface"
           }
          ],
          "table": [
           {
            "cells": {
             "fill": {
              "color": "#EBF0F8"
             },
             "line": {
              "color": "white"
             }
            },
            "header": {
             "fill": {
              "color": "#C8D4E3"
             },
             "line": {
              "color": "white"
             }
            },
            "type": "table"
           }
          ]
         },
         "layout": {
          "annotationdefaults": {
           "arrowcolor": "#2a3f5f",
           "arrowhead": 0,
           "arrowwidth": 1
          },
          "autotypenumbers": "strict",
          "coloraxis": {
           "colorbar": {
            "outlinewidth": 0,
            "ticks": ""
           }
          },
          "colorscale": {
           "diverging": [
            [
             0,
             "#8e0152"
            ],
            [
             0.1,
             "#c51b7d"
            ],
            [
             0.2,
             "#de77ae"
            ],
            [
             0.3,
             "#f1b6da"
            ],
            [
             0.4,
             "#fde0ef"
            ],
            [
             0.5,
             "#f7f7f7"
            ],
            [
             0.6,
             "#e6f5d0"
            ],
            [
             0.7,
             "#b8e186"
            ],
            [
             0.8,
             "#7fbc41"
            ],
            [
             0.9,
             "#4d9221"
            ],
            [
             1,
             "#276419"
            ]
           ],
           "sequential": [
            [
             0,
             "#0d0887"
            ],
            [
             0.1111111111111111,
             "#46039f"
            ],
            [
             0.2222222222222222,
             "#7201a8"
            ],
            [
             0.3333333333333333,
             "#9c179e"
            ],
            [
             0.4444444444444444,
             "#bd3786"
            ],
            [
             0.5555555555555556,
             "#d8576b"
            ],
            [
             0.6666666666666666,
             "#ed7953"
            ],
            [
             0.7777777777777778,
             "#fb9f3a"
            ],
            [
             0.8888888888888888,
             "#fdca26"
            ],
            [
             1,
             "#f0f921"
            ]
           ],
           "sequentialminus": [
            [
             0,
             "#0d0887"
            ],
            [
             0.1111111111111111,
             "#46039f"
            ],
            [
             0.2222222222222222,
             "#7201a8"
            ],
            [
             0.3333333333333333,
             "#9c179e"
            ],
            [
             0.4444444444444444,
             "#bd3786"
            ],
            [
             0.5555555555555556,
             "#d8576b"
            ],
            [
             0.6666666666666666,
             "#ed7953"
            ],
            [
             0.7777777777777778,
             "#fb9f3a"
            ],
            [
             0.8888888888888888,
             "#fdca26"
            ],
            [
             1,
             "#f0f921"
            ]
           ]
          },
          "colorway": [
           "#636efa",
           "#EF553B",
           "#00cc96",
           "#ab63fa",
           "#FFA15A",
           "#19d3f3",
           "#FF6692",
           "#B6E880",
           "#FF97FF",
           "#FECB52"
          ],
          "font": {
           "color": "#2a3f5f"
          },
          "geo": {
           "bgcolor": "white",
           "lakecolor": "white",
           "landcolor": "#E5ECF6",
           "showlakes": true,
           "showland": true,
           "subunitcolor": "white"
          },
          "hoverlabel": {
           "align": "left"
          },
          "hovermode": "closest",
          "mapbox": {
           "style": "light"
          },
          "paper_bgcolor": "white",
          "plot_bgcolor": "#E5ECF6",
          "polar": {
           "angularaxis": {
            "gridcolor": "white",
            "linecolor": "white",
            "ticks": ""
           },
           "bgcolor": "#E5ECF6",
           "radialaxis": {
            "gridcolor": "white",
            "linecolor": "white",
            "ticks": ""
           }
          },
          "scene": {
           "xaxis": {
            "backgroundcolor": "#E5ECF6",
            "gridcolor": "white",
            "gridwidth": 2,
            "linecolor": "white",
            "showbackground": true,
            "ticks": "",
            "zerolinecolor": "white"
           },
           "yaxis": {
            "backgroundcolor": "#E5ECF6",
            "gridcolor": "white",
            "gridwidth": 2,
            "linecolor": "white",
            "showbackground": true,
            "ticks": "",
            "zerolinecolor": "white"
           },
           "zaxis": {
            "backgroundcolor": "#E5ECF6",
            "gridcolor": "white",
            "gridwidth": 2,
            "linecolor": "white",
            "showbackground": true,
            "ticks": "",
            "zerolinecolor": "white"
           }
          },
          "shapedefaults": {
           "line": {
            "color": "#2a3f5f"
           }
          },
          "ternary": {
           "aaxis": {
            "gridcolor": "white",
            "linecolor": "white",
            "ticks": ""
           },
           "baxis": {
            "gridcolor": "white",
            "linecolor": "white",
            "ticks": ""
           },
           "bgcolor": "#E5ECF6",
           "caxis": {
            "gridcolor": "white",
            "linecolor": "white",
            "ticks": ""
           }
          },
          "title": {
           "x": 0.05
          },
          "xaxis": {
           "automargin": true,
           "gridcolor": "white",
           "linecolor": "white",
           "ticks": "",
           "title": {
            "standoff": 15
           },
           "zerolinecolor": "white",
           "zerolinewidth": 2
          },
          "yaxis": {
           "automargin": true,
           "gridcolor": "white",
           "linecolor": "white",
           "ticks": "",
           "title": {
            "standoff": 15
           },
           "zerolinecolor": "white",
           "zerolinewidth": 2
          }
         }
        },
        "title": {
         "text": "Metrics vs K Value (Line Plot)"
        },
        "xaxis": {
         "anchor": "y",
         "autorange": false,
         "domain": [
          0,
          1
         ],
         "range": [
          1,
          99
         ],
         "rangeslider": {
          "autorange": true,
          "range": [
           1,
           99
          ],
          "visible": true,
          "yaxis": {
           "_template": null,
           "rangemode": "match"
          }
         },
         "title": {
          "text": "K Value"
         },
         "type": "linear"
        },
        "yaxis": {
         "anchor": "x",
         "autorange": true,
         "domain": [
          0,
          1
         ],
         "range": [
          -0.05555555555555556,
          1.0555555555555556
         ],
         "title": {
          "text": "Metric Value"
         },
         "type": "linear"
        }
       }
      },
      "image/png": "[encoded data removed]",
      "text/html": [
       "<div>                            <div id=\"00019c1d-c7dc-432a-9d86-bc3c007ec11b\" class=\"plotly-graph-div\" style=\"height:800px; width:100%;\"></div>            <script type=\"text/javascript\">                require([\"plotly\"], function(Plotly) {                    window.PLOTLYENV=window.PLOTLYENV || {};                                    if (document.getElementById(\"00019c1d-c7dc-432a-9d86-bc3c007ec11b\")) {                    Plotly.newPlot(                        \"00019c1d-c7dc-432a-9d86-bc3c007ec11b\",                        [{\"hovertemplate\":\"variable=Accuracy\\u003cbr\\u003eK Value=%{x}\\u003cbr\\u003eMetric Value=%{y}\\u003cextra\\u003e\\u003c\\u002fextra\\u003e\",\"legendgroup\":\"Accuracy\",\"line\":{\"color\":\"#636efa\",\"dash\":\"solid\"},\"marker\":{\"symbol\":\"circle\"},\"mode\":\"lines\",\"name\":\"Accuracy\",\"orientation\":\"v\",\"showlegend\":true,\"x\":[1,2,3,4,5,6,7,8,9,10,11,12,13,14,15,16,17,18,19,20,21,22,23,24,25,26,27,28,29,30,31,32,33,34,35,36,37,38,39,40,41,42,43,44,45,46,47,48,49,50,51,52,53,54,55,56,57,58,59,60,61,62,63,64,65,66,67,68,69,70,71,72,73,74,75,76,77,78,79,80,81,82,83,84,85,86,87,88,89,90,91,92,93,94,95,96,97,98,99],\"xaxis\":\"x\",\"y\":[0.85233798195242,0.85233798195242,0.85233798195242,0.85233798195242,0.85233798195242,0.85233798195242,0.85233798195242,0.85233798195242,0.85233798195242,0.85233798195242,0.85233798195242,0.85233798195242,0.85233798195242,0.85233798195242,0.85233798195242,0.85233798195242,0.85233798195242,0.85233798195242,0.85233798195242,0.85233798195242,0.85233798195242,0.85233798195242,0.85233798195242,0.85233798195242,0.85233798195242,0.85233798195242,0.85233798195242,0.85233798195242,0.85233798195242,0.85233798195242,0.85233798195242,0.85233798195242,0.85233798195242,0.85233798195242,0.85233798195242,0.85233798195242,0.85233798195242,0.85233798195242,0.85233798195242,0.85233798195242,0.85233798195242,0.85233798195242,0.85233798195242,0.85233798195242,0.85233798195242,0.85233798195242,0.85233798195242,0.85233798195242,0.85233798195242,0.85233798195242,0.85233798195242,0.85233798195242,0.85233798195242,0.85233798195242,0.85233798195242,0.85233798195242,0.85233798195242,0.85233798195242,0.85233798195242,0.85233798195242,0.85233798195242,0.85233798195242,0.85233798195242,0.85233798195242,0.85233798195242,0.85233798195242,0.85233798195242,0.85233798195242,0.85233798195242,0.85233798195242,0.85233798195242,0.85233798195242,0.85233798195242,0.85233798195242,0.85233798195242,0.85233798195242,0.85233798195242,0.85233798195242,0.85233798195242,0.85233798195242,0.85233798195242,0.85233798195242,0.85233798195242,0.85233798195242,0.85233798195242,0.85233798195242,0.85233798195242,0.85233798195242,0.85233798195242,0.85233798195242,0.85233798195242,0.85233798195242,0.85233798195242,0.85233798195242,0.85233798195242,0.85233798195242,0.85233798195242,0.85233798195242,0.85233798195242],\"yaxis\":\"y\",\"type\":\"scatter\"},{\"hovertemplate\":\"variable=Precision\\u003cbr\\u003eK Value=%{x}\\u003cbr\\u003eMetric Value=%{y}\\u003cextra\\u003e\\u003c\\u002fextra\\u003e\",\"legendgroup\":\"Precision\",\"line\":{\"color\":\"#EF553B\",\"dash\":\"solid\"},\"marker\":{\"symbol\":\"circle\"},\"mode\":\"lines\",\"name\":\"Precision\",\"orientation\":\"v\",\"showlegend\":true,\"x\":[1,2,3,4,5,6,7,8,9,10,11,12,13,14,15,16,17,18,19,20,21,22,23,24,25,26,27,28,29,30,31,32,33,34,35,36,37,38,39,40,41,42,43,44,45,46,47,48,49,50,51,52,53,54,55,56,57,58,59,60,61,62,63,64,65,66,67,68,69,70,71,72,73,74,75,76,77,78,79,80,81,82,83,84,85,86,87,88,89,90,91,92,93,94,95,96,97,98,99],\"xaxis\":\"x\",\"y\":[0.288135593220339,0.4444444444444444,0.37373737373737376,0.4166666666666667,0.375,0.5,0.4146341463414634,0.43478260869565216,0.4864864864864865,0.5333333333333333,0.48148148148148145,0.5789473684210527,0.4230769230769231,0.5625,0.43478260869565216,0.46153846153846156,0.47368421052631576,0.6666666666666666,0.5,0.5,0.5454545454545454,0.5714285714285714,0.5555555555555556,0.8333333333333334,0.6666666666666666,0.6666666666666666,0.625,0.625,0.625,0.7142857142857143,0.7142857142857143,0.6666666666666666,0.7142857142857143,0.8,0.7142857142857143,0.75,0.8,0.75,0.8,0.8,0.8,0.8,0.8,0.8,0.8,1.0,0.75,1.0,1.0,1.0,1.0,1.0,1.0,1.0,1.0,0.0,0.0,0.0,0.0,0.0,0.0,0.0,0.0,0.0,0.0,0.0,0.0,0.0,0.0,0.0,0.0,0.0,0.0,0.0,0.0,0.0,0.0,0.0,0.0,0.0,0.0,0.0,0.0,0.0,0.0,0.0,0.0,0.0,0.0,0.0,0.0,0.0,0.0,0.0,0.0,0.0,0.0,0.0,0.0],\"yaxis\":\"y\",\"type\":\"scatter\"},{\"hovertemplate\":\"variable=Recall\\u003cbr\\u003eK Value=%{x}\\u003cbr\\u003eMetric Value=%{y}\\u003cextra\\u003e\\u003c\\u002fextra\\u003e\",\"legendgroup\":\"Recall\",\"line\":{\"color\":\"#00cc96\",\"dash\":\"solid\"},\"marker\":{\"symbol\":\"circle\"},\"mode\":\"lines\",\"name\":\"Recall\",\"orientation\":\"v\",\"showlegend\":true,\"x\":[1,2,3,4,5,6,7,8,9,10,11,12,13,14,15,16,17,18,19,20,21,22,23,24,25,26,27,28,29,30,31,32,33,34,35,36,37,38,39,40,41,42,43,44,45,46,47,48,49,50,51,52,53,54,55,56,57,58,59,60,61,62,63,64,65,66,67,68,69,70,71,72,73,74,75,76,77,78,79,80,81,82,83,84,85,86,87,88,89,90,91,92,93,94,95,96,97,98,99],\"xaxis\":\"x\",\"y\":[0.31097560975609756,0.12195121951219512,0.22560975609756098,0.09146341463414634,0.14634146341463414,0.06707317073170732,0.10365853658536585,0.06097560975609756,0.10975609756097561,0.04878048780487805,0.07926829268292683,0.06707317073170732,0.06707317073170732,0.054878048780487805,0.06097560975609756,0.036585365853658534,0.054878048780487805,0.036585365853658534,0.036585365853658534,0.024390243902439025,0.036585365853658534,0.024390243902439025,0.03048780487804878,0.03048780487804878,0.036585365853658534,0.024390243902439025,0.03048780487804878,0.03048780487804878,0.03048780487804878,0.03048780487804878,0.03048780487804878,0.024390243902439025,0.03048780487804878,0.024390243902439025,0.03048780487804878,0.018292682926829267,0.024390243902439025,0.018292682926829267,0.024390243902439025,0.024390243902439025,0.024390243902439025,0.024390243902439025,0.024390243902439025,0.024390243902439025,0.024390243902439025,0.012195121951219513,0.018292682926829267,0.018292682926829267,0.018292682926829267,0.012195121951219513,0.018292682926829267,0.006097560975609756,0.012195121951219513,0.012195121951219513,0.012195121951219513,0.0,0.0,0.0,0.0,0.0,0.0,0.0,0.0,0.0,0.0,0.0,0.0,0.0,0.0,0.0,0.0,0.0,0.0,0.0,0.0,0.0,0.0,0.0,0.0,0.0,0.0,0.0,0.0,0.0,0.0,0.0,0.0,0.0,0.0,0.0,0.0,0.0,0.0,0.0,0.0,0.0,0.0,0.0,0.0],\"yaxis\":\"y\",\"type\":\"scatter\"}],                        {\"template\":{\"data\":{\"histogram2dcontour\":[{\"type\":\"histogram2dcontour\",\"colorbar\":{\"outlinewidth\":0,\"ticks\":\"\"},\"colorscale\":[[0.0,\"#0d0887\"],[0.1111111111111111,\"#46039f\"],[0.2222222222222222,\"#7201a8\"],[0.3333333333333333,\"#9c179e\"],[0.4444444444444444,\"#bd3786\"],[0.5555555555555556,\"#d8576b\"],[0.6666666666666666,\"#ed7953\"],[0.7777777777777778,\"#fb9f3a\"],[0.8888888888888888,\"#fdca26\"],[1.0,\"#f0f921\"]]}],\"choropleth\":[{\"type\":\"choropleth\",\"colorbar\":{\"outlinewidth\":0,\"ticks\":\"\"}}],\"histogram2d\":[{\"type\":\"histogram2d\",\"colorbar\":{\"outlinewidth\":0,\"ticks\":\"\"},\"colorscale\":[[0.0,\"#0d0887\"],[0.1111111111111111,\"#46039f\"],[0.2222222222222222,\"#7201a8\"],[0.3333333333333333,\"#9c179e\"],[0.4444444444444444,\"#bd3786\"],[0.5555555555555556,\"#d8576b\"],[0.6666666666666666,\"#ed7953\"],[0.7777777777777778,\"#fb9f3a\"],[0.8888888888888888,\"#fdca26\"],[1.0,\"#f0f921\"]]}],\"heatmap\":[{\"type\":\"heatmap\",\"colorbar\":{\"outlinewidth\":0,\"ticks\":\"\"},\"colorscale\":[[0.0,\"#0d0887\"],[0.1111111111111111,\"#46039f\"],[0.2222222222222222,\"#7201a8\"],[0.3333333333333333,\"#9c179e\"],[0.4444444444444444,\"#bd3786\"],[0.5555555555555556,\"#d8576b\"],[0.6666666666666666,\"#ed7953\"],[0.7777777777777778,\"#fb9f3a\"],[0.8888888888888888,\"#fdca26\"],[1.0,\"#f0f921\"]]}],\"heatmapgl\":[{\"type\":\"heatmapgl\",\"colorbar\":{\"outlinewidth\":0,\"ticks\":\"\"},\"colorscale\":[[0.0,\"#0d0887\"],[0.1111111111111111,\"#46039f\"],[0.2222222222222222,\"#7201a8\"],[0.3333333333333333,\"#9c179e\"],[0.4444444444444444,\"#bd3786\"],[0.5555555555555556,\"#d8576b\"],[0.6666666666666666,\"#ed7953\"],[0.7777777777777778,\"#fb9f3a\"],[0.8888888888888888,\"#fdca26\"],[1.0,\"#f0f921\"]]}],\"contourcarpet\":[{\"type\":\"contourcarpet\",\"colorbar\":{\"outlinewidth\":0,\"ticks\":\"\"}}],\"contour\":[{\"type\":\"contour\",\"colorbar\":{\"outlinewidth\":0,\"ticks\":\"\"},\"colorscale\":[[0.0,\"#0d0887\"],[0.1111111111111111,\"#46039f\"],[0.2222222222222222,\"#7201a8\"],[0.3333333333333333,\"#9c179e\"],[0.4444444444444444,\"#bd3786\"],[0.5555555555555556,\"#d8576b\"],[0.6666666666666666,\"#ed7953\"],[0.7777777777777778,\"#fb9f3a\"],[0.8888888888888888,\"#fdca26\"],[1.0,\"#f0f921\"]]}],\"surface\":[{\"type\":\"surface\",\"colorbar\":{\"outlinewidth\":0,\"ticks\":\"\"},\"colorscale\":[[0.0,\"#0d0887\"],[0.1111111111111111,\"#46039f\"],[0.2222222222222222,\"#7201a8\"],[0.3333333333333333,\"#9c179e\"],[0.4444444444444444,\"#bd3786\"],[0.5555555555555556,\"#d8576b\"],[0.6666666666666666,\"#ed7953\"],[0.7777777777777778,\"#fb9f3a\"],[0.8888888888888888,\"#fdca26\"],[1.0,\"#f0f921\"]]}],\"mesh3d\":[{\"type\":\"mesh3d\",\"colorbar\":{\"outlinewidth\":0,\"ticks\":\"\"}}],\"scatter\":[{\"fillpattern\":{\"fillmode\":\"overlay\",\"size\":10,\"solidity\":0.2},\"type\":\"scatter\"}],\"parcoords\":[{\"type\":\"parcoords\",\"line\":{\"colorbar\":{\"outlinewidth\":0,\"ticks\":\"\"}}}],\"scatterpolargl\":[{\"type\":\"scatterpolargl\",\"marker\":{\"colorbar\":{\"outlinewidth\":0,\"ticks\":\"\"}}}],\"bar\":[{\"error_x\":{\"color\":\"#2a3f5f\"},\"error_y\":{\"color\":\"#2a3f5f\"},\"marker\":{\"line\":{\"color\":\"#E5ECF6\",\"width\":0.5},\"pattern\":{\"fillmode\":\"overlay\",\"size\":10,\"solidity\":0.2}},\"type\":\"bar\"}],\"scattergeo\":[{\"type\":\"scattergeo\",\"marker\":{\"colorbar\":{\"outlinewidth\":0,\"ticks\":\"\"}}}],\"scatterpolar\":[{\"type\":\"scatterpolar\",\"marker\":{\"colorbar\":{\"outlinewidth\":0,\"ticks\":\"\"}}}],\"histogram\":[{\"marker\":{\"pattern\":{\"fillmode\":\"overlay\",\"size\":10,\"solidity\":0.2}},\"type\":\"histogram\"}],\"scattergl\":[{\"type\":\"scattergl\",\"marker\":{\"colorbar\":{\"outlinewidth\":0,\"ticks\":\"\"}}}],\"scatter3d\":[{\"type\":\"scatter3d\",\"line\":{\"colorbar\":{\"outlinewidth\":0,\"ticks\":\"\"}},\"marker\":{\"colorbar\":{\"outlinewidth\":0,\"ticks\":\"\"}}}],\"scattermapbox\":[{\"type\":\"scattermapbox\",\"marker\":{\"colorbar\":{\"outlinewidth\":0,\"ticks\":\"\"}}}],\"scatterternary\":[{\"type\":\"scatterternary\",\"marker\":{\"colorbar\":{\"outlinewidth\":0,\"ticks\":\"\"}}}],\"scattercarpet\":[{\"type\":\"scattercarpet\",\"marker\":{\"colorbar\":{\"outlinewidth\":0,\"ticks\":\"\"}}}],\"carpet\":[{\"aaxis\":{\"endlinecolor\":\"#2a3f5f\",\"gridcolor\":\"white\",\"linecolor\":\"white\",\"minorgridcolor\":\"white\",\"startlinecolor\":\"#2a3f5f\"},\"baxis\":{\"endlinecolor\":\"#2a3f5f\",\"gridcolor\":\"white\",\"linecolor\":\"white\",\"minorgridcolor\":\"white\",\"startlinecolor\":\"#2a3f5f\"},\"type\":\"carpet\"}],\"table\":[{\"cells\":{\"fill\":{\"color\":\"#EBF0F8\"},\"line\":{\"color\":\"white\"}},\"header\":{\"fill\":{\"color\":\"#C8D4E3\"},\"line\":{\"color\":\"white\"}},\"type\":\"table\"}],\"barpolar\":[{\"marker\":{\"line\":{\"color\":\"#E5ECF6\",\"width\":0.5},\"pattern\":{\"fillmode\":\"overlay\",\"size\":10,\"solidity\":0.2}},\"type\":\"barpolar\"}],\"pie\":[{\"automargin\":true,\"type\":\"pie\"}]},\"layout\":{\"autotypenumbers\":\"strict\",\"colorway\":[\"#636efa\",\"#EF553B\",\"#00cc96\",\"#ab63fa\",\"#FFA15A\",\"#19d3f3\",\"#FF6692\",\"#B6E880\",\"#FF97FF\",\"#FECB52\"],\"font\":{\"color\":\"#2a3f5f\"},\"hovermode\":\"closest\",\"hoverlabel\":{\"align\":\"left\"},\"paper_bgcolor\":\"white\",\"plot_bgcolor\":\"#E5ECF6\",\"polar\":{\"bgcolor\":\"#E5ECF6\",\"angularaxis\":{\"gridcolor\":\"white\",\"linecolor\":\"white\",\"ticks\":\"\"},\"radialaxis\":{\"gridcolor\":\"white\",\"linecolor\":\"white\",\"ticks\":\"\"}},\"ternary\":{\"bgcolor\":\"#E5ECF6\",\"aaxis\":{\"gridcolor\":\"white\",\"linecolor\":\"white\",\"ticks\":\"\"},\"baxis\":{\"gridcolor\":\"white\",\"linecolor\":\"white\",\"ticks\":\"\"},\"caxis\":{\"gridcolor\":\"white\",\"linecolor\":\"white\",\"ticks\":\"\"}},\"coloraxis\":{\"colorbar\":{\"outlinewidth\":0,\"ticks\":\"\"}},\"colorscale\":{\"sequential\":[[0.0,\"#0d0887\"],[0.1111111111111111,\"#46039f\"],[0.2222222222222222,\"#7201a8\"],[0.3333333333333333,\"#9c179e\"],[0.4444444444444444,\"#bd3786\"],[0.5555555555555556,\"#d8576b\"],[0.6666666666666666,\"#ed7953\"],[0.7777777777777778,\"#fb9f3a\"],[0.8888888888888888,\"#fdca26\"],[1.0,\"#f0f921\"]],\"sequentialminus\":[[0.0,\"#0d0887\"],[0.1111111111111111,\"#46039f\"],[0.2222222222222222,\"#7201a8\"],[0.3333333333333333,\"#9c179e\"],[0.4444444444444444,\"#bd3786\"],[0.5555555555555556,\"#d8576b\"],[0.6666666666666666,\"#ed7953\"],[0.7777777777777778,\"#fb9f3a\"],[0.8888888888888888,\"#fdca26\"],[1.0,\"#f0f921\"]],\"diverging\":[[0,\"#8e0152\"],[0.1,\"#c51b7d\"],[0.2,\"#de77ae\"],[0.3,\"#f1b6da\"],[0.4,\"#fde0ef\"],[0.5,\"#f7f7f7\"],[0.6,\"#e6f5d0\"],[0.7,\"#b8e186\"],[0.8,\"#7fbc41\"],[0.9,\"#4d9221\"],[1,\"#276419\"]]},\"xaxis\":{\"gridcolor\":\"white\",\"linecolor\":\"white\",\"ticks\":\"\",\"title\":{\"standoff\":15},\"zerolinecolor\":\"white\",\"automargin\":true,\"zerolinewidth\":2},\"yaxis\":{\"gridcolor\":\"white\",\"linecolor\":\"white\",\"ticks\":\"\",\"title\":{\"standoff\":15},\"zerolinecolor\":\"white\",\"automargin\":true,\"zerolinewidth\":2},\"scene\":{\"xaxis\":{\"backgroundcolor\":\"#E5ECF6\",\"gridcolor\":\"white\",\"linecolor\":\"white\",\"showbackground\":true,\"ticks\":\"\",\"zerolinecolor\":\"white\",\"gridwidth\":2},\"yaxis\":{\"backgroundcolor\":\"#E5ECF6\",\"gridcolor\":\"white\",\"linecolor\":\"white\",\"showbackground\":true,\"ticks\":\"\",\"zerolinecolor\":\"white\",\"gridwidth\":2},\"zaxis\":{\"backgroundcolor\":\"#E5ECF6\",\"gridcolor\":\"white\",\"linecolor\":\"white\",\"showbackground\":true,\"ticks\":\"\",\"zerolinecolor\":\"white\",\"gridwidth\":2}},\"shapedefaults\":{\"line\":{\"color\":\"#2a3f5f\"}},\"annotationdefaults\":{\"arrowcolor\":\"#2a3f5f\",\"arrowhead\":0,\"arrowwidth\":1},\"geo\":{\"bgcolor\":\"white\",\"landcolor\":\"#E5ECF6\",\"subunitcolor\":\"white\",\"showland\":true,\"showlakes\":true,\"lakecolor\":\"white\"},\"title\":{\"x\":0.05},\"mapbox\":{\"style\":\"light\"}}},\"xaxis\":{\"anchor\":\"y\",\"domain\":[0.0,1.0],\"title\":{\"text\":\"K Value\"},\"rangeslider\":{\"visible\":true},\"type\":\"linear\"},\"yaxis\":{\"anchor\":\"x\",\"domain\":[0.0,1.0],\"title\":{\"text\":\"Metric Value\"}},\"legend\":{\"title\":{\"text\":\"variable\"},\"tracegroupgap\":0},\"title\":{\"text\":\"Metrics vs K Value (Line Plot)\"},\"height\":800},                        {\"responsive\": true}                    ).then(function(){\n",
       "                            \n",
       "var gd = document.getElementById('00019c1d-c7dc-432a-9d86-bc3c007ec11b');\n",
       "var x = new MutationObserver(function (mutations, observer) {{\n",
       "        var display = window.getComputedStyle(gd).display;\n",
       "        if (!display || display === 'none') {{\n",
       "            console.log([gd, 'removed!']);\n",
       "            Plotly.purge(gd);\n",
       "            observer.disconnect();\n",
       "        }}\n",
       "}});\n",
       "\n",
       "// Listen for the removal of the full notebook cells\n",
       "var notebookContainer = gd.closest('#notebook-container');\n",
       "if (notebookContainer) {{\n",
       "    x.observe(notebookContainer, {childList: true});\n",
       "}}\n",
       "\n",
       "// Listen for the clearing of the current output cell\n",
       "var outputEl = gd.closest('.output');\n",
       "if (outputEl) {{\n",
       "    x.observe(outputEl, {childList: true});\n",
       "}}\n",
       "\n",
       "                        })                };                });            </script>        </div>"
      ]
     },
     "metadata": {},
     "output_type": "display_data"
    }
   ],
   "source": [
    "# Import plotly express for visualization\n",
    "import plotly.express as px\n",
    "import plotly.graph_objects as go\n",
    "\n",
    "# Create line plot for Accuracy, Precision, and Recall\n",
    "fig_line = px.line(metrics_df, x='K', y=['Accuracy', 'Precision', 'Recall'],\n",
    "                   title='Metrics vs K Value (Line Plot)',\n",
    "                   labels={'value': 'Metric Value', 'K': 'K Value'}, height=800)\n",
    "\n",
    "# Create the slider for changing K value in both plots\n",
    "fig_line.update_layout(\n",
    "    xaxis=dict(\n",
    "        rangeslider=dict(visible=True),\n",
    "        type=\"linear\"\n",
    "    )\n",
    ")\n",
    "\n",
    "\n",
    "# Show both plots\n",
    "fig_line.show()"
   ]
  },
  {
   "cell_type": "code",
   "execution_count": 16,
   "id": "de3d0a81-d73c-4a78-aae5-63cff2b1817e",
   "metadata": {
    "tags": []
   },
   "outputs": [
    {
     "data": {
      "application/vnd.plotly.v1+json": {
       "config": {
        "plotlyServerURL": "https://plot.ly"
       },
       "data": [
        {
         "alignmentgroup": "True",
         "hovertemplate": "K=99<br>Metric=%{x}<br>Metric Value=%{y}<extra></extra>",
         "legendgroup": "",
         "marker": {
          "color": "#636efa",
          "pattern": {
           "shape": ""
          }
         },
         "name": "",
         "offsetgroup": "",
         "orientation": "v",
         "showlegend": false,
         "textposition": "auto",
         "type": "bar",
         "x": [
          "Accuracy",
          "Precision",
          "Recall"
         ],
         "xaxis": "x",
         "y": [
          0.85233798195242,
          0,
          0
         ],
         "yaxis": "y"
        }
       ],
       "frames": [
        {
         "data": [
          {
           "alignmentgroup": "True",
           "hovertemplate": "K=1<br>Metric=%{x}<br>Metric Value=%{y}<extra></extra>",
           "legendgroup": "",
           "marker": {
            "color": "#636efa",
            "pattern": {
             "shape": ""
            }
           },
           "name": "",
           "offsetgroup": "",
           "orientation": "v",
           "showlegend": false,
           "textposition": "auto",
           "type": "bar",
           "x": [
            "Accuracy",
            "Precision",
            "Recall"
           ],
           "xaxis": "x",
           "y": [
            0.85233798195242,
            0.288135593220339,
            0.31097560975609756
           ],
           "yaxis": "y"
          }
         ],
         "name": "1"
        },
        {
         "data": [
          {
           "alignmentgroup": "True",
           "hovertemplate": "K=2<br>Metric=%{x}<br>Metric Value=%{y}<extra></extra>",
           "legendgroup": "",
           "marker": {
            "color": "#636efa",
            "pattern": {
             "shape": ""
            }
           },
           "name": "",
           "offsetgroup": "",
           "orientation": "v",
           "showlegend": false,
           "textposition": "auto",
           "type": "bar",
           "x": [
            "Accuracy",
            "Precision",
            "Recall"
           ],
           "xaxis": "x",
           "y": [
            0.85233798195242,
            0.4444444444444444,
            0.12195121951219512
           ],
           "yaxis": "y"
          }
         ],
         "name": "2"
        },
        {
         "data": [
          {
           "alignmentgroup": "True",
           "hovertemplate": "K=3<br>Metric=%{x}<br>Metric Value=%{y}<extra></extra>",
           "legendgroup": "",
           "marker": {
            "color": "#636efa",
            "pattern": {
             "shape": ""
            }
           },
           "name": "",
           "offsetgroup": "",
           "orientation": "v",
           "showlegend": false,
           "textposition": "auto",
           "type": "bar",
           "x": [
            "Accuracy",
            "Precision",
            "Recall"
           ],
           "xaxis": "x",
           "y": [
            0.85233798195242,
            0.37373737373737376,
            0.22560975609756098
           ],
           "yaxis": "y"
          }
         ],
         "name": "3"
        },
        {
         "data": [
          {
           "alignmentgroup": "True",
           "hovertemplate": "K=4<br>Metric=%{x}<br>Metric Value=%{y}<extra></extra>",
           "legendgroup": "",
           "marker": {
            "color": "#636efa",
            "pattern": {
             "shape": ""
            }
           },
           "name": "",
           "offsetgroup": "",
           "orientation": "v",
           "showlegend": false,
           "textposition": "auto",
           "type": "bar",
           "x": [
            "Accuracy",
            "Precision",
            "Recall"
           ],
           "xaxis": "x",
           "y": [
            0.85233798195242,
            0.4166666666666667,
            0.09146341463414634
           ],
           "yaxis": "y"
          }
         ],
         "name": "4"
        },
        {
         "data": [
          {
           "alignmentgroup": "True",
           "hovertemplate": "K=5<br>Metric=%{x}<br>Metric Value=%{y}<extra></extra>",
           "legendgroup": "",
           "marker": {
            "color": "#636efa",
            "pattern": {
             "shape": ""
            }
           },
           "name": "",
           "offsetgroup": "",
           "orientation": "v",
           "showlegend": false,
           "textposition": "auto",
           "type": "bar",
           "x": [
            "Accuracy",
            "Precision",
            "Recall"
           ],
           "xaxis": "x",
           "y": [
            0.85233798195242,
            0.375,
            0.14634146341463414
           ],
           "yaxis": "y"
          }
         ],
         "name": "5"
        },
        {
         "data": [
          {
           "alignmentgroup": "True",
           "hovertemplate": "K=6<br>Metric=%{x}<br>Metric Value=%{y}<extra></extra>",
           "legendgroup": "",
           "marker": {
            "color": "#636efa",
            "pattern": {
             "shape": ""
            }
           },
           "name": "",
           "offsetgroup": "",
           "orientation": "v",
           "showlegend": false,
           "textposition": "auto",
           "type": "bar",
           "x": [
            "Accuracy",
            "Precision",
            "Recall"
           ],
           "xaxis": "x",
           "y": [
            0.85233798195242,
            0.5,
            0.06707317073170732
           ],
           "yaxis": "y"
          }
         ],
         "name": "6"
        },
        {
         "data": [
          {
           "alignmentgroup": "True",
           "hovertemplate": "K=7<br>Metric=%{x}<br>Metric Value=%{y}<extra></extra>",
           "legendgroup": "",
           "marker": {
            "color": "#636efa",
            "pattern": {
             "shape": ""
            }
           },
           "name": "",
           "offsetgroup": "",
           "orientation": "v",
           "showlegend": false,
           "textposition": "auto",
           "type": "bar",
           "x": [
            "Accuracy",
            "Precision",
            "Recall"
           ],
           "xaxis": "x",
           "y": [
            0.85233798195242,
            0.4146341463414634,
            0.10365853658536585
           ],
           "yaxis": "y"
          }
         ],
         "name": "7"
        },
        {
         "data": [
          {
           "alignmentgroup": "True",
           "hovertemplate": "K=8<br>Metric=%{x}<br>Metric Value=%{y}<extra></extra>",
           "legendgroup": "",
           "marker": {
            "color": "#636efa",
            "pattern": {
             "shape": ""
            }
           },
           "name": "",
           "offsetgroup": "",
           "orientation": "v",
           "showlegend": false,
           "textposition": "auto",
           "type": "bar",
           "x": [
            "Accuracy",
            "Precision",
            "Recall"
           ],
           "xaxis": "x",
           "y": [
            0.85233798195242,
            0.43478260869565216,
            0.06097560975609756
           ],
           "yaxis": "y"
          }
         ],
         "name": "8"
        },
        {
         "data": [
          {
           "alignmentgroup": "True",
           "hovertemplate": "K=9<br>Metric=%{x}<br>Metric Value=%{y}<extra></extra>",
           "legendgroup": "",
           "marker": {
            "color": "#636efa",
            "pattern": {
             "shape": ""
            }
           },
           "name": "",
           "offsetgroup": "",
           "orientation": "v",
           "showlegend": false,
           "textposition": "auto",
           "type": "bar",
           "x": [
            "Accuracy",
            "Precision",
            "Recall"
           ],
           "xaxis": "x",
           "y": [
            0.85233798195242,
            0.4864864864864865,
            0.10975609756097561
           ],
           "yaxis": "y"
          }
         ],
         "name": "9"
        },
        {
         "data": [
          {
           "alignmentgroup": "True",
           "hovertemplate": "K=10<br>Metric=%{x}<br>Metric Value=%{y}<extra></extra>",
           "legendgroup": "",
           "marker": {
            "color": "#636efa",
            "pattern": {
             "shape": ""
            }
           },
           "name": "",
           "offsetgroup": "",
           "orientation": "v",
           "showlegend": false,
           "textposition": "auto",
           "type": "bar",
           "x": [
            "Accuracy",
            "Precision",
            "Recall"
           ],
           "xaxis": "x",
           "y": [
            0.85233798195242,
            0.5333333333333333,
            0.04878048780487805
           ],
           "yaxis": "y"
          }
         ],
         "name": "10"
        },
        {
         "data": [
          {
           "alignmentgroup": "True",
           "hovertemplate": "K=11<br>Metric=%{x}<br>Metric Value=%{y}<extra></extra>",
           "legendgroup": "",
           "marker": {
            "color": "#636efa",
            "pattern": {
             "shape": ""
            }
           },
           "name": "",
           "offsetgroup": "",
           "orientation": "v",
           "showlegend": false,
           "textposition": "auto",
           "type": "bar",
           "x": [
            "Accuracy",
            "Precision",
            "Recall"
           ],
           "xaxis": "x",
           "y": [
            0.85233798195242,
            0.48148148148148145,
            0.07926829268292683
           ],
           "yaxis": "y"
          }
         ],
         "name": "11"
        },
        {
         "data": [
          {
           "alignmentgroup": "True",
           "hovertemplate": "K=12<br>Metric=%{x}<br>Metric Value=%{y}<extra></extra>",
           "legendgroup": "",
           "marker": {
            "color": "#636efa",
            "pattern": {
             "shape": ""
            }
           },
           "name": "",
           "offsetgroup": "",
           "orientation": "v",
           "showlegend": false,
           "textposition": "auto",
           "type": "bar",
           "x": [
            "Accuracy",
            "Precision",
            "Recall"
           ],
           "xaxis": "x",
           "y": [
            0.85233798195242,
            0.5789473684210527,
            0.06707317073170732
           ],
           "yaxis": "y"
          }
         ],
         "name": "12"
        },
        {
         "data": [
          {
           "alignmentgroup": "True",
           "hovertemplate": "K=13<br>Metric=%{x}<br>Metric Value=%{y}<extra></extra>",
           "legendgroup": "",
           "marker": {
            "color": "#636efa",
            "pattern": {
             "shape": ""
            }
           },
           "name": "",
           "offsetgroup": "",
           "orientation": "v",
           "showlegend": false,
           "textposition": "auto",
           "type": "bar",
           "x": [
            "Accuracy",
            "Precision",
            "Recall"
           ],
           "xaxis": "x",
           "y": [
            0.85233798195242,
            0.4230769230769231,
            0.06707317073170732
           ],
           "yaxis": "y"
          }
         ],
         "name": "13"
        },
        {
         "data": [
          {
           "alignmentgroup": "True",
           "hovertemplate": "K=14<br>Metric=%{x}<br>Metric Value=%{y}<extra></extra>",
           "legendgroup": "",
           "marker": {
            "color": "#636efa",
            "pattern": {
             "shape": ""
            }
           },
           "name": "",
           "offsetgroup": "",
           "orientation": "v",
           "showlegend": false,
           "textposition": "auto",
           "type": "bar",
           "x": [
            "Accuracy",
            "Precision",
            "Recall"
           ],
           "xaxis": "x",
           "y": [
            0.85233798195242,
            0.5625,
            0.054878048780487805
           ],
           "yaxis": "y"
          }
         ],
         "name": "14"
        },
        {
         "data": [
          {
           "alignmentgroup": "True",
           "hovertemplate": "K=15<br>Metric=%{x}<br>Metric Value=%{y}<extra></extra>",
           "legendgroup": "",
           "marker": {
            "color": "#636efa",
            "pattern": {
             "shape": ""
            }
           },
           "name": "",
           "offsetgroup": "",
           "orientation": "v",
           "showlegend": false,
           "textposition": "auto",
           "type": "bar",
           "x": [
            "Accuracy",
            "Precision",
            "Recall"
           ],
           "xaxis": "x",
           "y": [
            0.85233798195242,
            0.43478260869565216,
            0.06097560975609756
           ],
           "yaxis": "y"
          }
         ],
         "name": "15"
        },
        {
         "data": [
          {
           "alignmentgroup": "True",
           "hovertemplate": "K=16<br>Metric=%{x}<br>Metric Value=%{y}<extra></extra>",
           "legendgroup": "",
           "marker": {
            "color": "#636efa",
            "pattern": {
             "shape": ""
            }
           },
           "name": "",
           "offsetgroup": "",
           "orientation": "v",
           "showlegend": false,
           "textposition": "auto",
           "type": "bar",
           "x": [
            "Accuracy",
            "Precision",
            "Recall"
           ],
           "xaxis": "x",
           "y": [
            0.85233798195242,
            0.46153846153846156,
            0.036585365853658534
           ],
           "yaxis": "y"
          }
         ],
         "name": "16"
        },
        {
         "data": [
          {
           "alignmentgroup": "True",
           "hovertemplate": "K=17<br>Metric=%{x}<br>Metric Value=%{y}<extra></extra>",
           "legendgroup": "",
           "marker": {
            "color": "#636efa",
            "pattern": {
             "shape": ""
            }
           },
           "name": "",
           "offsetgroup": "",
           "orientation": "v",
           "showlegend": false,
           "textposition": "auto",
           "type": "bar",
           "x": [
            "Accuracy",
            "Precision",
            "Recall"
           ],
           "xaxis": "x",
           "y": [
            0.85233798195242,
            0.47368421052631576,
            0.054878048780487805
           ],
           "yaxis": "y"
          }
         ],
         "name": "17"
        },
        {
         "data": [
          {
           "alignmentgroup": "True",
           "hovertemplate": "K=18<br>Metric=%{x}<br>Metric Value=%{y}<extra></extra>",
           "legendgroup": "",
           "marker": {
            "color": "#636efa",
            "pattern": {
             "shape": ""
            }
           },
           "name": "",
           "offsetgroup": "",
           "orientation": "v",
           "showlegend": false,
           "textposition": "auto",
           "type": "bar",
           "x": [
            "Accuracy",
            "Precision",
            "Recall"
           ],
           "xaxis": "x",
           "y": [
            0.85233798195242,
            0.6666666666666666,
            0.036585365853658534
           ],
           "yaxis": "y"
          }
         ],
         "name": "18"
        },
        {
         "data": [
          {
           "alignmentgroup": "True",
           "hovertemplate": "K=19<br>Metric=%{x}<br>Metric Value=%{y}<extra></extra>",
           "legendgroup": "",
           "marker": {
            "color": "#636efa",
            "pattern": {
             "shape": ""
            }
           },
           "name": "",
           "offsetgroup": "",
           "orientation": "v",
           "showlegend": false,
           "textposition": "auto",
           "type": "bar",
           "x": [
            "Accuracy",
            "Precision",
            "Recall"
           ],
           "xaxis": "x",
           "y": [
            0.85233798195242,
            0.5,
            0.036585365853658534
           ],
           "yaxis": "y"
          }
         ],
         "name": "19"
        },
        {
         "data": [
          {
           "alignmentgroup": "True",
           "hovertemplate": "K=20<br>Metric=%{x}<br>Metric Value=%{y}<extra></extra>",
           "legendgroup": "",
           "marker": {
            "color": "#636efa",
            "pattern": {
             "shape": ""
            }
           },
           "name": "",
           "offsetgroup": "",
           "orientation": "v",
           "showlegend": false,
           "textposition": "auto",
           "type": "bar",
           "x": [
            "Accuracy",
            "Precision",
            "Recall"
           ],
           "xaxis": "x",
           "y": [
            0.85233798195242,
            0.5,
            0.024390243902439025
           ],
           "yaxis": "y"
          }
         ],
         "name": "20"
        },
        {
         "data": [
          {
           "alignmentgroup": "True",
           "hovertemplate": "K=21<br>Metric=%{x}<br>Metric Value=%{y}<extra></extra>",
           "legendgroup": "",
           "marker": {
            "color": "#636efa",
            "pattern": {
             "shape": ""
            }
           },
           "name": "",
           "offsetgroup": "",
           "orientation": "v",
           "showlegend": false,
           "textposition": "auto",
           "type": "bar",
           "x": [
            "Accuracy",
            "Precision",
            "Recall"
           ],
           "xaxis": "x",
           "y": [
            0.85233798195242,
            0.5454545454545454,
            0.036585365853658534
           ],
           "yaxis": "y"
          }
         ],
         "name": "21"
        },
        {
         "data": [
          {
           "alignmentgroup": "True",
           "hovertemplate": "K=22<br>Metric=%{x}<br>Metric Value=%{y}<extra></extra>",
           "legendgroup": "",
           "marker": {
            "color": "#636efa",
            "pattern": {
             "shape": ""
            }
           },
           "name": "",
           "offsetgroup": "",
           "orientation": "v",
           "showlegend": false,
           "textposition": "auto",
           "type": "bar",
           "x": [
            "Accuracy",
            "Precision",
            "Recall"
           ],
           "xaxis": "x",
           "y": [
            0.85233798195242,
            0.5714285714285714,
            0.024390243902439025
           ],
           "yaxis": "y"
          }
         ],
         "name": "22"
        },
        {
         "data": [
          {
           "alignmentgroup": "True",
           "hovertemplate": "K=23<br>Metric=%{x}<br>Metric Value=%{y}<extra></extra>",
           "legendgroup": "",
           "marker": {
            "color": "#636efa",
            "pattern": {
             "shape": ""
            }
           },
           "name": "",
           "offsetgroup": "",
           "orientation": "v",
           "showlegend": false,
           "textposition": "auto",
           "type": "bar",
           "x": [
            "Accuracy",
            "Precision",
            "Recall"
           ],
           "xaxis": "x",
           "y": [
            0.85233798195242,
            0.5555555555555556,
            0.03048780487804878
           ],
           "yaxis": "y"
          }
         ],
         "name": "23"
        },
        {
         "data": [
          {
           "alignmentgroup": "True",
           "hovertemplate": "K=24<br>Metric=%{x}<br>Metric Value=%{y}<extra></extra>",
           "legendgroup": "",
           "marker": {
            "color": "#636efa",
            "pattern": {
             "shape": ""
            }
           },
           "name": "",
           "offsetgroup": "",
           "orientation": "v",
           "showlegend": false,
           "textposition": "auto",
           "type": "bar",
           "x": [
            "Accuracy",
            "Precision",
            "Recall"
           ],
           "xaxis": "x",
           "y": [
            0.85233798195242,
            0.8333333333333334,
            0.03048780487804878
           ],
           "yaxis": "y"
          }
         ],
         "name": "24"
        },
        {
         "data": [
          {
           "alignmentgroup": "True",
           "hovertemplate": "K=25<br>Metric=%{x}<br>Metric Value=%{y}<extra></extra>",
           "legendgroup": "",
           "marker": {
            "color": "#636efa",
            "pattern": {
             "shape": ""
            }
           },
           "name": "",
           "offsetgroup": "",
           "orientation": "v",
           "showlegend": false,
           "textposition": "auto",
           "type": "bar",
           "x": [
            "Accuracy",
            "Precision",
            "Recall"
           ],
           "xaxis": "x",
           "y": [
            0.85233798195242,
            0.6666666666666666,
            0.036585365853658534
           ],
           "yaxis": "y"
          }
         ],
         "name": "25"
        },
        {
         "data": [
          {
           "alignmentgroup": "True",
           "hovertemplate": "K=26<br>Metric=%{x}<br>Metric Value=%{y}<extra></extra>",
           "legendgroup": "",
           "marker": {
            "color": "#636efa",
            "pattern": {
             "shape": ""
            }
           },
           "name": "",
           "offsetgroup": "",
           "orientation": "v",
           "showlegend": false,
           "textposition": "auto",
           "type": "bar",
           "x": [
            "Accuracy",
            "Precision",
            "Recall"
           ],
           "xaxis": "x",
           "y": [
            0.85233798195242,
            0.6666666666666666,
            0.024390243902439025
           ],
           "yaxis": "y"
          }
         ],
         "name": "26"
        },
        {
         "data": [
          {
           "alignmentgroup": "True",
           "hovertemplate": "K=27<br>Metric=%{x}<br>Metric Value=%{y}<extra></extra>",
           "legendgroup": "",
           "marker": {
            "color": "#636efa",
            "pattern": {
             "shape": ""
            }
           },
           "name": "",
           "offsetgroup": "",
           "orientation": "v",
           "showlegend": false,
           "textposition": "auto",
           "type": "bar",
           "x": [
            "Accuracy",
            "Precision",
            "Recall"
           ],
           "xaxis": "x",
           "y": [
            0.85233798195242,
            0.625,
            0.03048780487804878
           ],
           "yaxis": "y"
          }
         ],
         "name": "27"
        },
        {
         "data": [
          {
           "alignmentgroup": "True",
           "hovertemplate": "K=28<br>Metric=%{x}<br>Metric Value=%{y}<extra></extra>",
           "legendgroup": "",
           "marker": {
            "color": "#636efa",
            "pattern": {
             "shape": ""
            }
           },
           "name": "",
           "offsetgroup": "",
           "orientation": "v",
           "showlegend": false,
           "textposition": "auto",
           "type": "bar",
           "x": [
            "Accuracy",
            "Precision",
            "Recall"
           ],
           "xaxis": "x",
           "y": [
            0.85233798195242,
            0.625,
            0.03048780487804878
           ],
           "yaxis": "y"
          }
         ],
         "name": "28"
        },
        {
         "data": [
          {
           "alignmentgroup": "True",
           "hovertemplate": "K=29<br>Metric=%{x}<br>Metric Value=%{y}<extra></extra>",
           "legendgroup": "",
           "marker": {
            "color": "#636efa",
            "pattern": {
             "shape": ""
            }
           },
           "name": "",
           "offsetgroup": "",
           "orientation": "v",
           "showlegend": false,
           "textposition": "auto",
           "type": "bar",
           "x": [
            "Accuracy",
            "Precision",
            "Recall"
           ],
           "xaxis": "x",
           "y": [
            0.85233798195242,
            0.625,
            0.03048780487804878
           ],
           "yaxis": "y"
          }
         ],
         "name": "29"
        },
        {
         "data": [
          {
           "alignmentgroup": "True",
           "hovertemplate": "K=30<br>Metric=%{x}<br>Metric Value=%{y}<extra></extra>",
           "legendgroup": "",
           "marker": {
            "color": "#636efa",
            "pattern": {
             "shape": ""
            }
           },
           "name": "",
           "offsetgroup": "",
           "orientation": "v",
           "showlegend": false,
           "textposition": "auto",
           "type": "bar",
           "x": [
            "Accuracy",
            "Precision",
            "Recall"
           ],
           "xaxis": "x",
           "y": [
            0.85233798195242,
            0.7142857142857143,
            0.03048780487804878
           ],
           "yaxis": "y"
          }
         ],
         "name": "30"
        },
        {
         "data": [
          {
           "alignmentgroup": "True",
           "hovertemplate": "K=31<br>Metric=%{x}<br>Metric Value=%{y}<extra></extra>",
           "legendgroup": "",
           "marker": {
            "color": "#636efa",
            "pattern": {
             "shape": ""
            }
           },
           "name": "",
           "offsetgroup": "",
           "orientation": "v",
           "showlegend": false,
           "textposition": "auto",
           "type": "bar",
           "x": [
            "Accuracy",
            "Precision",
            "Recall"
           ],
           "xaxis": "x",
           "y": [
            0.85233798195242,
            0.7142857142857143,
            0.03048780487804878
           ],
           "yaxis": "y"
          }
         ],
         "name": "31"
        },
        {
         "data": [
          {
           "alignmentgroup": "True",
           "hovertemplate": "K=32<br>Metric=%{x}<br>Metric Value=%{y}<extra></extra>",
           "legendgroup": "",
           "marker": {
            "color": "#636efa",
            "pattern": {
             "shape": ""
            }
           },
           "name": "",
           "offsetgroup": "",
           "orientation": "v",
           "showlegend": false,
           "textposition": "auto",
           "type": "bar",
           "x": [
            "Accuracy",
            "Precision",
            "Recall"
           ],
           "xaxis": "x",
           "y": [
            0.85233798195242,
            0.6666666666666666,
            0.024390243902439025
           ],
           "yaxis": "y"
          }
         ],
         "name": "32"
        },
        {
         "data": [
          {
           "alignmentgroup": "True",
           "hovertemplate": "K=33<br>Metric=%{x}<br>Metric Value=%{y}<extra></extra>",
           "legendgroup": "",
           "marker": {
            "color": "#636efa",
            "pattern": {
             "shape": ""
            }
           },
           "name": "",
           "offsetgroup": "",
           "orientation": "v",
           "showlegend": false,
           "textposition": "auto",
           "type": "bar",
           "x": [
            "Accuracy",
            "Precision",
            "Recall"
           ],
           "xaxis": "x",
           "y": [
            0.85233798195242,
            0.7142857142857143,
            0.03048780487804878
           ],
           "yaxis": "y"
          }
         ],
         "name": "33"
        },
        {
         "data": [
          {
           "alignmentgroup": "True",
           "hovertemplate": "K=34<br>Metric=%{x}<br>Metric Value=%{y}<extra></extra>",
           "legendgroup": "",
           "marker": {
            "color": "#636efa",
            "pattern": {
             "shape": ""
            }
           },
           "name": "",
           "offsetgroup": "",
           "orientation": "v",
           "showlegend": false,
           "textposition": "auto",
           "type": "bar",
           "x": [
            "Accuracy",
            "Precision",
            "Recall"
           ],
           "xaxis": "x",
           "y": [
            0.85233798195242,
            0.8,
            0.024390243902439025
           ],
           "yaxis": "y"
          }
         ],
         "name": "34"
        },
        {
         "data": [
          {
           "alignmentgroup": "True",
           "hovertemplate": "K=35<br>Metric=%{x}<br>Metric Value=%{y}<extra></extra>",
           "legendgroup": "",
           "marker": {
            "color": "#636efa",
            "pattern": {
             "shape": ""
            }
           },
           "name": "",
           "offsetgroup": "",
           "orientation": "v",
           "showlegend": false,
           "textposition": "auto",
           "type": "bar",
           "x": [
            "Accuracy",
            "Precision",
            "Recall"
           ],
           "xaxis": "x",
           "y": [
            0.85233798195242,
            0.7142857142857143,
            0.03048780487804878
           ],
           "yaxis": "y"
          }
         ],
         "name": "35"
        },
        {
         "data": [
          {
           "alignmentgroup": "True",
           "hovertemplate": "K=36<br>Metric=%{x}<br>Metric Value=%{y}<extra></extra>",
           "legendgroup": "",
           "marker": {
            "color": "#636efa",
            "pattern": {
             "shape": ""
            }
           },
           "name": "",
           "offsetgroup": "",
           "orientation": "v",
           "showlegend": false,
           "textposition": "auto",
           "type": "bar",
           "x": [
            "Accuracy",
            "Precision",
            "Recall"
           ],
           "xaxis": "x",
           "y": [
            0.85233798195242,
            0.75,
            0.018292682926829267
           ],
           "yaxis": "y"
          }
         ],
         "name": "36"
        },
        {
         "data": [
          {
           "alignmentgroup": "True",
           "hovertemplate": "K=37<br>Metric=%{x}<br>Metric Value=%{y}<extra></extra>",
           "legendgroup": "",
           "marker": {
            "color": "#636efa",
            "pattern": {
             "shape": ""
            }
           },
           "name": "",
           "offsetgroup": "",
           "orientation": "v",
           "showlegend": false,
           "textposition": "auto",
           "type": "bar",
           "x": [
            "Accuracy",
            "Precision",
            "Recall"
           ],
           "xaxis": "x",
           "y": [
            0.85233798195242,
            0.8,
            0.024390243902439025
           ],
           "yaxis": "y"
          }
         ],
         "name": "37"
        },
        {
         "data": [
          {
           "alignmentgroup": "True",
           "hovertemplate": "K=38<br>Metric=%{x}<br>Metric Value=%{y}<extra></extra>",
           "legendgroup": "",
           "marker": {
            "color": "#636efa",
            "pattern": {
             "shape": ""
            }
           },
           "name": "",
           "offsetgroup": "",
           "orientation": "v",
           "showlegend": false,
           "textposition": "auto",
           "type": "bar",
           "x": [
            "Accuracy",
            "Precision",
            "Recall"
           ],
           "xaxis": "x",
           "y": [
            0.85233798195242,
            0.75,
            0.018292682926829267
           ],
           "yaxis": "y"
          }
         ],
         "name": "38"
        },
        {
         "data": [
          {
           "alignmentgroup": "True",
           "hovertemplate": "K=39<br>Metric=%{x}<br>Metric Value=%{y}<extra></extra>",
           "legendgroup": "",
           "marker": {
            "color": "#636efa",
            "pattern": {
             "shape": ""
            }
           },
           "name": "",
           "offsetgroup": "",
           "orientation": "v",
           "showlegend": false,
           "textposition": "auto",
           "type": "bar",
           "x": [
            "Accuracy",
            "Precision",
            "Recall"
           ],
           "xaxis": "x",
           "y": [
            0.85233798195242,
            0.8,
            0.024390243902439025
           ],
           "yaxis": "y"
          }
         ],
         "name": "39"
        },
        {
         "data": [
          {
           "alignmentgroup": "True",
           "hovertemplate": "K=40<br>Metric=%{x}<br>Metric Value=%{y}<extra></extra>",
           "legendgroup": "",
           "marker": {
            "color": "#636efa",
            "pattern": {
             "shape": ""
            }
           },
           "name": "",
           "offsetgroup": "",
           "orientation": "v",
           "showlegend": false,
           "textposition": "auto",
           "type": "bar",
           "x": [
            "Accuracy",
            "Precision",
            "Recall"
           ],
           "xaxis": "x",
           "y": [
            0.85233798195242,
            0.8,
            0.024390243902439025
           ],
           "yaxis": "y"
          }
         ],
         "name": "40"
        },
        {
         "data": [
          {
           "alignmentgroup": "True",
           "hovertemplate": "K=41<br>Metric=%{x}<br>Metric Value=%{y}<extra></extra>",
           "legendgroup": "",
           "marker": {
            "color": "#636efa",
            "pattern": {
             "shape": ""
            }
           },
           "name": "",
           "offsetgroup": "",
           "orientation": "v",
           "showlegend": false,
           "textposition": "auto",
           "type": "bar",
           "x": [
            "Accuracy",
            "Precision",
            "Recall"
           ],
           "xaxis": "x",
           "y": [
            0.85233798195242,
            0.8,
            0.024390243902439025
           ],
           "yaxis": "y"
          }
         ],
         "name": "41"
        },
        {
         "data": [
          {
           "alignmentgroup": "True",
           "hovertemplate": "K=42<br>Metric=%{x}<br>Metric Value=%{y}<extra></extra>",
           "legendgroup": "",
           "marker": {
            "color": "#636efa",
            "pattern": {
             "shape": ""
            }
           },
           "name": "",
           "offsetgroup": "",
           "orientation": "v",
           "showlegend": false,
           "textposition": "auto",
           "type": "bar",
           "x": [
            "Accuracy",
            "Precision",
            "Recall"
           ],
           "xaxis": "x",
           "y": [
            0.85233798195242,
            0.8,
            0.024390243902439025
           ],
           "yaxis": "y"
          }
         ],
         "name": "42"
        },
        {
         "data": [
          {
           "alignmentgroup": "True",
           "hovertemplate": "K=43<br>Metric=%{x}<br>Metric Value=%{y}<extra></extra>",
           "legendgroup": "",
           "marker": {
            "color": "#636efa",
            "pattern": {
             "shape": ""
            }
           },
           "name": "",
           "offsetgroup": "",
           "orientation": "v",
           "showlegend": false,
           "textposition": "auto",
           "type": "bar",
           "x": [
            "Accuracy",
            "Precision",
            "Recall"
           ],
           "xaxis": "x",
           "y": [
            0.85233798195242,
            0.8,
            0.024390243902439025
           ],
           "yaxis": "y"
          }
         ],
         "name": "43"
        },
        {
         "data": [
          {
           "alignmentgroup": "True",
           "hovertemplate": "K=44<br>Metric=%{x}<br>Metric Value=%{y}<extra></extra>",
           "legendgroup": "",
           "marker": {
            "color": "#636efa",
            "pattern": {
             "shape": ""
            }
           },
           "name": "",
           "offsetgroup": "",
           "orientation": "v",
           "showlegend": false,
           "textposition": "auto",
           "type": "bar",
           "x": [
            "Accuracy",
            "Precision",
            "Recall"
           ],
           "xaxis": "x",
           "y": [
            0.85233798195242,
            0.8,
            0.024390243902439025
           ],
           "yaxis": "y"
          }
         ],
         "name": "44"
        },
        {
         "data": [
          {
           "alignmentgroup": "True",
           "hovertemplate": "K=45<br>Metric=%{x}<br>Metric Value=%{y}<extra></extra>",
           "legendgroup": "",
           "marker": {
            "color": "#636efa",
            "pattern": {
             "shape": ""
            }
           },
           "name": "",
           "offsetgroup": "",
           "orientation": "v",
           "showlegend": false,
           "textposition": "auto",
           "type": "bar",
           "x": [
            "Accuracy",
            "Precision",
            "Recall"
           ],
           "xaxis": "x",
           "y": [
            0.85233798195242,
            0.8,
            0.024390243902439025
           ],
           "yaxis": "y"
          }
         ],
         "name": "45"
        },
        {
         "data": [
          {
           "alignmentgroup": "True",
           "hovertemplate": "K=46<br>Metric=%{x}<br>Metric Value=%{y}<extra></extra>",
           "legendgroup": "",
           "marker": {
            "color": "#636efa",
            "pattern": {
             "shape": ""
            }
           },
           "name": "",
           "offsetgroup": "",
           "orientation": "v",
           "showlegend": false,
           "textposition": "auto",
           "type": "bar",
           "x": [
            "Accuracy",
            "Precision",
            "Recall"
           ],
           "xaxis": "x",
           "y": [
            0.85233798195242,
            1,
            0.012195121951219513
           ],
           "yaxis": "y"
          }
         ],
         "name": "46"
        },
        {
         "data": [
          {
           "alignmentgroup": "True",
           "hovertemplate": "K=47<br>Metric=%{x}<br>Metric Value=%{y}<extra></extra>",
           "legendgroup": "",
           "marker": {
            "color": "#636efa",
            "pattern": {
             "shape": ""
            }
           },
           "name": "",
           "offsetgroup": "",
           "orientation": "v",
           "showlegend": false,
           "textposition": "auto",
           "type": "bar",
           "x": [
            "Accuracy",
            "Precision",
            "Recall"
           ],
           "xaxis": "x",
           "y": [
            0.85233798195242,
            0.75,
            0.018292682926829267
           ],
           "yaxis": "y"
          }
         ],
         "name": "47"
        },
        {
         "data": [
          {
           "alignmentgroup": "True",
           "hovertemplate": "K=48<br>Metric=%{x}<br>Metric Value=%{y}<extra></extra>",
           "legendgroup": "",
           "marker": {
            "color": "#636efa",
            "pattern": {
             "shape": ""
            }
           },
           "name": "",
           "offsetgroup": "",
           "orientation": "v",
           "showlegend": false,
           "textposition": "auto",
           "type": "bar",
           "x": [
            "Accuracy",
            "Precision",
            "Recall"
           ],
           "xaxis": "x",
           "y": [
            0.85233798195242,
            1,
            0.018292682926829267
           ],
           "yaxis": "y"
          }
         ],
         "name": "48"
        },
        {
         "data": [
          {
           "alignmentgroup": "True",
           "hovertemplate": "K=49<br>Metric=%{x}<br>Metric Value=%{y}<extra></extra>",
           "legendgroup": "",
           "marker": {
            "color": "#636efa",
            "pattern": {
             "shape": ""
            }
           },
           "name": "",
           "offsetgroup": "",
           "orientation": "v",
           "showlegend": false,
           "textposition": "auto",
           "type": "bar",
           "x": [
            "Accuracy",
            "Precision",
            "Recall"
           ],
           "xaxis": "x",
           "y": [
            0.85233798195242,
            1,
            0.018292682926829267
           ],
           "yaxis": "y"
          }
         ],
         "name": "49"
        },
        {
         "data": [
          {
           "alignmentgroup": "True",
           "hovertemplate": "K=50<br>Metric=%{x}<br>Metric Value=%{y}<extra></extra>",
           "legendgroup": "",
           "marker": {
            "color": "#636efa",
            "pattern": {
             "shape": ""
            }
           },
           "name": "",
           "offsetgroup": "",
           "orientation": "v",
           "showlegend": false,
           "textposition": "auto",
           "type": "bar",
           "x": [
            "Accuracy",
            "Precision",
            "Recall"
           ],
           "xaxis": "x",
           "y": [
            0.85233798195242,
            1,
            0.012195121951219513
           ],
           "yaxis": "y"
          }
         ],
         "name": "50"
        },
        {
         "data": [
          {
           "alignmentgroup": "True",
           "hovertemplate": "K=51<br>Metric=%{x}<br>Metric Value=%{y}<extra></extra>",
           "legendgroup": "",
           "marker": {
            "color": "#636efa",
            "pattern": {
             "shape": ""
            }
           },
           "name": "",
           "offsetgroup": "",
           "orientation": "v",
           "showlegend": false,
           "textposition": "auto",
           "type": "bar",
           "x": [
            "Accuracy",
            "Precision",
            "Recall"
           ],
           "xaxis": "x",
           "y": [
            0.85233798195242,
            1,
            0.018292682926829267
           ],
           "yaxis": "y"
          }
         ],
         "name": "51"
        },
        {
         "data": [
          {
           "alignmentgroup": "True",
           "hovertemplate": "K=52<br>Metric=%{x}<br>Metric Value=%{y}<extra></extra>",
           "legendgroup": "",
           "marker": {
            "color": "#636efa",
            "pattern": {
             "shape": ""
            }
           },
           "name": "",
           "offsetgroup": "",
           "orientation": "v",
           "showlegend": false,
           "textposition": "auto",
           "type": "bar",
           "x": [
            "Accuracy",
            "Precision",
            "Recall"
           ],
           "xaxis": "x",
           "y": [
            0.85233798195242,
            1,
            0.006097560975609756
           ],
           "yaxis": "y"
          }
         ],
         "name": "52"
        },
        {
         "data": [
          {
           "alignmentgroup": "True",
           "hovertemplate": "K=53<br>Metric=%{x}<br>Metric Value=%{y}<extra></extra>",
           "legendgroup": "",
           "marker": {
            "color": "#636efa",
            "pattern": {
             "shape": ""
            }
           },
           "name": "",
           "offsetgroup": "",
           "orientation": "v",
           "showlegend": false,
           "textposition": "auto",
           "type": "bar",
           "x": [
            "Accuracy",
            "Precision",
            "Recall"
           ],
           "xaxis": "x",
           "y": [
            0.85233798195242,
            1,
            0.012195121951219513
           ],
           "yaxis": "y"
          }
         ],
         "name": "53"
        },
        {
         "data": [
          {
           "alignmentgroup": "True",
           "hovertemplate": "K=54<br>Metric=%{x}<br>Metric Value=%{y}<extra></extra>",
           "legendgroup": "",
           "marker": {
            "color": "#636efa",
            "pattern": {
             "shape": ""
            }
           },
           "name": "",
           "offsetgroup": "",
           "orientation": "v",
           "showlegend": false,
           "textposition": "auto",
           "type": "bar",
           "x": [
            "Accuracy",
            "Precision",
            "Recall"
           ],
           "xaxis": "x",
           "y": [
            0.85233798195242,
            1,
            0.012195121951219513
           ],
           "yaxis": "y"
          }
         ],
         "name": "54"
        },
        {
         "data": [
          {
           "alignmentgroup": "True",
           "hovertemplate": "K=55<br>Metric=%{x}<br>Metric Value=%{y}<extra></extra>",
           "legendgroup": "",
           "marker": {
            "color": "#636efa",
            "pattern": {
             "shape": ""
            }
           },
           "name": "",
           "offsetgroup": "",
           "orientation": "v",
           "showlegend": false,
           "textposition": "auto",
           "type": "bar",
           "x": [
            "Accuracy",
            "Precision",
            "Recall"
           ],
           "xaxis": "x",
           "y": [
            0.85233798195242,
            1,
            0.012195121951219513
           ],
           "yaxis": "y"
          }
         ],
         "name": "55"
        },
        {
         "data": [
          {
           "alignmentgroup": "True",
           "hovertemplate": "K=56<br>Metric=%{x}<br>Metric Value=%{y}<extra></extra>",
           "legendgroup": "",
           "marker": {
            "color": "#636efa",
            "pattern": {
             "shape": ""
            }
           },
           "name": "",
           "offsetgroup": "",
           "orientation": "v",
           "showlegend": false,
           "textposition": "auto",
           "type": "bar",
           "x": [
            "Accuracy",
            "Precision",
            "Recall"
           ],
           "xaxis": "x",
           "y": [
            0.85233798195242,
            0,
            0
           ],
           "yaxis": "y"
          }
         ],
         "name": "56"
        },
        {
         "data": [
          {
           "alignmentgroup": "True",
           "hovertemplate": "K=57<br>Metric=%{x}<br>Metric Value=%{y}<extra></extra>",
           "legendgroup": "",
           "marker": {
            "color": "#636efa",
            "pattern": {
             "shape": ""
            }
           },
           "name": "",
           "offsetgroup": "",
           "orientation": "v",
           "showlegend": false,
           "textposition": "auto",
           "type": "bar",
           "x": [
            "Accuracy",
            "Precision",
            "Recall"
           ],
           "xaxis": "x",
           "y": [
            0.85233798195242,
            0,
            0
           ],
           "yaxis": "y"
          }
         ],
         "name": "57"
        },
        {
         "data": [
          {
           "alignmentgroup": "True",
           "hovertemplate": "K=58<br>Metric=%{x}<br>Metric Value=%{y}<extra></extra>",
           "legendgroup": "",
           "marker": {
            "color": "#636efa",
            "pattern": {
             "shape": ""
            }
           },
           "name": "",
           "offsetgroup": "",
           "orientation": "v",
           "showlegend": false,
           "textposition": "auto",
           "type": "bar",
           "x": [
            "Accuracy",
            "Precision",
            "Recall"
           ],
           "xaxis": "x",
           "y": [
            0.85233798195242,
            0,
            0
           ],
           "yaxis": "y"
          }
         ],
         "name": "58"
        },
        {
         "data": [
          {
           "alignmentgroup": "True",
           "hovertemplate": "K=59<br>Metric=%{x}<br>Metric Value=%{y}<extra></extra>",
           "legendgroup": "",
           "marker": {
            "color": "#636efa",
            "pattern": {
             "shape": ""
            }
           },
           "name": "",
           "offsetgroup": "",
           "orientation": "v",
           "showlegend": false,
           "textposition": "auto",
           "type": "bar",
           "x": [
            "Accuracy",
            "Precision",
            "Recall"
           ],
           "xaxis": "x",
           "y": [
            0.85233798195242,
            0,
            0
           ],
           "yaxis": "y"
          }
         ],
         "name": "59"
        },
        {
         "data": [
          {
           "alignmentgroup": "True",
           "hovertemplate": "K=60<br>Metric=%{x}<br>Metric Value=%{y}<extra></extra>",
           "legendgroup": "",
           "marker": {
            "color": "#636efa",
            "pattern": {
             "shape": ""
            }
           },
           "name": "",
           "offsetgroup": "",
           "orientation": "v",
           "showlegend": false,
           "textposition": "auto",
           "type": "bar",
           "x": [
            "Accuracy",
            "Precision",
            "Recall"
           ],
           "xaxis": "x",
           "y": [
            0.85233798195242,
            0,
            0
           ],
           "yaxis": "y"
          }
         ],
         "name": "60"
        },
        {
         "data": [
          {
           "alignmentgroup": "True",
           "hovertemplate": "K=61<br>Metric=%{x}<br>Metric Value=%{y}<extra></extra>",
           "legendgroup": "",
           "marker": {
            "color": "#636efa",
            "pattern": {
             "shape": ""
            }
           },
           "name": "",
           "offsetgroup": "",
           "orientation": "v",
           "showlegend": false,
           "textposition": "auto",
           "type": "bar",
           "x": [
            "Accuracy",
            "Precision",
            "Recall"
           ],
           "xaxis": "x",
           "y": [
            0.85233798195242,
            0,
            0
           ],
           "yaxis": "y"
          }
         ],
         "name": "61"
        },
        {
         "data": [
          {
           "alignmentgroup": "True",
           "hovertemplate": "K=62<br>Metric=%{x}<br>Metric Value=%{y}<extra></extra>",
           "legendgroup": "",
           "marker": {
            "color": "#636efa",
            "pattern": {
             "shape": ""
            }
           },
           "name": "",
           "offsetgroup": "",
           "orientation": "v",
           "showlegend": false,
           "textposition": "auto",
           "type": "bar",
           "x": [
            "Accuracy",
            "Precision",
            "Recall"
           ],
           "xaxis": "x",
           "y": [
            0.85233798195242,
            0,
            0
           ],
           "yaxis": "y"
          }
         ],
         "name": "62"
        },
        {
         "data": [
          {
           "alignmentgroup": "True",
           "hovertemplate": "K=63<br>Metric=%{x}<br>Metric Value=%{y}<extra></extra>",
           "legendgroup": "",
           "marker": {
            "color": "#636efa",
            "pattern": {
             "shape": ""
            }
           },
           "name": "",
           "offsetgroup": "",
           "orientation": "v",
           "showlegend": false,
           "textposition": "auto",
           "type": "bar",
           "x": [
            "Accuracy",
            "Precision",
            "Recall"
           ],
           "xaxis": "x",
           "y": [
            0.85233798195242,
            0,
            0
           ],
           "yaxis": "y"
          }
         ],
         "name": "63"
        },
        {
         "data": [
          {
           "alignmentgroup": "True",
           "hovertemplate": "K=64<br>Metric=%{x}<br>Metric Value=%{y}<extra></extra>",
           "legendgroup": "",
           "marker": {
            "color": "#636efa",
            "pattern": {
             "shape": ""
            }
           },
           "name": "",
           "offsetgroup": "",
           "orientation": "v",
           "showlegend": false,
           "textposition": "auto",
           "type": "bar",
           "x": [
            "Accuracy",
            "Precision",
            "Recall"
           ],
           "xaxis": "x",
           "y": [
            0.85233798195242,
            0,
            0
           ],
           "yaxis": "y"
          }
         ],
         "name": "64"
        },
        {
         "data": [
          {
           "alignmentgroup": "True",
           "hovertemplate": "K=65<br>Metric=%{x}<br>Metric Value=%{y}<extra></extra>",
           "legendgroup": "",
           "marker": {
            "color": "#636efa",
            "pattern": {
             "shape": ""
            }
           },
           "name": "",
           "offsetgroup": "",
           "orientation": "v",
           "showlegend": false,
           "textposition": "auto",
           "type": "bar",
           "x": [
            "Accuracy",
            "Precision",
            "Recall"
           ],
           "xaxis": "x",
           "y": [
            0.85233798195242,
            0,
            0
           ],
           "yaxis": "y"
          }
         ],
         "name": "65"
        },
        {
         "data": [
          {
           "alignmentgroup": "True",
           "hovertemplate": "K=66<br>Metric=%{x}<br>Metric Value=%{y}<extra></extra>",
           "legendgroup": "",
           "marker": {
            "color": "#636efa",
            "pattern": {
             "shape": ""
            }
           },
           "name": "",
           "offsetgroup": "",
           "orientation": "v",
           "showlegend": false,
           "textposition": "auto",
           "type": "bar",
           "x": [
            "Accuracy",
            "Precision",
            "Recall"
           ],
           "xaxis": "x",
           "y": [
            0.85233798195242,
            0,
            0
           ],
           "yaxis": "y"
          }
         ],
         "name": "66"
        },
        {
         "data": [
          {
           "alignmentgroup": "True",
           "hovertemplate": "K=67<br>Metric=%{x}<br>Metric Value=%{y}<extra></extra>",
           "legendgroup": "",
           "marker": {
            "color": "#636efa",
            "pattern": {
             "shape": ""
            }
           },
           "name": "",
           "offsetgroup": "",
           "orientation": "v",
           "showlegend": false,
           "textposition": "auto",
           "type": "bar",
           "x": [
            "Accuracy",
            "Precision",
            "Recall"
           ],
           "xaxis": "x",
           "y": [
            0.85233798195242,
            0,
            0
           ],
           "yaxis": "y"
          }
         ],
         "name": "67"
        },
        {
         "data": [
          {
           "alignmentgroup": "True",
           "hovertemplate": "K=68<br>Metric=%{x}<br>Metric Value=%{y}<extra></extra>",
           "legendgroup": "",
           "marker": {
            "color": "#636efa",
            "pattern": {
             "shape": ""
            }
           },
           "name": "",
           "offsetgroup": "",
           "orientation": "v",
           "showlegend": false,
           "textposition": "auto",
           "type": "bar",
           "x": [
            "Accuracy",
            "Precision",
            "Recall"
           ],
           "xaxis": "x",
           "y": [
            0.85233798195242,
            0,
            0
           ],
           "yaxis": "y"
          }
         ],
         "name": "68"
        },
        {
         "data": [
          {
           "alignmentgroup": "True",
           "hovertemplate": "K=69<br>Metric=%{x}<br>Metric Value=%{y}<extra></extra>",
           "legendgroup": "",
           "marker": {
            "color": "#636efa",
            "pattern": {
             "shape": ""
            }
           },
           "name": "",
           "offsetgroup": "",
           "orientation": "v",
           "showlegend": false,
           "textposition": "auto",
           "type": "bar",
           "x": [
            "Accuracy",
            "Precision",
            "Recall"
           ],
           "xaxis": "x",
           "y": [
            0.85233798195242,
            0,
            0
           ],
           "yaxis": "y"
          }
         ],
         "name": "69"
        },
        {
         "data": [
          {
           "alignmentgroup": "True",
           "hovertemplate": "K=70<br>Metric=%{x}<br>Metric Value=%{y}<extra></extra>",
           "legendgroup": "",
           "marker": {
            "color": "#636efa",
            "pattern": {
             "shape": ""
            }
           },
           "name": "",
           "offsetgroup": "",
           "orientation": "v",
           "showlegend": false,
           "textposition": "auto",
           "type": "bar",
           "x": [
            "Accuracy",
            "Precision",
            "Recall"
           ],
           "xaxis": "x",
           "y": [
            0.85233798195242,
            0,
            0
           ],
           "yaxis": "y"
          }
         ],
         "name": "70"
        },
        {
         "data": [
          {
           "alignmentgroup": "True",
           "hovertemplate": "K=71<br>Metric=%{x}<br>Metric Value=%{y}<extra></extra>",
           "legendgroup": "",
           "marker": {
            "color": "#636efa",
            "pattern": {
             "shape": ""
            }
           },
           "name": "",
           "offsetgroup": "",
           "orientation": "v",
           "showlegend": false,
           "textposition": "auto",
           "type": "bar",
           "x": [
            "Accuracy",
            "Precision",
            "Recall"
           ],
           "xaxis": "x",
           "y": [
            0.85233798195242,
            0,
            0
           ],
           "yaxis": "y"
          }
         ],
         "name": "71"
        },
        {
         "data": [
          {
           "alignmentgroup": "True",
           "hovertemplate": "K=72<br>Metric=%{x}<br>Metric Value=%{y}<extra></extra>",
           "legendgroup": "",
           "marker": {
            "color": "#636efa",
            "pattern": {
             "shape": ""
            }
           },
           "name": "",
           "offsetgroup": "",
           "orientation": "v",
           "showlegend": false,
           "textposition": "auto",
           "type": "bar",
           "x": [
            "Accuracy",
            "Precision",
            "Recall"
           ],
           "xaxis": "x",
           "y": [
            0.85233798195242,
            0,
            0
           ],
           "yaxis": "y"
          }
         ],
         "name": "72"
        },
        {
         "data": [
          {
           "alignmentgroup": "True",
           "hovertemplate": "K=73<br>Metric=%{x}<br>Metric Value=%{y}<extra></extra>",
           "legendgroup": "",
           "marker": {
            "color": "#636efa",
            "pattern": {
             "shape": ""
            }
           },
           "name": "",
           "offsetgroup": "",
           "orientation": "v",
           "showlegend": false,
           "textposition": "auto",
           "type": "bar",
           "x": [
            "Accuracy",
            "Precision",
            "Recall"
           ],
           "xaxis": "x",
           "y": [
            0.85233798195242,
            0,
            0
           ],
           "yaxis": "y"
          }
         ],
         "name": "73"
        },
        {
         "data": [
          {
           "alignmentgroup": "True",
           "hovertemplate": "K=74<br>Metric=%{x}<br>Metric Value=%{y}<extra></extra>",
           "legendgroup": "",
           "marker": {
            "color": "#636efa",
            "pattern": {
             "shape": ""
            }
           },
           "name": "",
           "offsetgroup": "",
           "orientation": "v",
           "showlegend": false,
           "textposition": "auto",
           "type": "bar",
           "x": [
            "Accuracy",
            "Precision",
            "Recall"
           ],
           "xaxis": "x",
           "y": [
            0.85233798195242,
            0,
            0
           ],
           "yaxis": "y"
          }
         ],
         "name": "74"
        },
        {
         "data": [
          {
           "alignmentgroup": "True",
           "hovertemplate": "K=75<br>Metric=%{x}<br>Metric Value=%{y}<extra></extra>",
           "legendgroup": "",
           "marker": {
            "color": "#636efa",
            "pattern": {
             "shape": ""
            }
           },
           "name": "",
           "offsetgroup": "",
           "orientation": "v",
           "showlegend": false,
           "textposition": "auto",
           "type": "bar",
           "x": [
            "Accuracy",
            "Precision",
            "Recall"
           ],
           "xaxis": "x",
           "y": [
            0.85233798195242,
            0,
            0
           ],
           "yaxis": "y"
          }
         ],
         "name": "75"
        },
        {
         "data": [
          {
           "alignmentgroup": "True",
           "hovertemplate": "K=76<br>Metric=%{x}<br>Metric Value=%{y}<extra></extra>",
           "legendgroup": "",
           "marker": {
            "color": "#636efa",
            "pattern": {
             "shape": ""
            }
           },
           "name": "",
           "offsetgroup": "",
           "orientation": "v",
           "showlegend": false,
           "textposition": "auto",
           "type": "bar",
           "x": [
            "Accuracy",
            "Precision",
            "Recall"
           ],
           "xaxis": "x",
           "y": [
            0.85233798195242,
            0,
            0
           ],
           "yaxis": "y"
          }
         ],
         "name": "76"
        },
        {
         "data": [
          {
           "alignmentgroup": "True",
           "hovertemplate": "K=77<br>Metric=%{x}<br>Metric Value=%{y}<extra></extra>",
           "legendgroup": "",
           "marker": {
            "color": "#636efa",
            "pattern": {
             "shape": ""
            }
           },
           "name": "",
           "offsetgroup": "",
           "orientation": "v",
           "showlegend": false,
           "textposition": "auto",
           "type": "bar",
           "x": [
            "Accuracy",
            "Precision",
            "Recall"
           ],
           "xaxis": "x",
           "y": [
            0.85233798195242,
            0,
            0
           ],
           "yaxis": "y"
          }
         ],
         "name": "77"
        },
        {
         "data": [
          {
           "alignmentgroup": "True",
           "hovertemplate": "K=78<br>Metric=%{x}<br>Metric Value=%{y}<extra></extra>",
           "legendgroup": "",
           "marker": {
            "color": "#636efa",
            "pattern": {
             "shape": ""
            }
           },
           "name": "",
           "offsetgroup": "",
           "orientation": "v",
           "showlegend": false,
           "textposition": "auto",
           "type": "bar",
           "x": [
            "Accuracy",
            "Precision",
            "Recall"
           ],
           "xaxis": "x",
           "y": [
            0.85233798195242,
            0,
            0
           ],
           "yaxis": "y"
          }
         ],
         "name": "78"
        },
        {
         "data": [
          {
           "alignmentgroup": "True",
           "hovertemplate": "K=79<br>Metric=%{x}<br>Metric Value=%{y}<extra></extra>",
           "legendgroup": "",
           "marker": {
            "color": "#636efa",
            "pattern": {
             "shape": ""
            }
           },
           "name": "",
           "offsetgroup": "",
           "orientation": "v",
           "showlegend": false,
           "textposition": "auto",
           "type": "bar",
           "x": [
            "Accuracy",
            "Precision",
            "Recall"
           ],
           "xaxis": "x",
           "y": [
            0.85233798195242,
            0,
            0
           ],
           "yaxis": "y"
          }
         ],
         "name": "79"
        },
        {
         "data": [
          {
           "alignmentgroup": "True",
           "hovertemplate": "K=80<br>Metric=%{x}<br>Metric Value=%{y}<extra></extra>",
           "legendgroup": "",
           "marker": {
            "color": "#636efa",
            "pattern": {
             "shape": ""
            }
           },
           "name": "",
           "offsetgroup": "",
           "orientation": "v",
           "showlegend": false,
           "textposition": "auto",
           "type": "bar",
           "x": [
            "Accuracy",
            "Precision",
            "Recall"
           ],
           "xaxis": "x",
           "y": [
            0.85233798195242,
            0,
            0
           ],
           "yaxis": "y"
          }
         ],
         "name": "80"
        },
        {
         "data": [
          {
           "alignmentgroup": "True",
           "hovertemplate": "K=81<br>Metric=%{x}<br>Metric Value=%{y}<extra></extra>",
           "legendgroup": "",
           "marker": {
            "color": "#636efa",
            "pattern": {
             "shape": ""
            }
           },
           "name": "",
           "offsetgroup": "",
           "orientation": "v",
           "showlegend": false,
           "textposition": "auto",
           "type": "bar",
           "x": [
            "Accuracy",
            "Precision",
            "Recall"
           ],
           "xaxis": "x",
           "y": [
            0.85233798195242,
            0,
            0
           ],
           "yaxis": "y"
          }
         ],
         "name": "81"
        },
        {
         "data": [
          {
           "alignmentgroup": "True",
           "hovertemplate": "K=82<br>Metric=%{x}<br>Metric Value=%{y}<extra></extra>",
           "legendgroup": "",
           "marker": {
            "color": "#636efa",
            "pattern": {
             "shape": ""
            }
           },
           "name": "",
           "offsetgroup": "",
           "orientation": "v",
           "showlegend": false,
           "textposition": "auto",
           "type": "bar",
           "x": [
            "Accuracy",
            "Precision",
            "Recall"
           ],
           "xaxis": "x",
           "y": [
            0.85233798195242,
            0,
            0
           ],
           "yaxis": "y"
          }
         ],
         "name": "82"
        },
        {
         "data": [
          {
           "alignmentgroup": "True",
           "hovertemplate": "K=83<br>Metric=%{x}<br>Metric Value=%{y}<extra></extra>",
           "legendgroup": "",
           "marker": {
            "color": "#636efa",
            "pattern": {
             "shape": ""
            }
           },
           "name": "",
           "offsetgroup": "",
           "orientation": "v",
           "showlegend": false,
           "textposition": "auto",
           "type": "bar",
           "x": [
            "Accuracy",
            "Precision",
            "Recall"
           ],
           "xaxis": "x",
           "y": [
            0.85233798195242,
            0,
            0
           ],
           "yaxis": "y"
          }
         ],
         "name": "83"
        },
        {
         "data": [
          {
           "alignmentgroup": "True",
           "hovertemplate": "K=84<br>Metric=%{x}<br>Metric Value=%{y}<extra></extra>",
           "legendgroup": "",
           "marker": {
            "color": "#636efa",
            "pattern": {
             "shape": ""
            }
           },
           "name": "",
           "offsetgroup": "",
           "orientation": "v",
           "showlegend": false,
           "textposition": "auto",
           "type": "bar",
           "x": [
            "Accuracy",
            "Precision",
            "Recall"
           ],
           "xaxis": "x",
           "y": [
            0.85233798195242,
            0,
            0
           ],
           "yaxis": "y"
          }
         ],
         "name": "84"
        },
        {
         "data": [
          {
           "alignmentgroup": "True",
           "hovertemplate": "K=85<br>Metric=%{x}<br>Metric Value=%{y}<extra></extra>",
           "legendgroup": "",
           "marker": {
            "color": "#636efa",
            "pattern": {
             "shape": ""
            }
           },
           "name": "",
           "offsetgroup": "",
           "orientation": "v",
           "showlegend": false,
           "textposition": "auto",
           "type": "bar",
           "x": [
            "Accuracy",
            "Precision",
            "Recall"
           ],
           "xaxis": "x",
           "y": [
            0.85233798195242,
            0,
            0
           ],
           "yaxis": "y"
          }
         ],
         "name": "85"
        },
        {
         "data": [
          {
           "alignmentgroup": "True",
           "hovertemplate": "K=86<br>Metric=%{x}<br>Metric Value=%{y}<extra></extra>",
           "legendgroup": "",
           "marker": {
            "color": "#636efa",
            "pattern": {
             "shape": ""
            }
           },
           "name": "",
           "offsetgroup": "",
           "orientation": "v",
           "showlegend": false,
           "textposition": "auto",
           "type": "bar",
           "x": [
            "Accuracy",
            "Precision",
            "Recall"
           ],
           "xaxis": "x",
           "y": [
            0.85233798195242,
            0,
            0
           ],
           "yaxis": "y"
          }
         ],
         "name": "86"
        },
        {
         "data": [
          {
           "alignmentgroup": "True",
           "hovertemplate": "K=87<br>Metric=%{x}<br>Metric Value=%{y}<extra></extra>",
           "legendgroup": "",
           "marker": {
            "color": "#636efa",
            "pattern": {
             "shape": ""
            }
           },
           "name": "",
           "offsetgroup": "",
           "orientation": "v",
           "showlegend": false,
           "textposition": "auto",
           "type": "bar",
           "x": [
            "Accuracy",
            "Precision",
            "Recall"
           ],
           "xaxis": "x",
           "y": [
            0.85233798195242,
            0,
            0
           ],
           "yaxis": "y"
          }
         ],
         "name": "87"
        },
        {
         "data": [
          {
           "alignmentgroup": "True",
           "hovertemplate": "K=88<br>Metric=%{x}<br>Metric Value=%{y}<extra></extra>",
           "legendgroup": "",
           "marker": {
            "color": "#636efa",
            "pattern": {
             "shape": ""
            }
           },
           "name": "",
           "offsetgroup": "",
           "orientation": "v",
           "showlegend": false,
           "textposition": "auto",
           "type": "bar",
           "x": [
            "Accuracy",
            "Precision",
            "Recall"
           ],
           "xaxis": "x",
           "y": [
            0.85233798195242,
            0,
            0
           ],
           "yaxis": "y"
          }
         ],
         "name": "88"
        },
        {
         "data": [
          {
           "alignmentgroup": "True",
           "hovertemplate": "K=89<br>Metric=%{x}<br>Metric Value=%{y}<extra></extra>",
           "legendgroup": "",
           "marker": {
            "color": "#636efa",
            "pattern": {
             "shape": ""
            }
           },
           "name": "",
           "offsetgroup": "",
           "orientation": "v",
           "showlegend": false,
           "textposition": "auto",
           "type": "bar",
           "x": [
            "Accuracy",
            "Precision",
            "Recall"
           ],
           "xaxis": "x",
           "y": [
            0.85233798195242,
            0,
            0
           ],
           "yaxis": "y"
          }
         ],
         "name": "89"
        },
        {
         "data": [
          {
           "alignmentgroup": "True",
           "hovertemplate": "K=90<br>Metric=%{x}<br>Metric Value=%{y}<extra></extra>",
           "legendgroup": "",
           "marker": {
            "color": "#636efa",
            "pattern": {
             "shape": ""
            }
           },
           "name": "",
           "offsetgroup": "",
           "orientation": "v",
           "showlegend": false,
           "textposition": "auto",
           "type": "bar",
           "x": [
            "Accuracy",
            "Precision",
            "Recall"
           ],
           "xaxis": "x",
           "y": [
            0.85233798195242,
            0,
            0
           ],
           "yaxis": "y"
          }
         ],
         "name": "90"
        },
        {
         "data": [
          {
           "alignmentgroup": "True",
           "hovertemplate": "K=91<br>Metric=%{x}<br>Metric Value=%{y}<extra></extra>",
           "legendgroup": "",
           "marker": {
            "color": "#636efa",
            "pattern": {
             "shape": ""
            }
           },
           "name": "",
           "offsetgroup": "",
           "orientation": "v",
           "showlegend": false,
           "textposition": "auto",
           "type": "bar",
           "x": [
            "Accuracy",
            "Precision",
            "Recall"
           ],
           "xaxis": "x",
           "y": [
            0.85233798195242,
            0,
            0
           ],
           "yaxis": "y"
          }
         ],
         "name": "91"
        },
        {
         "data": [
          {
           "alignmentgroup": "True",
           "hovertemplate": "K=92<br>Metric=%{x}<br>Metric Value=%{y}<extra></extra>",
           "legendgroup": "",
           "marker": {
            "color": "#636efa",
            "pattern": {
             "shape": ""
            }
           },
           "name": "",
           "offsetgroup": "",
           "orientation": "v",
           "showlegend": false,
           "textposition": "auto",
           "type": "bar",
           "x": [
            "Accuracy",
            "Precision",
            "Recall"
           ],
           "xaxis": "x",
           "y": [
            0.85233798195242,
            0,
            0
           ],
           "yaxis": "y"
          }
         ],
         "name": "92"
        },
        {
         "data": [
          {
           "alignmentgroup": "True",
           "hovertemplate": "K=93<br>Metric=%{x}<br>Metric Value=%{y}<extra></extra>",
           "legendgroup": "",
           "marker": {
            "color": "#636efa",
            "pattern": {
             "shape": ""
            }
           },
           "name": "",
           "offsetgroup": "",
           "orientation": "v",
           "showlegend": false,
           "textposition": "auto",
           "type": "bar",
           "x": [
            "Accuracy",
            "Precision",
            "Recall"
           ],
           "xaxis": "x",
           "y": [
            0.85233798195242,
            0,
            0
           ],
           "yaxis": "y"
          }
         ],
         "name": "93"
        },
        {
         "data": [
          {
           "alignmentgroup": "True",
           "hovertemplate": "K=94<br>Metric=%{x}<br>Metric Value=%{y}<extra></extra>",
           "legendgroup": "",
           "marker": {
            "color": "#636efa",
            "pattern": {
             "shape": ""
            }
           },
           "name": "",
           "offsetgroup": "",
           "orientation": "v",
           "showlegend": false,
           "textposition": "auto",
           "type": "bar",
           "x": [
            "Accuracy",
            "Precision",
            "Recall"
           ],
           "xaxis": "x",
           "y": [
            0.85233798195242,
            0,
            0
           ],
           "yaxis": "y"
          }
         ],
         "name": "94"
        },
        {
         "data": [
          {
           "alignmentgroup": "True",
           "hovertemplate": "K=95<br>Metric=%{x}<br>Metric Value=%{y}<extra></extra>",
           "legendgroup": "",
           "marker": {
            "color": "#636efa",
            "pattern": {
             "shape": ""
            }
           },
           "name": "",
           "offsetgroup": "",
           "orientation": "v",
           "showlegend": false,
           "textposition": "auto",
           "type": "bar",
           "x": [
            "Accuracy",
            "Precision",
            "Recall"
           ],
           "xaxis": "x",
           "y": [
            0.85233798195242,
            0,
            0
           ],
           "yaxis": "y"
          }
         ],
         "name": "95"
        },
        {
         "data": [
          {
           "alignmentgroup": "True",
           "hovertemplate": "K=96<br>Metric=%{x}<br>Metric Value=%{y}<extra></extra>",
           "legendgroup": "",
           "marker": {
            "color": "#636efa",
            "pattern": {
             "shape": ""
            }
           },
           "name": "",
           "offsetgroup": "",
           "orientation": "v",
           "showlegend": false,
           "textposition": "auto",
           "type": "bar",
           "x": [
            "Accuracy",
            "Precision",
            "Recall"
           ],
           "xaxis": "x",
           "y": [
            0.85233798195242,
            0,
            0
           ],
           "yaxis": "y"
          }
         ],
         "name": "96"
        },
        {
         "data": [
          {
           "alignmentgroup": "True",
           "hovertemplate": "K=97<br>Metric=%{x}<br>Metric Value=%{y}<extra></extra>",
           "legendgroup": "",
           "marker": {
            "color": "#636efa",
            "pattern": {
             "shape": ""
            }
           },
           "name": "",
           "offsetgroup": "",
           "orientation": "v",
           "showlegend": false,
           "textposition": "auto",
           "type": "bar",
           "x": [
            "Accuracy",
            "Precision",
            "Recall"
           ],
           "xaxis": "x",
           "y": [
            0.85233798195242,
            0,
            0
           ],
           "yaxis": "y"
          }
         ],
         "name": "97"
        },
        {
         "data": [
          {
           "alignmentgroup": "True",
           "hovertemplate": "K=98<br>Metric=%{x}<br>Metric Value=%{y}<extra></extra>",
           "legendgroup": "",
           "marker": {
            "color": "#636efa",
            "pattern": {
             "shape": ""
            }
           },
           "name": "",
           "offsetgroup": "",
           "orientation": "v",
           "showlegend": false,
           "textposition": "auto",
           "type": "bar",
           "x": [
            "Accuracy",
            "Precision",
            "Recall"
           ],
           "xaxis": "x",
           "y": [
            0.85233798195242,
            0,
            0
           ],
           "yaxis": "y"
          }
         ],
         "name": "98"
        },
        {
         "data": [
          {
           "alignmentgroup": "True",
           "hovertemplate": "K=99<br>Metric=%{x}<br>Metric Value=%{y}<extra></extra>",
           "legendgroup": "",
           "marker": {
            "color": "#636efa",
            "pattern": {
             "shape": ""
            }
           },
           "name": "",
           "offsetgroup": "",
           "orientation": "v",
           "showlegend": false,
           "textposition": "auto",
           "type": "bar",
           "x": [
            "Accuracy",
            "Precision",
            "Recall"
           ],
           "xaxis": "x",
           "y": [
            0.85233798195242,
            0,
            0
           ],
           "yaxis": "y"
          }
         ],
         "name": "99"
        }
       ],
       "layout": {
        "autosize": true,
        "barmode": "relative",
        "legend": {
         "tracegroupgap": 0
        },
        "sliders": [
         {
          "active": 98,
          "currentvalue": {
           "prefix": "K="
          },
          "len": 0.9,
          "pad": {
           "b": 10,
           "t": 60
          },
          "steps": [
           {
            "args": [
             [
              "1"
             ],
             {
              "frame": {
               "duration": 0,
               "redraw": true
              },
              "fromcurrent": true,
              "mode": "immediate",
              "transition": {
               "duration": 0,
               "easing": "linear"
              }
             }
            ],
            "label": "1",
            "method": "animate"
           },
           {
            "args": [
             [
              "2"
             ],
             {
              "frame": {
               "duration": 0,
               "redraw": true
              },
              "fromcurrent": true,
              "mode": "immediate",
              "transition": {
               "duration": 0,
               "easing": "linear"
              }
             }
            ],
            "label": "2",
            "method": "animate"
           },
           {
            "args": [
             [
              "3"
             ],
             {
              "frame": {
               "duration": 0,
               "redraw": true
              },
              "fromcurrent": true,
              "mode": "immediate",
              "transition": {
               "duration": 0,
               "easing": "linear"
              }
             }
            ],
            "label": "3",
            "method": "animate"
           },
           {
            "args": [
             [
              "4"
             ],
             {
              "frame": {
               "duration": 0,
               "redraw": true
              },
              "fromcurrent": true,
              "mode": "immediate",
              "transition": {
               "duration": 0,
               "easing": "linear"
              }
             }
            ],
            "label": "4",
            "method": "animate"
           },
           {
            "args": [
             [
              "5"
             ],
             {
              "frame": {
               "duration": 0,
               "redraw": true
              },
              "fromcurrent": true,
              "mode": "immediate",
              "transition": {
               "duration": 0,
               "easing": "linear"
              }
             }
            ],
            "label": "5",
            "method": "animate"
           },
           {
            "args": [
             [
              "6"
             ],
             {
              "frame": {
               "duration": 0,
               "redraw": true
              },
              "fromcurrent": true,
              "mode": "immediate",
              "transition": {
               "duration": 0,
               "easing": "linear"
              }
             }
            ],
            "label": "6",
            "method": "animate"
           },
           {
            "args": [
             [
              "7"
             ],
             {
              "frame": {
               "duration": 0,
               "redraw": true
              },
              "fromcurrent": true,
              "mode": "immediate",
              "transition": {
               "duration": 0,
               "easing": "linear"
              }
             }
            ],
            "label": "7",
            "method": "animate"
           },
           {
            "args": [
             [
              "8"
             ],
             {
              "frame": {
               "duration": 0,
               "redraw": true
              },
              "fromcurrent": true,
              "mode": "immediate",
              "transition": {
               "duration": 0,
               "easing": "linear"
              }
             }
            ],
            "label": "8",
            "method": "animate"
           },
           {
            "args": [
             [
              "9"
             ],
             {
              "frame": {
               "duration": 0,
               "redraw": true
              },
              "fromcurrent": true,
              "mode": "immediate",
              "transition": {
               "duration": 0,
               "easing": "linear"
              }
             }
            ],
            "label": "9",
            "method": "animate"
           },
           {
            "args": [
             [
              "10"
             ],
             {
              "frame": {
               "duration": 0,
               "redraw": true
              },
              "fromcurrent": true,
              "mode": "immediate",
              "transition": {
               "duration": 0,
               "easing": "linear"
              }
             }
            ],
            "label": "10",
            "method": "animate"
           },
           {
            "args": [
             [
              "11"
             ],
             {
              "frame": {
               "duration": 0,
               "redraw": true
              },
              "fromcurrent": true,
              "mode": "immediate",
              "transition": {
               "duration": 0,
               "easing": "linear"
              }
             }
            ],
            "label": "11",
            "method": "animate"
           },
           {
            "args": [
             [
              "12"
             ],
             {
              "frame": {
               "duration": 0,
               "redraw": true
              },
              "fromcurrent": true,
              "mode": "immediate",
              "transition": {
               "duration": 0,
               "easing": "linear"
              }
             }
            ],
            "label": "12",
            "method": "animate"
           },
           {
            "args": [
             [
              "13"
             ],
             {
              "frame": {
               "duration": 0,
               "redraw": true
              },
              "fromcurrent": true,
              "mode": "immediate",
              "transition": {
               "duration": 0,
               "easing": "linear"
              }
             }
            ],
            "label": "13",
            "method": "animate"
           },
           {
            "args": [
             [
              "14"
             ],
             {
              "frame": {
               "duration": 0,
               "redraw": true
              },
              "fromcurrent": true,
              "mode": "immediate",
              "transition": {
               "duration": 0,
               "easing": "linear"
              }
             }
            ],
            "label": "14",
            "method": "animate"
           },
           {
            "args": [
             [
              "15"
             ],
             {
              "frame": {
               "duration": 0,
               "redraw": true
              },
              "fromcurrent": true,
              "mode": "immediate",
              "transition": {
               "duration": 0,
               "easing": "linear"
              }
             }
            ],
            "label": "15",
            "method": "animate"
           },
           {
            "args": [
             [
              "16"
             ],
             {
              "frame": {
               "duration": 0,
               "redraw": true
              },
              "fromcurrent": true,
              "mode": "immediate",
              "transition": {
               "duration": 0,
               "easing": "linear"
              }
             }
            ],
            "label": "16",
            "method": "animate"
           },
           {
            "args": [
             [
              "17"
             ],
             {
              "frame": {
               "duration": 0,
               "redraw": true
              },
              "fromcurrent": true,
              "mode": "immediate",
              "transition": {
               "duration": 0,
               "easing": "linear"
              }
             }
            ],
            "label": "17",
            "method": "animate"
           },
           {
            "args": [
             [
              "18"
             ],
             {
              "frame": {
               "duration": 0,
               "redraw": true
              },
              "fromcurrent": true,
              "mode": "immediate",
              "transition": {
               "duration": 0,
               "easing": "linear"
              }
             }
            ],
            "label": "18",
            "method": "animate"
           },
           {
            "args": [
             [
              "19"
             ],
             {
              "frame": {
               "duration": 0,
               "redraw": true
              },
              "fromcurrent": true,
              "mode": "immediate",
              "transition": {
               "duration": 0,
               "easing": "linear"
              }
             }
            ],
            "label": "19",
            "method": "animate"
           },
           {
            "args": [
             [
              "20"
             ],
             {
              "frame": {
               "duration": 0,
               "redraw": true
              },
              "fromcurrent": true,
              "mode": "immediate",
              "transition": {
               "duration": 0,
               "easing": "linear"
              }
             }
            ],
            "label": "20",
            "method": "animate"
           },
           {
            "args": [
             [
              "21"
             ],
             {
              "frame": {
               "duration": 0,
               "redraw": true
              },
              "fromcurrent": true,
              "mode": "immediate",
              "transition": {
               "duration": 0,
               "easing": "linear"
              }
             }
            ],
            "label": "21",
            "method": "animate"
           },
           {
            "args": [
             [
              "22"
             ],
             {
              "frame": {
               "duration": 0,
               "redraw": true
              },
              "fromcurrent": true,
              "mode": "immediate",
              "transition": {
               "duration": 0,
               "easing": "linear"
              }
             }
            ],
            "label": "22",
            "method": "animate"
           },
           {
            "args": [
             [
              "23"
             ],
             {
              "frame": {
               "duration": 0,
               "redraw": true
              },
              "fromcurrent": true,
              "mode": "immediate",
              "transition": {
               "duration": 0,
               "easing": "linear"
              }
             }
            ],
            "label": "23",
            "method": "animate"
           },
           {
            "args": [
             [
              "24"
             ],
             {
              "frame": {
               "duration": 0,
               "redraw": true
              },
              "fromcurrent": true,
              "mode": "immediate",
              "transition": {
               "duration": 0,
               "easing": "linear"
              }
             }
            ],
            "label": "24",
            "method": "animate"
           },
           {
            "args": [
             [
              "25"
             ],
             {
              "frame": {
               "duration": 0,
               "redraw": true
              },
              "fromcurrent": true,
              "mode": "immediate",
              "transition": {
               "duration": 0,
               "easing": "linear"
              }
             }
            ],
            "label": "25",
            "method": "animate"
           },
           {
            "args": [
             [
              "26"
             ],
             {
              "frame": {
               "duration": 0,
               "redraw": true
              },
              "fromcurrent": true,
              "mode": "immediate",
              "transition": {
               "duration": 0,
               "easing": "linear"
              }
             }
            ],
            "label": "26",
            "method": "animate"
           },
           {
            "args": [
             [
              "27"
             ],
             {
              "frame": {
               "duration": 0,
               "redraw": true
              },
              "fromcurrent": true,
              "mode": "immediate",
              "transition": {
               "duration": 0,
               "easing": "linear"
              }
             }
            ],
            "label": "27",
            "method": "animate"
           },
           {
            "args": [
             [
              "28"
             ],
             {
              "frame": {
               "duration": 0,
               "redraw": true
              },
              "fromcurrent": true,
              "mode": "immediate",
              "transition": {
               "duration": 0,
               "easing": "linear"
              }
             }
            ],
            "label": "28",
            "method": "animate"
           },
           {
            "args": [
             [
              "29"
             ],
             {
              "frame": {
               "duration": 0,
               "redraw": true
              },
              "fromcurrent": true,
              "mode": "immediate",
              "transition": {
               "duration": 0,
               "easing": "linear"
              }
             }
            ],
            "label": "29",
            "method": "animate"
           },
           {
            "args": [
             [
              "30"
             ],
             {
              "frame": {
               "duration": 0,
               "redraw": true
              },
              "fromcurrent": true,
              "mode": "immediate",
              "transition": {
               "duration": 0,
               "easing": "linear"
              }
             }
            ],
            "label": "30",
            "method": "animate"
           },
           {
            "args": [
             [
              "31"
             ],
             {
              "frame": {
               "duration": 0,
               "redraw": true
              },
              "fromcurrent": true,
              "mode": "immediate",
              "transition": {
               "duration": 0,
               "easing": "linear"
              }
             }
            ],
            "label": "31",
            "method": "animate"
           },
           {
            "args": [
             [
              "32"
             ],
             {
              "frame": {
               "duration": 0,
               "redraw": true
              },
              "fromcurrent": true,
              "mode": "immediate",
              "transition": {
               "duration": 0,
               "easing": "linear"
              }
             }
            ],
            "label": "32",
            "method": "animate"
           },
           {
            "args": [
             [
              "33"
             ],
             {
              "frame": {
               "duration": 0,
               "redraw": true
              },
              "fromcurrent": true,
              "mode": "immediate",
              "transition": {
               "duration": 0,
               "easing": "linear"
              }
             }
            ],
            "label": "33",
            "method": "animate"
           },
           {
            "args": [
             [
              "34"
             ],
             {
              "frame": {
               "duration": 0,
               "redraw": true
              },
              "fromcurrent": true,
              "mode": "immediate",
              "transition": {
               "duration": 0,
               "easing": "linear"
              }
             }
            ],
            "label": "34",
            "method": "animate"
           },
           {
            "args": [
             [
              "35"
             ],
             {
              "frame": {
               "duration": 0,
               "redraw": true
              },
              "fromcurrent": true,
              "mode": "immediate",
              "transition": {
               "duration": 0,
               "easing": "linear"
              }
             }
            ],
            "label": "35",
            "method": "animate"
           },
           {
            "args": [
             [
              "36"
             ],
             {
              "frame": {
               "duration": 0,
               "redraw": true
              },
              "fromcurrent": true,
              "mode": "immediate",
              "transition": {
               "duration": 0,
               "easing": "linear"
              }
             }
            ],
            "label": "36",
            "method": "animate"
           },
           {
            "args": [
             [
              "37"
             ],
             {
              "frame": {
               "duration": 0,
               "redraw": true
              },
              "fromcurrent": true,
              "mode": "immediate",
              "transition": {
               "duration": 0,
               "easing": "linear"
              }
             }
            ],
            "label": "37",
            "method": "animate"
           },
           {
            "args": [
             [
              "38"
             ],
             {
              "frame": {
               "duration": 0,
               "redraw": true
              },
              "fromcurrent": true,
              "mode": "immediate",
              "transition": {
               "duration": 0,
               "easing": "linear"
              }
             }
            ],
            "label": "38",
            "method": "animate"
           },
           {
            "args": [
             [
              "39"
             ],
             {
              "frame": {
               "duration": 0,
               "redraw": true
              },
              "fromcurrent": true,
              "mode": "immediate",
              "transition": {
               "duration": 0,
               "easing": "linear"
              }
             }
            ],
            "label": "39",
            "method": "animate"
           },
           {
            "args": [
             [
              "40"
             ],
             {
              "frame": {
               "duration": 0,
               "redraw": true
              },
              "fromcurrent": true,
              "mode": "immediate",
              "transition": {
               "duration": 0,
               "easing": "linear"
              }
             }
            ],
            "label": "40",
            "method": "animate"
           },
           {
            "args": [
             [
              "41"
             ],
             {
              "frame": {
               "duration": 0,
               "redraw": true
              },
              "fromcurrent": true,
              "mode": "immediate",
              "transition": {
               "duration": 0,
               "easing": "linear"
              }
             }
            ],
            "label": "41",
            "method": "animate"
           },
           {
            "args": [
             [
              "42"
             ],
             {
              "frame": {
               "duration": 0,
               "redraw": true
              },
              "fromcurrent": true,
              "mode": "immediate",
              "transition": {
               "duration": 0,
               "easing": "linear"
              }
             }
            ],
            "label": "42",
            "method": "animate"
           },
           {
            "args": [
             [
              "43"
             ],
             {
              "frame": {
               "duration": 0,
               "redraw": true
              },
              "fromcurrent": true,
              "mode": "immediate",
              "transition": {
               "duration": 0,
               "easing": "linear"
              }
             }
            ],
            "label": "43",
            "method": "animate"
           },
           {
            "args": [
             [
              "44"
             ],
             {
              "frame": {
               "duration": 0,
               "redraw": true
              },
              "fromcurrent": true,
              "mode": "immediate",
              "transition": {
               "duration": 0,
               "easing": "linear"
              }
             }
            ],
            "label": "44",
            "method": "animate"
           },
           {
            "args": [
             [
              "45"
             ],
             {
              "frame": {
               "duration": 0,
               "redraw": true
              },
              "fromcurrent": true,
              "mode": "immediate",
              "transition": {
               "duration": 0,
               "easing": "linear"
              }
             }
            ],
            "label": "45",
            "method": "animate"
           },
           {
            "args": [
             [
              "46"
             ],
             {
              "frame": {
               "duration": 0,
               "redraw": true
              },
              "fromcurrent": true,
              "mode": "immediate",
              "transition": {
               "duration": 0,
               "easing": "linear"
              }
             }
            ],
            "label": "46",
            "method": "animate"
           },
           {
            "args": [
             [
              "47"
             ],
             {
              "frame": {
               "duration": 0,
               "redraw": true
              },
              "fromcurrent": true,
              "mode": "immediate",
              "transition": {
               "duration": 0,
               "easing": "linear"
              }
             }
            ],
            "label": "47",
            "method": "animate"
           },
           {
            "args": [
             [
              "48"
             ],
             {
              "frame": {
               "duration": 0,
               "redraw": true
              },
              "fromcurrent": true,
              "mode": "immediate",
              "transition": {
               "duration": 0,
               "easing": "linear"
              }
             }
            ],
            "label": "48",
            "method": "animate"
           },
           {
            "args": [
             [
              "49"
             ],
             {
              "frame": {
               "duration": 0,
               "redraw": true
              },
              "fromcurrent": true,
              "mode": "immediate",
              "transition": {
               "duration": 0,
               "easing": "linear"
              }
             }
            ],
            "label": "49",
            "method": "animate"
           },
           {
            "args": [
             [
              "50"
             ],
             {
              "frame": {
               "duration": 0,
               "redraw": true
              },
              "fromcurrent": true,
              "mode": "immediate",
              "transition": {
               "duration": 0,
               "easing": "linear"
              }
             }
            ],
            "label": "50",
            "method": "animate"
           },
           {
            "args": [
             [
              "51"
             ],
             {
              "frame": {
               "duration": 0,
               "redraw": true
              },
              "fromcurrent": true,
              "mode": "immediate",
              "transition": {
               "duration": 0,
               "easing": "linear"
              }
             }
            ],
            "label": "51",
            "method": "animate"
           },
           {
            "args": [
             [
              "52"
             ],
             {
              "frame": {
               "duration": 0,
               "redraw": true
              },
              "fromcurrent": true,
              "mode": "immediate",
              "transition": {
               "duration": 0,
               "easing": "linear"
              }
             }
            ],
            "label": "52",
            "method": "animate"
           },
           {
            "args": [
             [
              "53"
             ],
             {
              "frame": {
               "duration": 0,
               "redraw": true
              },
              "fromcurrent": true,
              "mode": "immediate",
              "transition": {
               "duration": 0,
               "easing": "linear"
              }
             }
            ],
            "label": "53",
            "method": "animate"
           },
           {
            "args": [
             [
              "54"
             ],
             {
              "frame": {
               "duration": 0,
               "redraw": true
              },
              "fromcurrent": true,
              "mode": "immediate",
              "transition": {
               "duration": 0,
               "easing": "linear"
              }
             }
            ],
            "label": "54",
            "method": "animate"
           },
           {
            "args": [
             [
              "55"
             ],
             {
              "frame": {
               "duration": 0,
               "redraw": true
              },
              "fromcurrent": true,
              "mode": "immediate",
              "transition": {
               "duration": 0,
               "easing": "linear"
              }
             }
            ],
            "label": "55",
            "method": "animate"
           },
           {
            "args": [
             [
              "56"
             ],
             {
              "frame": {
               "duration": 0,
               "redraw": true
              },
              "fromcurrent": true,
              "mode": "immediate",
              "transition": {
               "duration": 0,
               "easing": "linear"
              }
             }
            ],
            "label": "56",
            "method": "animate"
           },
           {
            "args": [
             [
              "57"
             ],
             {
              "frame": {
               "duration": 0,
               "redraw": true
              },
              "fromcurrent": true,
              "mode": "immediate",
              "transition": {
               "duration": 0,
               "easing": "linear"
              }
             }
            ],
            "label": "57",
            "method": "animate"
           },
           {
            "args": [
             [
              "58"
             ],
             {
              "frame": {
               "duration": 0,
               "redraw": true
              },
              "fromcurrent": true,
              "mode": "immediate",
              "transition": {
               "duration": 0,
               "easing": "linear"
              }
             }
            ],
            "label": "58",
            "method": "animate"
           },
           {
            "args": [
             [
              "59"
             ],
             {
              "frame": {
               "duration": 0,
               "redraw": true
              },
              "fromcurrent": true,
              "mode": "immediate",
              "transition": {
               "duration": 0,
               "easing": "linear"
              }
             }
            ],
            "label": "59",
            "method": "animate"
           },
           {
            "args": [
             [
              "60"
             ],
             {
              "frame": {
               "duration": 0,
               "redraw": true
              },
              "fromcurrent": true,
              "mode": "immediate",
              "transition": {
               "duration": 0,
               "easing": "linear"
              }
             }
            ],
            "label": "60",
            "method": "animate"
           },
           {
            "args": [
             [
              "61"
             ],
             {
              "frame": {
               "duration": 0,
               "redraw": true
              },
              "fromcurrent": true,
              "mode": "immediate",
              "transition": {
               "duration": 0,
               "easing": "linear"
              }
             }
            ],
            "label": "61",
            "method": "animate"
           },
           {
            "args": [
             [
              "62"
             ],
             {
              "frame": {
               "duration": 0,
               "redraw": true
              },
              "fromcurrent": true,
              "mode": "immediate",
              "transition": {
               "duration": 0,
               "easing": "linear"
              }
             }
            ],
            "label": "62",
            "method": "animate"
           },
           {
            "args": [
             [
              "63"
             ],
             {
              "frame": {
               "duration": 0,
               "redraw": true
              },
              "fromcurrent": true,
              "mode": "immediate",
              "transition": {
               "duration": 0,
               "easing": "linear"
              }
             }
            ],
            "label": "63",
            "method": "animate"
           },
           {
            "args": [
             [
              "64"
             ],
             {
              "frame": {
               "duration": 0,
               "redraw": true
              },
              "fromcurrent": true,
              "mode": "immediate",
              "transition": {
               "duration": 0,
               "easing": "linear"
              }
             }
            ],
            "label": "64",
            "method": "animate"
           },
           {
            "args": [
             [
              "65"
             ],
             {
              "frame": {
               "duration": 0,
               "redraw": true
              },
              "fromcurrent": true,
              "mode": "immediate",
              "transition": {
               "duration": 0,
               "easing": "linear"
              }
             }
            ],
            "label": "65",
            "method": "animate"
           },
           {
            "args": [
             [
              "66"
             ],
             {
              "frame": {
               "duration": 0,
               "redraw": true
              },
              "fromcurrent": true,
              "mode": "immediate",
              "transition": {
               "duration": 0,
               "easing": "linear"
              }
             }
            ],
            "label": "66",
            "method": "animate"
           },
           {
            "args": [
             [
              "67"
             ],
             {
              "frame": {
               "duration": 0,
               "redraw": true
              },
              "fromcurrent": true,
              "mode": "immediate",
              "transition": {
               "duration": 0,
               "easing": "linear"
              }
             }
            ],
            "label": "67",
            "method": "animate"
           },
           {
            "args": [
             [
              "68"
             ],
             {
              "frame": {
               "duration": 0,
               "redraw": true
              },
              "fromcurrent": true,
              "mode": "immediate",
              "transition": {
               "duration": 0,
               "easing": "linear"
              }
             }
            ],
            "label": "68",
            "method": "animate"
           },
           {
            "args": [
             [
              "69"
             ],
             {
              "frame": {
               "duration": 0,
               "redraw": true
              },
              "fromcurrent": true,
              "mode": "immediate",
              "transition": {
               "duration": 0,
               "easing": "linear"
              }
             }
            ],
            "label": "69",
            "method": "animate"
           },
           {
            "args": [
             [
              "70"
             ],
             {
              "frame": {
               "duration": 0,
               "redraw": true
              },
              "fromcurrent": true,
              "mode": "immediate",
              "transition": {
               "duration": 0,
               "easing": "linear"
              }
             }
            ],
            "label": "70",
            "method": "animate"
           },
           {
            "args": [
             [
              "71"
             ],
             {
              "frame": {
               "duration": 0,
               "redraw": true
              },
              "fromcurrent": true,
              "mode": "immediate",
              "transition": {
               "duration": 0,
               "easing": "linear"
              }
             }
            ],
            "label": "71",
            "method": "animate"
           },
           {
            "args": [
             [
              "72"
             ],
             {
              "frame": {
               "duration": 0,
               "redraw": true
              },
              "fromcurrent": true,
              "mode": "immediate",
              "transition": {
               "duration": 0,
               "easing": "linear"
              }
             }
            ],
            "label": "72",
            "method": "animate"
           },
           {
            "args": [
             [
              "73"
             ],
             {
              "frame": {
               "duration": 0,
               "redraw": true
              },
              "fromcurrent": true,
              "mode": "immediate",
              "transition": {
               "duration": 0,
               "easing": "linear"
              }
             }
            ],
            "label": "73",
            "method": "animate"
           },
           {
            "args": [
             [
              "74"
             ],
             {
              "frame": {
               "duration": 0,
               "redraw": true
              },
              "fromcurrent": true,
              "mode": "immediate",
              "transition": {
               "duration": 0,
               "easing": "linear"
              }
             }
            ],
            "label": "74",
            "method": "animate"
           },
           {
            "args": [
             [
              "75"
             ],
             {
              "frame": {
               "duration": 0,
               "redraw": true
              },
              "fromcurrent": true,
              "mode": "immediate",
              "transition": {
               "duration": 0,
               "easing": "linear"
              }
             }
            ],
            "label": "75",
            "method": "animate"
           },
           {
            "args": [
             [
              "76"
             ],
             {
              "frame": {
               "duration": 0,
               "redraw": true
              },
              "fromcurrent": true,
              "mode": "immediate",
              "transition": {
               "duration": 0,
               "easing": "linear"
              }
             }
            ],
            "label": "76",
            "method": "animate"
           },
           {
            "args": [
             [
              "77"
             ],
             {
              "frame": {
               "duration": 0,
               "redraw": true
              },
              "fromcurrent": true,
              "mode": "immediate",
              "transition": {
               "duration": 0,
               "easing": "linear"
              }
             }
            ],
            "label": "77",
            "method": "animate"
           },
           {
            "args": [
             [
              "78"
             ],
             {
              "frame": {
               "duration": 0,
               "redraw": true
              },
              "fromcurrent": true,
              "mode": "immediate",
              "transition": {
               "duration": 0,
               "easing": "linear"
              }
             }
            ],
            "label": "78",
            "method": "animate"
           },
           {
            "args": [
             [
              "79"
             ],
             {
              "frame": {
               "duration": 0,
               "redraw": true
              },
              "fromcurrent": true,
              "mode": "immediate",
              "transition": {
               "duration": 0,
               "easing": "linear"
              }
             }
            ],
            "label": "79",
            "method": "animate"
           },
           {
            "args": [
             [
              "80"
             ],
             {
              "frame": {
               "duration": 0,
               "redraw": true
              },
              "fromcurrent": true,
              "mode": "immediate",
              "transition": {
               "duration": 0,
               "easing": "linear"
              }
             }
            ],
            "label": "80",
            "method": "animate"
           },
           {
            "args": [
             [
              "81"
             ],
             {
              "frame": {
               "duration": 0,
               "redraw": true
              },
              "fromcurrent": true,
              "mode": "immediate",
              "transition": {
               "duration": 0,
               "easing": "linear"
              }
             }
            ],
            "label": "81",
            "method": "animate"
           },
           {
            "args": [
             [
              "82"
             ],
             {
              "frame": {
               "duration": 0,
               "redraw": true
              },
              "fromcurrent": true,
              "mode": "immediate",
              "transition": {
               "duration": 0,
               "easing": "linear"
              }
             }
            ],
            "label": "82",
            "method": "animate"
           },
           {
            "args": [
             [
              "83"
             ],
             {
              "frame": {
               "duration": 0,
               "redraw": true
              },
              "fromcurrent": true,
              "mode": "immediate",
              "transition": {
               "duration": 0,
               "easing": "linear"
              }
             }
            ],
            "label": "83",
            "method": "animate"
           },
           {
            "args": [
             [
              "84"
             ],
             {
              "frame": {
               "duration": 0,
               "redraw": true
              },
              "fromcurrent": true,
              "mode": "immediate",
              "transition": {
               "duration": 0,
               "easing": "linear"
              }
             }
            ],
            "label": "84",
            "method": "animate"
           },
           {
            "args": [
             [
              "85"
             ],
             {
              "frame": {
               "duration": 0,
               "redraw": true
              },
              "fromcurrent": true,
              "mode": "immediate",
              "transition": {
               "duration": 0,
               "easing": "linear"
              }
             }
            ],
            "label": "85",
            "method": "animate"
           },
           {
            "args": [
             [
              "86"
             ],
             {
              "frame": {
               "duration": 0,
               "redraw": true
              },
              "fromcurrent": true,
              "mode": "immediate",
              "transition": {
               "duration": 0,
               "easing": "linear"
              }
             }
            ],
            "label": "86",
            "method": "animate"
           },
           {
            "args": [
             [
              "87"
             ],
             {
              "frame": {
               "duration": 0,
               "redraw": true
              },
              "fromcurrent": true,
              "mode": "immediate",
              "transition": {
               "duration": 0,
               "easing": "linear"
              }
             }
            ],
            "label": "87",
            "method": "animate"
           },
           {
            "args": [
             [
              "88"
             ],
             {
              "frame": {
               "duration": 0,
               "redraw": true
              },
              "fromcurrent": true,
              "mode": "immediate",
              "transition": {
               "duration": 0,
               "easing": "linear"
              }
             }
            ],
            "label": "88",
            "method": "animate"
           },
           {
            "args": [
             [
              "89"
             ],
             {
              "frame": {
               "duration": 0,
               "redraw": true
              },
              "fromcurrent": true,
              "mode": "immediate",
              "transition": {
               "duration": 0,
               "easing": "linear"
              }
             }
            ],
            "label": "89",
            "method": "animate"
           },
           {
            "args": [
             [
              "90"
             ],
             {
              "frame": {
               "duration": 0,
               "redraw": true
              },
              "fromcurrent": true,
              "mode": "immediate",
              "transition": {
               "duration": 0,
               "easing": "linear"
              }
             }
            ],
            "label": "90",
            "method": "animate"
           },
           {
            "args": [
             [
              "91"
             ],
             {
              "frame": {
               "duration": 0,
               "redraw": true
              },
              "fromcurrent": true,
              "mode": "immediate",
              "transition": {
               "duration": 0,
               "easing": "linear"
              }
             }
            ],
            "label": "91",
            "method": "animate"
           },
           {
            "args": [
             [
              "92"
             ],
             {
              "frame": {
               "duration": 0,
               "redraw": true
              },
              "fromcurrent": true,
              "mode": "immediate",
              "transition": {
               "duration": 0,
               "easing": "linear"
              }
             }
            ],
            "label": "92",
            "method": "animate"
           },
           {
            "args": [
             [
              "93"
             ],
             {
              "frame": {
               "duration": 0,
               "redraw": true
              },
              "fromcurrent": true,
              "mode": "immediate",
              "transition": {
               "duration": 0,
               "easing": "linear"
              }
             }
            ],
            "label": "93",
            "method": "animate"
           },
           {
            "args": [
             [
              "94"
             ],
             {
              "frame": {
               "duration": 0,
               "redraw": true
              },
              "fromcurrent": true,
              "mode": "immediate",
              "transition": {
               "duration": 0,
               "easing": "linear"
              }
             }
            ],
            "label": "94",
            "method": "animate"
           },
           {
            "args": [
             [
              "95"
             ],
             {
              "frame": {
               "duration": 0,
               "redraw": true
              },
              "fromcurrent": true,
              "mode": "immediate",
              "transition": {
               "duration": 0,
               "easing": "linear"
              }
             }
            ],
            "label": "95",
            "method": "animate"
           },
           {
            "args": [
             [
              "96"
             ],
             {
              "frame": {
               "duration": 0,
               "redraw": true
              },
              "fromcurrent": true,
              "mode": "immediate",
              "transition": {
               "duration": 0,
               "easing": "linear"
              }
             }
            ],
            "label": "96",
            "method": "animate"
           },
           {
            "args": [
             [
              "97"
             ],
             {
              "frame": {
               "duration": 0,
               "redraw": true
              },
              "fromcurrent": true,
              "mode": "immediate",
              "transition": {
               "duration": 0,
               "easing": "linear"
              }
             }
            ],
            "label": "97",
            "method": "animate"
           },
           {
            "args": [
             [
              "98"
             ],
             {
              "frame": {
               "duration": 0,
               "redraw": true
              },
              "fromcurrent": true,
              "mode": "immediate",
              "transition": {
               "duration": 0,
               "easing": "linear"
              }
             }
            ],
            "label": "98",
            "method": "animate"
           },
           {
            "args": [
             [
              "99"
             ],
             {
              "frame": {
               "duration": 0,
               "redraw": true
              },
              "fromcurrent": true,
              "mode": "immediate",
              "transition": {
               "duration": 0,
               "easing": "linear"
              }
             }
            ],
            "label": "99",
            "method": "animate"
           }
          ],
          "x": 0.1,
          "xanchor": "left",
          "y": 0,
          "yanchor": "top"
         }
        ],
        "template": {
         "data": {
          "bar": [
           {
            "error_x": {
             "color": "#2a3f5f"
            },
            "error_y": {
             "color": "#2a3f5f"
            },
            "marker": {
             "line": {
              "color": "#E5ECF6",
              "width": 0.5
             },
             "pattern": {
              "fillmode": "overlay",
              "size": 10,
              "solidity": 0.2
             }
            },
            "type": "bar"
           }
          ],
          "barpolar": [
           {
            "marker": {
             "line": {
              "color": "#E5ECF6",
              "width": 0.5
             },
             "pattern": {
              "fillmode": "overlay",
              "size": 10,
              "solidity": 0.2
             }
            },
            "type": "barpolar"
           }
          ],
          "carpet": [
           {
            "aaxis": {
             "endlinecolor": "#2a3f5f",
             "gridcolor": "white",
             "linecolor": "white",
             "minorgridcolor": "white",
             "startlinecolor": "#2a3f5f"
            },
            "baxis": {
             "endlinecolor": "#2a3f5f",
             "gridcolor": "white",
             "linecolor": "white",
             "minorgridcolor": "white",
             "startlinecolor": "#2a3f5f"
            },
            "type": "carpet"
           }
          ],
          "choropleth": [
           {
            "colorbar": {
             "outlinewidth": 0,
             "ticks": ""
            },
            "type": "choropleth"
           }
          ],
          "contour": [
           {
            "colorbar": {
             "outlinewidth": 0,
             "ticks": ""
            },
            "colorscale": [
             [
              0,
              "#0d0887"
             ],
             [
              0.1111111111111111,
              "#46039f"
             ],
             [
              0.2222222222222222,
              "#7201a8"
             ],
             [
              0.3333333333333333,
              "#9c179e"
             ],
             [
              0.4444444444444444,
              "#bd3786"
             ],
             [
              0.5555555555555556,
              "#d8576b"
             ],
             [
              0.6666666666666666,
              "#ed7953"
             ],
             [
              0.7777777777777778,
              "#fb9f3a"
             ],
             [
              0.8888888888888888,
              "#fdca26"
             ],
             [
              1,
              "#f0f921"
             ]
            ],
            "type": "contour"
           }
          ],
          "contourcarpet": [
           {
            "colorbar": {
             "outlinewidth": 0,
             "ticks": ""
            },
            "type": "contourcarpet"
           }
          ],
          "heatmap": [
           {
            "colorbar": {
             "outlinewidth": 0,
             "ticks": ""
            },
            "colorscale": [
             [
              0,
              "#0d0887"
             ],
             [
              0.1111111111111111,
              "#46039f"
             ],
             [
              0.2222222222222222,
              "#7201a8"
             ],
             [
              0.3333333333333333,
              "#9c179e"
             ],
             [
              0.4444444444444444,
              "#bd3786"
             ],
             [
              0.5555555555555556,
              "#d8576b"
             ],
             [
              0.6666666666666666,
              "#ed7953"
             ],
             [
              0.7777777777777778,
              "#fb9f3a"
             ],
             [
              0.8888888888888888,
              "#fdca26"
             ],
             [
              1,
              "#f0f921"
             ]
            ],
            "type": "heatmap"
           }
          ],
          "heatmapgl": [
           {
            "colorbar": {
             "outlinewidth": 0,
             "ticks": ""
            },
            "colorscale": [
             [
              0,
              "#0d0887"
             ],
             [
              0.1111111111111111,
              "#46039f"
             ],
             [
              0.2222222222222222,
              "#7201a8"
             ],
             [
              0.3333333333333333,
              "#9c179e"
             ],
             [
              0.4444444444444444,
              "#bd3786"
             ],
             [
              0.5555555555555556,
              "#d8576b"
             ],
             [
              0.6666666666666666,
              "#ed7953"
             ],
             [
              0.7777777777777778,
              "#fb9f3a"
             ],
             [
              0.8888888888888888,
              "#fdca26"
             ],
             [
              1,
              "#f0f921"
             ]
            ],
            "type": "heatmapgl"
           }
          ],
          "histogram": [
           {
            "marker": {
             "pattern": {
              "fillmode": "overlay",
              "size": 10,
              "solidity": 0.2
             }
            },
            "type": "histogram"
           }
          ],
          "histogram2d": [
           {
            "colorbar": {
             "outlinewidth": 0,
             "ticks": ""
            },
            "colorscale": [
             [
              0,
              "#0d0887"
             ],
             [
              0.1111111111111111,
              "#46039f"
             ],
             [
              0.2222222222222222,
              "#7201a8"
             ],
             [
              0.3333333333333333,
              "#9c179e"
             ],
             [
              0.4444444444444444,
              "#bd3786"
             ],
             [
              0.5555555555555556,
              "#d8576b"
             ],
             [
              0.6666666666666666,
              "#ed7953"
             ],
             [
              0.7777777777777778,
              "#fb9f3a"
             ],
             [
              0.8888888888888888,
              "#fdca26"
             ],
             [
              1,
              "#f0f921"
             ]
            ],
            "type": "histogram2d"
           }
          ],
          "histogram2dcontour": [
           {
            "colorbar": {
             "outlinewidth": 0,
             "ticks": ""
            },
            "colorscale": [
             [
              0,
              "#0d0887"
             ],
             [
              0.1111111111111111,
              "#46039f"
             ],
             [
              0.2222222222222222,
              "#7201a8"
             ],
             [
              0.3333333333333333,
              "#9c179e"
             ],
             [
              0.4444444444444444,
              "#bd3786"
             ],
             [
              0.5555555555555556,
              "#d8576b"
             ],
             [
              0.6666666666666666,
              "#ed7953"
             ],
             [
              0.7777777777777778,
              "#fb9f3a"
             ],
             [
              0.8888888888888888,
              "#fdca26"
             ],
             [
              1,
              "#f0f921"
             ]
            ],
            "type": "histogram2dcontour"
           }
          ],
          "mesh3d": [
           {
            "colorbar": {
             "outlinewidth": 0,
             "ticks": ""
            },
            "type": "mesh3d"
           }
          ],
          "parcoords": [
           {
            "line": {
             "colorbar": {
              "outlinewidth": 0,
              "ticks": ""
             }
            },
            "type": "parcoords"
           }
          ],
          "pie": [
           {
            "automargin": true,
            "type": "pie"
           }
          ],
          "scatter": [
           {
            "fillpattern": {
             "fillmode": "overlay",
             "size": 10,
             "solidity": 0.2
            },
            "type": "scatter"
           }
          ],
          "scatter3d": [
           {
            "line": {
             "colorbar": {
              "outlinewidth": 0,
              "ticks": ""
             }
            },
            "marker": {
             "colorbar": {
              "outlinewidth": 0,
              "ticks": ""
             }
            },
            "type": "scatter3d"
           }
          ],
          "scattercarpet": [
           {
            "marker": {
             "colorbar": {
              "outlinewidth": 0,
              "ticks": ""
             }
            },
            "type": "scattercarpet"
           }
          ],
          "scattergeo": [
           {
            "marker": {
             "colorbar": {
              "outlinewidth": 0,
              "ticks": ""
             }
            },
            "type": "scattergeo"
           }
          ],
          "scattergl": [
           {
            "marker": {
             "colorbar": {
              "outlinewidth": 0,
              "ticks": ""
             }
            },
            "type": "scattergl"
           }
          ],
          "scattermapbox": [
           {
            "marker": {
             "colorbar": {
              "outlinewidth": 0,
              "ticks": ""
             }
            },
            "type": "scattermapbox"
           }
          ],
          "scatterpolar": [
           {
            "marker": {
             "colorbar": {
              "outlinewidth": 0,
              "ticks": ""
             }
            },
            "type": "scatterpolar"
           }
          ],
          "scatterpolargl": [
           {
            "marker": {
             "colorbar": {
              "outlinewidth": 0,
              "ticks": ""
             }
            },
            "type": "scatterpolargl"
           }
          ],
          "scatterternary": [
           {
            "marker": {
             "colorbar": {
              "outlinewidth": 0,
              "ticks": ""
             }
            },
            "type": "scatterternary"
           }
          ],
          "surface": [
           {
            "colorbar": {
             "outlinewidth": 0,
             "ticks": ""
            },
            "colorscale": [
             [
              0,
              "#0d0887"
             ],
             [
              0.1111111111111111,
              "#46039f"
             ],
             [
              0.2222222222222222,
              "#7201a8"
             ],
             [
              0.3333333333333333,
              "#9c179e"
             ],
             [
              0.4444444444444444,
              "#bd3786"
             ],
             [
              0.5555555555555556,
              "#d8576b"
             ],
             [
              0.6666666666666666,
              "#ed7953"
             ],
             [
              0.7777777777777778,
              "#fb9f3a"
             ],
             [
              0.8888888888888888,
              "#fdca26"
             ],
             [
              1,
              "#f0f921"
             ]
            ],
            "type": "surface"
           }
          ],
          "table": [
           {
            "cells": {
             "fill": {
              "color": "#EBF0F8"
             },
             "line": {
              "color": "white"
             }
            },
            "header": {
             "fill": {
              "color": "#C8D4E3"
             },
             "line": {
              "color": "white"
             }
            },
            "type": "table"
           }
          ]
         },
         "layout": {
          "annotationdefaults": {
           "arrowcolor": "#2a3f5f",
           "arrowhead": 0,
           "arrowwidth": 1
          },
          "autotypenumbers": "strict",
          "coloraxis": {
           "colorbar": {
            "outlinewidth": 0,
            "ticks": ""
           }
          },
          "colorscale": {
           "diverging": [
            [
             0,
             "#8e0152"
            ],
            [
             0.1,
             "#c51b7d"
            ],
            [
             0.2,
             "#de77ae"
            ],
            [
             0.3,
             "#f1b6da"
            ],
            [
             0.4,
             "#fde0ef"
            ],
            [
             0.5,
             "#f7f7f7"
            ],
            [
             0.6,
             "#e6f5d0"
            ],
            [
             0.7,
             "#b8e186"
            ],
            [
             0.8,
             "#7fbc41"
            ],
            [
             0.9,
             "#4d9221"
            ],
            [
             1,
             "#276419"
            ]
           ],
           "sequential": [
            [
             0,
             "#0d0887"
            ],
            [
             0.1111111111111111,
             "#46039f"
            ],
            [
             0.2222222222222222,
             "#7201a8"
            ],
            [
             0.3333333333333333,
             "#9c179e"
            ],
            [
             0.4444444444444444,
             "#bd3786"
            ],
            [
             0.5555555555555556,
             "#d8576b"
            ],
            [
             0.6666666666666666,
             "#ed7953"
            ],
            [
             0.7777777777777778,
             "#fb9f3a"
            ],
            [
             0.8888888888888888,
             "#fdca26"
            ],
            [
             1,
             "#f0f921"
            ]
           ],
           "sequentialminus": [
            [
             0,
             "#0d0887"
            ],
            [
             0.1111111111111111,
             "#46039f"
            ],
            [
             0.2222222222222222,
             "#7201a8"
            ],
            [
             0.3333333333333333,
             "#9c179e"
            ],
            [
             0.4444444444444444,
             "#bd3786"
            ],
            [
             0.5555555555555556,
             "#d8576b"
            ],
            [
             0.6666666666666666,
             "#ed7953"
            ],
            [
             0.7777777777777778,
             "#fb9f3a"
            ],
            [
             0.8888888888888888,
             "#fdca26"
            ],
            [
             1,
             "#f0f921"
            ]
           ]
          },
          "colorway": [
           "#636efa",
           "#EF553B",
           "#00cc96",
           "#ab63fa",
           "#FFA15A",
           "#19d3f3",
           "#FF6692",
           "#B6E880",
           "#FF97FF",
           "#FECB52"
          ],
          "font": {
           "color": "#2a3f5f"
          },
          "geo": {
           "bgcolor": "white",
           "lakecolor": "white",
           "landcolor": "#E5ECF6",
           "showlakes": true,
           "showland": true,
           "subunitcolor": "white"
          },
          "hoverlabel": {
           "align": "left"
          },
          "hovermode": "closest",
          "mapbox": {
           "style": "light"
          },
          "paper_bgcolor": "white",
          "plot_bgcolor": "#E5ECF6",
          "polar": {
           "angularaxis": {
            "gridcolor": "white",
            "linecolor": "white",
            "ticks": ""
           },
           "bgcolor": "#E5ECF6",
           "radialaxis": {
            "gridcolor": "white",
            "linecolor": "white",
            "ticks": ""
           }
          },
          "scene": {
           "xaxis": {
            "backgroundcolor": "#E5ECF6",
            "gridcolor": "white",
            "gridwidth": 2,
            "linecolor": "white",
            "showbackground": true,
            "ticks": "",
            "zerolinecolor": "white"
           },
           "yaxis": {
            "backgroundcolor": "#E5ECF6",
            "gridcolor": "white",
            "gridwidth": 2,
            "linecolor": "white",
            "showbackground": true,
            "ticks": "",
            "zerolinecolor": "white"
           },
           "zaxis": {
            "backgroundcolor": "#E5ECF6",
            "gridcolor": "white",
            "gridwidth": 2,
            "linecolor": "white",
            "showbackground": true,
            "ticks": "",
            "zerolinecolor": "white"
           }
          },
          "shapedefaults": {
           "line": {
            "color": "#2a3f5f"
           }
          },
          "ternary": {
           "aaxis": {
            "gridcolor": "white",
            "linecolor": "white",
            "ticks": ""
           },
           "baxis": {
            "gridcolor": "white",
            "linecolor": "white",
            "ticks": ""
           },
           "bgcolor": "#E5ECF6",
           "caxis": {
            "gridcolor": "white",
            "linecolor": "white",
            "ticks": ""
           }
          },
          "title": {
           "x": 0.05
          },
          "xaxis": {
           "automargin": true,
           "gridcolor": "white",
           "linecolor": "white",
           "ticks": "",
           "title": {
            "standoff": 15
           },
           "zerolinecolor": "white",
           "zerolinewidth": 2
          },
          "yaxis": {
           "automargin": true,
           "gridcolor": "white",
           "linecolor": "white",
           "ticks": "",
           "title": {
            "standoff": 15
           },
           "zerolinecolor": "white",
           "zerolinewidth": 2
          }
         }
        },
        "title": {
         "text": "Metrics for KNN Based on K Value"
        },
        "updatemenus": [
         {
          "active": 0,
          "buttons": [
           {
            "args": [
             null,
             {
              "frame": {
               "duration": 500,
               "redraw": true
              },
              "fromcurrent": true,
              "mode": "immediate",
              "transition": {
               "duration": 500,
               "easing": "linear"
              }
             }
            ],
            "label": "&#9654;",
            "method": "animate"
           },
           {
            "args": [
             [
              null
             ],
             {
              "frame": {
               "duration": 0,
               "redraw": true
              },
              "fromcurrent": true,
              "mode": "immediate",
              "transition": {
               "duration": 0,
               "easing": "linear"
              }
             }
            ],
            "label": "&#9724;",
            "method": "animate"
           }
          ],
          "direction": "left",
          "pad": {
           "r": 10,
           "t": 70
          },
          "showactive": false,
          "type": "buttons",
          "x": 0.1,
          "xanchor": "right",
          "y": 0,
          "yanchor": "top"
         }
        ],
        "xaxis": {
         "anchor": "y",
         "autorange": true,
         "domain": [
          0,
          1
         ],
         "range": [
          -0.5,
          2.5
         ],
         "title": {
          "text": "Metric"
         },
         "type": "category"
        },
        "yaxis": {
         "anchor": "x",
         "domain": [
          0,
          1
         ],
         "range": [
          0,
          1
         ],
         "title": {
          "text": "Metric Value"
         },
         "type": "linear"
        }
       }
      },
      "image/png": "[encoded data removed]",
      "text/html": [
       "<div>                            <div id=\"ae1bb535-6215-409b-9cd8-9f2da87256e7\" class=\"plotly-graph-div\" style=\"height:800px; width:100%;\"></div>            <script type=\"text/javascript\">                require([\"plotly\"], function(Plotly) {                    window.PLOTLYENV=window.PLOTLYENV || {};                                    if (document.getElementById(\"ae1bb535-6215-409b-9cd8-9f2da87256e7\")) {                    Plotly.newPlot(                        \"ae1bb535-6215-409b-9cd8-9f2da87256e7\",                        [{\"alignmentgroup\":\"True\",\"hovertemplate\":\"K=1\\u003cbr\\u003eMetric=%{x}\\u003cbr\\u003eMetric Value=%{y}\\u003cextra\\u003e\\u003c\\u002fextra\\u003e\",\"legendgroup\":\"\",\"marker\":{\"color\":\"#636efa\",\"pattern\":{\"shape\":\"\"}},\"name\":\"\",\"offsetgroup\":\"\",\"orientation\":\"v\",\"showlegend\":false,\"textposition\":\"auto\",\"x\":[\"Accuracy\",\"Precision\",\"Recall\"],\"xaxis\":\"x\",\"y\":[0.85233798195242,0.288135593220339,0.31097560975609756],\"yaxis\":\"y\",\"type\":\"bar\"}],                        {\"template\":{\"data\":{\"histogram2dcontour\":[{\"type\":\"histogram2dcontour\",\"colorbar\":{\"outlinewidth\":0,\"ticks\":\"\"},\"colorscale\":[[0.0,\"#0d0887\"],[0.1111111111111111,\"#46039f\"],[0.2222222222222222,\"#7201a8\"],[0.3333333333333333,\"#9c179e\"],[0.4444444444444444,\"#bd3786\"],[0.5555555555555556,\"#d8576b\"],[0.6666666666666666,\"#ed7953\"],[0.7777777777777778,\"#fb9f3a\"],[0.8888888888888888,\"#fdca26\"],[1.0,\"#f0f921\"]]}],\"choropleth\":[{\"type\":\"choropleth\",\"colorbar\":{\"outlinewidth\":0,\"ticks\":\"\"}}],\"histogram2d\":[{\"type\":\"histogram2d\",\"colorbar\":{\"outlinewidth\":0,\"ticks\":\"\"},\"colorscale\":[[0.0,\"#0d0887\"],[0.1111111111111111,\"#46039f\"],[0.2222222222222222,\"#7201a8\"],[0.3333333333333333,\"#9c179e\"],[0.4444444444444444,\"#bd3786\"],[0.5555555555555556,\"#d8576b\"],[0.6666666666666666,\"#ed7953\"],[0.7777777777777778,\"#fb9f3a\"],[0.8888888888888888,\"#fdca26\"],[1.0,\"#f0f921\"]]}],\"heatmap\":[{\"type\":\"heatmap\",\"colorbar\":{\"outlinewidth\":0,\"ticks\":\"\"},\"colorscale\":[[0.0,\"#0d0887\"],[0.1111111111111111,\"#46039f\"],[0.2222222222222222,\"#7201a8\"],[0.3333333333333333,\"#9c179e\"],[0.4444444444444444,\"#bd3786\"],[0.5555555555555556,\"#d8576b\"],[0.6666666666666666,\"#ed7953\"],[0.7777777777777778,\"#fb9f3a\"],[0.8888888888888888,\"#fdca26\"],[1.0,\"#f0f921\"]]}],\"heatmapgl\":[{\"type\":\"heatmapgl\",\"colorbar\":{\"outlinewidth\":0,\"ticks\":\"\"},\"colorscale\":[[0.0,\"#0d0887\"],[0.1111111111111111,\"#46039f\"],[0.2222222222222222,\"#7201a8\"],[0.3333333333333333,\"#9c179e\"],[0.4444444444444444,\"#bd3786\"],[0.5555555555555556,\"#d8576b\"],[0.6666666666666666,\"#ed7953\"],[0.7777777777777778,\"#fb9f3a\"],[0.8888888888888888,\"#fdca26\"],[1.0,\"#f0f921\"]]}],\"contourcarpet\":[{\"type\":\"contourcarpet\",\"colorbar\":{\"outlinewidth\":0,\"ticks\":\"\"}}],\"contour\":[{\"type\":\"contour\",\"colorbar\":{\"outlinewidth\":0,\"ticks\":\"\"},\"colorscale\":[[0.0,\"#0d0887\"],[0.1111111111111111,\"#46039f\"],[0.2222222222222222,\"#7201a8\"],[0.3333333333333333,\"#9c179e\"],[0.4444444444444444,\"#bd3786\"],[0.5555555555555556,\"#d8576b\"],[0.6666666666666666,\"#ed7953\"],[0.7777777777777778,\"#fb9f3a\"],[0.8888888888888888,\"#fdca26\"],[1.0,\"#f0f921\"]]}],\"surface\":[{\"type\":\"surface\",\"colorbar\":{\"outlinewidth\":0,\"ticks\":\"\"},\"colorscale\":[[0.0,\"#0d0887\"],[0.1111111111111111,\"#46039f\"],[0.2222222222222222,\"#7201a8\"],[0.3333333333333333,\"#9c179e\"],[0.4444444444444444,\"#bd3786\"],[0.5555555555555556,\"#d8576b\"],[0.6666666666666666,\"#ed7953\"],[0.7777777777777778,\"#fb9f3a\"],[0.8888888888888888,\"#fdca26\"],[1.0,\"#f0f921\"]]}],\"mesh3d\":[{\"type\":\"mesh3d\",\"colorbar\":{\"outlinewidth\":0,\"ticks\":\"\"}}],\"scatter\":[{\"fillpattern\":{\"fillmode\":\"overlay\",\"size\":10,\"solidity\":0.2},\"type\":\"scatter\"}],\"parcoords\":[{\"type\":\"parcoords\",\"line\":{\"colorbar\":{\"outlinewidth\":0,\"ticks\":\"\"}}}],\"scatterpolargl\":[{\"type\":\"scatterpolargl\",\"marker\":{\"colorbar\":{\"outlinewidth\":0,\"ticks\":\"\"}}}],\"bar\":[{\"error_x\":{\"color\":\"#2a3f5f\"},\"error_y\":{\"color\":\"#2a3f5f\"},\"marker\":{\"line\":{\"color\":\"#E5ECF6\",\"width\":0.5},\"pattern\":{\"fillmode\":\"overlay\",\"size\":10,\"solidity\":0.2}},\"type\":\"bar\"}],\"scattergeo\":[{\"type\":\"scattergeo\",\"marker\":{\"colorbar\":{\"outlinewidth\":0,\"ticks\":\"\"}}}],\"scatterpolar\":[{\"type\":\"scatterpolar\",\"marker\":{\"colorbar\":{\"outlinewidth\":0,\"ticks\":\"\"}}}],\"histogram\":[{\"marker\":{\"pattern\":{\"fillmode\":\"overlay\",\"size\":10,\"solidity\":0.2}},\"type\":\"histogram\"}],\"scattergl\":[{\"type\":\"scattergl\",\"marker\":{\"colorbar\":{\"outlinewidth\":0,\"ticks\":\"\"}}}],\"scatter3d\":[{\"type\":\"scatter3d\",\"line\":{\"colorbar\":{\"outlinewidth\":0,\"ticks\":\"\"}},\"marker\":{\"colorbar\":{\"outlinewidth\":0,\"ticks\":\"\"}}}],\"scattermapbox\":[{\"type\":\"scattermapbox\",\"marker\":{\"colorbar\":{\"outlinewidth\":0,\"ticks\":\"\"}}}],\"scatterternary\":[{\"type\":\"scatterternary\",\"marker\":{\"colorbar\":{\"outlinewidth\":0,\"ticks\":\"\"}}}],\"scattercarpet\":[{\"type\":\"scattercarpet\",\"marker\":{\"colorbar\":{\"outlinewidth\":0,\"ticks\":\"\"}}}],\"carpet\":[{\"aaxis\":{\"endlinecolor\":\"#2a3f5f\",\"gridcolor\":\"white\",\"linecolor\":\"white\",\"minorgridcolor\":\"white\",\"startlinecolor\":\"#2a3f5f\"},\"baxis\":{\"endlinecolor\":\"#2a3f5f\",\"gridcolor\":\"white\",\"linecolor\":\"white\",\"minorgridcolor\":\"white\",\"startlinecolor\":\"#2a3f5f\"},\"type\":\"carpet\"}],\"table\":[{\"cells\":{\"fill\":{\"color\":\"#EBF0F8\"},\"line\":{\"color\":\"white\"}},\"header\":{\"fill\":{\"color\":\"#C8D4E3\"},\"line\":{\"color\":\"white\"}},\"type\":\"table\"}],\"barpolar\":[{\"marker\":{\"line\":{\"color\":\"#E5ECF6\",\"width\":0.5},\"pattern\":{\"fillmode\":\"overlay\",\"size\":10,\"solidity\":0.2}},\"type\":\"barpolar\"}],\"pie\":[{\"automargin\":true,\"type\":\"pie\"}]},\"layout\":{\"autotypenumbers\":\"strict\",\"colorway\":[\"#636efa\",\"#EF553B\",\"#00cc96\",\"#ab63fa\",\"#FFA15A\",\"#19d3f3\",\"#FF6692\",\"#B6E880\",\"#FF97FF\",\"#FECB52\"],\"font\":{\"color\":\"#2a3f5f\"},\"hovermode\":\"closest\",\"hoverlabel\":{\"align\":\"left\"},\"paper_bgcolor\":\"white\",\"plot_bgcolor\":\"#E5ECF6\",\"polar\":{\"bgcolor\":\"#E5ECF6\",\"angularaxis\":{\"gridcolor\":\"white\",\"linecolor\":\"white\",\"ticks\":\"\"},\"radialaxis\":{\"gridcolor\":\"white\",\"linecolor\":\"white\",\"ticks\":\"\"}},\"ternary\":{\"bgcolor\":\"#E5ECF6\",\"aaxis\":{\"gridcolor\":\"white\",\"linecolor\":\"white\",\"ticks\":\"\"},\"baxis\":{\"gridcolor\":\"white\",\"linecolor\":\"white\",\"ticks\":\"\"},\"caxis\":{\"gridcolor\":\"white\",\"linecolor\":\"white\",\"ticks\":\"\"}},\"coloraxis\":{\"colorbar\":{\"outlinewidth\":0,\"ticks\":\"\"}},\"colorscale\":{\"sequential\":[[0.0,\"#0d0887\"],[0.1111111111111111,\"#46039f\"],[0.2222222222222222,\"#7201a8\"],[0.3333333333333333,\"#9c179e\"],[0.4444444444444444,\"#bd3786\"],[0.5555555555555556,\"#d8576b\"],[0.6666666666666666,\"#ed7953\"],[0.7777777777777778,\"#fb9f3a\"],[0.8888888888888888,\"#fdca26\"],[1.0,\"#f0f921\"]],\"sequentialminus\":[[0.0,\"#0d0887\"],[0.1111111111111111,\"#46039f\"],[0.2222222222222222,\"#7201a8\"],[0.3333333333333333,\"#9c179e\"],[0.4444444444444444,\"#bd3786\"],[0.5555555555555556,\"#d8576b\"],[0.6666666666666666,\"#ed7953\"],[0.7777777777777778,\"#fb9f3a\"],[0.8888888888888888,\"#fdca26\"],[1.0,\"#f0f921\"]],\"diverging\":[[0,\"#8e0152\"],[0.1,\"#c51b7d\"],[0.2,\"#de77ae\"],[0.3,\"#f1b6da\"],[0.4,\"#fde0ef\"],[0.5,\"#f7f7f7\"],[0.6,\"#e6f5d0\"],[0.7,\"#b8e186\"],[0.8,\"#7fbc41\"],[0.9,\"#4d9221\"],[1,\"#276419\"]]},\"xaxis\":{\"gridcolor\":\"white\",\"linecolor\":\"white\",\"ticks\":\"\",\"title\":{\"standoff\":15},\"zerolinecolor\":\"white\",\"automargin\":true,\"zerolinewidth\":2},\"yaxis\":{\"gridcolor\":\"white\",\"linecolor\":\"white\",\"ticks\":\"\",\"title\":{\"standoff\":15},\"zerolinecolor\":\"white\",\"automargin\":true,\"zerolinewidth\":2},\"scene\":{\"xaxis\":{\"backgroundcolor\":\"#E5ECF6\",\"gridcolor\":\"white\",\"linecolor\":\"white\",\"showbackground\":true,\"ticks\":\"\",\"zerolinecolor\":\"white\",\"gridwidth\":2},\"yaxis\":{\"backgroundcolor\":\"#E5ECF6\",\"gridcolor\":\"white\",\"linecolor\":\"white\",\"showbackground\":true,\"ticks\":\"\",\"zerolinecolor\":\"white\",\"gridwidth\":2},\"zaxis\":{\"backgroundcolor\":\"#E5ECF6\",\"gridcolor\":\"white\",\"linecolor\":\"white\",\"showbackground\":true,\"ticks\":\"\",\"zerolinecolor\":\"white\",\"gridwidth\":2}},\"shapedefaults\":{\"line\":{\"color\":\"#2a3f5f\"}},\"annotationdefaults\":{\"arrowcolor\":\"#2a3f5f\",\"arrowhead\":0,\"arrowwidth\":1},\"geo\":{\"bgcolor\":\"white\",\"landcolor\":\"#E5ECF6\",\"subunitcolor\":\"white\",\"showland\":true,\"showlakes\":true,\"lakecolor\":\"white\"},\"title\":{\"x\":0.05},\"mapbox\":{\"style\":\"light\"}}},\"xaxis\":{\"anchor\":\"y\",\"domain\":[0.0,1.0],\"title\":{\"text\":\"Metric\"}},\"yaxis\":{\"anchor\":\"x\",\"domain\":[0.0,1.0],\"title\":{\"text\":\"Metric Value\"},\"range\":[0,1]},\"legend\":{\"tracegroupgap\":0},\"title\":{\"text\":\"Metrics for KNN Based on K Value\"},\"barmode\":\"relative\",\"height\":800,\"updatemenus\":[{\"buttons\":[{\"args\":[null,{\"frame\":{\"duration\":500,\"redraw\":true},\"mode\":\"immediate\",\"fromcurrent\":true,\"transition\":{\"duration\":500,\"easing\":\"linear\"}}],\"label\":\"&#9654;\",\"method\":\"animate\"},{\"args\":[[null],{\"frame\":{\"duration\":0,\"redraw\":true},\"mode\":\"immediate\",\"fromcurrent\":true,\"transition\":{\"duration\":0,\"easing\":\"linear\"}}],\"label\":\"&#9724;\",\"method\":\"animate\"}],\"direction\":\"left\",\"pad\":{\"r\":10,\"t\":70},\"showactive\":false,\"type\":\"buttons\",\"x\":0.1,\"xanchor\":\"right\",\"y\":0,\"yanchor\":\"top\"}],\"sliders\":[{\"active\":0,\"currentvalue\":{\"prefix\":\"K=\"},\"len\":0.9,\"pad\":{\"b\":10,\"t\":60},\"steps\":[{\"args\":[[\"1\"],{\"frame\":{\"duration\":0,\"redraw\":true},\"mode\":\"immediate\",\"fromcurrent\":true,\"transition\":{\"duration\":0,\"easing\":\"linear\"}}],\"label\":\"1\",\"method\":\"animate\"},{\"args\":[[\"2\"],{\"frame\":{\"duration\":0,\"redraw\":true},\"mode\":\"immediate\",\"fromcurrent\":true,\"transition\":{\"duration\":0,\"easing\":\"linear\"}}],\"label\":\"2\",\"method\":\"animate\"},{\"args\":[[\"3\"],{\"frame\":{\"duration\":0,\"redraw\":true},\"mode\":\"immediate\",\"fromcurrent\":true,\"transition\":{\"duration\":0,\"easing\":\"linear\"}}],\"label\":\"3\",\"method\":\"animate\"},{\"args\":[[\"4\"],{\"frame\":{\"duration\":0,\"redraw\":true},\"mode\":\"immediate\",\"fromcurrent\":true,\"transition\":{\"duration\":0,\"easing\":\"linear\"}}],\"label\":\"4\",\"method\":\"animate\"},{\"args\":[[\"5\"],{\"frame\":{\"duration\":0,\"redraw\":true},\"mode\":\"immediate\",\"fromcurrent\":true,\"transition\":{\"duration\":0,\"easing\":\"linear\"}}],\"label\":\"5\",\"method\":\"animate\"},{\"args\":[[\"6\"],{\"frame\":{\"duration\":0,\"redraw\":true},\"mode\":\"immediate\",\"fromcurrent\":true,\"transition\":{\"duration\":0,\"easing\":\"linear\"}}],\"label\":\"6\",\"method\":\"animate\"},{\"args\":[[\"7\"],{\"frame\":{\"duration\":0,\"redraw\":true},\"mode\":\"immediate\",\"fromcurrent\":true,\"transition\":{\"duration\":0,\"easing\":\"linear\"}}],\"label\":\"7\",\"method\":\"animate\"},{\"args\":[[\"8\"],{\"frame\":{\"duration\":0,\"redraw\":true},\"mode\":\"immediate\",\"fromcurrent\":true,\"transition\":{\"duration\":0,\"easing\":\"linear\"}}],\"label\":\"8\",\"method\":\"animate\"},{\"args\":[[\"9\"],{\"frame\":{\"duration\":0,\"redraw\":true},\"mode\":\"immediate\",\"fromcurrent\":true,\"transition\":{\"duration\":0,\"easing\":\"linear\"}}],\"label\":\"9\",\"method\":\"animate\"},{\"args\":[[\"10\"],{\"frame\":{\"duration\":0,\"redraw\":true},\"mode\":\"immediate\",\"fromcurrent\":true,\"transition\":{\"duration\":0,\"easing\":\"linear\"}}],\"label\":\"10\",\"method\":\"animate\"},{\"args\":[[\"11\"],{\"frame\":{\"duration\":0,\"redraw\":true},\"mode\":\"immediate\",\"fromcurrent\":true,\"transition\":{\"duration\":0,\"easing\":\"linear\"}}],\"label\":\"11\",\"method\":\"animate\"},{\"args\":[[\"12\"],{\"frame\":{\"duration\":0,\"redraw\":true},\"mode\":\"immediate\",\"fromcurrent\":true,\"transition\":{\"duration\":0,\"easing\":\"linear\"}}],\"label\":\"12\",\"method\":\"animate\"},{\"args\":[[\"13\"],{\"frame\":{\"duration\":0,\"redraw\":true},\"mode\":\"immediate\",\"fromcurrent\":true,\"transition\":{\"duration\":0,\"easing\":\"linear\"}}],\"label\":\"13\",\"method\":\"animate\"},{\"args\":[[\"14\"],{\"frame\":{\"duration\":0,\"redraw\":true},\"mode\":\"immediate\",\"fromcurrent\":true,\"transition\":{\"duration\":0,\"easing\":\"linear\"}}],\"label\":\"14\",\"method\":\"animate\"},{\"args\":[[\"15\"],{\"frame\":{\"duration\":0,\"redraw\":true},\"mode\":\"immediate\",\"fromcurrent\":true,\"transition\":{\"duration\":0,\"easing\":\"linear\"}}],\"label\":\"15\",\"method\":\"animate\"},{\"args\":[[\"16\"],{\"frame\":{\"duration\":0,\"redraw\":true},\"mode\":\"immediate\",\"fromcurrent\":true,\"transition\":{\"duration\":0,\"easing\":\"linear\"}}],\"label\":\"16\",\"method\":\"animate\"},{\"args\":[[\"17\"],{\"frame\":{\"duration\":0,\"redraw\":true},\"mode\":\"immediate\",\"fromcurrent\":true,\"transition\":{\"duration\":0,\"easing\":\"linear\"}}],\"label\":\"17\",\"method\":\"animate\"},{\"args\":[[\"18\"],{\"frame\":{\"duration\":0,\"redraw\":true},\"mode\":\"immediate\",\"fromcurrent\":true,\"transition\":{\"duration\":0,\"easing\":\"linear\"}}],\"label\":\"18\",\"method\":\"animate\"},{\"args\":[[\"19\"],{\"frame\":{\"duration\":0,\"redraw\":true},\"mode\":\"immediate\",\"fromcurrent\":true,\"transition\":{\"duration\":0,\"easing\":\"linear\"}}],\"label\":\"19\",\"method\":\"animate\"},{\"args\":[[\"20\"],{\"frame\":{\"duration\":0,\"redraw\":true},\"mode\":\"immediate\",\"fromcurrent\":true,\"transition\":{\"duration\":0,\"easing\":\"linear\"}}],\"label\":\"20\",\"method\":\"animate\"},{\"args\":[[\"21\"],{\"frame\":{\"duration\":0,\"redraw\":true},\"mode\":\"immediate\",\"fromcurrent\":true,\"transition\":{\"duration\":0,\"easing\":\"linear\"}}],\"label\":\"21\",\"method\":\"animate\"},{\"args\":[[\"22\"],{\"frame\":{\"duration\":0,\"redraw\":true},\"mode\":\"immediate\",\"fromcurrent\":true,\"transition\":{\"duration\":0,\"easing\":\"linear\"}}],\"label\":\"22\",\"method\":\"animate\"},{\"args\":[[\"23\"],{\"frame\":{\"duration\":0,\"redraw\":true},\"mode\":\"immediate\",\"fromcurrent\":true,\"transition\":{\"duration\":0,\"easing\":\"linear\"}}],\"label\":\"23\",\"method\":\"animate\"},{\"args\":[[\"24\"],{\"frame\":{\"duration\":0,\"redraw\":true},\"mode\":\"immediate\",\"fromcurrent\":true,\"transition\":{\"duration\":0,\"easing\":\"linear\"}}],\"label\":\"24\",\"method\":\"animate\"},{\"args\":[[\"25\"],{\"frame\":{\"duration\":0,\"redraw\":true},\"mode\":\"immediate\",\"fromcurrent\":true,\"transition\":{\"duration\":0,\"easing\":\"linear\"}}],\"label\":\"25\",\"method\":\"animate\"},{\"args\":[[\"26\"],{\"frame\":{\"duration\":0,\"redraw\":true},\"mode\":\"immediate\",\"fromcurrent\":true,\"transition\":{\"duration\":0,\"easing\":\"linear\"}}],\"label\":\"26\",\"method\":\"animate\"},{\"args\":[[\"27\"],{\"frame\":{\"duration\":0,\"redraw\":true},\"mode\":\"immediate\",\"fromcurrent\":true,\"transition\":{\"duration\":0,\"easing\":\"linear\"}}],\"label\":\"27\",\"method\":\"animate\"},{\"args\":[[\"28\"],{\"frame\":{\"duration\":0,\"redraw\":true},\"mode\":\"immediate\",\"fromcurrent\":true,\"transition\":{\"duration\":0,\"easing\":\"linear\"}}],\"label\":\"28\",\"method\":\"animate\"},{\"args\":[[\"29\"],{\"frame\":{\"duration\":0,\"redraw\":true},\"mode\":\"immediate\",\"fromcurrent\":true,\"transition\":{\"duration\":0,\"easing\":\"linear\"}}],\"label\":\"29\",\"method\":\"animate\"},{\"args\":[[\"30\"],{\"frame\":{\"duration\":0,\"redraw\":true},\"mode\":\"immediate\",\"fromcurrent\":true,\"transition\":{\"duration\":0,\"easing\":\"linear\"}}],\"label\":\"30\",\"method\":\"animate\"},{\"args\":[[\"31\"],{\"frame\":{\"duration\":0,\"redraw\":true},\"mode\":\"immediate\",\"fromcurrent\":true,\"transition\":{\"duration\":0,\"easing\":\"linear\"}}],\"label\":\"31\",\"method\":\"animate\"},{\"args\":[[\"32\"],{\"frame\":{\"duration\":0,\"redraw\":true},\"mode\":\"immediate\",\"fromcurrent\":true,\"transition\":{\"duration\":0,\"easing\":\"linear\"}}],\"label\":\"32\",\"method\":\"animate\"},{\"args\":[[\"33\"],{\"frame\":{\"duration\":0,\"redraw\":true},\"mode\":\"immediate\",\"fromcurrent\":true,\"transition\":{\"duration\":0,\"easing\":\"linear\"}}],\"label\":\"33\",\"method\":\"animate\"},{\"args\":[[\"34\"],{\"frame\":{\"duration\":0,\"redraw\":true},\"mode\":\"immediate\",\"fromcurrent\":true,\"transition\":{\"duration\":0,\"easing\":\"linear\"}}],\"label\":\"34\",\"method\":\"animate\"},{\"args\":[[\"35\"],{\"frame\":{\"duration\":0,\"redraw\":true},\"mode\":\"immediate\",\"fromcurrent\":true,\"transition\":{\"duration\":0,\"easing\":\"linear\"}}],\"label\":\"35\",\"method\":\"animate\"},{\"args\":[[\"36\"],{\"frame\":{\"duration\":0,\"redraw\":true},\"mode\":\"immediate\",\"fromcurrent\":true,\"transition\":{\"duration\":0,\"easing\":\"linear\"}}],\"label\":\"36\",\"method\":\"animate\"},{\"args\":[[\"37\"],{\"frame\":{\"duration\":0,\"redraw\":true},\"mode\":\"immediate\",\"fromcurrent\":true,\"transition\":{\"duration\":0,\"easing\":\"linear\"}}],\"label\":\"37\",\"method\":\"animate\"},{\"args\":[[\"38\"],{\"frame\":{\"duration\":0,\"redraw\":true},\"mode\":\"immediate\",\"fromcurrent\":true,\"transition\":{\"duration\":0,\"easing\":\"linear\"}}],\"label\":\"38\",\"method\":\"animate\"},{\"args\":[[\"39\"],{\"frame\":{\"duration\":0,\"redraw\":true},\"mode\":\"immediate\",\"fromcurrent\":true,\"transition\":{\"duration\":0,\"easing\":\"linear\"}}],\"label\":\"39\",\"method\":\"animate\"},{\"args\":[[\"40\"],{\"frame\":{\"duration\":0,\"redraw\":true},\"mode\":\"immediate\",\"fromcurrent\":true,\"transition\":{\"duration\":0,\"easing\":\"linear\"}}],\"label\":\"40\",\"method\":\"animate\"},{\"args\":[[\"41\"],{\"frame\":{\"duration\":0,\"redraw\":true},\"mode\":\"immediate\",\"fromcurrent\":true,\"transition\":{\"duration\":0,\"easing\":\"linear\"}}],\"label\":\"41\",\"method\":\"animate\"},{\"args\":[[\"42\"],{\"frame\":{\"duration\":0,\"redraw\":true},\"mode\":\"immediate\",\"fromcurrent\":true,\"transition\":{\"duration\":0,\"easing\":\"linear\"}}],\"label\":\"42\",\"method\":\"animate\"},{\"args\":[[\"43\"],{\"frame\":{\"duration\":0,\"redraw\":true},\"mode\":\"immediate\",\"fromcurrent\":true,\"transition\":{\"duration\":0,\"easing\":\"linear\"}}],\"label\":\"43\",\"method\":\"animate\"},{\"args\":[[\"44\"],{\"frame\":{\"duration\":0,\"redraw\":true},\"mode\":\"immediate\",\"fromcurrent\":true,\"transition\":{\"duration\":0,\"easing\":\"linear\"}}],\"label\":\"44\",\"method\":\"animate\"},{\"args\":[[\"45\"],{\"frame\":{\"duration\":0,\"redraw\":true},\"mode\":\"immediate\",\"fromcurrent\":true,\"transition\":{\"duration\":0,\"easing\":\"linear\"}}],\"label\":\"45\",\"method\":\"animate\"},{\"args\":[[\"46\"],{\"frame\":{\"duration\":0,\"redraw\":true},\"mode\":\"immediate\",\"fromcurrent\":true,\"transition\":{\"duration\":0,\"easing\":\"linear\"}}],\"label\":\"46\",\"method\":\"animate\"},{\"args\":[[\"47\"],{\"frame\":{\"duration\":0,\"redraw\":true},\"mode\":\"immediate\",\"fromcurrent\":true,\"transition\":{\"duration\":0,\"easing\":\"linear\"}}],\"label\":\"47\",\"method\":\"animate\"},{\"args\":[[\"48\"],{\"frame\":{\"duration\":0,\"redraw\":true},\"mode\":\"immediate\",\"fromcurrent\":true,\"transition\":{\"duration\":0,\"easing\":\"linear\"}}],\"label\":\"48\",\"method\":\"animate\"},{\"args\":[[\"49\"],{\"frame\":{\"duration\":0,\"redraw\":true},\"mode\":\"immediate\",\"fromcurrent\":true,\"transition\":{\"duration\":0,\"easing\":\"linear\"}}],\"label\":\"49\",\"method\":\"animate\"},{\"args\":[[\"50\"],{\"frame\":{\"duration\":0,\"redraw\":true},\"mode\":\"immediate\",\"fromcurrent\":true,\"transition\":{\"duration\":0,\"easing\":\"linear\"}}],\"label\":\"50\",\"method\":\"animate\"},{\"args\":[[\"51\"],{\"frame\":{\"duration\":0,\"redraw\":true},\"mode\":\"immediate\",\"fromcurrent\":true,\"transition\":{\"duration\":0,\"easing\":\"linear\"}}],\"label\":\"51\",\"method\":\"animate\"},{\"args\":[[\"52\"],{\"frame\":{\"duration\":0,\"redraw\":true},\"mode\":\"immediate\",\"fromcurrent\":true,\"transition\":{\"duration\":0,\"easing\":\"linear\"}}],\"label\":\"52\",\"method\":\"animate\"},{\"args\":[[\"53\"],{\"frame\":{\"duration\":0,\"redraw\":true},\"mode\":\"immediate\",\"fromcurrent\":true,\"transition\":{\"duration\":0,\"easing\":\"linear\"}}],\"label\":\"53\",\"method\":\"animate\"},{\"args\":[[\"54\"],{\"frame\":{\"duration\":0,\"redraw\":true},\"mode\":\"immediate\",\"fromcurrent\":true,\"transition\":{\"duration\":0,\"easing\":\"linear\"}}],\"label\":\"54\",\"method\":\"animate\"},{\"args\":[[\"55\"],{\"frame\":{\"duration\":0,\"redraw\":true},\"mode\":\"immediate\",\"fromcurrent\":true,\"transition\":{\"duration\":0,\"easing\":\"linear\"}}],\"label\":\"55\",\"method\":\"animate\"},{\"args\":[[\"56\"],{\"frame\":{\"duration\":0,\"redraw\":true},\"mode\":\"immediate\",\"fromcurrent\":true,\"transition\":{\"duration\":0,\"easing\":\"linear\"}}],\"label\":\"56\",\"method\":\"animate\"},{\"args\":[[\"57\"],{\"frame\":{\"duration\":0,\"redraw\":true},\"mode\":\"immediate\",\"fromcurrent\":true,\"transition\":{\"duration\":0,\"easing\":\"linear\"}}],\"label\":\"57\",\"method\":\"animate\"},{\"args\":[[\"58\"],{\"frame\":{\"duration\":0,\"redraw\":true},\"mode\":\"immediate\",\"fromcurrent\":true,\"transition\":{\"duration\":0,\"easing\":\"linear\"}}],\"label\":\"58\",\"method\":\"animate\"},{\"args\":[[\"59\"],{\"frame\":{\"duration\":0,\"redraw\":true},\"mode\":\"immediate\",\"fromcurrent\":true,\"transition\":{\"duration\":0,\"easing\":\"linear\"}}],\"label\":\"59\",\"method\":\"animate\"},{\"args\":[[\"60\"],{\"frame\":{\"duration\":0,\"redraw\":true},\"mode\":\"immediate\",\"fromcurrent\":true,\"transition\":{\"duration\":0,\"easing\":\"linear\"}}],\"label\":\"60\",\"method\":\"animate\"},{\"args\":[[\"61\"],{\"frame\":{\"duration\":0,\"redraw\":true},\"mode\":\"immediate\",\"fromcurrent\":true,\"transition\":{\"duration\":0,\"easing\":\"linear\"}}],\"label\":\"61\",\"method\":\"animate\"},{\"args\":[[\"62\"],{\"frame\":{\"duration\":0,\"redraw\":true},\"mode\":\"immediate\",\"fromcurrent\":true,\"transition\":{\"duration\":0,\"easing\":\"linear\"}}],\"label\":\"62\",\"method\":\"animate\"},{\"args\":[[\"63\"],{\"frame\":{\"duration\":0,\"redraw\":true},\"mode\":\"immediate\",\"fromcurrent\":true,\"transition\":{\"duration\":0,\"easing\":\"linear\"}}],\"label\":\"63\",\"method\":\"animate\"},{\"args\":[[\"64\"],{\"frame\":{\"duration\":0,\"redraw\":true},\"mode\":\"immediate\",\"fromcurrent\":true,\"transition\":{\"duration\":0,\"easing\":\"linear\"}}],\"label\":\"64\",\"method\":\"animate\"},{\"args\":[[\"65\"],{\"frame\":{\"duration\":0,\"redraw\":true},\"mode\":\"immediate\",\"fromcurrent\":true,\"transition\":{\"duration\":0,\"easing\":\"linear\"}}],\"label\":\"65\",\"method\":\"animate\"},{\"args\":[[\"66\"],{\"frame\":{\"duration\":0,\"redraw\":true},\"mode\":\"immediate\",\"fromcurrent\":true,\"transition\":{\"duration\":0,\"easing\":\"linear\"}}],\"label\":\"66\",\"method\":\"animate\"},{\"args\":[[\"67\"],{\"frame\":{\"duration\":0,\"redraw\":true},\"mode\":\"immediate\",\"fromcurrent\":true,\"transition\":{\"duration\":0,\"easing\":\"linear\"}}],\"label\":\"67\",\"method\":\"animate\"},{\"args\":[[\"68\"],{\"frame\":{\"duration\":0,\"redraw\":true},\"mode\":\"immediate\",\"fromcurrent\":true,\"transition\":{\"duration\":0,\"easing\":\"linear\"}}],\"label\":\"68\",\"method\":\"animate\"},{\"args\":[[\"69\"],{\"frame\":{\"duration\":0,\"redraw\":true},\"mode\":\"immediate\",\"fromcurrent\":true,\"transition\":{\"duration\":0,\"easing\":\"linear\"}}],\"label\":\"69\",\"method\":\"animate\"},{\"args\":[[\"70\"],{\"frame\":{\"duration\":0,\"redraw\":true},\"mode\":\"immediate\",\"fromcurrent\":true,\"transition\":{\"duration\":0,\"easing\":\"linear\"}}],\"label\":\"70\",\"method\":\"animate\"},{\"args\":[[\"71\"],{\"frame\":{\"duration\":0,\"redraw\":true},\"mode\":\"immediate\",\"fromcurrent\":true,\"transition\":{\"duration\":0,\"easing\":\"linear\"}}],\"label\":\"71\",\"method\":\"animate\"},{\"args\":[[\"72\"],{\"frame\":{\"duration\":0,\"redraw\":true},\"mode\":\"immediate\",\"fromcurrent\":true,\"transition\":{\"duration\":0,\"easing\":\"linear\"}}],\"label\":\"72\",\"method\":\"animate\"},{\"args\":[[\"73\"],{\"frame\":{\"duration\":0,\"redraw\":true},\"mode\":\"immediate\",\"fromcurrent\":true,\"transition\":{\"duration\":0,\"easing\":\"linear\"}}],\"label\":\"73\",\"method\":\"animate\"},{\"args\":[[\"74\"],{\"frame\":{\"duration\":0,\"redraw\":true},\"mode\":\"immediate\",\"fromcurrent\":true,\"transition\":{\"duration\":0,\"easing\":\"linear\"}}],\"label\":\"74\",\"method\":\"animate\"},{\"args\":[[\"75\"],{\"frame\":{\"duration\":0,\"redraw\":true},\"mode\":\"immediate\",\"fromcurrent\":true,\"transition\":{\"duration\":0,\"easing\":\"linear\"}}],\"label\":\"75\",\"method\":\"animate\"},{\"args\":[[\"76\"],{\"frame\":{\"duration\":0,\"redraw\":true},\"mode\":\"immediate\",\"fromcurrent\":true,\"transition\":{\"duration\":0,\"easing\":\"linear\"}}],\"label\":\"76\",\"method\":\"animate\"},{\"args\":[[\"77\"],{\"frame\":{\"duration\":0,\"redraw\":true},\"mode\":\"immediate\",\"fromcurrent\":true,\"transition\":{\"duration\":0,\"easing\":\"linear\"}}],\"label\":\"77\",\"method\":\"animate\"},{\"args\":[[\"78\"],{\"frame\":{\"duration\":0,\"redraw\":true},\"mode\":\"immediate\",\"fromcurrent\":true,\"transition\":{\"duration\":0,\"easing\":\"linear\"}}],\"label\":\"78\",\"method\":\"animate\"},{\"args\":[[\"79\"],{\"frame\":{\"duration\":0,\"redraw\":true},\"mode\":\"immediate\",\"fromcurrent\":true,\"transition\":{\"duration\":0,\"easing\":\"linear\"}}],\"label\":\"79\",\"method\":\"animate\"},{\"args\":[[\"80\"],{\"frame\":{\"duration\":0,\"redraw\":true},\"mode\":\"immediate\",\"fromcurrent\":true,\"transition\":{\"duration\":0,\"easing\":\"linear\"}}],\"label\":\"80\",\"method\":\"animate\"},{\"args\":[[\"81\"],{\"frame\":{\"duration\":0,\"redraw\":true},\"mode\":\"immediate\",\"fromcurrent\":true,\"transition\":{\"duration\":0,\"easing\":\"linear\"}}],\"label\":\"81\",\"method\":\"animate\"},{\"args\":[[\"82\"],{\"frame\":{\"duration\":0,\"redraw\":true},\"mode\":\"immediate\",\"fromcurrent\":true,\"transition\":{\"duration\":0,\"easing\":\"linear\"}}],\"label\":\"82\",\"method\":\"animate\"},{\"args\":[[\"83\"],{\"frame\":{\"duration\":0,\"redraw\":true},\"mode\":\"immediate\",\"fromcurrent\":true,\"transition\":{\"duration\":0,\"easing\":\"linear\"}}],\"label\":\"83\",\"method\":\"animate\"},{\"args\":[[\"84\"],{\"frame\":{\"duration\":0,\"redraw\":true},\"mode\":\"immediate\",\"fromcurrent\":true,\"transition\":{\"duration\":0,\"easing\":\"linear\"}}],\"label\":\"84\",\"method\":\"animate\"},{\"args\":[[\"85\"],{\"frame\":{\"duration\":0,\"redraw\":true},\"mode\":\"immediate\",\"fromcurrent\":true,\"transition\":{\"duration\":0,\"easing\":\"linear\"}}],\"label\":\"85\",\"method\":\"animate\"},{\"args\":[[\"86\"],{\"frame\":{\"duration\":0,\"redraw\":true},\"mode\":\"immediate\",\"fromcurrent\":true,\"transition\":{\"duration\":0,\"easing\":\"linear\"}}],\"label\":\"86\",\"method\":\"animate\"},{\"args\":[[\"87\"],{\"frame\":{\"duration\":0,\"redraw\":true},\"mode\":\"immediate\",\"fromcurrent\":true,\"transition\":{\"duration\":0,\"easing\":\"linear\"}}],\"label\":\"87\",\"method\":\"animate\"},{\"args\":[[\"88\"],{\"frame\":{\"duration\":0,\"redraw\":true},\"mode\":\"immediate\",\"fromcurrent\":true,\"transition\":{\"duration\":0,\"easing\":\"linear\"}}],\"label\":\"88\",\"method\":\"animate\"},{\"args\":[[\"89\"],{\"frame\":{\"duration\":0,\"redraw\":true},\"mode\":\"immediate\",\"fromcurrent\":true,\"transition\":{\"duration\":0,\"easing\":\"linear\"}}],\"label\":\"89\",\"method\":\"animate\"},{\"args\":[[\"90\"],{\"frame\":{\"duration\":0,\"redraw\":true},\"mode\":\"immediate\",\"fromcurrent\":true,\"transition\":{\"duration\":0,\"easing\":\"linear\"}}],\"label\":\"90\",\"method\":\"animate\"},{\"args\":[[\"91\"],{\"frame\":{\"duration\":0,\"redraw\":true},\"mode\":\"immediate\",\"fromcurrent\":true,\"transition\":{\"duration\":0,\"easing\":\"linear\"}}],\"label\":\"91\",\"method\":\"animate\"},{\"args\":[[\"92\"],{\"frame\":{\"duration\":0,\"redraw\":true},\"mode\":\"immediate\",\"fromcurrent\":true,\"transition\":{\"duration\":0,\"easing\":\"linear\"}}],\"label\":\"92\",\"method\":\"animate\"},{\"args\":[[\"93\"],{\"frame\":{\"duration\":0,\"redraw\":true},\"mode\":\"immediate\",\"fromcurrent\":true,\"transition\":{\"duration\":0,\"easing\":\"linear\"}}],\"label\":\"93\",\"method\":\"animate\"},{\"args\":[[\"94\"],{\"frame\":{\"duration\":0,\"redraw\":true},\"mode\":\"immediate\",\"fromcurrent\":true,\"transition\":{\"duration\":0,\"easing\":\"linear\"}}],\"label\":\"94\",\"method\":\"animate\"},{\"args\":[[\"95\"],{\"frame\":{\"duration\":0,\"redraw\":true},\"mode\":\"immediate\",\"fromcurrent\":true,\"transition\":{\"duration\":0,\"easing\":\"linear\"}}],\"label\":\"95\",\"method\":\"animate\"},{\"args\":[[\"96\"],{\"frame\":{\"duration\":0,\"redraw\":true},\"mode\":\"immediate\",\"fromcurrent\":true,\"transition\":{\"duration\":0,\"easing\":\"linear\"}}],\"label\":\"96\",\"method\":\"animate\"},{\"args\":[[\"97\"],{\"frame\":{\"duration\":0,\"redraw\":true},\"mode\":\"immediate\",\"fromcurrent\":true,\"transition\":{\"duration\":0,\"easing\":\"linear\"}}],\"label\":\"97\",\"method\":\"animate\"},{\"args\":[[\"98\"],{\"frame\":{\"duration\":0,\"redraw\":true},\"mode\":\"immediate\",\"fromcurrent\":true,\"transition\":{\"duration\":0,\"easing\":\"linear\"}}],\"label\":\"98\",\"method\":\"animate\"},{\"args\":[[\"99\"],{\"frame\":{\"duration\":0,\"redraw\":true},\"mode\":\"immediate\",\"fromcurrent\":true,\"transition\":{\"duration\":0,\"easing\":\"linear\"}}],\"label\":\"99\",\"method\":\"animate\"}],\"x\":0.1,\"xanchor\":\"left\",\"y\":0,\"yanchor\":\"top\"}]},                        {\"responsive\": true}                    ).then(function(){\n",
       "                            Plotly.addFrames('ae1bb535-6215-409b-9cd8-9f2da87256e7', [{\"data\":[{\"alignmentgroup\":\"True\",\"hovertemplate\":\"K=1\\u003cbr\\u003eMetric=%{x}\\u003cbr\\u003eMetric Value=%{y}\\u003cextra\\u003e\\u003c\\u002fextra\\u003e\",\"legendgroup\":\"\",\"marker\":{\"color\":\"#636efa\",\"pattern\":{\"shape\":\"\"}},\"name\":\"\",\"offsetgroup\":\"\",\"orientation\":\"v\",\"showlegend\":false,\"textposition\":\"auto\",\"x\":[\"Accuracy\",\"Precision\",\"Recall\"],\"xaxis\":\"x\",\"y\":[0.85233798195242,0.288135593220339,0.31097560975609756],\"yaxis\":\"y\",\"type\":\"bar\"}],\"name\":\"1\"},{\"data\":[{\"alignmentgroup\":\"True\",\"hovertemplate\":\"K=2\\u003cbr\\u003eMetric=%{x}\\u003cbr\\u003eMetric Value=%{y}\\u003cextra\\u003e\\u003c\\u002fextra\\u003e\",\"legendgroup\":\"\",\"marker\":{\"color\":\"#636efa\",\"pattern\":{\"shape\":\"\"}},\"name\":\"\",\"offsetgroup\":\"\",\"orientation\":\"v\",\"showlegend\":false,\"textposition\":\"auto\",\"x\":[\"Accuracy\",\"Precision\",\"Recall\"],\"xaxis\":\"x\",\"y\":[0.85233798195242,0.4444444444444444,0.12195121951219512],\"yaxis\":\"y\",\"type\":\"bar\"}],\"name\":\"2\"},{\"data\":[{\"alignmentgroup\":\"True\",\"hovertemplate\":\"K=3\\u003cbr\\u003eMetric=%{x}\\u003cbr\\u003eMetric Value=%{y}\\u003cextra\\u003e\\u003c\\u002fextra\\u003e\",\"legendgroup\":\"\",\"marker\":{\"color\":\"#636efa\",\"pattern\":{\"shape\":\"\"}},\"name\":\"\",\"offsetgroup\":\"\",\"orientation\":\"v\",\"showlegend\":false,\"textposition\":\"auto\",\"x\":[\"Accuracy\",\"Precision\",\"Recall\"],\"xaxis\":\"x\",\"y\":[0.85233798195242,0.37373737373737376,0.22560975609756098],\"yaxis\":\"y\",\"type\":\"bar\"}],\"name\":\"3\"},{\"data\":[{\"alignmentgroup\":\"True\",\"hovertemplate\":\"K=4\\u003cbr\\u003eMetric=%{x}\\u003cbr\\u003eMetric Value=%{y}\\u003cextra\\u003e\\u003c\\u002fextra\\u003e\",\"legendgroup\":\"\",\"marker\":{\"color\":\"#636efa\",\"pattern\":{\"shape\":\"\"}},\"name\":\"\",\"offsetgroup\":\"\",\"orientation\":\"v\",\"showlegend\":false,\"textposition\":\"auto\",\"x\":[\"Accuracy\",\"Precision\",\"Recall\"],\"xaxis\":\"x\",\"y\":[0.85233798195242,0.4166666666666667,0.09146341463414634],\"yaxis\":\"y\",\"type\":\"bar\"}],\"name\":\"4\"},{\"data\":[{\"alignmentgroup\":\"True\",\"hovertemplate\":\"K=5\\u003cbr\\u003eMetric=%{x}\\u003cbr\\u003eMetric Value=%{y}\\u003cextra\\u003e\\u003c\\u002fextra\\u003e\",\"legendgroup\":\"\",\"marker\":{\"color\":\"#636efa\",\"pattern\":{\"shape\":\"\"}},\"name\":\"\",\"offsetgroup\":\"\",\"orientation\":\"v\",\"showlegend\":false,\"textposition\":\"auto\",\"x\":[\"Accuracy\",\"Precision\",\"Recall\"],\"xaxis\":\"x\",\"y\":[0.85233798195242,0.375,0.14634146341463414],\"yaxis\":\"y\",\"type\":\"bar\"}],\"name\":\"5\"},{\"data\":[{\"alignmentgroup\":\"True\",\"hovertemplate\":\"K=6\\u003cbr\\u003eMetric=%{x}\\u003cbr\\u003eMetric Value=%{y}\\u003cextra\\u003e\\u003c\\u002fextra\\u003e\",\"legendgroup\":\"\",\"marker\":{\"color\":\"#636efa\",\"pattern\":{\"shape\":\"\"}},\"name\":\"\",\"offsetgroup\":\"\",\"orientation\":\"v\",\"showlegend\":false,\"textposition\":\"auto\",\"x\":[\"Accuracy\",\"Precision\",\"Recall\"],\"xaxis\":\"x\",\"y\":[0.85233798195242,0.5,0.06707317073170732],\"yaxis\":\"y\",\"type\":\"bar\"}],\"name\":\"6\"},{\"data\":[{\"alignmentgroup\":\"True\",\"hovertemplate\":\"K=7\\u003cbr\\u003eMetric=%{x}\\u003cbr\\u003eMetric Value=%{y}\\u003cextra\\u003e\\u003c\\u002fextra\\u003e\",\"legendgroup\":\"\",\"marker\":{\"color\":\"#636efa\",\"pattern\":{\"shape\":\"\"}},\"name\":\"\",\"offsetgroup\":\"\",\"orientation\":\"v\",\"showlegend\":false,\"textposition\":\"auto\",\"x\":[\"Accuracy\",\"Precision\",\"Recall\"],\"xaxis\":\"x\",\"y\":[0.85233798195242,0.4146341463414634,0.10365853658536585],\"yaxis\":\"y\",\"type\":\"bar\"}],\"name\":\"7\"},{\"data\":[{\"alignmentgroup\":\"True\",\"hovertemplate\":\"K=8\\u003cbr\\u003eMetric=%{x}\\u003cbr\\u003eMetric Value=%{y}\\u003cextra\\u003e\\u003c\\u002fextra\\u003e\",\"legendgroup\":\"\",\"marker\":{\"color\":\"#636efa\",\"pattern\":{\"shape\":\"\"}},\"name\":\"\",\"offsetgroup\":\"\",\"orientation\":\"v\",\"showlegend\":false,\"textposition\":\"auto\",\"x\":[\"Accuracy\",\"Precision\",\"Recall\"],\"xaxis\":\"x\",\"y\":[0.85233798195242,0.43478260869565216,0.06097560975609756],\"yaxis\":\"y\",\"type\":\"bar\"}],\"name\":\"8\"},{\"data\":[{\"alignmentgroup\":\"True\",\"hovertemplate\":\"K=9\\u003cbr\\u003eMetric=%{x}\\u003cbr\\u003eMetric Value=%{y}\\u003cextra\\u003e\\u003c\\u002fextra\\u003e\",\"legendgroup\":\"\",\"marker\":{\"color\":\"#636efa\",\"pattern\":{\"shape\":\"\"}},\"name\":\"\",\"offsetgroup\":\"\",\"orientation\":\"v\",\"showlegend\":false,\"textposition\":\"auto\",\"x\":[\"Accuracy\",\"Precision\",\"Recall\"],\"xaxis\":\"x\",\"y\":[0.85233798195242,0.4864864864864865,0.10975609756097561],\"yaxis\":\"y\",\"type\":\"bar\"}],\"name\":\"9\"},{\"data\":[{\"alignmentgroup\":\"True\",\"hovertemplate\":\"K=10\\u003cbr\\u003eMetric=%{x}\\u003cbr\\u003eMetric Value=%{y}\\u003cextra\\u003e\\u003c\\u002fextra\\u003e\",\"legendgroup\":\"\",\"marker\":{\"color\":\"#636efa\",\"pattern\":{\"shape\":\"\"}},\"name\":\"\",\"offsetgroup\":\"\",\"orientation\":\"v\",\"showlegend\":false,\"textposition\":\"auto\",\"x\":[\"Accuracy\",\"Precision\",\"Recall\"],\"xaxis\":\"x\",\"y\":[0.85233798195242,0.5333333333333333,0.04878048780487805],\"yaxis\":\"y\",\"type\":\"bar\"}],\"name\":\"10\"},{\"data\":[{\"alignmentgroup\":\"True\",\"hovertemplate\":\"K=11\\u003cbr\\u003eMetric=%{x}\\u003cbr\\u003eMetric Value=%{y}\\u003cextra\\u003e\\u003c\\u002fextra\\u003e\",\"legendgroup\":\"\",\"marker\":{\"color\":\"#636efa\",\"pattern\":{\"shape\":\"\"}},\"name\":\"\",\"offsetgroup\":\"\",\"orientation\":\"v\",\"showlegend\":false,\"textposition\":\"auto\",\"x\":[\"Accuracy\",\"Precision\",\"Recall\"],\"xaxis\":\"x\",\"y\":[0.85233798195242,0.48148148148148145,0.07926829268292683],\"yaxis\":\"y\",\"type\":\"bar\"}],\"name\":\"11\"},{\"data\":[{\"alignmentgroup\":\"True\",\"hovertemplate\":\"K=12\\u003cbr\\u003eMetric=%{x}\\u003cbr\\u003eMetric Value=%{y}\\u003cextra\\u003e\\u003c\\u002fextra\\u003e\",\"legendgroup\":\"\",\"marker\":{\"color\":\"#636efa\",\"pattern\":{\"shape\":\"\"}},\"name\":\"\",\"offsetgroup\":\"\",\"orientation\":\"v\",\"showlegend\":false,\"textposition\":\"auto\",\"x\":[\"Accuracy\",\"Precision\",\"Recall\"],\"xaxis\":\"x\",\"y\":[0.85233798195242,0.5789473684210527,0.06707317073170732],\"yaxis\":\"y\",\"type\":\"bar\"}],\"name\":\"12\"},{\"data\":[{\"alignmentgroup\":\"True\",\"hovertemplate\":\"K=13\\u003cbr\\u003eMetric=%{x}\\u003cbr\\u003eMetric Value=%{y}\\u003cextra\\u003e\\u003c\\u002fextra\\u003e\",\"legendgroup\":\"\",\"marker\":{\"color\":\"#636efa\",\"pattern\":{\"shape\":\"\"}},\"name\":\"\",\"offsetgroup\":\"\",\"orientation\":\"v\",\"showlegend\":false,\"textposition\":\"auto\",\"x\":[\"Accuracy\",\"Precision\",\"Recall\"],\"xaxis\":\"x\",\"y\":[0.85233798195242,0.4230769230769231,0.06707317073170732],\"yaxis\":\"y\",\"type\":\"bar\"}],\"name\":\"13\"},{\"data\":[{\"alignmentgroup\":\"True\",\"hovertemplate\":\"K=14\\u003cbr\\u003eMetric=%{x}\\u003cbr\\u003eMetric Value=%{y}\\u003cextra\\u003e\\u003c\\u002fextra\\u003e\",\"legendgroup\":\"\",\"marker\":{\"color\":\"#636efa\",\"pattern\":{\"shape\":\"\"}},\"name\":\"\",\"offsetgroup\":\"\",\"orientation\":\"v\",\"showlegend\":false,\"textposition\":\"auto\",\"x\":[\"Accuracy\",\"Precision\",\"Recall\"],\"xaxis\":\"x\",\"y\":[0.85233798195242,0.5625,0.054878048780487805],\"yaxis\":\"y\",\"type\":\"bar\"}],\"name\":\"14\"},{\"data\":[{\"alignmentgroup\":\"True\",\"hovertemplate\":\"K=15\\u003cbr\\u003eMetric=%{x}\\u003cbr\\u003eMetric Value=%{y}\\u003cextra\\u003e\\u003c\\u002fextra\\u003e\",\"legendgroup\":\"\",\"marker\":{\"color\":\"#636efa\",\"pattern\":{\"shape\":\"\"}},\"name\":\"\",\"offsetgroup\":\"\",\"orientation\":\"v\",\"showlegend\":false,\"textposition\":\"auto\",\"x\":[\"Accuracy\",\"Precision\",\"Recall\"],\"xaxis\":\"x\",\"y\":[0.85233798195242,0.43478260869565216,0.06097560975609756],\"yaxis\":\"y\",\"type\":\"bar\"}],\"name\":\"15\"},{\"data\":[{\"alignmentgroup\":\"True\",\"hovertemplate\":\"K=16\\u003cbr\\u003eMetric=%{x}\\u003cbr\\u003eMetric Value=%{y}\\u003cextra\\u003e\\u003c\\u002fextra\\u003e\",\"legendgroup\":\"\",\"marker\":{\"color\":\"#636efa\",\"pattern\":{\"shape\":\"\"}},\"name\":\"\",\"offsetgroup\":\"\",\"orientation\":\"v\",\"showlegend\":false,\"textposition\":\"auto\",\"x\":[\"Accuracy\",\"Precision\",\"Recall\"],\"xaxis\":\"x\",\"y\":[0.85233798195242,0.46153846153846156,0.036585365853658534],\"yaxis\":\"y\",\"type\":\"bar\"}],\"name\":\"16\"},{\"data\":[{\"alignmentgroup\":\"True\",\"hovertemplate\":\"K=17\\u003cbr\\u003eMetric=%{x}\\u003cbr\\u003eMetric Value=%{y}\\u003cextra\\u003e\\u003c\\u002fextra\\u003e\",\"legendgroup\":\"\",\"marker\":{\"color\":\"#636efa\",\"pattern\":{\"shape\":\"\"}},\"name\":\"\",\"offsetgroup\":\"\",\"orientation\":\"v\",\"showlegend\":false,\"textposition\":\"auto\",\"x\":[\"Accuracy\",\"Precision\",\"Recall\"],\"xaxis\":\"x\",\"y\":[0.85233798195242,0.47368421052631576,0.054878048780487805],\"yaxis\":\"y\",\"type\":\"bar\"}],\"name\":\"17\"},{\"data\":[{\"alignmentgroup\":\"True\",\"hovertemplate\":\"K=18\\u003cbr\\u003eMetric=%{x}\\u003cbr\\u003eMetric Value=%{y}\\u003cextra\\u003e\\u003c\\u002fextra\\u003e\",\"legendgroup\":\"\",\"marker\":{\"color\":\"#636efa\",\"pattern\":{\"shape\":\"\"}},\"name\":\"\",\"offsetgroup\":\"\",\"orientation\":\"v\",\"showlegend\":false,\"textposition\":\"auto\",\"x\":[\"Accuracy\",\"Precision\",\"Recall\"],\"xaxis\":\"x\",\"y\":[0.85233798195242,0.6666666666666666,0.036585365853658534],\"yaxis\":\"y\",\"type\":\"bar\"}],\"name\":\"18\"},{\"data\":[{\"alignmentgroup\":\"True\",\"hovertemplate\":\"K=19\\u003cbr\\u003eMetric=%{x}\\u003cbr\\u003eMetric Value=%{y}\\u003cextra\\u003e\\u003c\\u002fextra\\u003e\",\"legendgroup\":\"\",\"marker\":{\"color\":\"#636efa\",\"pattern\":{\"shape\":\"\"}},\"name\":\"\",\"offsetgroup\":\"\",\"orientation\":\"v\",\"showlegend\":false,\"textposition\":\"auto\",\"x\":[\"Accuracy\",\"Precision\",\"Recall\"],\"xaxis\":\"x\",\"y\":[0.85233798195242,0.5,0.036585365853658534],\"yaxis\":\"y\",\"type\":\"bar\"}],\"name\":\"19\"},{\"data\":[{\"alignmentgroup\":\"True\",\"hovertemplate\":\"K=20\\u003cbr\\u003eMetric=%{x}\\u003cbr\\u003eMetric Value=%{y}\\u003cextra\\u003e\\u003c\\u002fextra\\u003e\",\"legendgroup\":\"\",\"marker\":{\"color\":\"#636efa\",\"pattern\":{\"shape\":\"\"}},\"name\":\"\",\"offsetgroup\":\"\",\"orientation\":\"v\",\"showlegend\":false,\"textposition\":\"auto\",\"x\":[\"Accuracy\",\"Precision\",\"Recall\"],\"xaxis\":\"x\",\"y\":[0.85233798195242,0.5,0.024390243902439025],\"yaxis\":\"y\",\"type\":\"bar\"}],\"name\":\"20\"},{\"data\":[{\"alignmentgroup\":\"True\",\"hovertemplate\":\"K=21\\u003cbr\\u003eMetric=%{x}\\u003cbr\\u003eMetric Value=%{y}\\u003cextra\\u003e\\u003c\\u002fextra\\u003e\",\"legendgroup\":\"\",\"marker\":{\"color\":\"#636efa\",\"pattern\":{\"shape\":\"\"}},\"name\":\"\",\"offsetgroup\":\"\",\"orientation\":\"v\",\"showlegend\":false,\"textposition\":\"auto\",\"x\":[\"Accuracy\",\"Precision\",\"Recall\"],\"xaxis\":\"x\",\"y\":[0.85233798195242,0.5454545454545454,0.036585365853658534],\"yaxis\":\"y\",\"type\":\"bar\"}],\"name\":\"21\"},{\"data\":[{\"alignmentgroup\":\"True\",\"hovertemplate\":\"K=22\\u003cbr\\u003eMetric=%{x}\\u003cbr\\u003eMetric Value=%{y}\\u003cextra\\u003e\\u003c\\u002fextra\\u003e\",\"legendgroup\":\"\",\"marker\":{\"color\":\"#636efa\",\"pattern\":{\"shape\":\"\"}},\"name\":\"\",\"offsetgroup\":\"\",\"orientation\":\"v\",\"showlegend\":false,\"textposition\":\"auto\",\"x\":[\"Accuracy\",\"Precision\",\"Recall\"],\"xaxis\":\"x\",\"y\":[0.85233798195242,0.5714285714285714,0.024390243902439025],\"yaxis\":\"y\",\"type\":\"bar\"}],\"name\":\"22\"},{\"data\":[{\"alignmentgroup\":\"True\",\"hovertemplate\":\"K=23\\u003cbr\\u003eMetric=%{x}\\u003cbr\\u003eMetric Value=%{y}\\u003cextra\\u003e\\u003c\\u002fextra\\u003e\",\"legendgroup\":\"\",\"marker\":{\"color\":\"#636efa\",\"pattern\":{\"shape\":\"\"}},\"name\":\"\",\"offsetgroup\":\"\",\"orientation\":\"v\",\"showlegend\":false,\"textposition\":\"auto\",\"x\":[\"Accuracy\",\"Precision\",\"Recall\"],\"xaxis\":\"x\",\"y\":[0.85233798195242,0.5555555555555556,0.03048780487804878],\"yaxis\":\"y\",\"type\":\"bar\"}],\"name\":\"23\"},{\"data\":[{\"alignmentgroup\":\"True\",\"hovertemplate\":\"K=24\\u003cbr\\u003eMetric=%{x}\\u003cbr\\u003eMetric Value=%{y}\\u003cextra\\u003e\\u003c\\u002fextra\\u003e\",\"legendgroup\":\"\",\"marker\":{\"color\":\"#636efa\",\"pattern\":{\"shape\":\"\"}},\"name\":\"\",\"offsetgroup\":\"\",\"orientation\":\"v\",\"showlegend\":false,\"textposition\":\"auto\",\"x\":[\"Accuracy\",\"Precision\",\"Recall\"],\"xaxis\":\"x\",\"y\":[0.85233798195242,0.8333333333333334,0.03048780487804878],\"yaxis\":\"y\",\"type\":\"bar\"}],\"name\":\"24\"},{\"data\":[{\"alignmentgroup\":\"True\",\"hovertemplate\":\"K=25\\u003cbr\\u003eMetric=%{x}\\u003cbr\\u003eMetric Value=%{y}\\u003cextra\\u003e\\u003c\\u002fextra\\u003e\",\"legendgroup\":\"\",\"marker\":{\"color\":\"#636efa\",\"pattern\":{\"shape\":\"\"}},\"name\":\"\",\"offsetgroup\":\"\",\"orientation\":\"v\",\"showlegend\":false,\"textposition\":\"auto\",\"x\":[\"Accuracy\",\"Precision\",\"Recall\"],\"xaxis\":\"x\",\"y\":[0.85233798195242,0.6666666666666666,0.036585365853658534],\"yaxis\":\"y\",\"type\":\"bar\"}],\"name\":\"25\"},{\"data\":[{\"alignmentgroup\":\"True\",\"hovertemplate\":\"K=26\\u003cbr\\u003eMetric=%{x}\\u003cbr\\u003eMetric Value=%{y}\\u003cextra\\u003e\\u003c\\u002fextra\\u003e\",\"legendgroup\":\"\",\"marker\":{\"color\":\"#636efa\",\"pattern\":{\"shape\":\"\"}},\"name\":\"\",\"offsetgroup\":\"\",\"orientation\":\"v\",\"showlegend\":false,\"textposition\":\"auto\",\"x\":[\"Accuracy\",\"Precision\",\"Recall\"],\"xaxis\":\"x\",\"y\":[0.85233798195242,0.6666666666666666,0.024390243902439025],\"yaxis\":\"y\",\"type\":\"bar\"}],\"name\":\"26\"},{\"data\":[{\"alignmentgroup\":\"True\",\"hovertemplate\":\"K=27\\u003cbr\\u003eMetric=%{x}\\u003cbr\\u003eMetric Value=%{y}\\u003cextra\\u003e\\u003c\\u002fextra\\u003e\",\"legendgroup\":\"\",\"marker\":{\"color\":\"#636efa\",\"pattern\":{\"shape\":\"\"}},\"name\":\"\",\"offsetgroup\":\"\",\"orientation\":\"v\",\"showlegend\":false,\"textposition\":\"auto\",\"x\":[\"Accuracy\",\"Precision\",\"Recall\"],\"xaxis\":\"x\",\"y\":[0.85233798195242,0.625,0.03048780487804878],\"yaxis\":\"y\",\"type\":\"bar\"}],\"name\":\"27\"},{\"data\":[{\"alignmentgroup\":\"True\",\"hovertemplate\":\"K=28\\u003cbr\\u003eMetric=%{x}\\u003cbr\\u003eMetric Value=%{y}\\u003cextra\\u003e\\u003c\\u002fextra\\u003e\",\"legendgroup\":\"\",\"marker\":{\"color\":\"#636efa\",\"pattern\":{\"shape\":\"\"}},\"name\":\"\",\"offsetgroup\":\"\",\"orientation\":\"v\",\"showlegend\":false,\"textposition\":\"auto\",\"x\":[\"Accuracy\",\"Precision\",\"Recall\"],\"xaxis\":\"x\",\"y\":[0.85233798195242,0.625,0.03048780487804878],\"yaxis\":\"y\",\"type\":\"bar\"}],\"name\":\"28\"},{\"data\":[{\"alignmentgroup\":\"True\",\"hovertemplate\":\"K=29\\u003cbr\\u003eMetric=%{x}\\u003cbr\\u003eMetric Value=%{y}\\u003cextra\\u003e\\u003c\\u002fextra\\u003e\",\"legendgroup\":\"\",\"marker\":{\"color\":\"#636efa\",\"pattern\":{\"shape\":\"\"}},\"name\":\"\",\"offsetgroup\":\"\",\"orientation\":\"v\",\"showlegend\":false,\"textposition\":\"auto\",\"x\":[\"Accuracy\",\"Precision\",\"Recall\"],\"xaxis\":\"x\",\"y\":[0.85233798195242,0.625,0.03048780487804878],\"yaxis\":\"y\",\"type\":\"bar\"}],\"name\":\"29\"},{\"data\":[{\"alignmentgroup\":\"True\",\"hovertemplate\":\"K=30\\u003cbr\\u003eMetric=%{x}\\u003cbr\\u003eMetric Value=%{y}\\u003cextra\\u003e\\u003c\\u002fextra\\u003e\",\"legendgroup\":\"\",\"marker\":{\"color\":\"#636efa\",\"pattern\":{\"shape\":\"\"}},\"name\":\"\",\"offsetgroup\":\"\",\"orientation\":\"v\",\"showlegend\":false,\"textposition\":\"auto\",\"x\":[\"Accuracy\",\"Precision\",\"Recall\"],\"xaxis\":\"x\",\"y\":[0.85233798195242,0.7142857142857143,0.03048780487804878],\"yaxis\":\"y\",\"type\":\"bar\"}],\"name\":\"30\"},{\"data\":[{\"alignmentgroup\":\"True\",\"hovertemplate\":\"K=31\\u003cbr\\u003eMetric=%{x}\\u003cbr\\u003eMetric Value=%{y}\\u003cextra\\u003e\\u003c\\u002fextra\\u003e\",\"legendgroup\":\"\",\"marker\":{\"color\":\"#636efa\",\"pattern\":{\"shape\":\"\"}},\"name\":\"\",\"offsetgroup\":\"\",\"orientation\":\"v\",\"showlegend\":false,\"textposition\":\"auto\",\"x\":[\"Accuracy\",\"Precision\",\"Recall\"],\"xaxis\":\"x\",\"y\":[0.85233798195242,0.7142857142857143,0.03048780487804878],\"yaxis\":\"y\",\"type\":\"bar\"}],\"name\":\"31\"},{\"data\":[{\"alignmentgroup\":\"True\",\"hovertemplate\":\"K=32\\u003cbr\\u003eMetric=%{x}\\u003cbr\\u003eMetric Value=%{y}\\u003cextra\\u003e\\u003c\\u002fextra\\u003e\",\"legendgroup\":\"\",\"marker\":{\"color\":\"#636efa\",\"pattern\":{\"shape\":\"\"}},\"name\":\"\",\"offsetgroup\":\"\",\"orientation\":\"v\",\"showlegend\":false,\"textposition\":\"auto\",\"x\":[\"Accuracy\",\"Precision\",\"Recall\"],\"xaxis\":\"x\",\"y\":[0.85233798195242,0.6666666666666666,0.024390243902439025],\"yaxis\":\"y\",\"type\":\"bar\"}],\"name\":\"32\"},{\"data\":[{\"alignmentgroup\":\"True\",\"hovertemplate\":\"K=33\\u003cbr\\u003eMetric=%{x}\\u003cbr\\u003eMetric Value=%{y}\\u003cextra\\u003e\\u003c\\u002fextra\\u003e\",\"legendgroup\":\"\",\"marker\":{\"color\":\"#636efa\",\"pattern\":{\"shape\":\"\"}},\"name\":\"\",\"offsetgroup\":\"\",\"orientation\":\"v\",\"showlegend\":false,\"textposition\":\"auto\",\"x\":[\"Accuracy\",\"Precision\",\"Recall\"],\"xaxis\":\"x\",\"y\":[0.85233798195242,0.7142857142857143,0.03048780487804878],\"yaxis\":\"y\",\"type\":\"bar\"}],\"name\":\"33\"},{\"data\":[{\"alignmentgroup\":\"True\",\"hovertemplate\":\"K=34\\u003cbr\\u003eMetric=%{x}\\u003cbr\\u003eMetric Value=%{y}\\u003cextra\\u003e\\u003c\\u002fextra\\u003e\",\"legendgroup\":\"\",\"marker\":{\"color\":\"#636efa\",\"pattern\":{\"shape\":\"\"}},\"name\":\"\",\"offsetgroup\":\"\",\"orientation\":\"v\",\"showlegend\":false,\"textposition\":\"auto\",\"x\":[\"Accuracy\",\"Precision\",\"Recall\"],\"xaxis\":\"x\",\"y\":[0.85233798195242,0.8,0.024390243902439025],\"yaxis\":\"y\",\"type\":\"bar\"}],\"name\":\"34\"},{\"data\":[{\"alignmentgroup\":\"True\",\"hovertemplate\":\"K=35\\u003cbr\\u003eMetric=%{x}\\u003cbr\\u003eMetric Value=%{y}\\u003cextra\\u003e\\u003c\\u002fextra\\u003e\",\"legendgroup\":\"\",\"marker\":{\"color\":\"#636efa\",\"pattern\":{\"shape\":\"\"}},\"name\":\"\",\"offsetgroup\":\"\",\"orientation\":\"v\",\"showlegend\":false,\"textposition\":\"auto\",\"x\":[\"Accuracy\",\"Precision\",\"Recall\"],\"xaxis\":\"x\",\"y\":[0.85233798195242,0.7142857142857143,0.03048780487804878],\"yaxis\":\"y\",\"type\":\"bar\"}],\"name\":\"35\"},{\"data\":[{\"alignmentgroup\":\"True\",\"hovertemplate\":\"K=36\\u003cbr\\u003eMetric=%{x}\\u003cbr\\u003eMetric Value=%{y}\\u003cextra\\u003e\\u003c\\u002fextra\\u003e\",\"legendgroup\":\"\",\"marker\":{\"color\":\"#636efa\",\"pattern\":{\"shape\":\"\"}},\"name\":\"\",\"offsetgroup\":\"\",\"orientation\":\"v\",\"showlegend\":false,\"textposition\":\"auto\",\"x\":[\"Accuracy\",\"Precision\",\"Recall\"],\"xaxis\":\"x\",\"y\":[0.85233798195242,0.75,0.018292682926829267],\"yaxis\":\"y\",\"type\":\"bar\"}],\"name\":\"36\"},{\"data\":[{\"alignmentgroup\":\"True\",\"hovertemplate\":\"K=37\\u003cbr\\u003eMetric=%{x}\\u003cbr\\u003eMetric Value=%{y}\\u003cextra\\u003e\\u003c\\u002fextra\\u003e\",\"legendgroup\":\"\",\"marker\":{\"color\":\"#636efa\",\"pattern\":{\"shape\":\"\"}},\"name\":\"\",\"offsetgroup\":\"\",\"orientation\":\"v\",\"showlegend\":false,\"textposition\":\"auto\",\"x\":[\"Accuracy\",\"Precision\",\"Recall\"],\"xaxis\":\"x\",\"y\":[0.85233798195242,0.8,0.024390243902439025],\"yaxis\":\"y\",\"type\":\"bar\"}],\"name\":\"37\"},{\"data\":[{\"alignmentgroup\":\"True\",\"hovertemplate\":\"K=38\\u003cbr\\u003eMetric=%{x}\\u003cbr\\u003eMetric Value=%{y}\\u003cextra\\u003e\\u003c\\u002fextra\\u003e\",\"legendgroup\":\"\",\"marker\":{\"color\":\"#636efa\",\"pattern\":{\"shape\":\"\"}},\"name\":\"\",\"offsetgroup\":\"\",\"orientation\":\"v\",\"showlegend\":false,\"textposition\":\"auto\",\"x\":[\"Accuracy\",\"Precision\",\"Recall\"],\"xaxis\":\"x\",\"y\":[0.85233798195242,0.75,0.018292682926829267],\"yaxis\":\"y\",\"type\":\"bar\"}],\"name\":\"38\"},{\"data\":[{\"alignmentgroup\":\"True\",\"hovertemplate\":\"K=39\\u003cbr\\u003eMetric=%{x}\\u003cbr\\u003eMetric Value=%{y}\\u003cextra\\u003e\\u003c\\u002fextra\\u003e\",\"legendgroup\":\"\",\"marker\":{\"color\":\"#636efa\",\"pattern\":{\"shape\":\"\"}},\"name\":\"\",\"offsetgroup\":\"\",\"orientation\":\"v\",\"showlegend\":false,\"textposition\":\"auto\",\"x\":[\"Accuracy\",\"Precision\",\"Recall\"],\"xaxis\":\"x\",\"y\":[0.85233798195242,0.8,0.024390243902439025],\"yaxis\":\"y\",\"type\":\"bar\"}],\"name\":\"39\"},{\"data\":[{\"alignmentgroup\":\"True\",\"hovertemplate\":\"K=40\\u003cbr\\u003eMetric=%{x}\\u003cbr\\u003eMetric Value=%{y}\\u003cextra\\u003e\\u003c\\u002fextra\\u003e\",\"legendgroup\":\"\",\"marker\":{\"color\":\"#636efa\",\"pattern\":{\"shape\":\"\"}},\"name\":\"\",\"offsetgroup\":\"\",\"orientation\":\"v\",\"showlegend\":false,\"textposition\":\"auto\",\"x\":[\"Accuracy\",\"Precision\",\"Recall\"],\"xaxis\":\"x\",\"y\":[0.85233798195242,0.8,0.024390243902439025],\"yaxis\":\"y\",\"type\":\"bar\"}],\"name\":\"40\"},{\"data\":[{\"alignmentgroup\":\"True\",\"hovertemplate\":\"K=41\\u003cbr\\u003eMetric=%{x}\\u003cbr\\u003eMetric Value=%{y}\\u003cextra\\u003e\\u003c\\u002fextra\\u003e\",\"legendgroup\":\"\",\"marker\":{\"color\":\"#636efa\",\"pattern\":{\"shape\":\"\"}},\"name\":\"\",\"offsetgroup\":\"\",\"orientation\":\"v\",\"showlegend\":false,\"textposition\":\"auto\",\"x\":[\"Accuracy\",\"Precision\",\"Recall\"],\"xaxis\":\"x\",\"y\":[0.85233798195242,0.8,0.024390243902439025],\"yaxis\":\"y\",\"type\":\"bar\"}],\"name\":\"41\"},{\"data\":[{\"alignmentgroup\":\"True\",\"hovertemplate\":\"K=42\\u003cbr\\u003eMetric=%{x}\\u003cbr\\u003eMetric Value=%{y}\\u003cextra\\u003e\\u003c\\u002fextra\\u003e\",\"legendgroup\":\"\",\"marker\":{\"color\":\"#636efa\",\"pattern\":{\"shape\":\"\"}},\"name\":\"\",\"offsetgroup\":\"\",\"orientation\":\"v\",\"showlegend\":false,\"textposition\":\"auto\",\"x\":[\"Accuracy\",\"Precision\",\"Recall\"],\"xaxis\":\"x\",\"y\":[0.85233798195242,0.8,0.024390243902439025],\"yaxis\":\"y\",\"type\":\"bar\"}],\"name\":\"42\"},{\"data\":[{\"alignmentgroup\":\"True\",\"hovertemplate\":\"K=43\\u003cbr\\u003eMetric=%{x}\\u003cbr\\u003eMetric Value=%{y}\\u003cextra\\u003e\\u003c\\u002fextra\\u003e\",\"legendgroup\":\"\",\"marker\":{\"color\":\"#636efa\",\"pattern\":{\"shape\":\"\"}},\"name\":\"\",\"offsetgroup\":\"\",\"orientation\":\"v\",\"showlegend\":false,\"textposition\":\"auto\",\"x\":[\"Accuracy\",\"Precision\",\"Recall\"],\"xaxis\":\"x\",\"y\":[0.85233798195242,0.8,0.024390243902439025],\"yaxis\":\"y\",\"type\":\"bar\"}],\"name\":\"43\"},{\"data\":[{\"alignmentgroup\":\"True\",\"hovertemplate\":\"K=44\\u003cbr\\u003eMetric=%{x}\\u003cbr\\u003eMetric Value=%{y}\\u003cextra\\u003e\\u003c\\u002fextra\\u003e\",\"legendgroup\":\"\",\"marker\":{\"color\":\"#636efa\",\"pattern\":{\"shape\":\"\"}},\"name\":\"\",\"offsetgroup\":\"\",\"orientation\":\"v\",\"showlegend\":false,\"textposition\":\"auto\",\"x\":[\"Accuracy\",\"Precision\",\"Recall\"],\"xaxis\":\"x\",\"y\":[0.85233798195242,0.8,0.024390243902439025],\"yaxis\":\"y\",\"type\":\"bar\"}],\"name\":\"44\"},{\"data\":[{\"alignmentgroup\":\"True\",\"hovertemplate\":\"K=45\\u003cbr\\u003eMetric=%{x}\\u003cbr\\u003eMetric Value=%{y}\\u003cextra\\u003e\\u003c\\u002fextra\\u003e\",\"legendgroup\":\"\",\"marker\":{\"color\":\"#636efa\",\"pattern\":{\"shape\":\"\"}},\"name\":\"\",\"offsetgroup\":\"\",\"orientation\":\"v\",\"showlegend\":false,\"textposition\":\"auto\",\"x\":[\"Accuracy\",\"Precision\",\"Recall\"],\"xaxis\":\"x\",\"y\":[0.85233798195242,0.8,0.024390243902439025],\"yaxis\":\"y\",\"type\":\"bar\"}],\"name\":\"45\"},{\"data\":[{\"alignmentgroup\":\"True\",\"hovertemplate\":\"K=46\\u003cbr\\u003eMetric=%{x}\\u003cbr\\u003eMetric Value=%{y}\\u003cextra\\u003e\\u003c\\u002fextra\\u003e\",\"legendgroup\":\"\",\"marker\":{\"color\":\"#636efa\",\"pattern\":{\"shape\":\"\"}},\"name\":\"\",\"offsetgroup\":\"\",\"orientation\":\"v\",\"showlegend\":false,\"textposition\":\"auto\",\"x\":[\"Accuracy\",\"Precision\",\"Recall\"],\"xaxis\":\"x\",\"y\":[0.85233798195242,1.0,0.012195121951219513],\"yaxis\":\"y\",\"type\":\"bar\"}],\"name\":\"46\"},{\"data\":[{\"alignmentgroup\":\"True\",\"hovertemplate\":\"K=47\\u003cbr\\u003eMetric=%{x}\\u003cbr\\u003eMetric Value=%{y}\\u003cextra\\u003e\\u003c\\u002fextra\\u003e\",\"legendgroup\":\"\",\"marker\":{\"color\":\"#636efa\",\"pattern\":{\"shape\":\"\"}},\"name\":\"\",\"offsetgroup\":\"\",\"orientation\":\"v\",\"showlegend\":false,\"textposition\":\"auto\",\"x\":[\"Accuracy\",\"Precision\",\"Recall\"],\"xaxis\":\"x\",\"y\":[0.85233798195242,0.75,0.018292682926829267],\"yaxis\":\"y\",\"type\":\"bar\"}],\"name\":\"47\"},{\"data\":[{\"alignmentgroup\":\"True\",\"hovertemplate\":\"K=48\\u003cbr\\u003eMetric=%{x}\\u003cbr\\u003eMetric Value=%{y}\\u003cextra\\u003e\\u003c\\u002fextra\\u003e\",\"legendgroup\":\"\",\"marker\":{\"color\":\"#636efa\",\"pattern\":{\"shape\":\"\"}},\"name\":\"\",\"offsetgroup\":\"\",\"orientation\":\"v\",\"showlegend\":false,\"textposition\":\"auto\",\"x\":[\"Accuracy\",\"Precision\",\"Recall\"],\"xaxis\":\"x\",\"y\":[0.85233798195242,1.0,0.018292682926829267],\"yaxis\":\"y\",\"type\":\"bar\"}],\"name\":\"48\"},{\"data\":[{\"alignmentgroup\":\"True\",\"hovertemplate\":\"K=49\\u003cbr\\u003eMetric=%{x}\\u003cbr\\u003eMetric Value=%{y}\\u003cextra\\u003e\\u003c\\u002fextra\\u003e\",\"legendgroup\":\"\",\"marker\":{\"color\":\"#636efa\",\"pattern\":{\"shape\":\"\"}},\"name\":\"\",\"offsetgroup\":\"\",\"orientation\":\"v\",\"showlegend\":false,\"textposition\":\"auto\",\"x\":[\"Accuracy\",\"Precision\",\"Recall\"],\"xaxis\":\"x\",\"y\":[0.85233798195242,1.0,0.018292682926829267],\"yaxis\":\"y\",\"type\":\"bar\"}],\"name\":\"49\"},{\"data\":[{\"alignmentgroup\":\"True\",\"hovertemplate\":\"K=50\\u003cbr\\u003eMetric=%{x}\\u003cbr\\u003eMetric Value=%{y}\\u003cextra\\u003e\\u003c\\u002fextra\\u003e\",\"legendgroup\":\"\",\"marker\":{\"color\":\"#636efa\",\"pattern\":{\"shape\":\"\"}},\"name\":\"\",\"offsetgroup\":\"\",\"orientation\":\"v\",\"showlegend\":false,\"textposition\":\"auto\",\"x\":[\"Accuracy\",\"Precision\",\"Recall\"],\"xaxis\":\"x\",\"y\":[0.85233798195242,1.0,0.012195121951219513],\"yaxis\":\"y\",\"type\":\"bar\"}],\"name\":\"50\"},{\"data\":[{\"alignmentgroup\":\"True\",\"hovertemplate\":\"K=51\\u003cbr\\u003eMetric=%{x}\\u003cbr\\u003eMetric Value=%{y}\\u003cextra\\u003e\\u003c\\u002fextra\\u003e\",\"legendgroup\":\"\",\"marker\":{\"color\":\"#636efa\",\"pattern\":{\"shape\":\"\"}},\"name\":\"\",\"offsetgroup\":\"\",\"orientation\":\"v\",\"showlegend\":false,\"textposition\":\"auto\",\"x\":[\"Accuracy\",\"Precision\",\"Recall\"],\"xaxis\":\"x\",\"y\":[0.85233798195242,1.0,0.018292682926829267],\"yaxis\":\"y\",\"type\":\"bar\"}],\"name\":\"51\"},{\"data\":[{\"alignmentgroup\":\"True\",\"hovertemplate\":\"K=52\\u003cbr\\u003eMetric=%{x}\\u003cbr\\u003eMetric Value=%{y}\\u003cextra\\u003e\\u003c\\u002fextra\\u003e\",\"legendgroup\":\"\",\"marker\":{\"color\":\"#636efa\",\"pattern\":{\"shape\":\"\"}},\"name\":\"\",\"offsetgroup\":\"\",\"orientation\":\"v\",\"showlegend\":false,\"textposition\":\"auto\",\"x\":[\"Accuracy\",\"Precision\",\"Recall\"],\"xaxis\":\"x\",\"y\":[0.85233798195242,1.0,0.006097560975609756],\"yaxis\":\"y\",\"type\":\"bar\"}],\"name\":\"52\"},{\"data\":[{\"alignmentgroup\":\"True\",\"hovertemplate\":\"K=53\\u003cbr\\u003eMetric=%{x}\\u003cbr\\u003eMetric Value=%{y}\\u003cextra\\u003e\\u003c\\u002fextra\\u003e\",\"legendgroup\":\"\",\"marker\":{\"color\":\"#636efa\",\"pattern\":{\"shape\":\"\"}},\"name\":\"\",\"offsetgroup\":\"\",\"orientation\":\"v\",\"showlegend\":false,\"textposition\":\"auto\",\"x\":[\"Accuracy\",\"Precision\",\"Recall\"],\"xaxis\":\"x\",\"y\":[0.85233798195242,1.0,0.012195121951219513],\"yaxis\":\"y\",\"type\":\"bar\"}],\"name\":\"53\"},{\"data\":[{\"alignmentgroup\":\"True\",\"hovertemplate\":\"K=54\\u003cbr\\u003eMetric=%{x}\\u003cbr\\u003eMetric Value=%{y}\\u003cextra\\u003e\\u003c\\u002fextra\\u003e\",\"legendgroup\":\"\",\"marker\":{\"color\":\"#636efa\",\"pattern\":{\"shape\":\"\"}},\"name\":\"\",\"offsetgroup\":\"\",\"orientation\":\"v\",\"showlegend\":false,\"textposition\":\"auto\",\"x\":[\"Accuracy\",\"Precision\",\"Recall\"],\"xaxis\":\"x\",\"y\":[0.85233798195242,1.0,0.012195121951219513],\"yaxis\":\"y\",\"type\":\"bar\"}],\"name\":\"54\"},{\"data\":[{\"alignmentgroup\":\"True\",\"hovertemplate\":\"K=55\\u003cbr\\u003eMetric=%{x}\\u003cbr\\u003eMetric Value=%{y}\\u003cextra\\u003e\\u003c\\u002fextra\\u003e\",\"legendgroup\":\"\",\"marker\":{\"color\":\"#636efa\",\"pattern\":{\"shape\":\"\"}},\"name\":\"\",\"offsetgroup\":\"\",\"orientation\":\"v\",\"showlegend\":false,\"textposition\":\"auto\",\"x\":[\"Accuracy\",\"Precision\",\"Recall\"],\"xaxis\":\"x\",\"y\":[0.85233798195242,1.0,0.012195121951219513],\"yaxis\":\"y\",\"type\":\"bar\"}],\"name\":\"55\"},{\"data\":[{\"alignmentgroup\":\"True\",\"hovertemplate\":\"K=56\\u003cbr\\u003eMetric=%{x}\\u003cbr\\u003eMetric Value=%{y}\\u003cextra\\u003e\\u003c\\u002fextra\\u003e\",\"legendgroup\":\"\",\"marker\":{\"color\":\"#636efa\",\"pattern\":{\"shape\":\"\"}},\"name\":\"\",\"offsetgroup\":\"\",\"orientation\":\"v\",\"showlegend\":false,\"textposition\":\"auto\",\"x\":[\"Accuracy\",\"Precision\",\"Recall\"],\"xaxis\":\"x\",\"y\":[0.85233798195242,0.0,0.0],\"yaxis\":\"y\",\"type\":\"bar\"}],\"name\":\"56\"},{\"data\":[{\"alignmentgroup\":\"True\",\"hovertemplate\":\"K=57\\u003cbr\\u003eMetric=%{x}\\u003cbr\\u003eMetric Value=%{y}\\u003cextra\\u003e\\u003c\\u002fextra\\u003e\",\"legendgroup\":\"\",\"marker\":{\"color\":\"#636efa\",\"pattern\":{\"shape\":\"\"}},\"name\":\"\",\"offsetgroup\":\"\",\"orientation\":\"v\",\"showlegend\":false,\"textposition\":\"auto\",\"x\":[\"Accuracy\",\"Precision\",\"Recall\"],\"xaxis\":\"x\",\"y\":[0.85233798195242,0.0,0.0],\"yaxis\":\"y\",\"type\":\"bar\"}],\"name\":\"57\"},{\"data\":[{\"alignmentgroup\":\"True\",\"hovertemplate\":\"K=58\\u003cbr\\u003eMetric=%{x}\\u003cbr\\u003eMetric Value=%{y}\\u003cextra\\u003e\\u003c\\u002fextra\\u003e\",\"legendgroup\":\"\",\"marker\":{\"color\":\"#636efa\",\"pattern\":{\"shape\":\"\"}},\"name\":\"\",\"offsetgroup\":\"\",\"orientation\":\"v\",\"showlegend\":false,\"textposition\":\"auto\",\"x\":[\"Accuracy\",\"Precision\",\"Recall\"],\"xaxis\":\"x\",\"y\":[0.85233798195242,0.0,0.0],\"yaxis\":\"y\",\"type\":\"bar\"}],\"name\":\"58\"},{\"data\":[{\"alignmentgroup\":\"True\",\"hovertemplate\":\"K=59\\u003cbr\\u003eMetric=%{x}\\u003cbr\\u003eMetric Value=%{y}\\u003cextra\\u003e\\u003c\\u002fextra\\u003e\",\"legendgroup\":\"\",\"marker\":{\"color\":\"#636efa\",\"pattern\":{\"shape\":\"\"}},\"name\":\"\",\"offsetgroup\":\"\",\"orientation\":\"v\",\"showlegend\":false,\"textposition\":\"auto\",\"x\":[\"Accuracy\",\"Precision\",\"Recall\"],\"xaxis\":\"x\",\"y\":[0.85233798195242,0.0,0.0],\"yaxis\":\"y\",\"type\":\"bar\"}],\"name\":\"59\"},{\"data\":[{\"alignmentgroup\":\"True\",\"hovertemplate\":\"K=60\\u003cbr\\u003eMetric=%{x}\\u003cbr\\u003eMetric Value=%{y}\\u003cextra\\u003e\\u003c\\u002fextra\\u003e\",\"legendgroup\":\"\",\"marker\":{\"color\":\"#636efa\",\"pattern\":{\"shape\":\"\"}},\"name\":\"\",\"offsetgroup\":\"\",\"orientation\":\"v\",\"showlegend\":false,\"textposition\":\"auto\",\"x\":[\"Accuracy\",\"Precision\",\"Recall\"],\"xaxis\":\"x\",\"y\":[0.85233798195242,0.0,0.0],\"yaxis\":\"y\",\"type\":\"bar\"}],\"name\":\"60\"},{\"data\":[{\"alignmentgroup\":\"True\",\"hovertemplate\":\"K=61\\u003cbr\\u003eMetric=%{x}\\u003cbr\\u003eMetric Value=%{y}\\u003cextra\\u003e\\u003c\\u002fextra\\u003e\",\"legendgroup\":\"\",\"marker\":{\"color\":\"#636efa\",\"pattern\":{\"shape\":\"\"}},\"name\":\"\",\"offsetgroup\":\"\",\"orientation\":\"v\",\"showlegend\":false,\"textposition\":\"auto\",\"x\":[\"Accuracy\",\"Precision\",\"Recall\"],\"xaxis\":\"x\",\"y\":[0.85233798195242,0.0,0.0],\"yaxis\":\"y\",\"type\":\"bar\"}],\"name\":\"61\"},{\"data\":[{\"alignmentgroup\":\"True\",\"hovertemplate\":\"K=62\\u003cbr\\u003eMetric=%{x}\\u003cbr\\u003eMetric Value=%{y}\\u003cextra\\u003e\\u003c\\u002fextra\\u003e\",\"legendgroup\":\"\",\"marker\":{\"color\":\"#636efa\",\"pattern\":{\"shape\":\"\"}},\"name\":\"\",\"offsetgroup\":\"\",\"orientation\":\"v\",\"showlegend\":false,\"textposition\":\"auto\",\"x\":[\"Accuracy\",\"Precision\",\"Recall\"],\"xaxis\":\"x\",\"y\":[0.85233798195242,0.0,0.0],\"yaxis\":\"y\",\"type\":\"bar\"}],\"name\":\"62\"},{\"data\":[{\"alignmentgroup\":\"True\",\"hovertemplate\":\"K=63\\u003cbr\\u003eMetric=%{x}\\u003cbr\\u003eMetric Value=%{y}\\u003cextra\\u003e\\u003c\\u002fextra\\u003e\",\"legendgroup\":\"\",\"marker\":{\"color\":\"#636efa\",\"pattern\":{\"shape\":\"\"}},\"name\":\"\",\"offsetgroup\":\"\",\"orientation\":\"v\",\"showlegend\":false,\"textposition\":\"auto\",\"x\":[\"Accuracy\",\"Precision\",\"Recall\"],\"xaxis\":\"x\",\"y\":[0.85233798195242,0.0,0.0],\"yaxis\":\"y\",\"type\":\"bar\"}],\"name\":\"63\"},{\"data\":[{\"alignmentgroup\":\"True\",\"hovertemplate\":\"K=64\\u003cbr\\u003eMetric=%{x}\\u003cbr\\u003eMetric Value=%{y}\\u003cextra\\u003e\\u003c\\u002fextra\\u003e\",\"legendgroup\":\"\",\"marker\":{\"color\":\"#636efa\",\"pattern\":{\"shape\":\"\"}},\"name\":\"\",\"offsetgroup\":\"\",\"orientation\":\"v\",\"showlegend\":false,\"textposition\":\"auto\",\"x\":[\"Accuracy\",\"Precision\",\"Recall\"],\"xaxis\":\"x\",\"y\":[0.85233798195242,0.0,0.0],\"yaxis\":\"y\",\"type\":\"bar\"}],\"name\":\"64\"},{\"data\":[{\"alignmentgroup\":\"True\",\"hovertemplate\":\"K=65\\u003cbr\\u003eMetric=%{x}\\u003cbr\\u003eMetric Value=%{y}\\u003cextra\\u003e\\u003c\\u002fextra\\u003e\",\"legendgroup\":\"\",\"marker\":{\"color\":\"#636efa\",\"pattern\":{\"shape\":\"\"}},\"name\":\"\",\"offsetgroup\":\"\",\"orientation\":\"v\",\"showlegend\":false,\"textposition\":\"auto\",\"x\":[\"Accuracy\",\"Precision\",\"Recall\"],\"xaxis\":\"x\",\"y\":[0.85233798195242,0.0,0.0],\"yaxis\":\"y\",\"type\":\"bar\"}],\"name\":\"65\"},{\"data\":[{\"alignmentgroup\":\"True\",\"hovertemplate\":\"K=66\\u003cbr\\u003eMetric=%{x}\\u003cbr\\u003eMetric Value=%{y}\\u003cextra\\u003e\\u003c\\u002fextra\\u003e\",\"legendgroup\":\"\",\"marker\":{\"color\":\"#636efa\",\"pattern\":{\"shape\":\"\"}},\"name\":\"\",\"offsetgroup\":\"\",\"orientation\":\"v\",\"showlegend\":false,\"textposition\":\"auto\",\"x\":[\"Accuracy\",\"Precision\",\"Recall\"],\"xaxis\":\"x\",\"y\":[0.85233798195242,0.0,0.0],\"yaxis\":\"y\",\"type\":\"bar\"}],\"name\":\"66\"},{\"data\":[{\"alignmentgroup\":\"True\",\"hovertemplate\":\"K=67\\u003cbr\\u003eMetric=%{x}\\u003cbr\\u003eMetric Value=%{y}\\u003cextra\\u003e\\u003c\\u002fextra\\u003e\",\"legendgroup\":\"\",\"marker\":{\"color\":\"#636efa\",\"pattern\":{\"shape\":\"\"}},\"name\":\"\",\"offsetgroup\":\"\",\"orientation\":\"v\",\"showlegend\":false,\"textposition\":\"auto\",\"x\":[\"Accuracy\",\"Precision\",\"Recall\"],\"xaxis\":\"x\",\"y\":[0.85233798195242,0.0,0.0],\"yaxis\":\"y\",\"type\":\"bar\"}],\"name\":\"67\"},{\"data\":[{\"alignmentgroup\":\"True\",\"hovertemplate\":\"K=68\\u003cbr\\u003eMetric=%{x}\\u003cbr\\u003eMetric Value=%{y}\\u003cextra\\u003e\\u003c\\u002fextra\\u003e\",\"legendgroup\":\"\",\"marker\":{\"color\":\"#636efa\",\"pattern\":{\"shape\":\"\"}},\"name\":\"\",\"offsetgroup\":\"\",\"orientation\":\"v\",\"showlegend\":false,\"textposition\":\"auto\",\"x\":[\"Accuracy\",\"Precision\",\"Recall\"],\"xaxis\":\"x\",\"y\":[0.85233798195242,0.0,0.0],\"yaxis\":\"y\",\"type\":\"bar\"}],\"name\":\"68\"},{\"data\":[{\"alignmentgroup\":\"True\",\"hovertemplate\":\"K=69\\u003cbr\\u003eMetric=%{x}\\u003cbr\\u003eMetric Value=%{y}\\u003cextra\\u003e\\u003c\\u002fextra\\u003e\",\"legendgroup\":\"\",\"marker\":{\"color\":\"#636efa\",\"pattern\":{\"shape\":\"\"}},\"name\":\"\",\"offsetgroup\":\"\",\"orientation\":\"v\",\"showlegend\":false,\"textposition\":\"auto\",\"x\":[\"Accuracy\",\"Precision\",\"Recall\"],\"xaxis\":\"x\",\"y\":[0.85233798195242,0.0,0.0],\"yaxis\":\"y\",\"type\":\"bar\"}],\"name\":\"69\"},{\"data\":[{\"alignmentgroup\":\"True\",\"hovertemplate\":\"K=70\\u003cbr\\u003eMetric=%{x}\\u003cbr\\u003eMetric Value=%{y}\\u003cextra\\u003e\\u003c\\u002fextra\\u003e\",\"legendgroup\":\"\",\"marker\":{\"color\":\"#636efa\",\"pattern\":{\"shape\":\"\"}},\"name\":\"\",\"offsetgroup\":\"\",\"orientation\":\"v\",\"showlegend\":false,\"textposition\":\"auto\",\"x\":[\"Accuracy\",\"Precision\",\"Recall\"],\"xaxis\":\"x\",\"y\":[0.85233798195242,0.0,0.0],\"yaxis\":\"y\",\"type\":\"bar\"}],\"name\":\"70\"},{\"data\":[{\"alignmentgroup\":\"True\",\"hovertemplate\":\"K=71\\u003cbr\\u003eMetric=%{x}\\u003cbr\\u003eMetric Value=%{y}\\u003cextra\\u003e\\u003c\\u002fextra\\u003e\",\"legendgroup\":\"\",\"marker\":{\"color\":\"#636efa\",\"pattern\":{\"shape\":\"\"}},\"name\":\"\",\"offsetgroup\":\"\",\"orientation\":\"v\",\"showlegend\":false,\"textposition\":\"auto\",\"x\":[\"Accuracy\",\"Precision\",\"Recall\"],\"xaxis\":\"x\",\"y\":[0.85233798195242,0.0,0.0],\"yaxis\":\"y\",\"type\":\"bar\"}],\"name\":\"71\"},{\"data\":[{\"alignmentgroup\":\"True\",\"hovertemplate\":\"K=72\\u003cbr\\u003eMetric=%{x}\\u003cbr\\u003eMetric Value=%{y}\\u003cextra\\u003e\\u003c\\u002fextra\\u003e\",\"legendgroup\":\"\",\"marker\":{\"color\":\"#636efa\",\"pattern\":{\"shape\":\"\"}},\"name\":\"\",\"offsetgroup\":\"\",\"orientation\":\"v\",\"showlegend\":false,\"textposition\":\"auto\",\"x\":[\"Accuracy\",\"Precision\",\"Recall\"],\"xaxis\":\"x\",\"y\":[0.85233798195242,0.0,0.0],\"yaxis\":\"y\",\"type\":\"bar\"}],\"name\":\"72\"},{\"data\":[{\"alignmentgroup\":\"True\",\"hovertemplate\":\"K=73\\u003cbr\\u003eMetric=%{x}\\u003cbr\\u003eMetric Value=%{y}\\u003cextra\\u003e\\u003c\\u002fextra\\u003e\",\"legendgroup\":\"\",\"marker\":{\"color\":\"#636efa\",\"pattern\":{\"shape\":\"\"}},\"name\":\"\",\"offsetgroup\":\"\",\"orientation\":\"v\",\"showlegend\":false,\"textposition\":\"auto\",\"x\":[\"Accuracy\",\"Precision\",\"Recall\"],\"xaxis\":\"x\",\"y\":[0.85233798195242,0.0,0.0],\"yaxis\":\"y\",\"type\":\"bar\"}],\"name\":\"73\"},{\"data\":[{\"alignmentgroup\":\"True\",\"hovertemplate\":\"K=74\\u003cbr\\u003eMetric=%{x}\\u003cbr\\u003eMetric Value=%{y}\\u003cextra\\u003e\\u003c\\u002fextra\\u003e\",\"legendgroup\":\"\",\"marker\":{\"color\":\"#636efa\",\"pattern\":{\"shape\":\"\"}},\"name\":\"\",\"offsetgroup\":\"\",\"orientation\":\"v\",\"showlegend\":false,\"textposition\":\"auto\",\"x\":[\"Accuracy\",\"Precision\",\"Recall\"],\"xaxis\":\"x\",\"y\":[0.85233798195242,0.0,0.0],\"yaxis\":\"y\",\"type\":\"bar\"}],\"name\":\"74\"},{\"data\":[{\"alignmentgroup\":\"True\",\"hovertemplate\":\"K=75\\u003cbr\\u003eMetric=%{x}\\u003cbr\\u003eMetric Value=%{y}\\u003cextra\\u003e\\u003c\\u002fextra\\u003e\",\"legendgroup\":\"\",\"marker\":{\"color\":\"#636efa\",\"pattern\":{\"shape\":\"\"}},\"name\":\"\",\"offsetgroup\":\"\",\"orientation\":\"v\",\"showlegend\":false,\"textposition\":\"auto\",\"x\":[\"Accuracy\",\"Precision\",\"Recall\"],\"xaxis\":\"x\",\"y\":[0.85233798195242,0.0,0.0],\"yaxis\":\"y\",\"type\":\"bar\"}],\"name\":\"75\"},{\"data\":[{\"alignmentgroup\":\"True\",\"hovertemplate\":\"K=76\\u003cbr\\u003eMetric=%{x}\\u003cbr\\u003eMetric Value=%{y}\\u003cextra\\u003e\\u003c\\u002fextra\\u003e\",\"legendgroup\":\"\",\"marker\":{\"color\":\"#636efa\",\"pattern\":{\"shape\":\"\"}},\"name\":\"\",\"offsetgroup\":\"\",\"orientation\":\"v\",\"showlegend\":false,\"textposition\":\"auto\",\"x\":[\"Accuracy\",\"Precision\",\"Recall\"],\"xaxis\":\"x\",\"y\":[0.85233798195242,0.0,0.0],\"yaxis\":\"y\",\"type\":\"bar\"}],\"name\":\"76\"},{\"data\":[{\"alignmentgroup\":\"True\",\"hovertemplate\":\"K=77\\u003cbr\\u003eMetric=%{x}\\u003cbr\\u003eMetric Value=%{y}\\u003cextra\\u003e\\u003c\\u002fextra\\u003e\",\"legendgroup\":\"\",\"marker\":{\"color\":\"#636efa\",\"pattern\":{\"shape\":\"\"}},\"name\":\"\",\"offsetgroup\":\"\",\"orientation\":\"v\",\"showlegend\":false,\"textposition\":\"auto\",\"x\":[\"Accuracy\",\"Precision\",\"Recall\"],\"xaxis\":\"x\",\"y\":[0.85233798195242,0.0,0.0],\"yaxis\":\"y\",\"type\":\"bar\"}],\"name\":\"77\"},{\"data\":[{\"alignmentgroup\":\"True\",\"hovertemplate\":\"K=78\\u003cbr\\u003eMetric=%{x}\\u003cbr\\u003eMetric Value=%{y}\\u003cextra\\u003e\\u003c\\u002fextra\\u003e\",\"legendgroup\":\"\",\"marker\":{\"color\":\"#636efa\",\"pattern\":{\"shape\":\"\"}},\"name\":\"\",\"offsetgroup\":\"\",\"orientation\":\"v\",\"showlegend\":false,\"textposition\":\"auto\",\"x\":[\"Accuracy\",\"Precision\",\"Recall\"],\"xaxis\":\"x\",\"y\":[0.85233798195242,0.0,0.0],\"yaxis\":\"y\",\"type\":\"bar\"}],\"name\":\"78\"},{\"data\":[{\"alignmentgroup\":\"True\",\"hovertemplate\":\"K=79\\u003cbr\\u003eMetric=%{x}\\u003cbr\\u003eMetric Value=%{y}\\u003cextra\\u003e\\u003c\\u002fextra\\u003e\",\"legendgroup\":\"\",\"marker\":{\"color\":\"#636efa\",\"pattern\":{\"shape\":\"\"}},\"name\":\"\",\"offsetgroup\":\"\",\"orientation\":\"v\",\"showlegend\":false,\"textposition\":\"auto\",\"x\":[\"Accuracy\",\"Precision\",\"Recall\"],\"xaxis\":\"x\",\"y\":[0.85233798195242,0.0,0.0],\"yaxis\":\"y\",\"type\":\"bar\"}],\"name\":\"79\"},{\"data\":[{\"alignmentgroup\":\"True\",\"hovertemplate\":\"K=80\\u003cbr\\u003eMetric=%{x}\\u003cbr\\u003eMetric Value=%{y}\\u003cextra\\u003e\\u003c\\u002fextra\\u003e\",\"legendgroup\":\"\",\"marker\":{\"color\":\"#636efa\",\"pattern\":{\"shape\":\"\"}},\"name\":\"\",\"offsetgroup\":\"\",\"orientation\":\"v\",\"showlegend\":false,\"textposition\":\"auto\",\"x\":[\"Accuracy\",\"Precision\",\"Recall\"],\"xaxis\":\"x\",\"y\":[0.85233798195242,0.0,0.0],\"yaxis\":\"y\",\"type\":\"bar\"}],\"name\":\"80\"},{\"data\":[{\"alignmentgroup\":\"True\",\"hovertemplate\":\"K=81\\u003cbr\\u003eMetric=%{x}\\u003cbr\\u003eMetric Value=%{y}\\u003cextra\\u003e\\u003c\\u002fextra\\u003e\",\"legendgroup\":\"\",\"marker\":{\"color\":\"#636efa\",\"pattern\":{\"shape\":\"\"}},\"name\":\"\",\"offsetgroup\":\"\",\"orientation\":\"v\",\"showlegend\":false,\"textposition\":\"auto\",\"x\":[\"Accuracy\",\"Precision\",\"Recall\"],\"xaxis\":\"x\",\"y\":[0.85233798195242,0.0,0.0],\"yaxis\":\"y\",\"type\":\"bar\"}],\"name\":\"81\"},{\"data\":[{\"alignmentgroup\":\"True\",\"hovertemplate\":\"K=82\\u003cbr\\u003eMetric=%{x}\\u003cbr\\u003eMetric Value=%{y}\\u003cextra\\u003e\\u003c\\u002fextra\\u003e\",\"legendgroup\":\"\",\"marker\":{\"color\":\"#636efa\",\"pattern\":{\"shape\":\"\"}},\"name\":\"\",\"offsetgroup\":\"\",\"orientation\":\"v\",\"showlegend\":false,\"textposition\":\"auto\",\"x\":[\"Accuracy\",\"Precision\",\"Recall\"],\"xaxis\":\"x\",\"y\":[0.85233798195242,0.0,0.0],\"yaxis\":\"y\",\"type\":\"bar\"}],\"name\":\"82\"},{\"data\":[{\"alignmentgroup\":\"True\",\"hovertemplate\":\"K=83\\u003cbr\\u003eMetric=%{x}\\u003cbr\\u003eMetric Value=%{y}\\u003cextra\\u003e\\u003c\\u002fextra\\u003e\",\"legendgroup\":\"\",\"marker\":{\"color\":\"#636efa\",\"pattern\":{\"shape\":\"\"}},\"name\":\"\",\"offsetgroup\":\"\",\"orientation\":\"v\",\"showlegend\":false,\"textposition\":\"auto\",\"x\":[\"Accuracy\",\"Precision\",\"Recall\"],\"xaxis\":\"x\",\"y\":[0.85233798195242,0.0,0.0],\"yaxis\":\"y\",\"type\":\"bar\"}],\"name\":\"83\"},{\"data\":[{\"alignmentgroup\":\"True\",\"hovertemplate\":\"K=84\\u003cbr\\u003eMetric=%{x}\\u003cbr\\u003eMetric Value=%{y}\\u003cextra\\u003e\\u003c\\u002fextra\\u003e\",\"legendgroup\":\"\",\"marker\":{\"color\":\"#636efa\",\"pattern\":{\"shape\":\"\"}},\"name\":\"\",\"offsetgroup\":\"\",\"orientation\":\"v\",\"showlegend\":false,\"textposition\":\"auto\",\"x\":[\"Accuracy\",\"Precision\",\"Recall\"],\"xaxis\":\"x\",\"y\":[0.85233798195242,0.0,0.0],\"yaxis\":\"y\",\"type\":\"bar\"}],\"name\":\"84\"},{\"data\":[{\"alignmentgroup\":\"True\",\"hovertemplate\":\"K=85\\u003cbr\\u003eMetric=%{x}\\u003cbr\\u003eMetric Value=%{y}\\u003cextra\\u003e\\u003c\\u002fextra\\u003e\",\"legendgroup\":\"\",\"marker\":{\"color\":\"#636efa\",\"pattern\":{\"shape\":\"\"}},\"name\":\"\",\"offsetgroup\":\"\",\"orientation\":\"v\",\"showlegend\":false,\"textposition\":\"auto\",\"x\":[\"Accuracy\",\"Precision\",\"Recall\"],\"xaxis\":\"x\",\"y\":[0.85233798195242,0.0,0.0],\"yaxis\":\"y\",\"type\":\"bar\"}],\"name\":\"85\"},{\"data\":[{\"alignmentgroup\":\"True\",\"hovertemplate\":\"K=86\\u003cbr\\u003eMetric=%{x}\\u003cbr\\u003eMetric Value=%{y}\\u003cextra\\u003e\\u003c\\u002fextra\\u003e\",\"legendgroup\":\"\",\"marker\":{\"color\":\"#636efa\",\"pattern\":{\"shape\":\"\"}},\"name\":\"\",\"offsetgroup\":\"\",\"orientation\":\"v\",\"showlegend\":false,\"textposition\":\"auto\",\"x\":[\"Accuracy\",\"Precision\",\"Recall\"],\"xaxis\":\"x\",\"y\":[0.85233798195242,0.0,0.0],\"yaxis\":\"y\",\"type\":\"bar\"}],\"name\":\"86\"},{\"data\":[{\"alignmentgroup\":\"True\",\"hovertemplate\":\"K=87\\u003cbr\\u003eMetric=%{x}\\u003cbr\\u003eMetric Value=%{y}\\u003cextra\\u003e\\u003c\\u002fextra\\u003e\",\"legendgroup\":\"\",\"marker\":{\"color\":\"#636efa\",\"pattern\":{\"shape\":\"\"}},\"name\":\"\",\"offsetgroup\":\"\",\"orientation\":\"v\",\"showlegend\":false,\"textposition\":\"auto\",\"x\":[\"Accuracy\",\"Precision\",\"Recall\"],\"xaxis\":\"x\",\"y\":[0.85233798195242,0.0,0.0],\"yaxis\":\"y\",\"type\":\"bar\"}],\"name\":\"87\"},{\"data\":[{\"alignmentgroup\":\"True\",\"hovertemplate\":\"K=88\\u003cbr\\u003eMetric=%{x}\\u003cbr\\u003eMetric Value=%{y}\\u003cextra\\u003e\\u003c\\u002fextra\\u003e\",\"legendgroup\":\"\",\"marker\":{\"color\":\"#636efa\",\"pattern\":{\"shape\":\"\"}},\"name\":\"\",\"offsetgroup\":\"\",\"orientation\":\"v\",\"showlegend\":false,\"textposition\":\"auto\",\"x\":[\"Accuracy\",\"Precision\",\"Recall\"],\"xaxis\":\"x\",\"y\":[0.85233798195242,0.0,0.0],\"yaxis\":\"y\",\"type\":\"bar\"}],\"name\":\"88\"},{\"data\":[{\"alignmentgroup\":\"True\",\"hovertemplate\":\"K=89\\u003cbr\\u003eMetric=%{x}\\u003cbr\\u003eMetric Value=%{y}\\u003cextra\\u003e\\u003c\\u002fextra\\u003e\",\"legendgroup\":\"\",\"marker\":{\"color\":\"#636efa\",\"pattern\":{\"shape\":\"\"}},\"name\":\"\",\"offsetgroup\":\"\",\"orientation\":\"v\",\"showlegend\":false,\"textposition\":\"auto\",\"x\":[\"Accuracy\",\"Precision\",\"Recall\"],\"xaxis\":\"x\",\"y\":[0.85233798195242,0.0,0.0],\"yaxis\":\"y\",\"type\":\"bar\"}],\"name\":\"89\"},{\"data\":[{\"alignmentgroup\":\"True\",\"hovertemplate\":\"K=90\\u003cbr\\u003eMetric=%{x}\\u003cbr\\u003eMetric Value=%{y}\\u003cextra\\u003e\\u003c\\u002fextra\\u003e\",\"legendgroup\":\"\",\"marker\":{\"color\":\"#636efa\",\"pattern\":{\"shape\":\"\"}},\"name\":\"\",\"offsetgroup\":\"\",\"orientation\":\"v\",\"showlegend\":false,\"textposition\":\"auto\",\"x\":[\"Accuracy\",\"Precision\",\"Recall\"],\"xaxis\":\"x\",\"y\":[0.85233798195242,0.0,0.0],\"yaxis\":\"y\",\"type\":\"bar\"}],\"name\":\"90\"},{\"data\":[{\"alignmentgroup\":\"True\",\"hovertemplate\":\"K=91\\u003cbr\\u003eMetric=%{x}\\u003cbr\\u003eMetric Value=%{y}\\u003cextra\\u003e\\u003c\\u002fextra\\u003e\",\"legendgroup\":\"\",\"marker\":{\"color\":\"#636efa\",\"pattern\":{\"shape\":\"\"}},\"name\":\"\",\"offsetgroup\":\"\",\"orientation\":\"v\",\"showlegend\":false,\"textposition\":\"auto\",\"x\":[\"Accuracy\",\"Precision\",\"Recall\"],\"xaxis\":\"x\",\"y\":[0.85233798195242,0.0,0.0],\"yaxis\":\"y\",\"type\":\"bar\"}],\"name\":\"91\"},{\"data\":[{\"alignmentgroup\":\"True\",\"hovertemplate\":\"K=92\\u003cbr\\u003eMetric=%{x}\\u003cbr\\u003eMetric Value=%{y}\\u003cextra\\u003e\\u003c\\u002fextra\\u003e\",\"legendgroup\":\"\",\"marker\":{\"color\":\"#636efa\",\"pattern\":{\"shape\":\"\"}},\"name\":\"\",\"offsetgroup\":\"\",\"orientation\":\"v\",\"showlegend\":false,\"textposition\":\"auto\",\"x\":[\"Accuracy\",\"Precision\",\"Recall\"],\"xaxis\":\"x\",\"y\":[0.85233798195242,0.0,0.0],\"yaxis\":\"y\",\"type\":\"bar\"}],\"name\":\"92\"},{\"data\":[{\"alignmentgroup\":\"True\",\"hovertemplate\":\"K=93\\u003cbr\\u003eMetric=%{x}\\u003cbr\\u003eMetric Value=%{y}\\u003cextra\\u003e\\u003c\\u002fextra\\u003e\",\"legendgroup\":\"\",\"marker\":{\"color\":\"#636efa\",\"pattern\":{\"shape\":\"\"}},\"name\":\"\",\"offsetgroup\":\"\",\"orientation\":\"v\",\"showlegend\":false,\"textposition\":\"auto\",\"x\":[\"Accuracy\",\"Precision\",\"Recall\"],\"xaxis\":\"x\",\"y\":[0.85233798195242,0.0,0.0],\"yaxis\":\"y\",\"type\":\"bar\"}],\"name\":\"93\"},{\"data\":[{\"alignmentgroup\":\"True\",\"hovertemplate\":\"K=94\\u003cbr\\u003eMetric=%{x}\\u003cbr\\u003eMetric Value=%{y}\\u003cextra\\u003e\\u003c\\u002fextra\\u003e\",\"legendgroup\":\"\",\"marker\":{\"color\":\"#636efa\",\"pattern\":{\"shape\":\"\"}},\"name\":\"\",\"offsetgroup\":\"\",\"orientation\":\"v\",\"showlegend\":false,\"textposition\":\"auto\",\"x\":[\"Accuracy\",\"Precision\",\"Recall\"],\"xaxis\":\"x\",\"y\":[0.85233798195242,0.0,0.0],\"yaxis\":\"y\",\"type\":\"bar\"}],\"name\":\"94\"},{\"data\":[{\"alignmentgroup\":\"True\",\"hovertemplate\":\"K=95\\u003cbr\\u003eMetric=%{x}\\u003cbr\\u003eMetric Value=%{y}\\u003cextra\\u003e\\u003c\\u002fextra\\u003e\",\"legendgroup\":\"\",\"marker\":{\"color\":\"#636efa\",\"pattern\":{\"shape\":\"\"}},\"name\":\"\",\"offsetgroup\":\"\",\"orientation\":\"v\",\"showlegend\":false,\"textposition\":\"auto\",\"x\":[\"Accuracy\",\"Precision\",\"Recall\"],\"xaxis\":\"x\",\"y\":[0.85233798195242,0.0,0.0],\"yaxis\":\"y\",\"type\":\"bar\"}],\"name\":\"95\"},{\"data\":[{\"alignmentgroup\":\"True\",\"hovertemplate\":\"K=96\\u003cbr\\u003eMetric=%{x}\\u003cbr\\u003eMetric Value=%{y}\\u003cextra\\u003e\\u003c\\u002fextra\\u003e\",\"legendgroup\":\"\",\"marker\":{\"color\":\"#636efa\",\"pattern\":{\"shape\":\"\"}},\"name\":\"\",\"offsetgroup\":\"\",\"orientation\":\"v\",\"showlegend\":false,\"textposition\":\"auto\",\"x\":[\"Accuracy\",\"Precision\",\"Recall\"],\"xaxis\":\"x\",\"y\":[0.85233798195242,0.0,0.0],\"yaxis\":\"y\",\"type\":\"bar\"}],\"name\":\"96\"},{\"data\":[{\"alignmentgroup\":\"True\",\"hovertemplate\":\"K=97\\u003cbr\\u003eMetric=%{x}\\u003cbr\\u003eMetric Value=%{y}\\u003cextra\\u003e\\u003c\\u002fextra\\u003e\",\"legendgroup\":\"\",\"marker\":{\"color\":\"#636efa\",\"pattern\":{\"shape\":\"\"}},\"name\":\"\",\"offsetgroup\":\"\",\"orientation\":\"v\",\"showlegend\":false,\"textposition\":\"auto\",\"x\":[\"Accuracy\",\"Precision\",\"Recall\"],\"xaxis\":\"x\",\"y\":[0.85233798195242,0.0,0.0],\"yaxis\":\"y\",\"type\":\"bar\"}],\"name\":\"97\"},{\"data\":[{\"alignmentgroup\":\"True\",\"hovertemplate\":\"K=98\\u003cbr\\u003eMetric=%{x}\\u003cbr\\u003eMetric Value=%{y}\\u003cextra\\u003e\\u003c\\u002fextra\\u003e\",\"legendgroup\":\"\",\"marker\":{\"color\":\"#636efa\",\"pattern\":{\"shape\":\"\"}},\"name\":\"\",\"offsetgroup\":\"\",\"orientation\":\"v\",\"showlegend\":false,\"textposition\":\"auto\",\"x\":[\"Accuracy\",\"Precision\",\"Recall\"],\"xaxis\":\"x\",\"y\":[0.85233798195242,0.0,0.0],\"yaxis\":\"y\",\"type\":\"bar\"}],\"name\":\"98\"},{\"data\":[{\"alignmentgroup\":\"True\",\"hovertemplate\":\"K=99\\u003cbr\\u003eMetric=%{x}\\u003cbr\\u003eMetric Value=%{y}\\u003cextra\\u003e\\u003c\\u002fextra\\u003e\",\"legendgroup\":\"\",\"marker\":{\"color\":\"#636efa\",\"pattern\":{\"shape\":\"\"}},\"name\":\"\",\"offsetgroup\":\"\",\"orientation\":\"v\",\"showlegend\":false,\"textposition\":\"auto\",\"x\":[\"Accuracy\",\"Precision\",\"Recall\"],\"xaxis\":\"x\",\"y\":[0.85233798195242,0.0,0.0],\"yaxis\":\"y\",\"type\":\"bar\"}],\"name\":\"99\"}]);\n",
       "                        }).then(function(){\n",
       "                            \n",
       "var gd = document.getElementById('ae1bb535-6215-409b-9cd8-9f2da87256e7');\n",
       "var x = new MutationObserver(function (mutations, observer) {{\n",
       "        var display = window.getComputedStyle(gd).display;\n",
       "        if (!display || display === 'none') {{\n",
       "            console.log([gd, 'removed!']);\n",
       "            Plotly.purge(gd);\n",
       "            observer.disconnect();\n",
       "        }}\n",
       "}});\n",
       "\n",
       "// Listen for the removal of the full notebook cells\n",
       "var notebookContainer = gd.closest('#notebook-container');\n",
       "if (notebookContainer) {{\n",
       "    x.observe(notebookContainer, {childList: true});\n",
       "}}\n",
       "\n",
       "// Listen for the clearing of the current output cell\n",
       "var outputEl = gd.closest('.output');\n",
       "if (outputEl) {{\n",
       "    x.observe(outputEl, {childList: true});\n",
       "}}\n",
       "\n",
       "                        })                };                });            </script>        </div>"
      ]
     },
     "metadata": {},
     "output_type": "display_data"
    }
   ],
   "source": [
    "# Let's use Plotly Express to create an interactive plot with a slider to select the value of K\n",
    "import plotly.express as px\n",
    "import pandas as pd\n",
    "\n",
    "# Prepare the data for a long format to use with Plotly Express\n",
    "df_long = pd.melt(metrics_df, id_vars=['K'], value_vars=['Accuracy', 'Precision', 'Recall'], \n",
    "                  var_name='Metric', value_name='Value')\n",
    "\n",
    "# Create the interactive bar plot with Plotly Express and add a slider for K values\n",
    "fig = px.bar(df_long, x='Metric', y='Value', animation_frame='K',\n",
    "             title='Metrics for KNN Based on K Value', \n",
    "             labels={'Value': 'Metric Value', 'Metric': 'Metric'},height=800,\n",
    "             range_y=[0, 1])\n",
    "\n",
    "# Display the plot\n",
    "fig.show()\n"
   ]
  },
  {
   "cell_type": "code",
   "execution_count": null,
   "id": "ee2989b7-7fb6-4345-9dfa-51b4a28ba3d9",
   "metadata": {},
   "outputs": [],
   "source": [
    "pd.DataFrame("
   ]
  },
  {
   "cell_type": "code",
   "execution_count": 19,
   "id": "6fa168fb-f472-411d-8e90-92d0d82f1b3c",
   "metadata": {
    "tags": []
   },
   "outputs": [
    {
     "data": {
      "text/html": [
       "<div>\n",
       "<style scoped>\n",
       "    .dataframe tbody tr th:only-of-type {\n",
       "        vertical-align: middle;\n",
       "    }\n",
       "\n",
       "    .dataframe tbody tr th {\n",
       "        vertical-align: top;\n",
       "    }\n",
       "\n",
       "    .dataframe thead th {\n",
       "        text-align: right;\n",
       "    }\n",
       "</style>\n",
       "<table border=\"1\" class=\"dataframe\">\n",
       "  <thead>\n",
       "    <tr style=\"text-align: right;\">\n",
       "      <th></th>\n",
       "      <th>application_id</th>\n",
       "      <th>gender</th>\n",
       "      <th>international</th>\n",
       "      <th>gpa</th>\n",
       "      <th>major</th>\n",
       "      <th>race</th>\n",
       "      <th>gmat</th>\n",
       "      <th>work_exp</th>\n",
       "      <th>work_industry</th>\n",
       "      <th>admission</th>\n",
       "    </tr>\n",
       "  </thead>\n",
       "  <tbody>\n",
       "    <tr>\n",
       "      <th>0</th>\n",
       "      <td>1</td>\n",
       "      <td>Female</td>\n",
       "      <td>False</td>\n",
       "      <td>3.30</td>\n",
       "      <td>Business</td>\n",
       "      <td>Asian</td>\n",
       "      <td>620.0</td>\n",
       "      <td>3.0</td>\n",
       "      <td>Financial Services</td>\n",
       "      <td>Admit</td>\n",
       "    </tr>\n",
       "    <tr>\n",
       "      <th>1</th>\n",
       "      <td>2</td>\n",
       "      <td>Male</td>\n",
       "      <td>False</td>\n",
       "      <td>3.28</td>\n",
       "      <td>Humanities</td>\n",
       "      <td>Black</td>\n",
       "      <td>680.0</td>\n",
       "      <td>5.0</td>\n",
       "      <td>Investment Management</td>\n",
       "      <td>NaN</td>\n",
       "    </tr>\n",
       "    <tr>\n",
       "      <th>2</th>\n",
       "      <td>3</td>\n",
       "      <td>Female</td>\n",
       "      <td>True</td>\n",
       "      <td>3.30</td>\n",
       "      <td>Business</td>\n",
       "      <td>NaN</td>\n",
       "      <td>710.0</td>\n",
       "      <td>5.0</td>\n",
       "      <td>Technology</td>\n",
       "      <td>Admit</td>\n",
       "    </tr>\n",
       "    <tr>\n",
       "      <th>3</th>\n",
       "      <td>4</td>\n",
       "      <td>Male</td>\n",
       "      <td>False</td>\n",
       "      <td>3.47</td>\n",
       "      <td>STEM</td>\n",
       "      <td>Black</td>\n",
       "      <td>690.0</td>\n",
       "      <td>6.0</td>\n",
       "      <td>Technology</td>\n",
       "      <td>NaN</td>\n",
       "    </tr>\n",
       "    <tr>\n",
       "      <th>4</th>\n",
       "      <td>5</td>\n",
       "      <td>Male</td>\n",
       "      <td>False</td>\n",
       "      <td>3.35</td>\n",
       "      <td>STEM</td>\n",
       "      <td>Hispanic</td>\n",
       "      <td>590.0</td>\n",
       "      <td>5.0</td>\n",
       "      <td>Consulting</td>\n",
       "      <td>NaN</td>\n",
       "    </tr>\n",
       "  </tbody>\n",
       "</table>\n",
       "</div>"
      ],
      "text/plain": [
       "   application_id  gender  international   gpa       major      race   gmat  \\\n",
       "0               1  Female          False  3.30    Business     Asian  620.0   \n",
       "1               2    Male          False  3.28  Humanities     Black  680.0   \n",
       "2               3  Female           True  3.30    Business       NaN  710.0   \n",
       "3               4    Male          False  3.47        STEM     Black  690.0   \n",
       "4               5    Male          False  3.35        STEM  Hispanic  590.0   \n",
       "\n",
       "   work_exp          work_industry admission  \n",
       "0       3.0     Financial Services     Admit  \n",
       "1       5.0  Investment Management       NaN  \n",
       "2       5.0             Technology     Admit  \n",
       "3       6.0             Technology       NaN  \n",
       "4       5.0             Consulting       NaN  "
      ]
     },
     "execution_count": 19,
     "metadata": {},
     "output_type": "execute_result"
    }
   ],
   "source": [
    "# Import necessary libraries\n",
    "import pandas as pd\n",
    "from sklearn.model_selection import train_test_split\n",
    "from sklearn.preprocessing import StandardScaler\n",
    "from sklearn.neighbors import KNeighborsClassifier\n",
    "from sklearn.metrics import accuracy_score, precision_score, recall_score, f1_score, confusion_matrix, ConfusionMatrixDisplay\n",
    "\n",
    "# Load the dataset\n",
    "data = pd.read_csv('MBA.csv')\n",
    "\n",
    "# Display the first few rows of the dataset\n",
    "data.head()\n"
   ]
  },
  {
   "cell_type": "code",
   "execution_count": 20,
   "id": "3861b85f-cf08-4087-aa9b-7e3fe2a54106",
   "metadata": {
    "tags": []
   },
   "outputs": [
    {
     "data": {
      "text/html": [
       "<div>\n",
       "<style scoped>\n",
       "    .dataframe tbody tr th:only-of-type {\n",
       "        vertical-align: middle;\n",
       "    }\n",
       "\n",
       "    .dataframe tbody tr th {\n",
       "        vertical-align: top;\n",
       "    }\n",
       "\n",
       "    .dataframe thead th {\n",
       "        text-align: right;\n",
       "    }\n",
       "</style>\n",
       "<table border=\"1\" class=\"dataframe\">\n",
       "  <thead>\n",
       "    <tr style=\"text-align: right;\">\n",
       "      <th></th>\n",
       "      <th>application_id</th>\n",
       "      <th>gender</th>\n",
       "      <th>international</th>\n",
       "      <th>gpa</th>\n",
       "      <th>gmat</th>\n",
       "      <th>work_exp</th>\n",
       "      <th>admission</th>\n",
       "      <th>major_Humanities</th>\n",
       "      <th>major_STEM</th>\n",
       "      <th>race_Black</th>\n",
       "      <th>...</th>\n",
       "      <th>work_industry_Health Care</th>\n",
       "      <th>work_industry_Investment Banking</th>\n",
       "      <th>work_industry_Investment Management</th>\n",
       "      <th>work_industry_Media/Entertainment</th>\n",
       "      <th>work_industry_Nonprofit/Gov</th>\n",
       "      <th>work_industry_Other</th>\n",
       "      <th>work_industry_PE/VC</th>\n",
       "      <th>work_industry_Real Estate</th>\n",
       "      <th>work_industry_Retail</th>\n",
       "      <th>work_industry_Technology</th>\n",
       "    </tr>\n",
       "  </thead>\n",
       "  <tbody>\n",
       "    <tr>\n",
       "      <th>0</th>\n",
       "      <td>1</td>\n",
       "      <td>1</td>\n",
       "      <td>0</td>\n",
       "      <td>3.30</td>\n",
       "      <td>620.0</td>\n",
       "      <td>3.0</td>\n",
       "      <td>1</td>\n",
       "      <td>False</td>\n",
       "      <td>False</td>\n",
       "      <td>False</td>\n",
       "      <td>...</td>\n",
       "      <td>False</td>\n",
       "      <td>False</td>\n",
       "      <td>False</td>\n",
       "      <td>False</td>\n",
       "      <td>False</td>\n",
       "      <td>False</td>\n",
       "      <td>False</td>\n",
       "      <td>False</td>\n",
       "      <td>False</td>\n",
       "      <td>False</td>\n",
       "    </tr>\n",
       "    <tr>\n",
       "      <th>1</th>\n",
       "      <td>2</td>\n",
       "      <td>0</td>\n",
       "      <td>0</td>\n",
       "      <td>3.28</td>\n",
       "      <td>680.0</td>\n",
       "      <td>5.0</td>\n",
       "      <td>0</td>\n",
       "      <td>True</td>\n",
       "      <td>False</td>\n",
       "      <td>True</td>\n",
       "      <td>...</td>\n",
       "      <td>False</td>\n",
       "      <td>False</td>\n",
       "      <td>True</td>\n",
       "      <td>False</td>\n",
       "      <td>False</td>\n",
       "      <td>False</td>\n",
       "      <td>False</td>\n",
       "      <td>False</td>\n",
       "      <td>False</td>\n",
       "      <td>False</td>\n",
       "    </tr>\n",
       "    <tr>\n",
       "      <th>2</th>\n",
       "      <td>3</td>\n",
       "      <td>1</td>\n",
       "      <td>1</td>\n",
       "      <td>3.30</td>\n",
       "      <td>710.0</td>\n",
       "      <td>5.0</td>\n",
       "      <td>1</td>\n",
       "      <td>False</td>\n",
       "      <td>False</td>\n",
       "      <td>False</td>\n",
       "      <td>...</td>\n",
       "      <td>False</td>\n",
       "      <td>False</td>\n",
       "      <td>False</td>\n",
       "      <td>False</td>\n",
       "      <td>False</td>\n",
       "      <td>False</td>\n",
       "      <td>False</td>\n",
       "      <td>False</td>\n",
       "      <td>False</td>\n",
       "      <td>True</td>\n",
       "    </tr>\n",
       "    <tr>\n",
       "      <th>3</th>\n",
       "      <td>4</td>\n",
       "      <td>0</td>\n",
       "      <td>0</td>\n",
       "      <td>3.47</td>\n",
       "      <td>690.0</td>\n",
       "      <td>6.0</td>\n",
       "      <td>0</td>\n",
       "      <td>False</td>\n",
       "      <td>True</td>\n",
       "      <td>True</td>\n",
       "      <td>...</td>\n",
       "      <td>False</td>\n",
       "      <td>False</td>\n",
       "      <td>False</td>\n",
       "      <td>False</td>\n",
       "      <td>False</td>\n",
       "      <td>False</td>\n",
       "      <td>False</td>\n",
       "      <td>False</td>\n",
       "      <td>False</td>\n",
       "      <td>True</td>\n",
       "    </tr>\n",
       "    <tr>\n",
       "      <th>4</th>\n",
       "      <td>5</td>\n",
       "      <td>0</td>\n",
       "      <td>0</td>\n",
       "      <td>3.35</td>\n",
       "      <td>590.0</td>\n",
       "      <td>5.0</td>\n",
       "      <td>0</td>\n",
       "      <td>False</td>\n",
       "      <td>True</td>\n",
       "      <td>False</td>\n",
       "      <td>...</td>\n",
       "      <td>False</td>\n",
       "      <td>False</td>\n",
       "      <td>False</td>\n",
       "      <td>False</td>\n",
       "      <td>False</td>\n",
       "      <td>False</td>\n",
       "      <td>False</td>\n",
       "      <td>False</td>\n",
       "      <td>False</td>\n",
       "      <td>False</td>\n",
       "    </tr>\n",
       "  </tbody>\n",
       "</table>\n",
       "<p>5 rows × 27 columns</p>\n",
       "</div>"
      ],
      "text/plain": [
       "   application_id  gender  international   gpa   gmat  work_exp  admission  \\\n",
       "0               1       1              0  3.30  620.0       3.0          1   \n",
       "1               2       0              0  3.28  680.0       5.0          0   \n",
       "2               3       1              1  3.30  710.0       5.0          1   \n",
       "3               4       0              0  3.47  690.0       6.0          0   \n",
       "4               5       0              0  3.35  590.0       5.0          0   \n",
       "\n",
       "   major_Humanities  major_STEM  race_Black  ...  work_industry_Health Care  \\\n",
       "0             False       False       False  ...                      False   \n",
       "1              True       False        True  ...                      False   \n",
       "2             False       False       False  ...                      False   \n",
       "3             False        True        True  ...                      False   \n",
       "4             False        True       False  ...                      False   \n",
       "\n",
       "   work_industry_Investment Banking  work_industry_Investment Management  \\\n",
       "0                             False                                False   \n",
       "1                             False                                 True   \n",
       "2                             False                                False   \n",
       "3                             False                                False   \n",
       "4                             False                                False   \n",
       "\n",
       "   work_industry_Media/Entertainment  work_industry_Nonprofit/Gov  \\\n",
       "0                              False                        False   \n",
       "1                              False                        False   \n",
       "2                              False                        False   \n",
       "3                              False                        False   \n",
       "4                              False                        False   \n",
       "\n",
       "   work_industry_Other  work_industry_PE/VC  work_industry_Real Estate  \\\n",
       "0                False                False                      False   \n",
       "1                False                False                      False   \n",
       "2                False                False                      False   \n",
       "3                False                False                      False   \n",
       "4                False                False                      False   \n",
       "\n",
       "   work_industry_Retail  work_industry_Technology  \n",
       "0                 False                     False  \n",
       "1                 False                     False  \n",
       "2                 False                      True  \n",
       "3                 False                      True  \n",
       "4                 False                     False  \n",
       "\n",
       "[5 rows x 27 columns]"
      ]
     },
     "execution_count": 20,
     "metadata": {},
     "output_type": "execute_result"
    }
   ],
   "source": [
    "data['race']=data['race'].fillna('International')\n",
    "data['admission']=data['admission'].fillna('Deny')\n",
    "data.isna().sum()\n",
    "\n",
    "data[\"admission\"].value_counts()\n",
    "# Dropping all rows where the 'admission' column is 'Waitlist'\n",
    "data = data[data['admission'] != 'Waitlist']\n",
    "\n",
    "# Verifying that the 'Waitlist' rows are dropped\n",
    "data['admission'].value_counts()\n",
    "\n",
    "# Encode categorical variables\n",
    "data['gender'] = data['gender'].map({'Male': 0, 'Female': 1})\n",
    "data['international'] = data['international'].astype(int)\n",
    "data['admission'] = data['admission'].map({'Admit': 1, 'Deny': 0})\n",
    "\n",
    "# One-hot encode categorical columns like 'major', 'race', and 'work_industry'\n",
    "data = pd.get_dummies(data, columns=['major', 'race', 'work_industry'], drop_first=True)\n",
    "\n",
    "# Display the processed dataset\n",
    "data.head()\n"
   ]
  },
  {
   "cell_type": "code",
   "execution_count": 21,
   "id": "93156ef7-6851-4252-a281-d4de7c413d40",
   "metadata": {
    "tags": []
   },
   "outputs": [],
   "source": [
    "X = data.drop('admission', axis=1)\n",
    "y = data['admission']\n",
    "\n",
    "# Split the dataset into training and testing sets\n",
    "X_train, X_test, y_train, y_test = train_test_split(X, y, test_size=0.2, random_state=42)\n",
    "\n",
    "# Standardize the features (KNN is sensitive to feature scaling)\n",
    "scaler = StandardScaler()\n",
    "X_train = scaler.fit_transform(X_train)\n",
    "X_test = scaler.transform(X_test)"
   ]
  },
  {
   "cell_type": "code",
   "execution_count": 22,
   "id": "4a1be3d5-8a06-4e4e-8375-b9025864a125",
   "metadata": {
    "tags": []
   },
   "outputs": [],
   "source": [
    "\n",
    "knn = KNeighborsClassifier(n_neighbors=5)\n",
    "\n",
    "# Train the model\n",
    "knn.fit(X_train, y_train)\n",
    "\n",
    "# Make predictions\n",
    "y_pred = knn.predict(X_test)\n"
   ]
  },
  {
   "cell_type": "code",
   "execution_count": 25,
   "id": "7467a2ad-a599-44fa-839a-fd5c2ef95e7a",
   "metadata": {
    "tags": []
   },
   "outputs": [
    {
     "name": "stdout",
     "output_type": "stream",
     "text": [
      "Accuracy: 0.85\n",
      "Precision: 0.38\n",
      "Recall: 0.15\n",
      "F1-Score: 0.21\n",
      "Confusion Matrix:\n"
     ]
    },
    {
     "data": {
      "image/png": "[encoded data removed]",
      "text/plain": [
       "<Figure size 640x480 with 2 Axes>"
      ]
     },
     "metadata": {},
     "output_type": "display_data"
    }
   ],
   "source": []
  },
  {
   "cell_type": "code",
   "execution_count": null,
   "id": "84da5b88-811e-4e65-b958-d669f773cf85",
   "metadata": {
    "tags": []
   },
   "outputs": [],
   "source": []
  },
  {
   "cell_type": "code",
   "execution_count": 15,
   "id": "f1ea4d3b-8cda-4cd9-8a85-3adbb14a7fb7",
   "metadata": {
    "tags": []
   },
   "outputs": [
    {
     "data": {
      "text/plain": [
       "admission\n",
       "Deny     5194\n",
       "Admit     900\n",
       "Name: count, dtype: int64"
      ]
     },
     "execution_count": 15,
     "metadata": {},
     "output_type": "execute_result"
    }
   ],
   "source": []
  },
  {
   "cell_type": "code",
   "execution_count": null,
   "id": "1f855ff0-f571-41c1-8b26-16a2107b0b6c",
   "metadata": {},
   "outputs": [],
   "source": []
  }
 ],
 "metadata": {
  "kernelspec": {
   "display_name": "Python [conda env:BDMT]",
   "language": "python",
   "name": "conda-env-BDMT-py"
  },
  "language_info": {
   "codemirror_mode": {
    "name": "ipython",
    "version": 3
   },
   "file_extension": ".py",
   "mimetype": "text/x-python",
   "name": "python",
   "nbconvert_exporter": "python",
   "pygments_lexer": "ipython3",
   "version": "3.12.5"
  }
 },
 "nbformat": 4,
 "nbformat_minor": 5
}
