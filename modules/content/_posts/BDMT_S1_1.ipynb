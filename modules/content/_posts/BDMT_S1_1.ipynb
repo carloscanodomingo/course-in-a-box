{
 "cells": [
  {
   "cell_type": "markdown",
   "metadata": {
    "editable": true,
    "slideshow": {
     "slide_type": ""
    },
    "tags": []
   },
   "source": [
    "# 1. Very simple 'programs'\n",
    "## 1.1 Running Python \n",
    "\n",
    "In the field type:<br>\n",
    "```python\n",
    "print('Hello, World')\n",
    "```\n",
    "\n"
   ]
  },
  {
   "cell_type": "code",
   "execution_count": 1,
   "metadata": {},
   "outputs": [
    {
     "name": "stdout",
     "output_type": "stream",
     "text": [
      "Hello, World\n"
     ]
    }
   ],
   "source": [
    "print('Hello, World')"
   ]
  },
  {
   "cell_type": "markdown",
   "metadata": {},
   "source": [
    "What happened?\n",
    "\n",
    "You just created a program, that prints the words 'Hello, World'."
   ]
  },
  {
   "cell_type": "markdown",
   "metadata": {},
   "source": [
    "## 1.2 Math in Python\n",
    "Type<br>\n",
    "```python\n",
    "1 + 1\n",
    "```\n",
    "and execute the code."
   ]
  },
  {
   "cell_type": "code",
   "execution_count": 2,
   "metadata": {
    "scrolled": true
   },
   "outputs": [
    {
     "data": {
      "text/plain": [
       "2"
      ]
     },
     "execution_count": 2,
     "metadata": {},
     "output_type": "execute_result"
    }
   ],
   "source": [
    " 1 + 1"
   ]
  },
  {
   "cell_type": "markdown",
   "metadata": {},
   "source": [
    "Now type\n",
    "```python\n",
    "20 + 80\n",
    "```\n",
    "and execute the code."
   ]
  },
  {
   "cell_type": "code",
   "execution_count": 3,
   "metadata": {},
   "outputs": [
    {
     "data": {
      "text/plain": [
       "100"
      ]
     },
     "execution_count": 3,
     "metadata": {},
     "output_type": "execute_result"
    }
   ],
   "source": [
    "20 + 80\n"
   ]
  },
  {
   "cell_type": "markdown",
   "metadata": {},
   "source": [
    "These are additions. We can of course use other mathematical operators.<br>\n",
    "Try this subtraction:<br>\n",
    "```python\n",
    "6 - 5\n",
    "```"
   ]
  },
  {
   "cell_type": "code",
   "execution_count": 4,
   "metadata": {},
   "outputs": [
    {
     "data": {
      "text/plain": [
       "1"
      ]
     },
     "execution_count": 4,
     "metadata": {},
     "output_type": "execute_result"
    }
   ],
   "source": [
    "6 - 5\n"
   ]
  },
  {
   "cell_type": "markdown",
   "metadata": {},
   "source": [
    "and this multiplication:<br>\n",
    "```python\n",
    "2 * 5\n",
    "```"
   ]
  },
  {
   "cell_type": "code",
   "execution_count": 5,
   "metadata": {},
   "outputs": [
    {
     "data": {
      "text/plain": [
       "10"
      ]
     },
     "execution_count": 5,
     "metadata": {},
     "output_type": "execute_result"
    }
   ],
   "source": [
    "2 * 5\n"
   ]
  },
  {
   "cell_type": "markdown",
   "metadata": {},
   "source": [
    "Try:\n",
    "```python\n",
    "5 ** 2\n",
    "```"
   ]
  },
  {
   "cell_type": "code",
   "execution_count": 6,
   "metadata": {},
   "outputs": [
    {
     "data": {
      "text/plain": [
       "25"
      ]
     },
     "execution_count": 6,
     "metadata": {},
     "output_type": "execute_result"
    }
   ],
   "source": [
    "5 ** 2\n"
   ]
  },
  {
   "cell_type": "markdown",
   "metadata": {},
   "source": [
    "`**` is the exponential operator, so we executed 5 squared."
   ]
  },
  {
   "cell_type": "markdown",
   "metadata": {},
   "source": [
    "Type:\n",
    "```python\n",
    "print('1 + 2 is an addition')\n",
    "```"
   ]
  },
  {
   "cell_type": "code",
   "execution_count": 7,
   "metadata": {},
   "outputs": [
    {
     "name": "stdout",
     "output_type": "stream",
     "text": [
      "1 + 2 is an addition\n"
     ]
    }
   ],
   "source": [
    "print('1 + 2 is an addition')"
   ]
  },
  {
   "cell_type": "markdown",
   "metadata": {},
   "source": [
    "You see that the `print` statement writes something on the screen.\n",
    "\n",
    "Try this:\n",
    "```python\n",
    "print('one kilobyte is 2^10 bytes, or', 2 ** 10, 'bytes')\n",
    "```"
   ]
  },
  {
   "cell_type": "code",
   "execution_count": 8,
   "metadata": {},
   "outputs": [
    {
     "name": "stdout",
     "output_type": "stream",
     "text": [
      "one kilobyte is 2^10 bytes, or 1024 bytes\n"
     ]
    }
   ],
   "source": [
    "print('one kilobyte is 2^10 bytes, or', 2 ** 10, 'bytes')"
   ]
  },
  {
   "cell_type": "markdown",
   "metadata": {},
   "source": [
    "This demonstrates that you can print text and calculations in a sentence. The commas separating each section are a way of separating strings (text) from calculations or variable."
   ]
  },
  {
   "cell_type": "markdown",
   "metadata": {},
   "source": [
    "Now try this:\n",
    "```python\n",
    "23 / 3\n",
    "```"
   ]
  },
  {
   "cell_type": "code",
   "execution_count": 9,
   "metadata": {},
   "outputs": [
    {
     "data": {
      "text/plain": [
       "7.666666666666667"
      ]
     },
     "execution_count": 9,
     "metadata": {},
     "output_type": "execute_result"
    }
   ],
   "source": [
    "23 / 3\n"
   ]
  },
  {
   "cell_type": "markdown",
   "metadata": {},
   "source": [
    "And this:<br>\n",
    "```python\n",
    "23 % 3\n",
    "```"
   ]
  },
  {
   "cell_type": "code",
   "execution_count": 10,
   "metadata": {},
   "outputs": [
    {
     "data": {
      "text/plain": [
       "2"
      ]
     },
     "execution_count": 10,
     "metadata": {},
     "output_type": "execute_result"
    }
   ],
   "source": [
    "23 % 3\n"
   ]
  },
  {
   "cell_type": "markdown",
   "metadata": {},
   "source": [
    "`%` returns the remainder of the division."
   ]
  },
  {
   "cell_type": "markdown",
   "metadata": {},
   "source": [
    "## 1.3 Order of Operations"
   ]
  },
  {
   "cell_type": "markdown",
   "metadata": {},
   "source": [
    "Remember that thing called order of operation that they taught in maths? Well, it applies in Python, too. Here it is, if you need reminding:<br>\n",
    "1. Parenthesis `()`\n",
    "2. Exponents `**`\n",
    "3. Multiplication `*`, division `/` and remainder `%`\n",
    "4. Addition `+` and subtraction `-`"
   ]
  },
  {
   "cell_type": "markdown",
   "metadata": {},
   "source": [
    "Here are some examples that you might want to try, if you're rusty on this:<br>\n",
    "```python\n",
    "1 + 2 * 3\n",
    "(1 + 2) * 3\n",
    "```"
   ]
  },
  {
   "cell_type": "code",
   "execution_count": 11,
   "metadata": {},
   "outputs": [
    {
     "data": {
      "text/plain": [
       "7"
      ]
     },
     "execution_count": 11,
     "metadata": {},
     "output_type": "execute_result"
    }
   ],
   "source": [
    "1 + 2 * 3"
   ]
  },
  {
   "cell_type": "code",
   "execution_count": 12,
   "metadata": {},
   "outputs": [
    {
     "data": {
      "text/plain": [
       "9"
      ]
     },
     "execution_count": 12,
     "metadata": {},
     "output_type": "execute_result"
    }
   ],
   "source": [
    "(1 + 2) * 3"
   ]
  },
  {
   "cell_type": "markdown",
   "metadata": {},
   "source": [
    "## 1.4 Comments, Please\n",
    "The final thing you'll need to know to move on to multi-line programs is the comment. Type the following (and yes, the output is shown):\n",
    "```python\n",
    "# I am a comment. Fear my wrath!\n",
    "```"
   ]
  },
  {
   "cell_type": "code",
   "execution_count": 13,
   "metadata": {},
   "outputs": [],
   "source": [
    "# I am a comment. Fear my wrath!"
   ]
  },
  {
   "cell_type": "markdown",
   "metadata": {},
   "source": [
    "A comment is a piece of code that is not run. In Python, you make something a comment by putting a hash in front of it. A hash comments everything after it in the line, and nothing before it. So you could type this:\n",
    "```python\n",
    "print(\"food is very nice\") #eat me\n",
    "```"
   ]
  },
  {
   "cell_type": "code",
   "execution_count": 14,
   "metadata": {},
   "outputs": [
    {
     "name": "stdout",
     "output_type": "stream",
     "text": [
      "food is very nice\n"
     ]
    }
   ],
   "source": [
    "print(\"food is very nice\") #eat me\n"
   ]
  },
  {
   "cell_type": "markdown",
   "metadata": {},
   "source": [
    "This results in a normal output, without the smutty comment, thank you very much.\n",
    "\n",
    "Now try this:\n",
    "```python\n",
    "# print(\"food is very nice\")\n",
    "```"
   ]
  },
  {
   "cell_type": "code",
   "execution_count": 15,
   "metadata": {},
   "outputs": [],
   "source": [
    "# print(\"food is very nice\")"
   ]
  },
  {
   "cell_type": "markdown",
   "metadata": {},
   "source": [
    "Nothing happens, because the code was after a comment."
   ]
  },
  {
   "cell_type": "markdown",
   "metadata": {},
   "source": [
    "Comments are important for adding necessary information for another programmer to read, but not the computer. For example, an explanation of a section of code, saying what it does, or what is wrong with it. You can also comment bits of code by putting a `#` in front of it - if you don't want it to compile, but can't delete it because you might need it later."
   ]
  },
  {
   "cell_type": "markdown",
   "metadata": {},
   "source": [
    "# Assignment 1\n",
    "\n",
    "Type in the cell below an expression to find out how many seconds are there in a 365-day year."
   ]
  },
  {
   "cell_type": "code",
   "execution_count": 19,
   "metadata": {},
   "outputs": [
    {
     "data": {
      "text/plain": [
       "31536000"
      ]
     },
     "execution_count": 19,
     "metadata": {},
     "output_type": "execute_result"
    }
   ],
   "source": [
    "60 * 60 * 24 *365"
   ]
  },
  {
   "cell_type": "markdown",
   "metadata": {},
   "source": [
    "# Assignment 2\n",
    "\n",
    "The Earth can be approximated as a sphere with a radius of 6370 km. Use the cell below to find out the volume of such a shape in cubic meters. V = (4/3)πr3 with π = 3.1415"
   ]
  },
  {
   "cell_type": "code",
   "execution_count": 21,
   "metadata": {},
   "outputs": [
    {
     "data": {
      "text/plain": [
       "1082665000932.6666"
      ]
     },
     "execution_count": 21,
     "metadata": {},
     "output_type": "execute_result"
    }
   ],
   "source": []
  },
  {
   "cell_type": "markdown",
   "metadata": {},
   "source": [
    "# Assignment 3\n",
    "\n",
    "Get the answer of the following expression, using the cell below:\n",
    "\n",
    "$$\\frac{1}{2}+\\frac{\\frac{1}{3}}{\\frac{1}{4}+\\frac{1}{5}}$$"
   ]
  },
  {
   "cell_type": "code",
   "execution_count": null,
   "metadata": {
    "editable": true,
    "slideshow": {
     "slide_type": ""
    },
    "tags": []
   },
   "outputs": [],
   "source": [
    "(1+2) * ("
   ]
  },
  {
   "cell_type": "markdown",
   "metadata": {},
   "source": [
    "# 2. Programs in a file, variables and strings\n",
    "## 2.1 Introduction\n",
    "Well, we can make one-liner programs. So What? You want to send programs to other people, so that they can use them, without knowing how to write them."
   ]
  },
  {
   "cell_type": "markdown",
   "metadata": {},
   "source": [
    "## 2.2 Variables\n",
    "Now let's start introducing variables. Variables store a value, that can be looked at or changed at a later time. Let's make a program that uses variables:"
   ]
  },
  {
   "cell_type": "code",
   "execution_count": 22,
   "metadata": {},
   "outputs": [
    {
     "name": "stdout",
     "output_type": "stream",
     "text": [
      "This program is a demo of variables\n",
      "The value of v is now 1\n",
      "v now equals itself plus one, making it worth 2\n",
      "v can store any numerical value, to be used elsewhere.\n",
      "for example, in a sentence. v is now worth 51\n",
      "v times 5 equals 255\n",
      "but v still only remains 51\n",
      "to make v five times bigger, you would have to type v = v * 5\n",
      "there you go, now v equals 255 and not 51.0\n"
     ]
    }
   ],
   "source": [
    "#variables demonstrated\n",
    "print(\"This program is a demo of variables\")\n",
    "v = 1\n",
    "print(\"The value of v is now\", v)\n",
    "v = v + 1\n",
    "print(\"v now equals itself plus one, making it worth\", v)\n",
    "v = 51\n",
    "print(\"v can store any numerical value, to be used elsewhere.\")\n",
    "print(\"for example, in a sentence. v is now worth\", v)\n",
    "print(\"v times 5 equals\", v * 5)\n",
    "print(\"but v still only remains\", v)\n",
    "print(\"to make v five times bigger, you would have to type v = v * 5\")\n",
    "v = v * 5\n",
    "print(\"there you go, now v equals\", v, \"and not\", v / 5)"
   ]
  },
  {
   "cell_type": "markdown",
   "metadata": {},
   "source": [
    "Run the script and try to understand the results."
   ]
  },
  {
   "cell_type": "markdown",
   "metadata": {},
   "source": [
    "Note that we can also write `v = v + 1` as `v += 1`. This can be used for all operators (e.g. `-=`, `*=`,`/=`). Try it in the code above.\n",
    "\n",
    "It is good practice to use lowercase for variables. Don't use special characters and don't start with a number!"
   ]
  },
  {
   "cell_type": "markdown",
   "metadata": {
    "editable": true,
    "slideshow": {
     "slide_type": ""
    },
    "tags": []
   },
   "source": [
    "## 2.3 Strings\n",
    "As you can see, variables store values, for use at a later time. You can change them at any time. You can put in more than numbers, though. Variables can hold things like text. A variable that holds text is called a string. Try this program:"
   ]
  },
  {
   "cell_type": "code",
   "execution_count": null,
   "metadata": {},
   "outputs": [],
   "source": [
    "#giving variables text, and adding text.\n",
    "word1 = \"Good\"\n",
    "word2 = \"morning\"\n",
    "word3 = \"to you too!\"\n",
    "print(word1, word2)\n",
    "sentence = word1 + \" \" + word2 + \" \" + word3\n",
    "print(sentence)"
   ]
  },
  {
   "cell_type": "markdown",
   "metadata": {},
   "source": [
    "As you see, the variables above were holding text. Variable names can also be longer than one letter - here, we had `word1`, `word2`, and `word3`. As you can also see, strings can be added together to make longer words or sentences. However, it doesn't add spaces in between the words - hence me putting in the `\" \"` things (there is one space between those).\n",
    "\n",
    "Often we need to manipulate strings. For example if we want to edit file names or make selections from text. Strings are similar to `lists` that you will learn later. So similar operations (called *list slicing*) apply to strings.\n",
    "\n",
    "Try the following code and explain what it does:"
   ]
  },
  {
   "cell_type": "code",
   "execution_count": 23,
   "metadata": {},
   "outputs": [
    {
     "data": {
      "text/plain": [
       "10"
      ]
     },
     "execution_count": 23,
     "metadata": {},
     "output_type": "execute_result"
    }
   ],
   "source": [
    "text = \"abcdefghij\"\n",
    "len(text)"
   ]
  },
  {
   "cell_type": "markdown",
   "metadata": {},
   "source": [
    "Yes, it shows us the amount of characters in a string.\n",
    "\n",
    "Now try this:"
   ]
  },
  {
   "cell_type": "code",
   "execution_count": 24,
   "metadata": {},
   "outputs": [
    {
     "name": "stdout",
     "output_type": "stream",
     "text": [
      "abcd\n"
     ]
    }
   ],
   "source": [
    "print(text[:4])"
   ]
  },
  {
   "cell_type": "code",
   "execution_count": 25,
   "metadata": {},
   "outputs": [
    {
     "name": "stdout",
     "output_type": "stream",
     "text": [
      "efghij\n"
     ]
    }
   ],
   "source": [
    "print(text[4:])"
   ]
  },
  {
   "cell_type": "markdown",
   "metadata": {},
   "source": [
    "Here you see that `[:4]` selects characters 0,1,2,3, which is \"abcd\". With `[4:]` we start with position 4 (counting from 0!) until the end of the string, which results in \"efghij\".\n",
    "\n",
    "We can also specify a range. Try this:"
   ]
  },
  {
   "cell_type": "code",
   "execution_count": 26,
   "metadata": {},
   "outputs": [
    {
     "name": "stdout",
     "output_type": "stream",
     "text": [
      "efgh\n"
     ]
    }
   ],
   "source": [
    "print(text[4:8])"
   ]
  },
  {
   "cell_type": "code",
   "execution_count": 27,
   "metadata": {},
   "outputs": [
    {
     "name": "stdout",
     "output_type": "stream",
     "text": [
      "4\n"
     ]
    }
   ],
   "source": [
    "print(text.find('e'))"
   ]
  },
  {
   "cell_type": "markdown",
   "metadata": {
    "tags": []
   },
   "source": [
    "# 3. Loops, Loops, Loops, Loops...\n",
    "## 3.1 Introduction\n",
    "(Our final lesson before we get into interacting with human input. Can't wait, can you?)\n",
    "\n",
    "Just imagine you needed a program to do something 20 times. What would you do? You could copy and paste the code 20 times, and have a virtually unreadable program, not to mention slow and pointless. Or, you could tell the computer to repeat a bit of code between point A and point B, until the time comes that you need it to stop. Such a thing is called a loop.\n",
    "\n",
    "## 3.2 The 'While' loop\n",
    "The following are examples of a type of loop, called the 'while' loop:\n"
   ]
  },
  {
   "cell_type": "markdown",
   "metadata": {},
   "source": [
    "## 3.3 Boolean Expressions (Boolen... what?!?)\n",
    "What do you type in the area marked `{conditions that the loop continues}`? The answer is a boolean expression.<br>\n",
    "What? A forgotten concept for the non-math people here. Never mind, boolean expression just means a question that can be answered with a TRUE or FALSE response. For example, if you wanted to say your age is the same as the person next to you, you would type:\n",
    "\n",
    "`My age == the age of the person next to me`\n",
    "\n",
    "And the statement would be TRUE. If you were younger than the person opposite, you'd say:\n",
    "`My age < the age of the person opposite me`\n",
    "\n",
    "And the statement would be TRUE. If, however, you were to say the following, and the person opposite of you was younger than you:\n",
    "\n",
    "`My age < the age of the person opposite me`\n",
    "\n",
    "The statement would be FALSE - the truth is that it is the other way around. This is how a loop thinks - if the expression is true, keep looping. If it is false, don't loop. With this in mind, let's have a look at the operators (symbols that represent an action) that are involved in boolean expressions:<br>\n",
    "\n",
    "| Expression | Function  |\n",
    "|   :---:    |   :---:   |\n",
    "|    `<`     | Less than |\n",
    "| `<=` | Less than or equal to |\n",
    "| `>` | Greater than |\n",
    "| `>=` | Greater than or equal to |\n",
    "| `!=` | Not equal to |\n",
    "| `==` | Equal to |\n",
    "\n",
    "Don't get `=` and `==` mixed up - the `=` operator makes what is on the left equal to what is on the right. the `==` operator says whether the thing on the left is the same as what is on the right, and returns True or False.\n",
    "\n",
    "\n"
   ]
  },
  {
   "cell_type": "markdown",
   "metadata": {},
   "source": [
    "## 3.4 Conditional Statements\n",
    "OK! We've (hopefully) covered 'while' loops. Now let's look at something a little different - conditionals.<br>\n",
    "Conditionals are where a section of code is only run if certain conditions are met. This is similar to the 'while' loop you just wrote, which only runs when x doesn't equal 0. However, Conditionals are only run once. The most common conditional in any program language, is the 'if' statement. Here is how it works:<br>\n",
    "```\n",
    "if {conditions to be met}:\n",
    "    {do this}\n",
    "    {and this}\n",
    "    {and this}\n",
    "{but this happens regardless}\n",
    "{because it isn't indented}\n",
    "```\n",
    "<br>\n",
    "Now some examples in Python:"
   ]
  },
  {
   "cell_type": "markdown",
   "metadata": {},
   "source": [
    "***One of the most important points to remember is that you MUST have a colon `:` at the end of every line with an `if`, `elif`, `else` or `while` in it.***"
   ]
  },
  {
   "cell_type": "markdown",
   "metadata": {},
   "source": [
    "## 3.6 Indentation\n",
    "One other point is that the code to be executed if the conditions are met, MUST BE INDENTED. That means that if you want to loop the next five lines with a `while` loop, you must put a set number of spaces at the beginning of each of the next five lines. This is good programming practice in any language, but Python requires that you do it. Here is an example of both of the above points:"
   ]
  },
  {
   "cell_type": "code",
   "execution_count": null,
   "metadata": {},
   "outputs": [],
   "source": [
    "a = 10\n",
    "while a > 0:\n",
    "    print(a)\n",
    "    if a > 5:\n",
    "        print(\"Big number!\")\n",
    "    elif a % 2 != 0:\n",
    "        print(\"This is an odd number\")\n",
    "        print(\"It isn't greater than five, either\")\n",
    "    else:\n",
    "        print(\"this number isn't greater than 5\")\n",
    "        print(\"nor is it odd\")\n",
    "        print(\"feeling special?\")\n",
    "    a = a - 1\n",
    "    print(\"we just made 'a' one less than what it was!\")\n",
    "    print(\"and unless a is not greater than 0, we'll do the loop again.\")\n",
    "print(\"well, it seems as if 'a' is now no bigger than 0!\")\n",
    "print(\"the loop is now over, and without furthur adue, so is this program!\")"
   ]
  },
  {
   "cell_type": "markdown",
   "metadata": {},
   "source": [
    "Notice the three levels of indents there:\n",
    "1. Each line in the first level starts with no spaces. It is the main program, and will always execute.\n",
    "2. Each line in the second level starts with four spaces. When there is an `if` or loop on the first level, everything on the second level after that will be looped/'ifed', until a new line starts back on the first level again.\n",
    "3.\tEach line in the third level starts with eight spaces. When there is an `if` or loop on the second level, everything on the third level after that will be looped/'ifed', until a new line starts back on the second level again.\n",
    "4.\tThis goes on infinitely, until the person writing the program has an internal brain explosion, and cannot understand anything he/she has written."
   ]
  },
  {
   "cell_type": "markdown",
   "metadata": {
    "editable": true,
    "slideshow": {
     "slide_type": ""
    },
    "tags": []
   },
   "source": [
    "# 4. Functions\n",
    "## 4.1 Introduction\n",
    "Last lesson I said that we would delve into purposeful programming. That involves user input, and user input requires a thing called functions.\n",
    "\n",
    "What are functions? Well, in effect, functions are little self-contained programs that perform a specific task, which you can incorporate into your own, larger programs. After you have created a function, you can use it at any time, in any place. This saves you the time and effort of having to retell the computer what to do every time it does a common task, for example getting the user to type something in.\n",
    "\n",
    "## 4.2 Using a Function\n",
    "Python has lots of pre-made functions, that you can use right now, simply by 'calling' them. 'Calling' a function involves you giving a function input, and it will return a value (like a variable would) as output. Don't understand? Here is the general form that calling a function takes:<br>\n",
    "`function_name(parameters)`\n",
    "\n",
    "See? Easy.\n",
    "\n",
    "- `Function_name` identifies which function it is you want to use (You'd figure...). For example, the function `raw_input`, which will be the first function that we will use.\n",
    "- `Parameters` are the values you pass to the function to tell it what is should do, and how to do it... for example, if a function multiplied any given number by five, the stuff in parameters tells the function which number it should multiply by five. Put the number 70 into parameters, and the function will do 70 x 5."
   ]
  },
  {
   "cell_type": "markdown",
   "metadata": {},
   "source": [
    "## 4.3 Parameters and Returned Values - Communicating with Functions\n",
    "Well, that's all well and good that the program can multiply a number by five, but what does it have to show for it? A warm fuzzy feeling? Your program needs to see the results of what happened, to see what 70 x 5 is, or to see if there is a problem somewhere (like you gave it a letter instead of a number). So how does a function show what is does?\n",
    "\n",
    "Well, in effect, when a computer runs a function, it doesn't actually see the function name, but the result of what the function did. Variables do the exact same thing - the computer doesn't see the variable name, it sees the value that the variable holds. Let's call this program that multiplied any number by five, `multiply()`. You put the number you want multiplied in the brackets. So if you typed this:\n",
    "\n",
    "`a = multiply(70)`\n",
    "\n",
    "The computer would actually see this:\n",
    "\n",
    "`a = 350`\n",
    "\n",
    "Note: don't bother typing in this code - `multiply()` isn't a real function, unless you create it.\n",
    "\n",
    "The function ran itself, then returned a number to the main program, based on what parameters it was given.\n",
    "\n",
    "Now let's try this with a real function, and see what it does. The function is called `input`, and asks the user to type in something. It then turns it into a string of text. Try the code below:"
   ]
  },
  {
   "cell_type": "code",
   "execution_count": null,
   "metadata": {},
   "outputs": [],
   "source": [
    "# this line makes 'a' equal to whatever you type in\n",
    "a = input(\"Type in something, and it will be repeated on screen: \")\n",
    "# this line prints what 'a' is now worth\n",
    "print(a)"
   ]
  },
  {
   "cell_type": "markdown",
   "metadata": {},
   "source": [
    "Say in the above program, you typed in `hello` when it asked you to type something in. To the computer, this program would look like this:\n",
    "\n",
    "```Python\n",
    "a = \"hello\"\n",
    "print(\"hello\")\n",
    "```"
   ]
  },
  {
   "cell_type": "markdown",
   "metadata": {},
   "source": [
    "Remember, a variable is just a stored value. To the computer, the variable `a` doesn't look like `a` - it looks like the value that is stored inside it. Functions are similar - to the main program (that is, the program that is running the function), they look like the value of what they give in return of running."
   ]
  },
  {
   "cell_type": "markdown",
   "metadata": {},
   "source": [
    "## 4.4 A Calculator Program\n",
    "Let's write another program, that will act as a calculator. This time it will do something more adventurous than what we have done before. There will be a menu, that will ask you whether you want to multiply two numbers together, add two numbers together, divide one number by another, or subtract one number from another. Only problem - the `input` function returns what you type in as a string - we want the number 1, not the letter 1 (and yes, in Python, there is a difference).\n",
    "\n",
    "Luckily, somebody wrote the function `eval`, which returns what you typed in, to the main program - but this time, it puts it in as a number. If you type an integer (a whole number), what comes out of input is an integer. And if you put that integer into a variable, the variable will be an integer-type variable, which means you can add and subtract, etc."
   ]
  },
  {
   "cell_type": "code",
   "execution_count": null,
   "metadata": {},
   "outputs": [],
   "source": [
    "# this line makes 'a' equal to the value that you type. It doesn't accept strings\n",
    "a = eval(input(\"Type in something, and it will be repeated on screen: \"))\n",
    "# this line prints what 'a' is now worth\n",
    "print(a)"
   ]
  },
  {
   "cell_type": "markdown",
   "metadata": {},
   "source": [
    "Now, let's design this calculator properly. We want a menu that is returned to every time you finish adding, subtracting, etc. In other words, to loop (HINT!!!) while (BIG HINT!!!) you tell it the program should still run.\n",
    "We want it to do an option in the menu if you type in that number. That involves you typing in a number (a.k.a. input) and an `if` loop.<br>\n",
    "Let's write it out in understandable English first (pseudocode):\n",
    "\n",
    "```\n",
    "START PROGRAM\n",
    "print opening message\n",
    "\n",
    "while we let the program run, do this:\n",
    "    #Print what options you have\n",
    "    print Option 1 - add\n",
    "    print Option 2 - subtract\n",
    "    print Option 3 - multiply\n",
    "    print Option 4 - divide\n",
    "    print Option 5 - quit program\n",
    "\n",
    "    ask for which option it is you want\n",
    "    if it is option 1:\n",
    "        ask for first number\n",
    "        ask for second number\n",
    "        add them together\n",
    "        print the result onscreen\n",
    "    if it is option 2:\n",
    "        ask for first number\n",
    "        ask for second number\n",
    "        subtract one from the other\n",
    "        print the result onscreen\n",
    "    if it is option 3:\n",
    "        ask for first number\n",
    "        ask for second number\n",
    "        multiply!\n",
    "        print the result onscreen\n",
    "    if it is option 4:\n",
    "        ask for first number\n",
    "        ask for second number\n",
    "        divide one by the other\n",
    "        print the result onscreen\n",
    "    if it is option 5:\n",
    "        tell the loop to stop looping\n",
    "Print onscreen a goodbye message\n",
    "END PROGRAM\n",
    "```\n",
    "Let's put this in something that Python can understand:"
   ]
  },
  {
   "cell_type": "code",
   "execution_count": null,
   "metadata": {},
   "outputs": [],
   "source": [
    "#calculator program\n",
    "\n",
    "#this variable tells the loop whether it should loop or not.\n",
    "#1 means loop. Anything else means don't loop.\n",
    "\n",
    "loop = 1\n",
    "\n",
    "#this variable holds the user's choice in the menu:\n",
    "\n",
    "choice = 0\n",
    "\n",
    "while loop == 1:\n",
    "    #print what options you have\n",
    "    print(\"Welcome to calculator.py\")\n",
    "\n",
    "    print(\"your options are:\")\n",
    "    print(\" \")\n",
    "    print(\"1. Addition\")\n",
    "    print(\"2. Subtraction\")\n",
    "    print(\"3. Multiplication\")\n",
    "    print(\"4. Division\")\n",
    "    print(\"5. Quit calculator.py\")\n",
    "    print(\" \")\n",
    "\n",
    "    choice = eval(input(\"Choose your option: \"))\n",
    "    if choice == 1:\n",
    "        add1 = eval(input(\"Add this: \"))\n",
    "        add2 = eval(input(\"to this: \"))\n",
    "        print(add1, \"+\", add2, \"=\", add1 + add2)\n",
    "    elif choice == 2:\n",
    "        sub2 = eval(input(\"Subtract this: \"))\n",
    "        sub1 = eval(input(\"from this: \"))\n",
    "        print(sub1, \"-\", sub2, \"=\", sub1 - sub2)\n",
    "    elif choice == 3:\n",
    "        mul1 = eval(input(\"Multiply this: \"))\n",
    "        mul2 = eval(input(\"with this: \"))\n",
    "        print(mul1, \"*\", mul2, \"=\", mul1 * mul2)\n",
    "    elif choice == 4:\n",
    "        div1 = eval(input(\"Divide this: \"))\n",
    "        div2 = eval(input(\"by this: \"))\n",
    "        print(div1, \"/\", div2, \"=\", div1 / div2)\n",
    "    elif choice == 5:\n",
    "        loop = 0\n",
    "        \n",
    "print(\"Thank you for using calculator.py!\")"
   ]
  },
  {
   "cell_type": "markdown",
   "metadata": {},
   "source": [
    "Play around with it - try all options, entering in integers (numbers without decimal points), and numbers with stuff after the decimal point (known in programming as a floating point). Try typing in text, and see how the program chucks a minor fit, and stops running (that can be dealt with, using error handling, which we can address later)."
   ]
  },
  {
   "cell_type": "markdown",
   "metadata": {},
   "source": [
    "## 4.5 Define Your Own Functions\n",
    "Well, it is all well and good that you can use other people's functions, but what if you want to write your own functions, to save time, and maybe use them in other programs? This is where the `def` operator comes in. (An operator is just something that tells Python what to do, e.g. the `+` operator tells Python to add things, the `if` operator tells Python to do something if conditions are met.)\n",
    "\n",
    "This is how the `def` operator works:\n",
    "\n",
    "```\n",
    "def function_name(parameter_1,parameter_2):\n",
    "    {this is the code in the function}\n",
    "    {more code}\n",
    "    {more code}\n",
    "    return {value to return to the main program}\n",
    "{this code isn't in the function}\n",
    "{because it isn't indented}\n",
    "#remember to put a colon \":\" at the end\n",
    "#of the line that starts with 'def'\n",
    "```\n"
   ]
  },
  {
   "cell_type": "markdown",
   "metadata": {},
   "source": [
    "`function_name` is the name of the function. You write the code that is in the function below that line, and have it indented. (We will worry about `parameter_1` and `parameter_2` later, for now imagine there is nothing between the parentheses.\n",
    "\n",
    "Functions run completely independent of the main program. Remember when I said that when the computer comes to a function, it doesn't see the function, but a value, that the function returns? Here's the quote:\n",
    "\n",
    "To the computer, the variable 'a' doesn't look like 'a' - it looks like the value that is stored inside it. Functions are similar - to the main program (that is, the program that is running the function), they look like the value of what they give in return of running."
   ]
  },
  {
   "cell_type": "markdown",
   "metadata": {},
   "source": [
    "A function is like a miniature program that some parameters are given to - it then runs itself, and then returns a value. Your main program sees only the returned value. If that function flew to the moon and back, and then at the end had:\n",
    "\n",
    "`return \"hello\"`\n",
    "\n",
    "then all your program would see is the string `\"hello\"`, where the name of the function was. It would have no idea what else the program did.\n",
    "\n",
    "Because it is a separate program, a function doesn't see any of the variables that are in your main program, and your main program doesn't see any of the variables that are in a function. For example, here is a function that prints the words `\"hello\"` onscreen, and then returns the number `'1234'` to the main program:"
   ]
  },
  {
   "cell_type": "code",
   "execution_count": null,
   "metadata": {},
   "outputs": [],
   "source": [
    "# Below is the function\n",
    "def hello():\n",
    "    print(\"hello\")\n",
    "    return 1234\n",
    "\n",
    "# And here is the function being used\n",
    "print(hello())"
   ]
  },
  {
   "cell_type": "markdown",
   "metadata": {},
   "source": [
    "So what happened?\n",
    "1.\twhen `def hello()` was run, a function called `hello` was created\n",
    "2.\tWhen the line `print(hello())` was run, the function `hello` was executed (The code inside it was run)\n",
    "3.\tThe function `hello` printed `\"hello\"` onscreen, then returned the number `1234` back to the main program\n",
    "4.\tThe main program now sees the line as `print(\"1234\")` and as a result, printed `1234`"
   ]
  },
  {
   "cell_type": "markdown",
   "metadata": {},
   "source": [
    "That accounts for everything that happened. Remember, that the main program had NO IDEA that the words `hello` were printed onscreen. All it saw was `1234`, and printed that onscreen."
   ]
  },
  {
   "cell_type": "markdown",
   "metadata": {},
   "source": [
    "## 4.6 Passing Parameters to functions\n",
    "There is one more thing we will cover in this (monstrously huge) lesson - passing parameters to a function. Think back to how we defined functions:<br>\n",
    "```\n",
    "def function_name(parameter_1,parameter_2):\n",
    "    {this is the code in the function}\n",
    "    {more code}\n",
    "    {more code}\n",
    "    return {value (e.g. text or number) to return to the main program}\n",
    "```\n",
    "\n",
    "Where `parameter_1` and `parameter_2` are (between the parentheses), you put the names of variables that you want to put the parameters into. Put as many as you need, just have them seperated by commas. When you run a function, the first value you put inside the parentheses would go into the variable where `parameter_1` is. The second one (after the first comma) would go to the variable where `parameter_2` is. This goes on for however many parameters there are in the function (from zero, to the sky). For example:"
   ]
  },
  {
   "cell_type": "code",
   "execution_count": null,
   "metadata": {},
   "outputs": [],
   "source": [
    "def funnyfunction(first_word,second_word,third_word):\n",
    "    print(\"The word created is: \" + first_word + second_word + third_word)\n",
    "    return first_word + second_word + third_word"
   ]
  },
  {
   "cell_type": "markdown",
   "metadata": {},
   "source": [
    "When you run the function above, you would type in something like this: `funnyfunction(\"meat\",\"eater\",\"man\")`. The first value (that is, \"meat\") would be put into the variable called first_word. The second value inside the brackets (that is, \"eater\") would be put into the variable called second_word, and so on. This is how values are passed from the main program to functions - inside the parentheses, after the function name.\n",
    "\n",
    "Add a new line to the script above that invokes the function."
   ]
  },
  {
   "cell_type": "markdown",
   "metadata": {},
   "source": [
    "## 4.7 A Final Program\n",
    "Think back to that calculator program. Did it look a bit messy to you? I think it did, so let's re-write it, with functions.\n",
    "\n",
    "To design - First we will define all the functions we are going to use with the `def` operator (still remember what an operator is ;) ). Then we will have the main program, with all that messy code replaced with nice, neat functions. This will make it so much easier to look at again in the future."
   ]
  },
  {
   "cell_type": "code",
   "execution_count": null,
   "metadata": {},
   "outputs": [],
   "source": [
    "# calculator program\n",
    "\n",
    "# NO CODE IS REALLY RUN HERE, IT IS ONLY TELLING US WHAT WE WILL DO LATER\n",
    "# Here we will define our functions\n",
    "# this prints the main menu, and prompts for a choice\n",
    "def menu():\n",
    "    #print what options you have\n",
    "    print(\"Welcome to calculator.py\")\n",
    "    print(\"your options are:\")\n",
    "    print(\" \")\n",
    "    print(\"1. Addition\")\n",
    "    print(\"2. Subtraction\")\n",
    "    print(\"3. Multiplication\")\n",
    "    print(\"4. Division\")\n",
    "    print(\"5. Quit calculator.py\")\n",
    "    print(\" \")\n",
    "    return eval(input(\"Choose your option: \"))\n",
    "    \n",
    "# this adds two numbers given\n",
    "def add(a,b):\n",
    "    print(a, \"+\", b, \"=\", a + b)\n",
    "    \n",
    "# this subtracts two numbers given\n",
    "def sub(a,b):\n",
    "    print(b, \"-\", a, \"=\", b - a)\n",
    "    \n",
    "# this multiplies two numbers given\n",
    "def mul(a,b):\n",
    "    print(a, \"*\", b, \"=\", a * b)\n",
    "    \n",
    "# this divides two numbers given\n",
    "def div(a,b):\n",
    "    print(a, \"/\", b, \"=\", a / b)\n",
    "    \n",
    "# NOW THE PROGRAM REALLY STARTS, AS CODE IS RUN\n",
    "loop = 1\n",
    "choice = 0\n",
    "while loop == 1:\n",
    "    choice = menu()\n",
    "    if choice == 1:\n",
    "        add(eval(input(\"Add this: \")),eval(input(\"to this: \")))\n",
    "    elif choice == 2:\n",
    "        sub(eval(input(\"Subtract this: \")),eval(input(\"from this: \")))\n",
    "    elif choice == 3:\n",
    "        mul(eval(input(\"Multiply this: \")),eval(input(\"by this: \")))\n",
    "    elif choice == 4:\n",
    "        div(eval(input(\"Divide this: \")),eval(input(\"by this: \")))\n",
    "    elif choice == 5:\n",
    "        loop = 0\n",
    "\n",
    "print(\"Thank you for using calculator.py!\")\n",
    "\n",
    "# NOW THE PROGRAM REALLY FINISHES"
   ]
  },
  {
   "cell_type": "markdown",
   "metadata": {},
   "source": [
    "The initial program had 34 lines of code. The new one actually had 35 lines of code! It is a little longer, but if you look at it the right way, it is actually simpler.\n",
    "\n",
    "You defined all your functions at the top. This really isn't part of your main program - they are just lots of little programs that you will call upon later. You could even re-use these in another program if you needed them, and didn't want to tell the computer how to add and subtract again.\n",
    "\n",
    "If you look at the main part of the program (between the line `loop = 1` and `print(\"Thank you for...\")`), it is only 15 lines of code. That means that if you wanted to write this program differently, you would only have to write 15 or so lines, as opposed to the 34 lines you would normally have to without functions."
   ]
  },
  {
   "cell_type": "markdown",
   "metadata": {},
   "source": [
    "# 5.\tTuples, Lists, and Dictionaries\n",
    "## 5.1\tIntroduction\n",
    "Your brain still hurting from the last lesson? Never worry, this one will require a little less thought. We're going back to something simple - variables - but a little more in depth.\n",
    "\n",
    "Think about it - variables store one bit of information. They may regurgitate (just not on the carpet...) that information at any point, and their bit of information can be changed at any time. Variables are great at what they do - storing a piece of information that may change over time.\n",
    "\n",
    "But what if you need to store a long list of information, which doesn't change over time? Say, for example, the names of the months of the year. Or maybe a long list of information that does change over time? Say, for example, the names of all your cats. You might get new cats, some may die, some may become your dinner (we should trade recipies!). What about a phone book? For that you need to do a bit of referencing - you would have a list of names, and attached to each of those names, a phone number. How would you do that?"
   ]
  },
  {
   "cell_type": "markdown",
   "metadata": {},
   "source": [
    "## 5.2\tThe Solution - Lists, Tuples, and Dictionaries\n",
    "For these three problems, Python uses three different solutions - Tuples, Lists, and Dictionaries:\n",
    "* **Lists** are what they seem - a list of values. Each one of them is numbered, starting from zero - the first one is numbered zero, the second 1, the third 2, etc. You can remove values from the list, and add new values to the end. Example: Your many cats' names.\n",
    "* **Tuples** are just like lists, but you can't change their values. The values that you give it first up, are the values that you are stuck with for the rest of the program. Again, each value is numbered starting from zero, for easy reference. Example: the names of the months of the year.\n",
    "* **Dictionaries** are similar to what their name suggests - a dictionary. In a dictionary, you have an 'index' of words, and for each of them a definition. In Python, the word is called a 'key', and the definition a 'value'. The values in a dictionary aren't numbered - they aren't in any specific order, either - the key does the same thing. You can add, remove, and modify the values in dictionaries. Example: telephone book."
   ]
  },
  {
   "cell_type": "markdown",
   "metadata": {},
   "source": [
    "### 5.2.1 Tuples\n",
    "Tuples are pretty easy to make. You give your tuple a name, then after that the list of values it will carry. For example, the months of the year:"
   ]
  },
  {
   "cell_type": "code",
   "execution_count": null,
   "metadata": {},
   "outputs": [],
   "source": [
    "months = ('January','February','March','April','May','June',\\\n",
    "'July','August','September','October','November','  December')"
   ]
  },
  {
   "cell_type": "markdown",
   "metadata": {},
   "source": [
    "* Note that the `\\` thingy at the end of the first line carries over that line of code to the next line. It is useful way of making big lines more readable.\n",
    "* Technically you don't have to put those parentheses there (the `(` and `)` thingies) but it stops Python from getting things confused.\n",
    "* You may have spaces after the commas if you feel it necessary - it doesn't really matter"
   ]
  },
  {
   "cell_type": "markdown",
   "metadata": {},
   "source": [
    "Python then organises those values in a handy, numbered index - starting from zero, in the order that you entered them in. It would be organised like this:<br>\n",
    "\n",
    "| Index | Value |\n",
    "| :---: | :---: |\n",
    "| 0 | January |\n",
    "| 1 | February |\n",
    "| 2 | March |\n",
    "| 3 | April |\n",
    "| 4 | May |\n",
    "| 5 | June |\n",
    "| 6 | July |\n",
    "| 7 | August |\n",
    "| 8 | September |\n",
    "| 9 | October |\n",
    "| 10 | November |\n",
    "| 11 | December |\n",
    "And that is tuples! Really easy..."
   ]
  },
  {
   "cell_type": "markdown",
   "metadata": {},
   "source": [
    "### 5.2.2 Lists\n",
    "Lists are extremely similar to tuples. Lists are modifiable (or 'mutable', as a programmer may say), so their values can be changed. Most of the time we use lists, not tuples, because we want to easily change the values of things if we need to.\n",
    "\n",
    "Lists are defined very similarly to tuples. Say you have FIVE cats, called Tom, Snappy, Kitty, Jessie and Chester. To put them in a list, you would do this:<br>"
   ]
  },
  {
   "cell_type": "code",
   "execution_count": null,
   "metadata": {},
   "outputs": [],
   "source": [
    "cats = ['Tom', 'Snappy', 'Kitty', 'Jessie', 'Chester']"
   ]
  },
  {
   "cell_type": "markdown",
   "metadata": {},
   "source": [
    "As you see, the code is exactly the same as a tuple, EXCEPT that all the values are put between square brackets, not parentheses. Again, you don't have to have spaces after the comma.\n",
    "\n",
    "You recall values from lists exactly the same as you do with tuples. For example, to print the name of your 3rd cat you would do this:"
   ]
  },
  {
   "cell_type": "code",
   "execution_count": null,
   "metadata": {},
   "outputs": [],
   "source": [
    "print(cats[2])"
   ]
  },
  {
   "cell_type": "markdown",
   "metadata": {},
   "source": [
    "You can also recall a range of examples, like above, for example - `cats[0:2]` would recall your 1st and 2nd cats. Try it in the field above.\n",
    "\n",
    "Where lists come into their own is how they can be modified. To add a value to a list, you use the `append()` function. Let's say you got a new cat called Catherine. To add her to the list you'd do this:"
   ]
  },
  {
   "cell_type": "code",
   "execution_count": null,
   "metadata": {},
   "outputs": [],
   "source": [
    "cats.append('Catherine')"
   ]
  },
  {
   "cell_type": "markdown",
   "metadata": {},
   "source": [
    "Use the field below to check if the cat has been added to the list."
   ]
  },
  {
   "cell_type": "code",
   "execution_count": null,
   "metadata": {},
   "outputs": [],
   "source": []
  },
  {
   "cell_type": "markdown",
   "metadata": {},
   "source": [
    "That's a little weird, isn't it? I'll explain. That function is in a funny spot - after a period `.` after the list name. You'll get to see those things more in a later lesson. For the meanwhile, this is the form of the function that adds a new value to a list:\n",
    "```Python\n",
    "#add a new value to the end of a list:\n",
    "list_name.append(value-to-add)\n",
    "\n",
    "#e.g. to add the number 5038 to the list 'numbers':\n",
    "numbers.append(5038)\n",
    "```\n",
    "\n",
    "Clears things up? Good!\n",
    "Now to a sad situation - Snappy was shot by a neighbour, and eaten for their dinner (good on 'em!). You need to remove him (or her) from the list. Removing that sorry cat is an easy task, thankfully, so you have to wallow in sadness for as short a time as possible:"
   ]
  },
  {
   "cell_type": "code",
   "execution_count": null,
   "metadata": {},
   "outputs": [],
   "source": [
    "#Remove your 2nd cat, Snappy. Woe is you.\n",
    "del cats[1]"
   ]
  },
  {
   "cell_type": "markdown",
   "metadata": {},
   "source": [
    "Check again which cats are in the list:"
   ]
  },
  {
   "cell_type": "code",
   "execution_count": null,
   "metadata": {},
   "outputs": [],
   "source": []
  },
  {
   "cell_type": "markdown",
   "metadata": {},
   "source": [
    "You've just removed the 2nd cat in your list - poor old Snappy.\n",
    "And with that morbid message, lets move on to..."
   ]
  },
  {
   "cell_type": "markdown",
   "metadata": {},
   "source": [
    "### 5.3 Dictionaries\n",
    "Okay, so there is more to life than the names of your cats. You need to call your sister, mother, son, the fruit man, and anyone else who needs to know that their favourite cat is dead. For that you need a telephone book.\n",
    "\n",
    "Now, the lists we've used above aren't really suitable for a telephone book. You need to know a number based on someone's name - not the other way around, like what we did with the cats. In the examples of months and cats, we gave the computer a number, and it gave us a name. This time we want to give the computer a name, and it gives us a number. For this we need *Dictionaries*.\n",
    "\n",
    "So how do we make a dictionary? Put away your binding equipment, it isn't that advanced.\n",
    "Remember, dictionaries have keys, and values. In a phone book, you have people's names, then their numbers. See a similarity?\n",
    "\n",
    "When you initially create a dictionary, it is very much like making a tuple or list. Tuples have `(` and `)` things, lists have `[` and `]` things. Guess what! Dictionaries have `{` and `}` things - curly braces. Here is an example below, showing a dictionary with four phone numbers in it:"
   ]
  },
  {
   "cell_type": "code",
   "execution_count": null,
   "metadata": {},
   "outputs": [],
   "source": [
    "#Make the phone book:\n",
    "phonebook = {'Andrew Parson':8806336, \\\n",
    "'Emily Everett':6784346, 'Peter Power':7658344, \\\n",
    "'Lewis Lame':1122345}\n",
    "print(phonebook['Lewis Lame'])"
   ]
  },
  {
   "cell_type": "markdown",
   "metadata": {},
   "source": [
    "When you run it you see that Lewis Lame's number is printed onscreen. Notice how instead of identifying the value by a number, like in the cats and months examples, we identify the value, using another value - in this case the person's name.\n",
    "\n",
    "Ok, you've created a new phone book. Now you want to add new numbers to the book. What do you do? A very simple line of code:"
   ]
  },
  {
   "cell_type": "code",
   "execution_count": null,
   "metadata": {},
   "outputs": [],
   "source": [
    "#Add the person 'Gingerbread Man' to the phonebook:\n",
    "\n",
    "phonebook['Gingerbread Man'] = 1234567\n",
    "\n",
    "# Didn't think I would give you\n",
    "# my real number now, would I?"
   ]
  },
  {
   "cell_type": "markdown",
   "metadata": {},
   "source": [
    "All that line is saying is that there is a person called Gingerbread Man in the phone book, and his number is `1234567`. In other words - the key is `Gingerbread Man`, and the value is `1234567`."
   ]
  },
  {
   "cell_type": "markdown",
   "metadata": {},
   "source": [
    "Check if it's added using the field below."
   ]
  },
  {
   "cell_type": "code",
   "execution_count": null,
   "metadata": {},
   "outputs": [],
   "source": []
  },
  {
   "cell_type": "markdown",
   "metadata": {},
   "source": [
    "You delete entries in a dictionary just like in a list. Let's say Andrew Parson is your neighbour, and shot your cat. You never want to talk to him again, and therefore don't need his number. Just like in a list, you'd do this:"
   ]
  },
  {
   "cell_type": "code",
   "execution_count": null,
   "metadata": {},
   "outputs": [],
   "source": [
    "del phonebook['Andrew Parson']"
   ]
  },
  {
   "cell_type": "markdown",
   "metadata": {},
   "source": [
    "Again, very easy. the `del` operator deletes any function, variable, or entry in a list or dictionary (An entry in a dictionary is just a variable with a number or text string as a name. This comes in handy later on.)"
   ]
  },
  {
   "cell_type": "markdown",
   "metadata": {},
   "source": [
    "Check if the number is gone using the field below."
   ]
  },
  {
   "cell_type": "code",
   "execution_count": null,
   "metadata": {},
   "outputs": [],
   "source": []
  },
  {
   "cell_type": "markdown",
   "metadata": {},
   "source": [
    "Remember that append function that we used with the list? Well, there are quite a few of those that can be used with dictionaries. Below, I will write you a program, and it will incorporate some of those functions in. It will have comments along the way explaining what it does. Experiment as much as you like with it."
   ]
  },
  {
   "cell_type": "code",
   "execution_count": null,
   "metadata": {
    "editable": true,
    "slideshow": {
     "slide_type": ""
    },
    "tags": []
   },
   "outputs": [],
   "source": [
    "#A few examples of a dictionary\n",
    "\n",
    "#First we define the dictionary\n",
    "#it will have nothing in it this time\n",
    "ages = {}\n",
    "\n",
    "#Add a couple of names to the dictionary\n",
    "ages['Sue'] = 23\n",
    "ages['Peter'] = 19\n",
    "ages['Andrew'] = 78\n",
    "ages['Karren'] = 45\n",
    "\n",
    "#Use an 'if' statement to find a key in the list.\n",
    "#Remember - this is how 'if' statements work -\n",
    "#they run if something is true\n",
    "#and they don't when something is false.\n",
    "if 'Sue' in ages:\n",
    "    print(\"Sue is in the dictionary. She is\", \\\n",
    "ages['Sue'], \"years old\")\n",
    "\n",
    "else:\n",
    "    print(\"Sue is not in the dictionary\")\n",
    "\n",
    "#Use the function keys() - \n",
    "#This function returns a list\n",
    "#of all the names of the keys.\n",
    "#E.g.\n",
    "print(\"The following people are in the dictionary:\")\n",
    "print(ages.keys())\n",
    "\n",
    "#You could use this function to\n",
    "#put all the key names in a list:\n",
    "keys = ages.keys()\n",
    "\n",
    "#You can also get a list\n",
    "#of all the values in a dictionary.\n",
    "#You use the values() function:\n",
    "print(\"People are aged the following:\", \\\n",
    "ages.values())\n",
    "\n",
    "#Put it in a list:\n",
    "values = ages.values()\n",
    "\n",
    "#You can sort lists, with the sorted() function\n",
    "#It will sort all values in a list\n",
    "#alphabetically, numerically, etc...\n",
    "#You can't sort dictionaries - \n",
    "#they are in no particular order\n",
    "print(keys)\n",
    "sortedkeys = sorted(keys)\n",
    "print(sortedkeys)\n",
    "\n",
    "print(values)\n",
    "sortedvalues = sorted(values)\n",
    "print(sortedvalues)\n",
    "\n",
    "#You can find the number of entries\n",
    "#with the len() function:\n",
    "print(\"The dictionary has\", \\\n",
    "len(ages), \"entries in it\")"
   ]
  },
  {
   "cell_type": "markdown",
   "metadata": {},
   "source": [
    "# 6. For Loop\n",
    "## 6.1 Introduction\n",
    "Well, in the first lesson about loops, I said I would put off teaching you the for loop, until we had reached lists. Well, here it is!\n",
    "## 6.2 The `for` Loop\n",
    "Basically, the `for` loop does something for every value in a list. The way it is set out is a little confusing, but otherwise is very basic. Here is an example of it in code:"
   ]
  },
  {
   "cell_type": "code",
   "execution_count": null,
   "metadata": {},
   "outputs": [],
   "source": [
    "# Example 'for' loop\n",
    "# First, create a list to loop through:\n",
    "newList = [45, 'eat me', 90210, \"The day has come, the walrus said, \\\n",
    "to speak of many things\", -67]\n",
    "\n",
    "# create the loop:\n",
    "# Goes through newList, and sequentially puts each bit of information\n",
    "# into the variable value, and runs the loop\n",
    "for value in newList:\n",
    "    print(value)"
   ]
  },
  {
   "cell_type": "markdown",
   "metadata": {},
   "source": [
    "As you see, when the loop executes, it runs through all of the values in the list mentioned after `in`. It then puts them into `value`, and executes through the loop, each time with value being worth something different. Let's see it again, in a classic cheerleading call that we all know:"
   ]
  },
  {
   "cell_type": "code",
   "execution_count": null,
   "metadata": {},
   "outputs": [],
   "source": [
    "# cheerleading program\n",
    "word = input(\"Who do you go for? \")\n",
    "\n",
    "for letter in word:\n",
    "    call = \"Gimme a \" + letter + \"!\"\n",
    "    print(call)\n",
    "    print(letter + \"!\")\n",
    "\n",
    "print(\"What does that spell?\")\n",
    "print(word + \"!\")"
   ]
  },
  {
   "cell_type": "markdown",
   "metadata": {},
   "source": [
    "A couple of things you've just learnt:\n",
    "* As you see, strings (remember - strings are lines of text) are just lists with lots of characters.\n",
    "* The program went through each of the letters (or values) in word, and it printed them onscreen.<br>"
   ]
  },
  {
   "cell_type": "markdown",
   "metadata": {},
   "source": [
    "And that is all there is to the for loop."
   ]
  },
  {
   "cell_type": "markdown",
   "metadata": {},
   "source": [
    "## 6.3 Making a Menu Function\n",
    "Now to the business end of the lesson. Let's start writing programs. So far we have learnt variables, lists, loops, and functions. That is pretty much all we need for quite a bit of programming. So let's set ourselves a task."
   ]
  },
  {
   "cell_type": "markdown",
   "metadata": {},
   "source": [
    "```Python\n",
    "# THE MENU FUNCTION\n",
    "# The program asks for a string with all the menu options in it,\n",
    "# and a text string asking a question.\n",
    "# make sure every menu entry is unique.\n",
    "\n",
    "def menu(list, question):\n",
    "    for entry in list:\n",
    "        print(1 + list.index(entry),end=\"\"))\n",
    "        print (\") \" + entry)\n",
    "\n",
    "    return eval(input(question)) - 1\n",
    "\n",
    "# def menu(list, question): is telling the function to\n",
    "# ask for two bits of information:\n",
    "# A list of all the menu entries,\n",
    "# and the question it will ask when all the options have been printed\n",
    "\n",
    "# for entry in list: is pretty much saying;\n",
    "#'for every entry in the list, do the following:'\n",
    "\n",
    "# print list.index(entry) + 1 uses the .index() function to find\n",
    "# where in the list the entry is in. print function then prints it\n",
    "# it adds 1 to make the numbers more intelligible.\n",
    "\n",
    "# print \") \" + entry prints a bracket, and then the entry name\n",
    "\n",
    "# after the for loop is finished, eval(input(question) - 1) asks the question,\n",
    "# and returns the value to the main program (minus 1, to turn it back to\n",
    "# the number the computer will understand).\n",
    "```"
   ]
  },
  {
   "cell_type": "markdown",
   "metadata": {},
   "source": [
    "That wasn't very difficult, was it? The actual program only took up five lines - this is the wonder of how much we have learnt so far! All my comments take up sixteen lines - more than three times the program length. It is a good idea to comment your programs extensively. Remember that if you are going to be publishing your code open-source, there are going to be a lot of people checking out the code that you have written. We'll see the function we just wrote in our first example program."
   ]
  },
  {
   "cell_type": "markdown",
   "metadata": {},
   "source": [
    "## 6.4 Our First 'Game'\n",
    "What will our first example program be? How about a (very) simple text adventure game? Sounds like fun! It will only encompass one room of a house, and will be extremely simple. There will be five things, and a door. In one of the five things, is a key to the door. You need to find the key, then open the door. I will give a plain-english version first, then do it in Python:<br>\n",
    "```\n",
    "#Plain-english version of our 'game'\n",
    "\n",
    "Tell the computer about our menu function\n",
    "\n",
    "Print a welcoming message, showing a description of the room.\n",
    "We will give the player six things to look at: pot plant, painting,\\\n",
    " vase, lampshade, shoe, and the door\n",
    "\n",
    "Tell the computer that the door is locked\n",
    "Tell the computer where the key is\n",
    "\n",
    "present a menu, telling you what things you can 'operate':\n",
    "    It will give you the six options\n",
    "    It will ask the question \"what will you look at?\"\n",
    "\n",
    "if the user wanted to look at:\n",
    "    pot plant:\n",
    "        If the key is here, give the player the key\n",
    "        otherwise, tell them it isn't here\n",
    "    painting:\n",
    "        same as above\n",
    "    etc.\n",
    "    door:\n",
    "        If the player has the key, let them open the door\n",
    "        Otherwise, tell them to look harder\n",
    "\n",
    "Give the player a well done message, for completing the game.\n",
    "```\n",
    "<br>\n",
    "From this, we can write a real program. Ready? Here it is:"
   ]
  },
  {
   "cell_type": "code",
   "execution_count": null,
   "metadata": {},
   "outputs": [],
   "source": [
    "# TEXT ADVENTURE GAME\n",
    "\n",
    "#the menu function:\n",
    "def menu(list, question):\n",
    "    for entry in list:\n",
    "        print(1 + list.index(entry),end=\"\")\n",
    "        print (\") \" + entry)\n",
    "\n",
    "    return eval(input(question)) - 1\n",
    "\n",
    "#Give the computer some basic information about the room:\n",
    "items = [\"pot plant\",\"painting\",\"vase\",\"lampshade\",\"shoe\",\"door\"]\n",
    "\n",
    "#The key is in the vase (or entry number 2 in the list above):\n",
    "keylocation = 2\n",
    "\n",
    "#You haven't found the key:\n",
    "keyfound = 0\n",
    "\n",
    "loop = 1\n",
    "\n",
    "#Give some introductary text:\n",
    "print(\"Last night you went to sleep in the comfort of your own home.\")\n",
    "\n",
    "print(\"Now, you find yourself locked in a room. You don't know how\")\n",
    "print(\"you got there, or what time it is. In the room you can see\")\n",
    "print(len(items), \"things:\")\n",
    "for x in items:\n",
    "    print(x)\n",
    "print(\"\")\n",
    "print(\"The door is locked. Could there be a key somewhere?\")\n",
    "#Get your menu working, and the program running until you find the key:\n",
    "while loop == 1:\n",
    "    choice = menu(items,\"What do you want to inspect? \")\n",
    "    if choice == 0:\n",
    "        if choice == keylocation:\n",
    "            print(\"You found a small key in the pot plant.\")\n",
    "\n",
    "            print(\"\")\n",
    "            keyfound = 1\n",
    "        else:\n",
    "            print(\"You found nothing in the pot plant.\")\n",
    "            print(\"\")\n",
    "    elif choice == 1:\n",
    "        if choice == keylocation:\n",
    "            print(\"You found a small key behind the painting.\")\n",
    "            print(\"\")\n",
    "\n",
    "            keyfound = 1\n",
    "        else:\n",
    "            print(\"You found nothing behind the painting.\")\n",
    "            print(\"\")\n",
    "    elif choice == 2:\n",
    "        if choice == keylocation:\n",
    "            print(\"You found a small key in the vase.\")\n",
    "            print(\"\")\n",
    "            keyfound = 1\n",
    "        else:\n",
    "            print(\"You found nothing in the vase.\")\n",
    "\n",
    "            print(\"\")\n",
    "    elif choice == 3:\n",
    "        if choice == keylocation:\n",
    "            print(\"You found a small key in the lampshade.\")\n",
    "            print(\"\")\n",
    "            keyfound = 1\n",
    "        else:\n",
    "            print(\"You found nothing in the lampshade.\")\n",
    "            print(\"\")\n",
    "\n",
    "    elif choice == 4:\n",
    "        if choice == keylocation:\n",
    "            print(\"You found a small key in the shoe.\")\n",
    "            print(\"\")\n",
    "            keyfound = 1\n",
    "        else:\n",
    "            print(\"You found nothing in the shoe.\")\n",
    "            print(\"\")\n",
    "    elif choice == 5:\n",
    "        if keyfound == 1:\n",
    "            loop = 0\n",
    "            print(\"You put in the key, turn it, and hear a click\")\n",
    "\n",
    "            print(\"\")\n",
    "        else:\n",
    "            print(\"The door is locked, you need to find a key.\")\n",
    "            print(\"\")\n",
    "\n",
    "# Remember that a backslash continues\n",
    "# the code on the next line\n",
    "print(\"Light floods into the room as \\\n",
    "you open the door to your freedom.\")\n"
   ]
  },
  {
   "cell_type": "markdown",
   "metadata": {},
   "source": [
    "Well, a very simple, but fun, game. Don't get daunted by the amount of code there, 53 of the lines are just the `if` statements, which is the easiest thing to read there (Once you comprehend all the indentation. Soon you'll make your own game, and you can make it as simple (or as complex) as you like. I'll post quite a few, later."
   ]
  },
  {
   "cell_type": "markdown",
   "metadata": {},
   "source": [
    "## 6.5 Making the Game Better\n",
    "The first question you should ask is \"does this program work?\". The answer here is yes. Then you should ask \"does this program work well?\" - not quite. The `menu()` function is great - it reduces a lot of typing. The `while` loop that we have, however, is a little messy - four levels of indents, for a simple program. We can do better!\n",
    "\n",
    "Now, this will become much MUCH more straightforward when we introduce classes. But that will have to wait. Until then, let's make a function that reduces our mess. It we will pass two things to it - the menu choice we made, and the location of the key. It will return one thing - whether or not the key has been found. Lets see it:\n",
    "\n",
    "```Python\n",
    "def inspect(choice,location):\n",
    "    if choice == location:\n",
    "        print(\"\")\n",
    "        print(\"You found a key!\")\n",
    "        print(\"\")\n",
    "        return 1\n",
    "    else:\n",
    "        print(\"\")\n",
    "        print(\"Nothing of interest here.\")\n",
    "        print(\"\")\n",
    "        return 0\n",
    "```\n",
    "\n",
    "\n",
    "Now the main program can be a little simpler.\n",
    "\n",
    "In the field below:\n",
    "\n",
    "1. Insert the `inspect` function\n",
    "2. Replace the `while` loop with:\n",
    "\n",
    "```Python\n",
    "while loop == 1:\n",
    "    keyfound = inspect(menu(items,\"What do you want to inspect? \"),keylocation)\n",
    "    if keyfound == 1:\n",
    "        print(\"You put the key in the lock of the door, and turn it. It opens!\")\n",
    "        loop = 0\n",
    "```"
   ]
  },
  {
   "cell_type": "code",
   "execution_count": null,
   "metadata": {},
   "outputs": [],
   "source": [
    "# TEXT ADVENTURE GAME\n",
    "\n",
    "#the menu function:\n",
    "def menu(list, question):\n",
    "    for entry in list:\n",
    "        print(1 + list.index(entry),end=\"\")\n",
    "        print (\") \" + entry)\n",
    "\n",
    "    return eval(input(question)) - 1\n",
    "\n",
    "#Give the computer some basic information about the room:\n",
    "items = [\"pot plant\",\"painting\",\"vase\",\"lampshade\",\"shoe\",\"door\"]\n",
    "\n",
    "#The key is in the vase (or entry number 2 in the list above):\n",
    "keylocation = 2\n",
    "\n",
    "#You haven't found the key:\n",
    "keyfound = 0\n",
    "\n",
    "loop = 1\n",
    "\n",
    "#Give some introductary text:\n",
    "print(\"Last night you went to sleep in the comfort of your own home.\")\n",
    "\n",
    "print(\"Now, you find yourself locked in a room. You don't know how\")\n",
    "print(\"you got there, or what time it is. In the room you can see\")\n",
    "print(len(items), \"things:\")\n",
    "for x in items:\n",
    "    print(x)\n",
    "print(\"\")\n",
    "print(\"The door is locked. Could there be a key somewhere?\")\n",
    "#Get your menu working, and the program running until you find the key:\n",
    "while loop == 1:\n",
    "    choice = menu(items,\"What do you want to inspect? \")\n",
    "    if choice == 0:\n",
    "        if choice == keylocation:\n",
    "            print(\"You found a small key in the pot plant.\")\n",
    "\n",
    "            print(\"\")\n",
    "            keyfound = 1\n",
    "        else:\n",
    "            print(\"You found nothing in the pot plant.\")\n",
    "            print(\"\")\n",
    "    elif choice == 1:\n",
    "        if choice == keylocation:\n",
    "            print(\"You found a small key behind the painting.\")\n",
    "            print(\"\")\n",
    "\n",
    "            keyfound = 1\n",
    "        else:\n",
    "            print(\"You found nothing behind the painting.\")\n",
    "            print(\"\")\n",
    "    elif choice == 2:\n",
    "        if choice == keylocation:\n",
    "            print(\"You found a small key in the vase.\")\n",
    "            print(\"\")\n",
    "            keyfound = 1\n",
    "        else:\n",
    "            print(\"You found nothing in the vase.\")\n",
    "\n",
    "            print(\"\")\n",
    "    elif choice == 3:\n",
    "        if choice == keylocation:\n",
    "            print(\"You found a small key in the lampshade.\")\n",
    "            print(\"\")\n",
    "            keyfound = 1\n",
    "        else:\n",
    "            print(\"You found nothing in the lampshade.\")\n",
    "            print(\"\")\n",
    "\n",
    "    elif choice == 4:\n",
    "        if choice == keylocation:\n",
    "            print(\"You found a small key in the shoe.\")\n",
    "            print(\"\")\n",
    "            keyfound = 1\n",
    "        else:\n",
    "            print(\"You found nothing in the shoe.\")\n",
    "            print(\"\")\n",
    "    elif choice == 5:\n",
    "        if keyfound == 1:\n",
    "            loop = 0\n",
    "            print(\"You put in the key, turn it, and hear a click\")\n",
    "\n",
    "            print(\"\")\n",
    "        else:\n",
    "            print(\"The door is locked, you need to find a key.\")\n",
    "            print(\"\")\n",
    "\n",
    "# Remember that a backslash continues\n",
    "# the code on the next line\n",
    "print(\"Light floods into the room as \\\n",
    "you open the door to your freedom.\")"
   ]
  },
  {
   "cell_type": "markdown",
   "metadata": {},
   "source": [
    "Now the program becomes massively shorter - from a cumbersome 83 lines, to a very shapely 50 lines! Of course, you lose quite a bit of versatility - all the items in the room do the same thing. You automatically open the door when you find the key. The game becomes a little less interesting. It also becomes a little harder to change."
   ]
  },
  {
   "cell_type": "markdown",
   "metadata": {},
   "source": [
    "# ✨ Exercise Time ✨\n",
    "\n",
    "---\n",
    "\n",
    "> The following section contains exercises to practice the concepts you've just learned. Take your time and explore the tasks!\n",
    "\n",
    "---\n",
    "\n",
    "<center><strong>⬇️ Exercises Begin Here ⬇️</strong></center>\n",
    "\n"
   ]
  },
  {
   "cell_type": "markdown",
   "metadata": {
    "tags": []
   },
   "source": [
    "# Exercise 1: Create a Simple Function\n",
    "**Objective:** Learn how to define and call a function.\n",
    "- **Explanation:** \n",
    "  - Functions allow you to group code into reusable blocks. You define a function using the `def` keyword.\n",
    "  - Example:\n",
    "    ```python\n",
    "    def greet():\n",
    "        print(\"Hello, world!\")\n",
    "    ```\n",
    "- **Task:**  \n",
    "  Write a function called `say_hello` that takes a person's name as an argument and prints \"Hello, [name]!\".\n",
    "\n",
    "---\n",
    "\n",
    "# Exercise 2: Function with Return Value\n",
    "**Objective:** Understand how to use return values from functions.\n",
    "- **Explanation:** \n",
    "  - A function can return a value using the `return` statement.\n",
    "  - Example:\n",
    "    ```python\n",
    "    def add(a, b):\n",
    "        return a + b\n",
    "    ```\n",
    "- **Task:**  \n",
    "  Write a function `multiply` that takes two numbers as input and returns their product. Test the function with two numbers and print the result.\n",
    "\n",
    "---\n",
    "\n",
    "# Exercise 3: Function with Conditional Logic\n",
    "**Objective:** Combine functions with if-statements to make decisions.\n",
    "- **Explanation:** \n",
    "  - Functions can include control flow like `if` statements to make decisions based on conditions.\n",
    "  - Example:\n",
    "    ```python\n",
    "    def check_even(number):\n",
    "        if number % 2 == 0:\n",
    "            return \"Even\"\n",
    "        else:\n",
    "            return \"Odd\"\n",
    "    ```\n",
    "- **Task:**  \n",
    "  Write a function `is_adult` that takes an age as input. If the age is 18 or more, return \"Adult\", otherwise return \"Minor\". Call the function and print the result for a given age.\n",
    "---\n",
    "\n",
    "# Exercise 4: Using Lists with Functions\n",
    "**Objective:** Work with lists inside a function.\n",
    "- **Explanation:** \n",
    "  - Functions can accept lists as arguments and manipulate them.\n",
    "  - Example:\n",
    "    ```python\n",
    "    def count_items(my_list):\n",
    "        return len(my_list)\n",
    "    ```\n",
    "- **Task:**  \n",
    "  Write a function `add_item` that takes a list and an item as arguments. It should add the item to the list and return the updated list. Call the function with a list of fruits and a new fruit to add.\n",
    "---\n",
    "\n",
    "# Exercise 5: Function that Calls Another Function\n",
    "**Objective:** Learn how to call one function from inside another function.\n",
    "- **Explanation:** \n",
    "  - Functions can call other functions, which is useful for breaking down tasks.\n",
    "  - Example:\n",
    "    ```python\n",
    "    def square(n):\n",
    "        return n * n\n",
    "    \n",
    "    def cube(n):\n",
    "        return n * square(n)\n",
    "    ```\n",
    "- **Task:**  \n",
    "  Write two functions: `get_discount(price)` that returns 10% of the price, and `apply_discount(price)` that subtracts the discount from the price. Test the functions with a sample price.\n"
   ]
  },
  {
   "cell_type": "code",
   "execution_count": null,
   "metadata": {},
   "outputs": [],
   "source": []
  }
 ],
 "metadata": {
  "kernelspec": {
   "display_name": "Python 3 (ipykernel)",
   "language": "python",
   "name": "python3"
  },
  "language_info": {
   "codemirror_mode": {
    "name": "ipython",
    "version": 3
   },
   "file_extension": ".py",
   "mimetype": "text/x-python",
   "name": "python",
   "nbconvert_exporter": "python",
   "pygments_lexer": "ipython3",
   "version": "3.11.5"
  }
 },
 "nbformat": 4,
 "nbformat_minor": 4
}
